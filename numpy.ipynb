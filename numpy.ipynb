{
  "metadata": {
    "kernelspec": {
      "name": "python",
      "display_name": "Python (Pyodide)",
      "language": "python"
    },
    "language_info": {
      "codemirror_mode": {
        "name": "python",
        "version": 3
      },
      "file_extension": ".py",
      "mimetype": "text/x-python",
      "name": "python",
      "nbconvert_exporter": "python",
      "pygments_lexer": "ipython3",
      "version": "3.8"
    }
  },
  "nbformat_minor": 4,
  "nbformat": 4,
  "cells": [
    {
      "cell_type": "code",
      "source": "#import pandas as pd\nimport numpy as np",
      "metadata": {
        "trusted": true
      },
      "outputs": [],
      "execution_count": 1
    },
    {
      "cell_type": "code",
      "source": "l = [0,1,2,3,4] # list\narr = np.array(l) # transforming list to array\ntype(l),type(arr), arr.dtype #type for arr / type for elements of arr",
      "metadata": {
        "trusted": true
      },
      "outputs": [
        {
          "execution_count": 2,
          "output_type": "execute_result",
          "data": {
            "text/plain": "(list, numpy.ndarray, dtype('int32'))"
          },
          "metadata": {}
        }
      ],
      "execution_count": 2
    },
    {
      "cell_type": "code",
      "source": "l = [[0,1],[2,3]]\narr = np.array(l)\ntype(l),type(arr),arr",
      "metadata": {
        "trusted": true
      },
      "outputs": [
        {
          "execution_count": 3,
          "output_type": "execute_result",
          "data": {
            "text/plain": "(list,\n numpy.ndarray,\n array([[0, 1],\n        [2, 3]]))"
          },
          "metadata": {}
        }
      ],
      "execution_count": 3
    },
    {
      "cell_type": "code",
      "source": "arr.shape # array size\narr.ndim # number of dimensions(axes) array (columns and rows, 2-dimension array)",
      "metadata": {
        "trusted": true
      },
      "outputs": [
        {
          "execution_count": 4,
          "output_type": "execute_result",
          "data": {
            "text/plain": "2"
          },
          "metadata": {}
        }
      ],
      "execution_count": 4
    },
    {
      "cell_type": "code",
      "source": "np.zeros(5),np.ones([2,2]),np.empty([2,3,4])",
      "metadata": {
        "trusted": true
      },
      "outputs": [
        {
          "execution_count": 15,
          "output_type": "execute_result",
          "data": {
            "text/plain": "(array([0., 0., 0., 0., 0.]),\n array([[1., 1.],\n        [1., 1.]]),\n array([[[6.02414664e-282, 0.00000000e+000, 2.27582644e-317,\n          0.00000000e+000],\n         [9.81961191e-308, 1.16202259e-301, 1.84767285e-300,\n          9.81909452e-306],\n         [0.00000000e+000, 6.37802999e-314, 1.55916087e-300,\n          1.47916816e-299]],\n \n        [[1.55916091e-300, 9.82022311e-308, 3.07690995e-312,\n          2.47929914e-307],\n         [2.29562475e-282, 4.45619116e-313, 1.58101007e-322,\n          0.00000000e+000],\n         [4.94065646e-324, 4.24399158e-314, 1.71883264e-312,\n          2.47919050e-307]]]))"
          },
          "metadata": {}
        }
      ],
      "execution_count": 15
    },
    {
      "cell_type": "code",
      "source": "arr2 = np.arange(10)\narr2,type(arr2)",
      "metadata": {
        "trusted": true
      },
      "outputs": [
        {
          "execution_count": 5,
          "output_type": "execute_result",
          "data": {
            "text/plain": "(array([0, 1, 2, 3, 4, 5, 6, 7, 8, 9]), numpy.ndarray)"
          },
          "metadata": {}
        }
      ],
      "execution_count": 5
    },
    {
      "cell_type": "code",
      "source": "np.ones_like(arr2),np.zeros_like(arr2),np.empty_like(arr2)",
      "metadata": {
        "trusted": true
      },
      "outputs": [
        {
          "execution_count": 6,
          "output_type": "execute_result",
          "data": {
            "text/plain": "(array([1, 1, 1, 1, 1, 1, 1, 1, 1, 1]),\n array([0, 0, 0, 0, 0, 0, 0, 0, 0, 0]),\n array([4606108, 4606108,    -111,    -111,    -111,    -111,    -111,\n           -111,    -111,    -111]))"
          },
          "metadata": {}
        }
      ],
      "execution_count": 6
    },
    {
      "cell_type": "code",
      "source": "np.eye(3),np.identity(3)",
      "metadata": {
        "trusted": true
      },
      "outputs": [
        {
          "execution_count": 7,
          "output_type": "execute_result",
          "data": {
            "text/plain": "(array([[1., 0., 0.],\n        [0., 1., 0.],\n        [0., 0., 1.]]),\n array([[1., 0., 0.],\n        [0., 1., 0.],\n        [0., 0., 1.]]))"
          },
          "metadata": {}
        }
      ],
      "execution_count": 7
    },
    {
      "cell_type": "code",
      "source": "e = np.empty_like(arr2)\ne.dtype\narr3 = e.astype(np.float64) # transforming type of elements\narr3.dtype,arr3",
      "metadata": {
        "trusted": true
      },
      "outputs": [
        {
          "execution_count": 34,
          "output_type": "execute_result",
          "data": {
            "text/plain": "(dtype('float64'),\n array([       0.,        0.,        0.,  3206936.,        0., 10208824.,\n               0.,        0., 67108865.,  4606244.]))"
          },
          "metadata": {}
        }
      ],
      "execution_count": 34
    },
    {
      "cell_type": "code",
      "source": "arr,arr - arr,arr*arr,arr**2,arr*5  # array operations",
      "metadata": {
        "trusted": true
      },
      "outputs": [
        {
          "execution_count": 40,
          "output_type": "execute_result",
          "data": {
            "text/plain": "(array([[0, 1],\n        [2, 3]]),\n array([[0, 0],\n        [0, 0]]),\n array([[0, 1],\n        [4, 9]]),\n array([[0, 1],\n        [4, 9]]),\n array([[ 0,  5],\n        [10, 15]]))"
          },
          "metadata": {}
        }
      ],
      "execution_count": 40
    },
    {
      "cell_type": "code",
      "source": "# index and cut\narr1 = np.array([0,1,2,3,4,5]) # for 1-dimensional array\narr1[3], arr1[2:4]",
      "metadata": {
        "trusted": true
      },
      "outputs": [
        {
          "execution_count": 63,
          "output_type": "execute_result",
          "data": {
            "text/plain": "(3, array([2, 3]))"
          },
          "metadata": {}
        }
      ],
      "execution_count": 63
    },
    {
      "cell_type": "code",
      "source": "arr1[2:4] = 12",
      "metadata": {
        "trusted": true
      },
      "outputs": [],
      "execution_count": 64
    },
    {
      "cell_type": "code",
      "source": "arr1",
      "metadata": {
        "trusted": true
      },
      "outputs": [
        {
          "execution_count": 65,
          "output_type": "execute_result",
          "data": {
            "text/plain": "array([ 0,  1, 12, 12,  4,  5])"
          },
          "metadata": {}
        }
      ],
      "execution_count": 65
    },
    {
      "cell_type": "code",
      "source": "arr,arr[0][1],arr[0,1] # [rows][columns] or [rows,columns] for 2-dimensional array",
      "metadata": {
        "trusted": true
      },
      "outputs": [
        {
          "execution_count": 71,
          "output_type": "execute_result",
          "data": {
            "text/plain": "(array([[0, 1],\n        [2, 3]]),\n 1,\n 1)"
          },
          "metadata": {}
        }
      ],
      "execution_count": 71
    },
    {
      "cell_type": "code",
      "source": "arr[0]",
      "metadata": {
        "trusted": true
      },
      "outputs": [
        {
          "execution_count": 8,
          "output_type": "execute_result",
          "data": {
            "text/plain": "array([0, 1])"
          },
          "metadata": {}
        }
      ],
      "execution_count": 8
    },
    {
      "cell_type": "code",
      "source": "arr2d = np.array([[0,1,2],[3,4,5],[6,7,8]])\narr2d,arr2d[:2,1:],arr2d[:1] # number to the left is included, number to the right isn't",
      "metadata": {
        "trusted": true
      },
      "outputs": [
        {
          "execution_count": 11,
          "output_type": "execute_result",
          "data": {
            "text/plain": "(array([[0, 1, 2],\n        [3, 4, 5],\n        [6, 7, 8]]),\n array([[1, 2],\n        [4, 5]]),\n array([[0, 1, 2]]))"
          },
          "metadata": {}
        }
      ],
      "execution_count": 11
    },
    {
      "cell_type": "markdown",
      "source": "### Boolean indexing",
      "metadata": {}
    },
    {
      "cell_type": "code",
      "source": "rand = np.random.randn(5)\na = np.arange(5)\na == rand, a == 1, a != 1,rand[a != 1],rand[~(a == 1)]",
      "metadata": {
        "trusted": true
      },
      "outputs": [
        {
          "execution_count": 19,
          "output_type": "execute_result",
          "data": {
            "text/plain": "(array([False, False, False, False, False]),\n array([False,  True, False, False, False]),\n array([ True, False,  True,  True,  True]),\n array([-1.10412775,  0.87310607, -0.14388842, -1.04358411]),\n array([-1.10412775,  0.87310607, -0.14388842, -1.04358411]))"
          },
          "metadata": {}
        }
      ],
      "execution_count": 19
    },
    {
      "cell_type": "code",
      "source": "a[(a != 1) & (a!= 0)], a[(a == 1) | (a == 0)]",
      "metadata": {
        "trusted": true
      },
      "outputs": [
        {
          "execution_count": 22,
          "output_type": "execute_result",
          "data": {
            "text/plain": "(array([2, 3, 4]), array([0, 1]))"
          },
          "metadata": {}
        }
      ],
      "execution_count": 22
    },
    {
      "cell_type": "markdown",
      "source": "### fancy indexing",
      "metadata": {}
    },
    {
      "cell_type": "code",
      "source": "a = np.empty([7,4])\nfor i in range(7):\n    a[i] = i\na",
      "metadata": {
        "trusted": true
      },
      "outputs": [
        {
          "execution_count": 47,
          "output_type": "execute_result",
          "data": {
            "text/plain": "array([[0., 0., 0., 0.],\n       [1., 1., 1., 1.],\n       [2., 2., 2., 2.],\n       [3., 3., 3., 3.],\n       [4., 4., 4., 4.],\n       [5., 5., 5., 5.],\n       [6., 6., 6., 6.]])"
          },
          "metadata": {}
        }
      ],
      "execution_count": 47
    },
    {
      "cell_type": "code",
      "source": "a[[2,3,0,1,4,5,6]] #  row's permutation",
      "metadata": {
        "trusted": true
      },
      "outputs": [
        {
          "execution_count": 53,
          "output_type": "execute_result",
          "data": {
            "text/plain": "array([[2., 2., 2., 2.],\n       [3., 3., 3., 3.],\n       [0., 0., 0., 0.],\n       [1., 1., 1., 1.],\n       [4., 4., 4., 4.],\n       [5., 5., 5., 5.],\n       [6., 6., 6., 6.]])"
          },
          "metadata": {}
        }
      ],
      "execution_count": 53
    },
    {
      "cell_type": "code",
      "source": "a[-1],a[-1,-1] # negative indexes",
      "metadata": {
        "trusted": true
      },
      "outputs": [
        {
          "execution_count": 51,
          "output_type": "execute_result",
          "data": {
            "text/plain": "(array([6., 6., 6., 6.]), 6.0)"
          },
          "metadata": {}
        }
      ],
      "execution_count": 51
    },
    {
      "cell_type": "markdown",
      "source": "### reshape",
      "metadata": {}
    },
    {
      "cell_type": "code",
      "source": "b = np.arange(24)\nb = b.reshape((4,6))\nb",
      "metadata": {
        "trusted": true
      },
      "outputs": [
        {
          "execution_count": 63,
          "output_type": "execute_result",
          "data": {
            "text/plain": "array([[ 0,  1,  2,  3,  4,  5],\n       [ 6,  7,  8,  9, 10, 11],\n       [12, 13, 14, 15, 16, 17],\n       [18, 19, 20, 21, 22, 23]])"
          },
          "metadata": {}
        }
      ],
      "execution_count": 63
    },
    {
      "cell_type": "code",
      "source": "b[[0,1,2,3],[1,2,3,4]]",
      "metadata": {
        "trusted": true
      },
      "outputs": [
        {
          "execution_count": 86,
          "output_type": "execute_result",
          "data": {
            "text/plain": "array([ 1,  8, 15, 22])"
          },
          "metadata": {}
        }
      ],
      "execution_count": 86
    },
    {
      "cell_type": "code",
      "source": "b[[0,1,2,3]][:,[1,2,3,4]] # fancy indexing\nb[np.ix_([0,1,2,3],[1,2,3,4])]",
      "metadata": {
        "trusted": true
      },
      "outputs": [
        {
          "execution_count": 84,
          "output_type": "execute_result",
          "data": {
            "text/plain": "array([[ 1,  2,  3,  4],\n       [ 7,  8,  9, 10],\n       [13, 14, 15, 16],\n       [19, 20, 21, 22]])"
          },
          "metadata": {}
        }
      ],
      "execution_count": 84
    },
    {
      "cell_type": "markdown",
      "source": "### транспонирование",
      "metadata": {}
    },
    {
      "cell_type": "code",
      "source": "c = np.arange(6).reshape((2,3))\nc,c.T",
      "metadata": {
        "trusted": true
      },
      "outputs": [
        {
          "execution_count": 90,
          "output_type": "execute_result",
          "data": {
            "text/plain": "(array([[0, 1, 2],\n        [3, 4, 5]]),\n array([[0, 3],\n        [1, 4],\n        [2, 5]]))"
          },
          "metadata": {}
        }
      ],
      "execution_count": 90
    },
    {
      "cell_type": "code",
      "source": "np.dot(c.T,c) # matrix multiplication",
      "metadata": {
        "trusted": true
      },
      "outputs": [
        {
          "execution_count": 91,
          "output_type": "execute_result",
          "data": {
            "text/plain": "array([[ 9, 12, 15],\n       [12, 17, 22],\n       [15, 22, 29]])"
          },
          "metadata": {}
        }
      ],
      "execution_count": 91
    },
    {
      "cell_type": "code",
      "source": "arr.swapaxes # (для транспонирования многомерных матриц)",
      "metadata": {
        "trusted": true
      },
      "outputs": [],
      "execution_count": null
    },
    {
      "cell_type": "code",
      "source": "",
      "metadata": {
        "trusted": true
      },
      "outputs": [],
      "execution_count": null
    },
    {
      "cell_type": "code",
      "source": "",
      "metadata": {
        "trusted": true
      },
      "outputs": [],
      "execution_count": null
    }
  ]
}