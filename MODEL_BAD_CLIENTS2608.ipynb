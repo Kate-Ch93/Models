{
 "cells": [
  {
   "cell_type": "code",
   "execution_count": 1,
   "metadata": {},
   "outputs": [
    {
     "name": "stderr",
     "output_type": "stream",
     "text": [
      "/home/zaspa_ay/anaconda3/lib/python3.7/site-packages/ipykernel_launcher.py:14: DeprecationWarning: `np.object` is a deprecated alias for the builtin `object`. To silence this warning, use `object` by itself. Doing this will not modify any behavior and is safe. \n",
      "Deprecated in NumPy 1.20; for more details and guidance: https://numpy.org/devdocs/release/1.20.0-notes.html#deprecations\n",
      "  \n"
     ]
    }
   ],
   "source": [
    "from pandas import read_excel, DataFrame, read_csv, Series\n",
    "import matplotlib.pyplot as plt\n",
    "import numpy as np\n",
    "import sklearn\n",
    "import lightgbm as lgb\n",
    "from sklearn.preprocessing import LabelEncoder\n",
    "#from sklearn import cross_validation\n",
    "from sklearn.metrics import roc_curve, auc, confusion_matrix\n",
    "from sklearn.model_selection import train_test_split,cross_val_score\n",
    "import pylab as pl\n",
    "import time # для работы со временем\n",
    "import pandas.io.sql as psql\n",
    "import pickle # для сохранения/загр\n",
    "from numpy import object,append\n",
    "import datetime\n",
    "import matplotlib.pyplot as plt\n",
    "# заставляем рисунки встраиваться в блокнот\n",
    "%matplotlib inline\n"
   ]
  },
  {
   "cell_type": "code",
   "execution_count": 2,
   "metadata": {},
   "outputs": [],
   "source": [
    "import pandas as pd\n",
    "import pickle\n",
    "import warnings\n",
    "warnings.filterwarnings(\"ignore\")\n",
    "\n",
    "import os\n",
    "os.environ[\"NLS_LANG\"] = \"Russian.AL32UTF8\"  \n",
    "import cx_Oracle\n",
    "import pandas.io.sql as psql\n",
    "\n",
    "#oracle_connect = pd.read_excel('mikhaylova_ekvl/Desktop/Oracle.xlsx')\n",
    "#oracle_connect = pd.read_excel('/home/MACC/cx_Oracle_connect.xlsx')\n",
    "#oracle_connect"
   ]
  },
  {
   "cell_type": "code",
   "execution_count": 3,
   "metadata": {},
   "outputs": [
    {
     "name": "stdout",
     "output_type": "stream",
     "text": [
      "MIKHAYLOVA_EKVL[PxU_DCBUL_UMA_MOD]\n",
      "Kate0806+++\n",
      "DATALAB\n"
     ]
    }
   ],
   "source": [
    "log = 'MIKHAYLOVA_EKVL[PxU_DCBUL_UMA_MOD]'\n",
    "pas = 'Kate0806+++'\n",
    "or_tns = 'DATALAB'\n",
    "\n",
    "print(log)\n",
    "print(pas)\n",
    "print(or_tns)"
   ]
  },
  {
   "cell_type": "code",
   "execution_count": 4,
   "metadata": {},
   "outputs": [],
   "source": [
    "# для чтения из sql\n",
    "tns = or_tns\n",
    "conn = cx_Oracle.connect(log, pas, tns)\n",
    "c = conn.cursor()\n",
    "\n",
    "sqlStr6 = ('''select * from ev_ev_block_finish_copy''')\n",
    "train = pd.read_sql(sqlStr6, conn) "
   ]
  },
  {
   "cell_type": "code",
   "execution_count": 3,
   "metadata": {},
   "outputs": [
    {
     "ename": "FileNotFoundError",
     "evalue": "[Errno 2] No such file or directory: 'BLOCK_TRAIN.xlsx'",
     "output_type": "error",
     "traceback": [
      "\u001b[0;31m------------------------------------------------------------\u001b[0m",
      "\u001b[0;31mFileNotFoundError\u001b[0m          Traceback (most recent call last)",
      "\u001b[0;32m<ipython-input-3-7e9be17974c3>\u001b[0m in \u001b[0;36m<module>\u001b[0;34m\u001b[0m\n\u001b[1;32m      1\u001b[0m \u001b[0;31m# чтение из эксель\u001b[0m\u001b[0;34m\u001b[0m\u001b[0;34m\u001b[0m\u001b[0;34m\u001b[0m\u001b[0m\n\u001b[1;32m      2\u001b[0m \u001b[0mw\u001b[0m \u001b[0;34m=\u001b[0m \u001b[0;34m{\u001b[0m\u001b[0;34m'INN'\u001b[0m\u001b[0;34m:\u001b[0m \u001b[0mnp\u001b[0m\u001b[0;34m.\u001b[0m\u001b[0mobject\u001b[0m\u001b[0;34m}\u001b[0m\u001b[0;34m\u001b[0m\u001b[0;34m\u001b[0m\u001b[0m\n\u001b[0;32m----> 3\u001b[0;31m \u001b[0mtest\u001b[0m \u001b[0;34m=\u001b[0m \u001b[0mpd\u001b[0m\u001b[0;34m.\u001b[0m\u001b[0mread_excel\u001b[0m\u001b[0;34m(\u001b[0m\u001b[0mopen\u001b[0m\u001b[0;34m(\u001b[0m\u001b[0;34m'BLOCK_TRAIN.xlsx'\u001b[0m\u001b[0;34m,\u001b[0m \u001b[0;34m'rb'\u001b[0m\u001b[0;34m)\u001b[0m\u001b[0;34m,\u001b[0m\u001b[0mdtype\u001b[0m \u001b[0;34m=\u001b[0m \u001b[0mw\u001b[0m\u001b[0;34m)\u001b[0m\u001b[0;34m\u001b[0m\u001b[0;34m\u001b[0m\u001b[0m\n\u001b[0m\u001b[1;32m      4\u001b[0m \u001b[0;34m\u001b[0m\u001b[0m\n\u001b[1;32m      5\u001b[0m \u001b[0mtest\u001b[0m\u001b[0;34m\u001b[0m\u001b[0;34m\u001b[0m\u001b[0m\n",
      "\u001b[0;31mFileNotFoundError\u001b[0m: [Errno 2] No such file or directory: 'BLOCK_TRAIN.xlsx'"
     ]
    }
   ],
   "source": [
    "# чтение из эксель\n",
    "w = {'INN': np.object} \n",
    "train = pd.read_excel(open('BLOCK_TRAIN.xlsx', 'rb'),dtype = w)\n",
    "\n",
    "train"
   ]
  },
  {
   "cell_type": "code",
   "execution_count": 5,
   "metadata": {},
   "outputs": [
    {
     "data": {
      "text/plain": [
       "(394832, 109)"
      ]
     },
     "execution_count": 5,
     "metadata": {},
     "output_type": "execute_result"
    }
   ],
   "source": [
    "train = train.drop_duplicates('INN')\n",
    "train.shape"
   ]
  },
  {
   "cell_type": "code",
   "execution_count": 6,
   "metadata": {},
   "outputs": [],
   "source": [
    "train['TRANSACT_FLG'] = train['TRANSACT_FLG'].fillna(value=0)\n",
    "train['CREDIT_FLG'] = train['CREDIT_FLG'].fillna(value=0)\n",
    "train['DEPOSITS_FLG'] = train['DEPOSITS_FLG'].fillna(value=0)\n",
    "train['ELECTR_GARANTEE'] = train['ELECTR_GARANTEE'].fillna(value=0)\n",
    "\n",
    "train['ACT_FL'] = train['TRANSACT_FLG'] + train['CREDIT_FLG'] + train['DEPOSITS_FLG'] + train['ELECTR_GARANTEE']"
   ]
  },
  {
   "cell_type": "code",
   "execution_count": 7,
   "metadata": {},
   "outputs": [
    {
     "data": {
      "text/html": [
       "<div>\n",
       "<style scoped>\n",
       "    .dataframe tbody tr th:only-of-type {\n",
       "        vertical-align: middle;\n",
       "    }\n",
       "\n",
       "    .dataframe tbody tr th {\n",
       "        vertical-align: top;\n",
       "    }\n",
       "\n",
       "    .dataframe thead th {\n",
       "        text-align: right;\n",
       "    }\n",
       "</style>\n",
       "<table border=\"1\" class=\"dataframe\">\n",
       "  <thead>\n",
       "    <tr style=\"text-align: right;\">\n",
       "      <th></th>\n",
       "      <th>Дата</th>\n",
       "      <th>ИНН</th>\n",
       "      <th>Хороший или плохой</th>\n",
       "      <th>Сброс НДС</th>\n",
       "      <th>Обнал</th>\n",
       "    </tr>\n",
       "  </thead>\n",
       "  <tbody>\n",
       "    <tr>\n",
       "      <th>0</th>\n",
       "      <td>2020-02-29</td>\n",
       "      <td>7743270352</td>\n",
       "      <td>плохой</td>\n",
       "      <td>ДА</td>\n",
       "      <td>ДА</td>\n",
       "    </tr>\n",
       "    <tr>\n",
       "      <th>1</th>\n",
       "      <td>2020-02-29</td>\n",
       "      <td>784101042678</td>\n",
       "      <td>плохой</td>\n",
       "      <td>ДА</td>\n",
       "      <td>ДА</td>\n",
       "    </tr>\n",
       "    <tr>\n",
       "      <th>2</th>\n",
       "      <td>2020-02-29</td>\n",
       "      <td>3528310415</td>\n",
       "      <td>плохой</td>\n",
       "      <td>ДА</td>\n",
       "      <td>ДА</td>\n",
       "    </tr>\n",
       "    <tr>\n",
       "      <th>3</th>\n",
       "      <td>2020-02-29</td>\n",
       "      <td>2463109898</td>\n",
       "      <td>плохой</td>\n",
       "      <td>ДА</td>\n",
       "      <td>ДА</td>\n",
       "    </tr>\n",
       "    <tr>\n",
       "      <th>4</th>\n",
       "      <td>2020-02-29</td>\n",
       "      <td>7460047593</td>\n",
       "      <td>плохой</td>\n",
       "      <td>ДА</td>\n",
       "      <td>ДА</td>\n",
       "    </tr>\n",
       "    <tr>\n",
       "      <th>...</th>\n",
       "      <td>...</td>\n",
       "      <td>...</td>\n",
       "      <td>...</td>\n",
       "      <td>...</td>\n",
       "      <td>...</td>\n",
       "    </tr>\n",
       "    <tr>\n",
       "      <th>60516</th>\n",
       "      <td>2020-02-29</td>\n",
       "      <td>2464011084</td>\n",
       "      <td>хороший</td>\n",
       "      <td>NaN</td>\n",
       "      <td>NaN</td>\n",
       "    </tr>\n",
       "    <tr>\n",
       "      <th>60517</th>\n",
       "      <td>2020-02-29</td>\n",
       "      <td>6608003013</td>\n",
       "      <td>хороший</td>\n",
       "      <td>NaN</td>\n",
       "      <td>NaN</td>\n",
       "    </tr>\n",
       "    <tr>\n",
       "      <th>60518</th>\n",
       "      <td>2020-02-29</td>\n",
       "      <td>7808019220</td>\n",
       "      <td>хороший</td>\n",
       "      <td>NaN</td>\n",
       "      <td>NaN</td>\n",
       "    </tr>\n",
       "    <tr>\n",
       "      <th>60519</th>\n",
       "      <td>2020-02-29</td>\n",
       "      <td>2456001491</td>\n",
       "      <td>хороший</td>\n",
       "      <td>NaN</td>\n",
       "      <td>NaN</td>\n",
       "    </tr>\n",
       "    <tr>\n",
       "      <th>60520</th>\n",
       "      <td>2020-02-29</td>\n",
       "      <td>6142024142</td>\n",
       "      <td>хороший</td>\n",
       "      <td>NaN</td>\n",
       "      <td>NaN</td>\n",
       "    </tr>\n",
       "  </tbody>\n",
       "</table>\n",
       "<p>60521 rows × 5 columns</p>\n",
       "</div>"
      ],
      "text/plain": [
       "            Дата           ИНН Хороший или плохой Сброс НДС Обнал\n",
       "0     2020-02-29    7743270352             плохой        ДА    ДА\n",
       "1     2020-02-29  784101042678             плохой        ДА    ДА\n",
       "2     2020-02-29    3528310415             плохой        ДА    ДА\n",
       "3     2020-02-29    2463109898             плохой        ДА    ДА\n",
       "4     2020-02-29    7460047593             плохой        ДА    ДА\n",
       "...          ...           ...                ...       ...   ...\n",
       "60516 2020-02-29    2464011084            хороший       NaN   NaN\n",
       "60517 2020-02-29    6608003013            хороший       NaN   NaN\n",
       "60518 2020-02-29    7808019220            хороший       NaN   NaN\n",
       "60519 2020-02-29    2456001491            хороший       NaN   NaN\n",
       "60520 2020-02-29    6142024142            хороший       NaN   NaN\n",
       "\n",
       "[60521 rows x 5 columns]"
      ]
     },
     "execution_count": 7,
     "metadata": {},
     "output_type": "execute_result"
    }
   ],
   "source": [
    "# экспертная выборка с метками\n",
    "w = {'ИНН': np.object} \n",
    "f2 = pd.read_excel(open('marks2902_2.xlsx', 'rb'),dtype = w)\n",
    "f2"
   ]
  },
  {
   "cell_type": "code",
   "execution_count": 8,
   "metadata": {},
   "outputs": [
    {
     "data": {
      "text/plain": [
       "0    16342\n",
       "1    10913\n",
       "Name: TARGET1, dtype: int64"
      ]
     },
     "execution_count": 8,
     "metadata": {},
     "output_type": "execute_result"
    }
   ],
   "source": [
    "# оставляем только хороших и плохих\n",
    "\n",
    "f2 = f2[(f2['Хороший или плохой'].notna()) & (f2['Хороший или плохой']!='серый') & (f2['Хороший или плохой']!='непонятный')]\n",
    "\n",
    "# целевой признак (по экспернтой оценке)\n",
    "\n",
    "f2['TARGET1'] = np.where((f2['Хороший или плохой']=='плохой') | (f2['Хороший или плохой']=='Плохой'),1,0)\n",
    "f2['TARGET1'].value_counts()"
   ]
  },
  {
   "cell_type": "code",
   "execution_count": 9,
   "metadata": {},
   "outputs": [],
   "source": [
    "# объединение с экспертной оценкой\n",
    "train = pd.merge(train,f2[['ИНН','TARGET1']],left_on='INN',right_on='ИНН',how='left')"
   ]
  },
  {
   "cell_type": "code",
   "execution_count": 10,
   "metadata": {},
   "outputs": [
    {
     "data": {
      "text/plain": [
       "0    380906\n",
       "1     13926\n",
       "Name: TARGET_BLOCK, dtype: int64"
      ]
     },
     "execution_count": 10,
     "metadata": {},
     "output_type": "execute_result"
    }
   ],
   "source": [
    "# итоговый целевой признак\n",
    "train['TARGET_BLOCK'] = np.where((train['TARGET']==1) | (train['TARGET1']==1),1,0)\n",
    "train['TARGET_BLOCK'].value_counts()"
   ]
  },
  {
   "cell_type": "code",
   "execution_count": 11,
   "metadata": {},
   "outputs": [
    {
     "data": {
      "text/plain": [
       "(0    167834\n",
       " 1      7431\n",
       " Name: TARGET_BLOCK, dtype: int64,\n",
       " (175265, 113))"
      ]
     },
     "execution_count": 11,
     "metadata": {},
     "output_type": "execute_result"
    }
   ],
   "source": [
    "# выбираем активных клиентов, у которых есть хотя бы один р/сч и кто не заблокирован на 29.02\n",
    "train = train[(train['COUNT_R']>0) & (train['ACT_FL']>0) & (train['TARGET_PAST']!=1)]\n",
    "train['TARGET_BLOCK'].value_counts(),train.shape"
   ]
  },
  {
   "cell_type": "code",
   "execution_count": 12,
   "metadata": {},
   "outputs": [
    {
     "data": {
      "text/plain": [
       "'s = test.isnull().sum()/test.shape[0]*100\\ns[s>80].index'"
      ]
     },
     "execution_count": 12,
     "metadata": {},
     "output_type": "execute_result"
    }
   ],
   "source": [
    "'''s = test.isnull().sum()/test.shape[0]*100\n",
    "s[s>80].index'''"
   ]
  },
  {
   "cell_type": "code",
   "execution_count": 13,
   "metadata": {},
   "outputs": [],
   "source": [
    "# признак ЮЛ или ИП\n",
    "train['FLAG_PO_INN'] = np.where(train['INN'].map(lambda x: len(x))==10,1,0)\n",
    "train['FLAG_PO_INN'] = train['FLAG_PO_INN'].astype('int')\n",
    "\n",
    "# корректировка опечаток в СПАРКЕ, избавляемся от минусов перед выручкой\n",
    "for i in ['REVENUE_SPARK','REVENUE1']:\n",
    "    train[i] = np.abs(train[i])\n",
    "\n",
    "train['OPEN_DELTA'] = train['OPEN_DT_MAX']-train['OPEN_DT_MIN'] # период между открытием первого и последнего счета\n",
    "\n",
    "# заполнение пустых значений медианами\n",
    "train['AGE_COMP'] = train['AGE_COMP'].fillna(train['AGE_COMP'].median())\n",
    "train['OPEN_DT_MAX'] = train['OPEN_DT_MAX'].fillna(train['OPEN_DT_MAX'].median())\n",
    "train['OPEN_DELTA'] = train['OPEN_DELTA'].fillna(train['OPEN_DELTA'].median())\n",
    "\n",
    "train.loc[(train['CHARTER_CAPITAL'].isna()) & (train['FLAG_PO_INN']==1), 'CHARTER_CAPITAL'] = train['CHARTER_CAPITAL'].median()\n",
    "train['CHARTER_CAPITAL']  = train['CHARTER_CAPITAL'].fillna(value=0)\n",
    "train['CHARTER_CAPITAL'] = train['CHARTER_CAPITAL'].astype('int')"
   ]
  },
  {
   "cell_type": "code",
   "execution_count": 14,
   "metadata": {
    "scrolled": true
   },
   "outputs": [],
   "source": [
    "#test['OGRN_DAY_FOR_OPEN'] = test['AGE_COMP'] - test['OPEN_DT_MAX'] # в каком возрасте (компании) клиент пришел в банк\n",
    "#test['OPEN_DELTA'] = test['OPEN_DT_MAX']-test['OPEN_DT_MIN'] # период между открытием первого и последнего счета"
   ]
  },
  {
   "cell_type": "code",
   "execution_count": 15,
   "metadata": {},
   "outputs": [
    {
     "data": {
      "text/plain": [
       "Микропредприятие       65568\n",
       "Малые предприятия       6165\n",
       "Средние предприятия      951\n",
       "Крупные предприятия      337\n",
       "Name: COMPANY_SIZE_DESCRIPTION, dtype: int64"
      ]
     },
     "execution_count": 15,
     "metadata": {},
     "output_type": "execute_result"
    }
   ],
   "source": [
    "train['COMPANY_SIZE_DESCRIPTION'].value_counts()"
   ]
  },
  {
   "cell_type": "code",
   "execution_count": 16,
   "metadata": {},
   "outputs": [],
   "source": [
    "train.loc[(train['COMPANY_SIZE_DESCRIPTION']=='Микропредприятие'), 'COMPANY_SIZE_DESCRIPTION'] = 1\n",
    "train.loc[(train['COMPANY_SIZE_DESCRIPTION']=='Малые предприятия'), 'COMPANY_SIZE_DESCRIPTION'] = 2\n",
    "train.loc[(train['COMPANY_SIZE_DESCRIPTION']=='Средние предприятия'), 'COMPANY_SIZE_DESCRIPTION'] = 3\n",
    "train.loc[(train['COMPANY_SIZE_DESCRIPTION']=='Крупные предприятия'), 'COMPANY_SIZE_DESCRIPTION'] = 4"
   ]
  },
  {
   "cell_type": "code",
   "execution_count": 17,
   "metadata": {
    "scrolled": true
   },
   "outputs": [],
   "source": [
    "train.loc[(train['COMPANY_SIZE_DESCRIPTION'].isna()) & (train['FLAG_PO_INN']==1), 'COMPANY_SIZE_DESCRIPTION'] = train['COMPANY_SIZE_DESCRIPTION'].median()\n",
    "train['COMPANY_SIZE_DESCRIPTION'] = train['COMPANY_SIZE_DESCRIPTION'].fillna(0)\n",
    "train['COMPANY_SIZE_DESCRIPTION'] = train['COMPANY_SIZE_DESCRIPTION'].astype(int)"
   ]
  },
  {
   "cell_type": "code",
   "execution_count": 18,
   "metadata": {
    "scrolled": true
   },
   "outputs": [],
   "source": [
    "# признак дробления платежа\n",
    "train['DROB'] = np.where(train['MAX_SUM_DROB']>0,1,0)\n",
    "train['DROB1'] = np.where(train['MAX_SUM_DROB1']>0,1,0)\n",
    "\n",
    "train['PRIME_CATEGORY'] = np.where(train['PRIME_CATEGORY']=='Малый',1,0)\n",
    "train['PRIME_CATEGORY'] = train['PRIME_CATEGORY'].astype(int)\n",
    "\n",
    "# динимические показатели\n",
    "\n",
    "train['CREDm01'] = train['CREDIT_M']/train['CREDIT_M_1']\n",
    "\n",
    "train['CREDm01_max'] = train['CREDIT_MAX_M']/train['CREDIT_MAX_M_1']\n",
    "train['DEBm01'] = train['DEBET_M']/train['DEBET_M_1']\n",
    "train['DEBm01_max'] = train['DEBET_MAX_M']/train['DEBET_MAX_M_1']\n",
    "train['COUNT_TRNS'] = train['DEBET_TRANS_M']+train['CREDIT_TRANS_M']\n",
    "\n",
    "train['DEP01'] = train['DEP_M']/train['DEP_M1']\n",
    "train['CR/DB'] = train['CREDIT_M']/train['DEBET_M']\n",
    "train['DVS01'] = train['DVS_AVG_M']/train['DVS_AVG_M_1']\n",
    "\n",
    "train['BEZ+S_NDS'] = np.where((train['S_NDS']>=0.7) & (train['BEZ_NDS']>=0.5),1,0)\n",
    "\n",
    "train['SUM_DROB_PLAT3/'] = train['SUM_DROB_PLAT3']/train['SUM_DEBET3']\n",
    "train['SUM_LITTLE_PLAT3/'] = train['SUM_LITTLE_PLAT3']/train['SUM_DEBET3']\n",
    "train['SUM_IP3/'] = train['SUM_IP3']/train['SUM_DEBET3']\n",
    "train['SUM_FIZ3/'] = train['SUM_FIZ3']/train['SUM_DEBET3']\n",
    "\n",
    "train['CASH_DEBET_WEEK'] = train['CASH_WEEK']/train['DEBET_WEEK']\n",
    "train['CASH_DEBET_MONTH'] = train['CASH_MONTH']/train['DEBET_MONTH']\n",
    "\n",
    "#train['CR/DB_WEEK'] = train['CREDIT_WEEK']/train['DEBET_WEEK']\n",
    "train['CR/DB_MONTH'] = train['CREDIT_MONTH']/train['DEBET_MONTH']\n",
    "\n",
    "train['CORP_OPER_WEEK'] = (train['BUY_CORP_WEEK']+train['CASH_CORP_WEEK'])/train['DEBET_WEEK']\n",
    "train['CORP_OPER_MONTH'] = (train['BUY_CORP_MONTH']+train['CASH_CORP_MONTH'])/train['DEBET_MONTH']\n",
    "train['CONTR/'] = train['COUNT_CONTR_SPIS']/train['COUNT_CONTR_ZACH']"
   ]
  },
  {
   "cell_type": "code",
   "execution_count": 19,
   "metadata": {
    "scrolled": true
   },
   "outputs": [
    {
     "data": {
      "text/plain": [
       "0    170346\n",
       "1      4919\n",
       "Name: TARGET, dtype: int64"
      ]
     },
     "execution_count": 19,
     "metadata": {},
     "output_type": "execute_result"
    }
   ],
   "source": [
    "train['NALOG6/'] = train['NALOG_6']/train['CREDIT_6']\n",
    "train['NALOG12/'] = train['NALOG_12']/train['CREDIT_12']\n",
    "\n",
    "train['1'] = train['TAXES_SUM']/train['REVENUE1']\n",
    "\n",
    "for i in ['REVENUE_SPARK','WORKERS_RANGE','PROFIT_REVENUE1','PROFIT1',\n",
    " 'REVENUE1','CR/DB_MONTH','CONTR/','CR/DB','CREDm01_max',\n",
    " 'DEBm01_max','CREDm01','DEBm01','DEP01','DVS01','1']:\n",
    "    train[i] = train[i].fillna(-1000)\n",
    "\n",
    "zero = ['NALOG_12','NALOG_6','SUM_CONTR_ZACH','DVS_AVG_M','NOM_CONTROL','CREDIT_MONTH',\n",
    " 'SUM_CONTR_SPIS','CREDIT_MAX_M','DEBET_MAX_M','SUM_FIZ3',\n",
    " 'DEBET_TRANS_M','SUM_DEBET3','COUNT_CONTR_ZACH','GROUP_CNT',\n",
    " 'DEBET_MONTH','DOLYA_SUM_BAD_SPIS','DOLYA_BAD_SPIS','DOLYA_BAD_ZACH','SUM_ZP3','DOLYA_SUM_BAD_ZACH',\n",
    " 'CASH_CORP','SUM_IP3','SUM_PRODUCT','CREDIT_TRANS_M','CASH_MONTH','COUNT_CONTR_SPIS',\n",
    " 'OKVED_DIFFERENT','NALOG_M_PRIB12','BUY_CORP','CASH_CORP_MONTH','REGION_DIF','BUY_CORP_MONTH',\n",
    " 'DEBET_MIN_M','COUNT_ACCT','FLAG_BAD3_CONTR','DENY78',\n",
    " 'SMS','EQUAR','NALOG_M_PRIB','FLAG_BAD_IP_CONTR','FLAG_BAD2_CONTR','PLEDGE','ROZNITSA',\n",
    " 'DENY9','MANAGER_INN_COUNT','CORP_CARD','BEZ_NDS','S_NDS','ACT_FL',\n",
    " 'ELECTR_GARANTEE','TRANSACT_FLG','DEPOSITS_FLG','FLAG_BAD1_CONTR',\n",
    " 'NSO','COUNT_R','COUNT_V','RKO','BSS','IP_VEER','ACC_CUR','HOZ_PLAT','FIZ_VEER_WEEK',\n",
    " 'FIZ_VEER','NEDOSTOVER','IP_VEER_WEEK','DEPP','OVERDRAFT','CREDIT_FLG','CASH_WEEK',\n",
    " 'ADDRESS_COUNT','ADDRESS_FTS_COUNT','ADDRESS_NOTAFFILIATED_COUNT',\n",
    " 'ADDRESS_WITHOUTROOM_COUNT','TELEPHONE_COUNT','MANAGER_COUNT_IN_COUNTRY','MANAGER_COUNT_IN_REGION',\n",
    " 'TAXES_SUM','DEP_M','CREDIT_M', 'CREDIT_M_1',\n",
    "       'CREDIT_MAX_M_1', 'DVS_AVG_M_1', 'DEBET_MAX_M_1', 'DEBET_M_1',\n",
    "       'SUM_DROB_PLAT3', 'SUM_LITTLE_PLAT3', 'CREDIT_6', 'CREDIT_12',\n",
    "       'DEBET_M', 'BUY_CORP_WEEK', 'CASH_CORP_WEEK','SUM_DROB_PLAT3/','SUM_LITTLE_PLAT3/', 'SUM_IP3/', 'SUM_FIZ3/', 'CASH_DEBET_WEEK',\n",
    "           'CASH_DEBET_MONTH', 'CORP_OPER_WEEK', 'CORP_OPER_MONTH', 'NALOG6/',\n",
    "           'NALOG12/','TARGET']\n",
    "\n",
    "for i in zero:\n",
    "    train[i] = train[i].fillna(0)\n",
    "\n",
    "train['TARGET'].value_counts()"
   ]
  },
  {
   "cell_type": "code",
   "execution_count": 20,
   "metadata": {
    "scrolled": true
   },
   "outputs": [],
   "source": [
    "# чтение из эксель (6 недельных тестовых срезов)\n",
    "w = {'INN': np.object} \n",
    "test1 = pd.read_excel(open('block2301.xlsx', 'rb'),dtype = w)\n",
    "test2 = pd.read_excel(open('block3001.xlsx', 'rb'),dtype = w)\n",
    "test3 = pd.read_excel(open('block0602.xlsx', 'rb'),dtype = w)\n",
    "test4 = pd.read_excel(open('block1302.xlsx', 'rb'),dtype = w)\n",
    "test5 = pd.read_excel(open('block2002.xlsx', 'rb'),dtype = w)\n",
    "test6 = pd.read_excel(open('block2702.xlsx', 'rb'),dtype = w)"
   ]
  },
  {
   "cell_type": "code",
   "execution_count": 21,
   "metadata": {},
   "outputs": [],
   "source": [
    "test = pd.concat([test1,test2,test3,test4,test5,test6],axis=0)"
   ]
  },
  {
   "cell_type": "code",
   "execution_count": 23,
   "metadata": {},
   "outputs": [],
   "source": [
    "del test1\n",
    "del test2\n",
    "del test3\n",
    "del test4\n",
    "del test5\n",
    "del test6"
   ]
  },
  {
   "cell_type": "markdown",
   "metadata": {},
   "source": [
    "##### обучение модели с target_block (блокировки + эксперт. разметка)"
   ]
  },
  {
   "cell_type": "code",
   "execution_count": 473,
   "metadata": {
    "scrolled": true
   },
   "outputs": [],
   "source": [
    "x_train_def = train.drop(['TARGET_PAST','TARGET_BLOCK','INN',\n",
    " 'BUY_CORP_WEEK',\n",
    " 'CASH_CORP_WEEK',\n",
    " 'CORP_OPER_WEEK',\n",
    " 'COUNT_TRNS',\n",
    " 'CREDIT_12',\n",
    " 'CREDIT_6',\n",
    " 'CREDIT_M',\n",
    " 'CREDIT_MAX_M_1',\n",
    " 'CREDIT_M_1',\n",
    " 'DDATE',\n",
    " 'DEBET_M',\n",
    " 'DEBET_MAX_M_1',\n",
    " 'DEBET_M_1',\n",
    " 'DEBET_WEEK',\n",
    " 'DEP_M1',\n",
    " 'DVS_AVG_M_1',\n",
    " 'MAX_SUM_DROB',\n",
    " 'MAX_SUM_DROB1',\n",
    " #'OGRN_DAY_FOR_OPEN',\n",
    " 'OPEN_DT_MIN',\n",
    " 'SUM_DROB_PLAT3',\n",
    " 'SUM_LITTLE_PLAT3',\n",
    " 'TARGET',\n",
    " 'TARGET1',\n",
    " 'ИНН',\n",
    " 'ИНН', 'TARGET1',\n",
    " 'SMS', 'PLEDGE', 'DENY9', 'CORP_CARD', 'ELECTR_GARANTEE', \n",
    "'DEPOSITS_FLG', 'NSO', 'RKO', 'ACC_CUR', 'FIZ_VEER_WEEK', \n",
    " 'DEPP', 'OVERDRAFT', 'CREDIT_FLG', 'COMPANY_SIZE_DESCRIPTION', 'FLAG_PO_INN'],axis=1)\n",
    "y_train = train['TARGET_BLOCK']\n",
    "\n",
    "x_valid_def = test[x_train_def.columns]\n",
    "y_valid = test['TARGET']"
   ]
  },
  {
   "cell_type": "code",
   "execution_count": 474,
   "metadata": {
    "scrolled": true
   },
   "outputs": [],
   "source": [
    "# удаление признаков, по которым выборка нерепрезентативна\n",
    "x_train_def.drop(['SUM_PRODUCT','BSS',\n",
    "'OPEN_DT_MAX',\n",
    "'OKVED_DIFFERENT',\n",
    "'NALOG12/',\n",
    "'ROZNITSA',\n",
    "'FIZ_VEER',\n",
    "'DEP01',\n",
    "'DROB',\n",
    "'IP_VEER',\n",
    "'NALOG6/',\n",
    "'COUNT_R'],axis=1,inplace=True)"
   ]
  },
  {
   "cell_type": "code",
   "execution_count": 475,
   "metadata": {},
   "outputs": [],
   "source": [
    "# замена бесконечностей\n",
    "for i in x_train_def.columns:\n",
    "    x_train_def[i] = np.where(x_train_def[i]==float('inf'),77777777777,x_train_def[i])\n",
    "    x_train_def[i] = np.where(x_train_def[i]==-float('inf'),-77777777777,x_train_def[i])\n",
    "\n",
    "for i in x_valid_def.columns:\n",
    "    x_valid_def[i] = np.where(x_valid_def[i]==float('inf'),77777777777,x_valid_def[i])\n",
    "    x_valid_def[i] = np.where(x_valid_def[i]==-float('inf'),-77777777777,x_valid_def[i])"
   ]
  },
  {
   "cell_type": "code",
   "execution_count": 476,
   "metadata": {
    "scrolled": true
   },
   "outputs": [
    {
     "data": {
      "text/plain": [
       "(0    117483\n",
       " 1      5202\n",
       " Name: TARGET_BLOCK, dtype: int64,\n",
       " 0    50351\n",
       " 1     2229\n",
       " Name: TARGET_BLOCK, dtype: int64)"
      ]
     },
     "execution_count": 476,
     "metadata": {},
     "output_type": "execute_result"
    }
   ],
   "source": [
    "x_train1, x_test1, y_train1, y_test1 = train_test_split(x_train_def, y_train,test_size=0.3,stratify=y_train,random_state=70)\n",
    "y_train1.value_counts(),y_test1.value_counts()"
   ]
  },
  {
   "cell_type": "code",
   "execution_count": 477,
   "metadata": {
    "scrolled": true
   },
   "outputs": [
    {
     "data": {
      "text/html": [
       "<div>\n",
       "<style scoped>\n",
       "    .dataframe tbody tr th:only-of-type {\n",
       "        vertical-align: middle;\n",
       "    }\n",
       "\n",
       "    .dataframe tbody tr th {\n",
       "        vertical-align: top;\n",
       "    }\n",
       "\n",
       "    .dataframe thead th {\n",
       "        text-align: right;\n",
       "    }\n",
       "</style>\n",
       "<table border=\"1\" class=\"dataframe\">\n",
       "  <thead>\n",
       "    <tr style=\"text-align: right;\">\n",
       "      <th></th>\n",
       "      <th>feature</th>\n",
       "      <th>importance</th>\n",
       "    </tr>\n",
       "  </thead>\n",
       "  <tbody>\n",
       "    <tr>\n",
       "      <th>3</th>\n",
       "      <td>AGE_COMP</td>\n",
       "      <td>142</td>\n",
       "    </tr>\n",
       "    <tr>\n",
       "      <th>0</th>\n",
       "      <td>NALOG_12</td>\n",
       "      <td>113</td>\n",
       "    </tr>\n",
       "    <tr>\n",
       "      <th>4</th>\n",
       "      <td>SUM_CONTR_ZACH</td>\n",
       "      <td>101</td>\n",
       "    </tr>\n",
       "    <tr>\n",
       "      <th>73</th>\n",
       "      <td>DVS01</td>\n",
       "      <td>92</td>\n",
       "    </tr>\n",
       "    <tr>\n",
       "      <th>11</th>\n",
       "      <td>DEBET_MAX_M</td>\n",
       "      <td>80</td>\n",
       "    </tr>\n",
       "    <tr>\n",
       "      <th>6</th>\n",
       "      <td>DVS_AVG_M</td>\n",
       "      <td>78</td>\n",
       "    </tr>\n",
       "    <tr>\n",
       "      <th>8</th>\n",
       "      <td>CREDIT_MONTH</td>\n",
       "      <td>78</td>\n",
       "    </tr>\n",
       "    <tr>\n",
       "      <th>76</th>\n",
       "      <td>SUM_LITTLE_PLAT3/</td>\n",
       "      <td>73</td>\n",
       "    </tr>\n",
       "    <tr>\n",
       "      <th>10</th>\n",
       "      <td>CREDIT_MAX_M</td>\n",
       "      <td>72</td>\n",
       "    </tr>\n",
       "    <tr>\n",
       "      <th>64</th>\n",
       "      <td>DEP_M</td>\n",
       "      <td>70</td>\n",
       "    </tr>\n",
       "    <tr>\n",
       "      <th>17</th>\n",
       "      <td>DEBET_MONTH</td>\n",
       "      <td>68</td>\n",
       "    </tr>\n",
       "    <tr>\n",
       "      <th>57</th>\n",
       "      <td>ADDRESS_WITHOUTROOM_COUNT</td>\n",
       "      <td>59</td>\n",
       "    </tr>\n",
       "    <tr>\n",
       "      <th>13</th>\n",
       "      <td>DEBET_TRANS_M</td>\n",
       "      <td>57</td>\n",
       "    </tr>\n",
       "    <tr>\n",
       "      <th>46</th>\n",
       "      <td>S_NDS</td>\n",
       "      <td>55</td>\n",
       "    </tr>\n",
       "    <tr>\n",
       "      <th>9</th>\n",
       "      <td>SUM_CONTR_SPIS</td>\n",
       "      <td>55</td>\n",
       "    </tr>\n",
       "    <tr>\n",
       "      <th>72</th>\n",
       "      <td>CR/DB</td>\n",
       "      <td>53</td>\n",
       "    </tr>\n",
       "    <tr>\n",
       "      <th>21</th>\n",
       "      <td>DOLYA_BAD_ZACH</td>\n",
       "      <td>49</td>\n",
       "    </tr>\n",
       "    <tr>\n",
       "      <th>12</th>\n",
       "      <td>SUM_FIZ3</td>\n",
       "      <td>48</td>\n",
       "    </tr>\n",
       "    <tr>\n",
       "      <th>70</th>\n",
       "      <td>DEBm01</td>\n",
       "      <td>47</td>\n",
       "    </tr>\n",
       "    <tr>\n",
       "      <th>81</th>\n",
       "      <td>CR/DB_MONTH</td>\n",
       "      <td>47</td>\n",
       "    </tr>\n",
       "    <tr>\n",
       "      <th>16</th>\n",
       "      <td>GROUP_CNT</td>\n",
       "      <td>47</td>\n",
       "    </tr>\n",
       "    <tr>\n",
       "      <th>24</th>\n",
       "      <td>CASH_CORP</td>\n",
       "      <td>45</td>\n",
       "    </tr>\n",
       "    <tr>\n",
       "      <th>14</th>\n",
       "      <td>SUM_DEBET3</td>\n",
       "      <td>44</td>\n",
       "    </tr>\n",
       "    <tr>\n",
       "      <th>83</th>\n",
       "      <td>CONTR/</td>\n",
       "      <td>43</td>\n",
       "    </tr>\n",
       "    <tr>\n",
       "      <th>27</th>\n",
       "      <td>CREDIT_TRANS_M</td>\n",
       "      <td>43</td>\n",
       "    </tr>\n",
       "    <tr>\n",
       "      <th>18</th>\n",
       "      <td>DOLYA_SUM_BAD_SPIS</td>\n",
       "      <td>40</td>\n",
       "    </tr>\n",
       "    <tr>\n",
       "      <th>68</th>\n",
       "      <td>CREDm01</td>\n",
       "      <td>40</td>\n",
       "    </tr>\n",
       "    <tr>\n",
       "      <th>66</th>\n",
       "      <td>OPEN_DELTA</td>\n",
       "      <td>39</td>\n",
       "    </tr>\n",
       "    <tr>\n",
       "      <th>59</th>\n",
       "      <td>CHARTER_CAPITAL</td>\n",
       "      <td>38</td>\n",
       "    </tr>\n",
       "    <tr>\n",
       "      <th>84</th>\n",
       "      <td>1</td>\n",
       "      <td>38</td>\n",
       "    </tr>\n",
       "    <tr>\n",
       "      <th>45</th>\n",
       "      <td>BEZ_NDS</td>\n",
       "      <td>37</td>\n",
       "    </tr>\n",
       "    <tr>\n",
       "      <th>7</th>\n",
       "      <td>NOM_CONTROL</td>\n",
       "      <td>37</td>\n",
       "    </tr>\n",
       "    <tr>\n",
       "      <th>23</th>\n",
       "      <td>DOLYA_SUM_BAD_ZACH</td>\n",
       "      <td>36</td>\n",
       "    </tr>\n",
       "    <tr>\n",
       "      <th>1</th>\n",
       "      <td>NALOG_6</td>\n",
       "      <td>36</td>\n",
       "    </tr>\n",
       "    <tr>\n",
       "      <th>28</th>\n",
       "      <td>CASH_MONTH</td>\n",
       "      <td>35</td>\n",
       "    </tr>\n",
       "    <tr>\n",
       "      <th>31</th>\n",
       "      <td>REVENUE1</td>\n",
       "      <td>35</td>\n",
       "    </tr>\n",
       "    <tr>\n",
       "      <th>22</th>\n",
       "      <td>SUM_ZP3</td>\n",
       "      <td>34</td>\n",
       "    </tr>\n",
       "    <tr>\n",
       "      <th>40</th>\n",
       "      <td>EQUAR</td>\n",
       "      <td>34</td>\n",
       "    </tr>\n",
       "    <tr>\n",
       "      <th>71</th>\n",
       "      <td>DEBm01_max</td>\n",
       "      <td>34</td>\n",
       "    </tr>\n",
       "    <tr>\n",
       "      <th>5</th>\n",
       "      <td>REVENUE_SPARK</td>\n",
       "      <td>34</td>\n",
       "    </tr>\n",
       "    <tr>\n",
       "      <th>63</th>\n",
       "      <td>TAXES_SUM</td>\n",
       "      <td>33</td>\n",
       "    </tr>\n",
       "    <tr>\n",
       "      <th>69</th>\n",
       "      <td>CREDm01_max</td>\n",
       "      <td>32</td>\n",
       "    </tr>\n",
       "    <tr>\n",
       "      <th>34</th>\n",
       "      <td>CASH_CORP_MONTH</td>\n",
       "      <td>32</td>\n",
       "    </tr>\n",
       "    <tr>\n",
       "      <th>19</th>\n",
       "      <td>DOLYA_BAD_SPIS</td>\n",
       "      <td>31</td>\n",
       "    </tr>\n",
       "    <tr>\n",
       "      <th>15</th>\n",
       "      <td>COUNT_CONTR_ZACH</td>\n",
       "      <td>31</td>\n",
       "    </tr>\n",
       "    <tr>\n",
       "      <th>77</th>\n",
       "      <td>SUM_IP3/</td>\n",
       "      <td>31</td>\n",
       "    </tr>\n",
       "    <tr>\n",
       "      <th>26</th>\n",
       "      <td>SUM_IP3</td>\n",
       "      <td>31</td>\n",
       "    </tr>\n",
       "    <tr>\n",
       "      <th>30</th>\n",
       "      <td>PROFIT1</td>\n",
       "      <td>31</td>\n",
       "    </tr>\n",
       "    <tr>\n",
       "      <th>78</th>\n",
       "      <td>SUM_FIZ3/</td>\n",
       "      <td>30</td>\n",
       "    </tr>\n",
       "    <tr>\n",
       "      <th>75</th>\n",
       "      <td>SUM_DROB_PLAT3/</td>\n",
       "      <td>29</td>\n",
       "    </tr>\n",
       "    <tr>\n",
       "      <th>53</th>\n",
       "      <td>CASH_WEEK</td>\n",
       "      <td>29</td>\n",
       "    </tr>\n",
       "    <tr>\n",
       "      <th>33</th>\n",
       "      <td>BUY_CORP</td>\n",
       "      <td>28</td>\n",
       "    </tr>\n",
       "    <tr>\n",
       "      <th>37</th>\n",
       "      <td>COUNT_ACCT</td>\n",
       "      <td>27</td>\n",
       "    </tr>\n",
       "    <tr>\n",
       "      <th>50</th>\n",
       "      <td>HOZ_PLAT</td>\n",
       "      <td>27</td>\n",
       "    </tr>\n",
       "    <tr>\n",
       "      <th>32</th>\n",
       "      <td>NALOG_M_PRIB12</td>\n",
       "      <td>26</td>\n",
       "    </tr>\n",
       "    <tr>\n",
       "      <th>82</th>\n",
       "      <td>CORP_OPER_MONTH</td>\n",
       "      <td>23</td>\n",
       "    </tr>\n",
       "    <tr>\n",
       "      <th>39</th>\n",
       "      <td>DENY78</td>\n",
       "      <td>23</td>\n",
       "    </tr>\n",
       "    <tr>\n",
       "      <th>20</th>\n",
       "      <td>WORKERS_RANGE</td>\n",
       "      <td>21</td>\n",
       "    </tr>\n",
       "    <tr>\n",
       "      <th>29</th>\n",
       "      <td>COUNT_CONTR_SPIS</td>\n",
       "      <td>21</td>\n",
       "    </tr>\n",
       "    <tr>\n",
       "      <th>2</th>\n",
       "      <td>BUY_CORP_MONTH</td>\n",
       "      <td>21</td>\n",
       "    </tr>\n",
       "    <tr>\n",
       "      <th>36</th>\n",
       "      <td>DEBET_MIN_M</td>\n",
       "      <td>21</td>\n",
       "    </tr>\n",
       "    <tr>\n",
       "      <th>80</th>\n",
       "      <td>CASH_DEBET_MONTH</td>\n",
       "      <td>18</td>\n",
       "    </tr>\n",
       "    <tr>\n",
       "      <th>58</th>\n",
       "      <td>TELEPHONE_COUNT</td>\n",
       "      <td>18</td>\n",
       "    </tr>\n",
       "    <tr>\n",
       "      <th>41</th>\n",
       "      <td>NALOG_M_PRIB</td>\n",
       "      <td>17</td>\n",
       "    </tr>\n",
       "    <tr>\n",
       "      <th>44</th>\n",
       "      <td>MANAGER_INN_COUNT</td>\n",
       "      <td>16</td>\n",
       "    </tr>\n",
       "    <tr>\n",
       "      <th>42</th>\n",
       "      <td>FLAG_BAD_IP_CONTR</td>\n",
       "      <td>15</td>\n",
       "    </tr>\n",
       "    <tr>\n",
       "      <th>79</th>\n",
       "      <td>CASH_DEBET_WEEK</td>\n",
       "      <td>14</td>\n",
       "    </tr>\n",
       "    <tr>\n",
       "      <th>62</th>\n",
       "      <td>PRIME_CATEGORY</td>\n",
       "      <td>13</td>\n",
       "    </tr>\n",
       "    <tr>\n",
       "      <th>55</th>\n",
       "      <td>ADDRESS_FTS_COUNT</td>\n",
       "      <td>12</td>\n",
       "    </tr>\n",
       "    <tr>\n",
       "      <th>61</th>\n",
       "      <td>MANAGER_COUNT_IN_REGION</td>\n",
       "      <td>11</td>\n",
       "    </tr>\n",
       "    <tr>\n",
       "      <th>38</th>\n",
       "      <td>FLAG_BAD3_CONTR</td>\n",
       "      <td>10</td>\n",
       "    </tr>\n",
       "    <tr>\n",
       "      <th>54</th>\n",
       "      <td>ADDRESS_COUNT</td>\n",
       "      <td>9</td>\n",
       "    </tr>\n",
       "    <tr>\n",
       "      <th>35</th>\n",
       "      <td>REGION_DIF</td>\n",
       "      <td>8</td>\n",
       "    </tr>\n",
       "    <tr>\n",
       "      <th>60</th>\n",
       "      <td>MANAGER_COUNT_IN_COUNTRY</td>\n",
       "      <td>8</td>\n",
       "    </tr>\n",
       "    <tr>\n",
       "      <th>48</th>\n",
       "      <td>FLAG_BAD1_CONTR</td>\n",
       "      <td>7</td>\n",
       "    </tr>\n",
       "    <tr>\n",
       "      <th>74</th>\n",
       "      <td>BEZ+S_NDS</td>\n",
       "      <td>7</td>\n",
       "    </tr>\n",
       "    <tr>\n",
       "      <th>67</th>\n",
       "      <td>DROB1</td>\n",
       "      <td>7</td>\n",
       "    </tr>\n",
       "    <tr>\n",
       "      <th>25</th>\n",
       "      <td>PROFIT_REVENUE1</td>\n",
       "      <td>6</td>\n",
       "    </tr>\n",
       "    <tr>\n",
       "      <th>56</th>\n",
       "      <td>ADDRESS_NOTAFFILIATED_COUNT</td>\n",
       "      <td>6</td>\n",
       "    </tr>\n",
       "    <tr>\n",
       "      <th>43</th>\n",
       "      <td>FLAG_BAD2_CONTR</td>\n",
       "      <td>6</td>\n",
       "    </tr>\n",
       "    <tr>\n",
       "      <th>65</th>\n",
       "      <td>ACT_FL</td>\n",
       "      <td>4</td>\n",
       "    </tr>\n",
       "    <tr>\n",
       "      <th>52</th>\n",
       "      <td>IP_VEER_WEEK</td>\n",
       "      <td>2</td>\n",
       "    </tr>\n",
       "    <tr>\n",
       "      <th>47</th>\n",
       "      <td>TRANSACT_FLG</td>\n",
       "      <td>1</td>\n",
       "    </tr>\n",
       "    <tr>\n",
       "      <th>51</th>\n",
       "      <td>NEDOSTOVER</td>\n",
       "      <td>1</td>\n",
       "    </tr>\n",
       "    <tr>\n",
       "      <th>49</th>\n",
       "      <td>COUNT_V</td>\n",
       "      <td>0</td>\n",
       "    </tr>\n",
       "  </tbody>\n",
       "</table>\n",
       "</div>"
      ],
      "text/plain": [
       "                        feature  importance\n",
       "3                      AGE_COMP         142\n",
       "0                      NALOG_12         113\n",
       "4                SUM_CONTR_ZACH         101\n",
       "73                        DVS01          92\n",
       "11                  DEBET_MAX_M          80\n",
       "6                     DVS_AVG_M          78\n",
       "8                  CREDIT_MONTH          78\n",
       "76            SUM_LITTLE_PLAT3/          73\n",
       "10                 CREDIT_MAX_M          72\n",
       "64                        DEP_M          70\n",
       "17                  DEBET_MONTH          68\n",
       "57    ADDRESS_WITHOUTROOM_COUNT          59\n",
       "13                DEBET_TRANS_M          57\n",
       "46                        S_NDS          55\n",
       "9                SUM_CONTR_SPIS          55\n",
       "72                        CR/DB          53\n",
       "21               DOLYA_BAD_ZACH          49\n",
       "12                     SUM_FIZ3          48\n",
       "70                       DEBm01          47\n",
       "81                  CR/DB_MONTH          47\n",
       "16                    GROUP_CNT          47\n",
       "24                    CASH_CORP          45\n",
       "14                   SUM_DEBET3          44\n",
       "83                       CONTR/          43\n",
       "27               CREDIT_TRANS_M          43\n",
       "18           DOLYA_SUM_BAD_SPIS          40\n",
       "68                      CREDm01          40\n",
       "66                   OPEN_DELTA          39\n",
       "59              CHARTER_CAPITAL          38\n",
       "84                            1          38\n",
       "45                      BEZ_NDS          37\n",
       "7                   NOM_CONTROL          37\n",
       "23           DOLYA_SUM_BAD_ZACH          36\n",
       "1                       NALOG_6          36\n",
       "28                   CASH_MONTH          35\n",
       "31                     REVENUE1          35\n",
       "22                      SUM_ZP3          34\n",
       "40                        EQUAR          34\n",
       "71                   DEBm01_max          34\n",
       "5                 REVENUE_SPARK          34\n",
       "63                    TAXES_SUM          33\n",
       "69                  CREDm01_max          32\n",
       "34              CASH_CORP_MONTH          32\n",
       "19               DOLYA_BAD_SPIS          31\n",
       "15             COUNT_CONTR_ZACH          31\n",
       "77                     SUM_IP3/          31\n",
       "26                      SUM_IP3          31\n",
       "30                      PROFIT1          31\n",
       "78                    SUM_FIZ3/          30\n",
       "75              SUM_DROB_PLAT3/          29\n",
       "53                    CASH_WEEK          29\n",
       "33                     BUY_CORP          28\n",
       "37                   COUNT_ACCT          27\n",
       "50                     HOZ_PLAT          27\n",
       "32               NALOG_M_PRIB12          26\n",
       "82              CORP_OPER_MONTH          23\n",
       "39                       DENY78          23\n",
       "20                WORKERS_RANGE          21\n",
       "29             COUNT_CONTR_SPIS          21\n",
       "2                BUY_CORP_MONTH          21\n",
       "36                  DEBET_MIN_M          21\n",
       "80             CASH_DEBET_MONTH          18\n",
       "58              TELEPHONE_COUNT          18\n",
       "41                 NALOG_M_PRIB          17\n",
       "44            MANAGER_INN_COUNT          16\n",
       "42            FLAG_BAD_IP_CONTR          15\n",
       "79              CASH_DEBET_WEEK          14\n",
       "62               PRIME_CATEGORY          13\n",
       "55            ADDRESS_FTS_COUNT          12\n",
       "61      MANAGER_COUNT_IN_REGION          11\n",
       "38              FLAG_BAD3_CONTR          10\n",
       "54                ADDRESS_COUNT           9\n",
       "35                   REGION_DIF           8\n",
       "60     MANAGER_COUNT_IN_COUNTRY           8\n",
       "48              FLAG_BAD1_CONTR           7\n",
       "74                    BEZ+S_NDS           7\n",
       "67                        DROB1           7\n",
       "25              PROFIT_REVENUE1           6\n",
       "56  ADDRESS_NOTAFFILIATED_COUNT           6\n",
       "43              FLAG_BAD2_CONTR           6\n",
       "65                       ACT_FL           4\n",
       "52                 IP_VEER_WEEK           2\n",
       "47                 TRANSACT_FLG           1\n",
       "51                   NEDOSTOVER           1\n",
       "49                      COUNT_V           0"
      ]
     },
     "execution_count": 477,
     "metadata": {},
     "output_type": "execute_result"
    }
   ],
   "source": [
    "# отбор признаков с помощью модели \n",
    "estimator = lgb.LGBMClassifier(random_state = 2,n_jobs = 12)\n",
    "\n",
    "estimator.fit(x_train1,y_train1)\n",
    "\n",
    "etc_pred = estimator.predict_proba(x_test1)\n",
    "etc_pred_test11 = etc_pred[:,1]\n",
    "\n",
    "importances = pd.DataFrame({'feature':x_test1.columns,'importance':np.round(estimator.feature_importances_,0)})\n",
    "importances = importances.sort_values('importance',ascending=False)\n",
    "\n",
    "features = list(importances['feature'])\n",
    "importances"
   ]
  },
  {
   "cell_type": "code",
   "execution_count": 479,
   "metadata": {},
   "outputs": [],
   "source": [
    "from sklearn.metrics import f1_score, precision_score, recall_score, accuracy_score,roc_auc_score\n",
    "x = []\n",
    "gini_train = []\n",
    "gini_test = []\n",
    "gini_val = []\n",
    "\n",
    "for i in features:\n",
    "    x.append(i)\n",
    "    estimator.fit(x_train1[x],y_train1)\n",
    "    train_pred = estimator.predict_proba(x_train1[x])[:,1]\n",
    "    test_pred = estimator.predict_proba(x_test1[x])[:,1]\n",
    "    test_valid = estimator.predict_proba(x_valid_def[x])[:,1]\n",
    "    gini_train.append(np.round(2*roc_auc_score(y_train1, train_pred)-1,5))\n",
    "    gini_test.append(np.round(2*roc_auc_score(y_test1, test_pred)-1,5))\n",
    "    gini_val.append(np.round(2*roc_auc_score(y_valid, test_valid)-1,5))"
   ]
  },
  {
   "cell_type": "code",
   "execution_count": 481,
   "metadata": {
    "scrolled": true
   },
   "outputs": [
    {
     "data": {
      "image/png": "[encoded data removed]",
      "text/plain": [
       "<Figure size 432x288 with 1 Axes>"
      ]
     },
     "metadata": {
      "needs_background": "light"
     },
     "output_type": "display_data"
    }
   ],
   "source": [
    "import matplotlib.pyplot as plt\n",
    "plt.figure()\n",
    "plt.xlabel(\"Number of features selected\")\n",
    "plt.ylabel(\"Gini\")\n",
    "plt.plot(np.arange(1,len(x)+1), gini_train)\n",
    "plt.plot(np.arange(1,len(x)+1), gini_test)\n",
    "plt.plot(np.arange(1,len(x)+1), gini_val)\n",
    "plt.legend(['gini_train','gini_test','gini_val'])\n",
    "plt.show()"
   ]
  },
  {
   "cell_type": "code",
   "execution_count": 355,
   "metadata": {},
   "outputs": [
    {
     "data": {
      "text/plain": [
       "38"
      ]
     },
     "execution_count": 355,
     "metadata": {},
     "output_type": "execute_result"
    }
   ],
   "source": [
    "[round(x,2) for x in gini_val].index(max([round(x,2) for x in gini_val]))"
   ]
  },
  {
   "cell_type": "code",
   "execution_count": 482,
   "metadata": {},
   "outputs": [
    {
     "data": {
      "text/plain": [
       "38"
      ]
     },
     "execution_count": 482,
     "metadata": {},
     "output_type": "execute_result"
    }
   ],
   "source": [
    "features_new = features[:38]\n",
    "len(features_new)"
   ]
  },
  {
   "cell_type": "code",
   "execution_count": 483,
   "metadata": {},
   "outputs": [
    {
     "data": {
      "text/plain": [
       "['AGE_COMP',\n",
       " 'NALOG_12',\n",
       " 'SUM_CONTR_ZACH',\n",
       " 'DVS01',\n",
       " 'DEBET_MAX_M',\n",
       " 'DVS_AVG_M',\n",
       " 'CREDIT_MONTH',\n",
       " 'SUM_LITTLE_PLAT3/',\n",
       " 'CREDIT_MAX_M',\n",
       " 'DEP_M',\n",
       " 'DEBET_MONTH',\n",
       " 'ADDRESS_WITHOUTROOM_COUNT',\n",
       " 'DEBET_TRANS_M',\n",
       " 'S_NDS',\n",
       " 'SUM_CONTR_SPIS',\n",
       " 'CR/DB',\n",
       " 'DOLYA_BAD_ZACH',\n",
       " 'SUM_FIZ3',\n",
       " 'DEBm01',\n",
       " 'CR/DB_MONTH',\n",
       " 'GROUP_CNT',\n",
       " 'CASH_CORP',\n",
       " 'SUM_DEBET3',\n",
       " 'CONTR/',\n",
       " 'CREDIT_TRANS_M',\n",
       " 'DOLYA_SUM_BAD_SPIS',\n",
       " 'CREDm01',\n",
       " 'OPEN_DELTA',\n",
       " 'CHARTER_CAPITAL',\n",
       " '1',\n",
       " 'BEZ_NDS',\n",
       " 'NOM_CONTROL',\n",
       " 'DOLYA_SUM_BAD_ZACH',\n",
       " 'NALOG_6',\n",
       " 'CASH_MONTH',\n",
       " 'REVENUE1',\n",
       " 'SUM_ZP3',\n",
       " 'EQUAR']"
      ]
     },
     "execution_count": 483,
     "metadata": {},
     "output_type": "execute_result"
    }
   ],
   "source": [
    "features_new"
   ]
  },
  {
   "cell_type": "code",
   "execution_count": 484,
   "metadata": {},
   "outputs": [],
   "source": [
    "# модель на отобранных факторах\n",
    "\n",
    "x_train1 = x_train1[features_new]\n",
    "x_test1 = x_test1[features_new]\n",
    "x_valid = x_valid_def[features_new]\n",
    "\n",
    "x_train = x_train_def[features_new]"
   ]
  },
  {
   "cell_type": "code",
   "execution_count": 485,
   "metadata": {
    "scrolled": true
   },
   "outputs": [
    {
     "data": {
      "text/plain": [
       "LGBMClassifier(n_jobs=12, random_state=2)"
      ]
     },
     "execution_count": 485,
     "metadata": {},
     "output_type": "execute_result"
    }
   ],
   "source": [
    "estimator = lgb.LGBMClassifier(random_state = 2,n_jobs = 12)\n",
    "\n",
    "estimator.fit(x_train1,y_train1)"
   ]
  },
  {
   "cell_type": "code",
   "execution_count": 486,
   "metadata": {},
   "outputs": [],
   "source": [
    "pr = 0.5\n",
    "y_train_prob = estimator.predict_proba(x_train1)[:,1] \n",
    "y_test_prob = estimator.predict_proba(x_test1)[:,1] \n",
    "y_val_prob = estimator.predict_proba(x_valid)[:,1]\n",
    "\n",
    "y_train_pred = np.where(y_train_prob >= pr,1,0) \n",
    "y_test_pred = np.where(y_test_prob >= pr,1,0)\n",
    "y_val_pred = np.where(y_val_prob >= pr,1,0)\n",
    "\n",
    "train_metrics = [np.round(precision_score(y_train1, y_train_pred),3)\n",
    ",np.round(recall_score(y_train1, y_train_pred),3)\n",
    ", np.round(accuracy_score(y_train1, y_train_pred),3)\n",
    ",np.round(roc_auc_score(y_train1, y_train_prob),3)\n",
    ",np.round(2*roc_auc_score(y_train1, y_train_prob)-1,3)]\n",
    "\n",
    "test_metrics = [np.round(precision_score(y_test1, y_test_pred),3)\n",
    ",np.round(recall_score(y_test1, y_test_pred),3)\n",
    ", np.round(accuracy_score(y_test1, y_test_pred),3)\n",
    ",np.round(roc_auc_score(y_test1, y_test_prob),3)\n",
    ",np.round(2*roc_auc_score(y_test1, y_test_prob)-1,3)]\n",
    "\n",
    "val_metrics = [np.round(precision_score(y_valid, y_val_pred),3)\n",
    ",np.round(recall_score(y_valid, y_val_pred),3)\n",
    ", np.round(accuracy_score(y_valid, y_val_pred),3)\n",
    ",np.round(roc_auc_score(y_valid, y_val_prob),3)\n",
    ",np.round(2*roc_auc_score(y_valid, y_val_prob)-1,3)]"
   ]
  },
  {
   "cell_type": "code",
   "execution_count": 487,
   "metadata": {},
   "outputs": [
    {
     "name": "stdout",
     "output_type": "stream",
     "text": [
      "                       0         1         2\n",
      "test_precision  0.720801  0.719259  0.709660\n",
      "test_recall     0.523214  0.517158  0.522002\n",
      "test_roc_auc    0.965647  0.964395  0.963818\n"
     ]
    }
   ],
   "source": [
    "# кросс-валидация\n",
    "from sklearn.model_selection import cross_validate\n",
    "from sklearn.metrics import make_scorer\n",
    "from sklearn.model_selection import StratifiedKFold, GridSearchCV, cross_val_score\n",
    "\n",
    "skf = StratifiedKFold(n_splits=3, shuffle=True, random_state=0)\n",
    "scores = cross_validate(estimator,x_train,y_train, cv=skf,scoring=['precision','recall','roc_auc','accuracy'])\n",
    "\n",
    "print(pd.DataFrame({'test_precision' : scores['test_precision'],'test_recall' : scores['test_recall'],\\\n",
    "                    'test_roc_auc' : scores['test_roc_auc']}).T)"
   ]
  },
  {
   "cell_type": "code",
   "execution_count": 488,
   "metadata": {},
   "outputs": [
    {
     "data": {
      "text/html": [
       "<div>\n",
       "<style scoped>\n",
       "    .dataframe tbody tr th:only-of-type {\n",
       "        vertical-align: middle;\n",
       "    }\n",
       "\n",
       "    .dataframe tbody tr th {\n",
       "        vertical-align: top;\n",
       "    }\n",
       "\n",
       "    .dataframe thead th {\n",
       "        text-align: right;\n",
       "    }\n",
       "</style>\n",
       "<table border=\"1\" class=\"dataframe\">\n",
       "  <thead>\n",
       "    <tr style=\"text-align: right;\">\n",
       "      <th></th>\n",
       "      <th>metrics</th>\n",
       "      <th>train</th>\n",
       "      <th>test</th>\n",
       "      <th>val</th>\n",
       "      <th>cross_val_score</th>\n",
       "    </tr>\n",
       "  </thead>\n",
       "  <tbody>\n",
       "    <tr>\n",
       "      <th>0</th>\n",
       "      <td>precision</td>\n",
       "      <td>0.810</td>\n",
       "      <td>0.715</td>\n",
       "      <td>0.485</td>\n",
       "      <td>0.7166</td>\n",
       "    </tr>\n",
       "    <tr>\n",
       "      <th>1</th>\n",
       "      <td>recall</td>\n",
       "      <td>0.607</td>\n",
       "      <td>0.512</td>\n",
       "      <td>0.471</td>\n",
       "      <td>0.5208</td>\n",
       "    </tr>\n",
       "    <tr>\n",
       "      <th>2</th>\n",
       "      <td>accuracy</td>\n",
       "      <td>0.977</td>\n",
       "      <td>0.971</td>\n",
       "      <td>0.964</td>\n",
       "      <td>0.9709</td>\n",
       "    </tr>\n",
       "    <tr>\n",
       "      <th>3</th>\n",
       "      <td>roc_auc</td>\n",
       "      <td>0.988</td>\n",
       "      <td>0.963</td>\n",
       "      <td>0.946</td>\n",
       "      <td>0.9646</td>\n",
       "    </tr>\n",
       "    <tr>\n",
       "      <th>4</th>\n",
       "      <td>gini</td>\n",
       "      <td>0.975</td>\n",
       "      <td>0.926</td>\n",
       "      <td>0.892</td>\n",
       "      <td>0.9292</td>\n",
       "    </tr>\n",
       "  </tbody>\n",
       "</table>\n",
       "</div>"
      ],
      "text/plain": [
       "     metrics  train   test    val  cross_val_score\n",
       "0  precision  0.810  0.715  0.485           0.7166\n",
       "1     recall  0.607  0.512  0.471           0.5208\n",
       "2   accuracy  0.977  0.971  0.964           0.9709\n",
       "3    roc_auc  0.988  0.963  0.946           0.9646\n",
       "4       gini  0.975  0.926  0.892           0.9292"
      ]
     },
     "execution_count": 488,
     "metadata": {},
     "output_type": "execute_result"
    }
   ],
   "source": [
    "cross = [np.round(scores['test_precision'].mean(),4),np.round(scores['test_recall'].mean(),4),np.round(scores['test_accuracy'].mean(),4),\n",
    "np.round(scores['test_roc_auc'].mean(),4),np.round(2*scores['test_roc_auc'].mean()-1,4)]\n",
    "pd.DataFrame({'metrics' : ['precision','recall','accuracy','roc_auc','gini'],'train': train_metrics,\n",
    "             'test' : test_metrics, 'val' : val_metrics,'cross_val_score' : cross})"
   ]
  },
  {
   "cell_type": "markdown",
   "metadata": {},
   "source": [
    "#### подбор гиперпараметров"
   ]
  },
  {
   "cell_type": "code",
   "execution_count": 240,
   "metadata": {},
   "outputs": [
    {
     "ename": "NameError",
     "evalue": "name 'clf_best_params_' is not defined",
     "output_type": "error",
     "traceback": [
      "\u001b[0;31m---------------------------------------------------------------------------\u001b[0m",
      "\u001b[0;31mNameError\u001b[0m                                 Traceback (most recent call last)",
      "\u001b[0;32m<ipython-input-240-deab134346af>\u001b[0m in \u001b[0;36m<module>\u001b[0;34m\u001b[0m\n\u001b[1;32m      8\u001b[0m \u001b[0mclf\u001b[0m \u001b[0;34m=\u001b[0m \u001b[0mGridSearchCV\u001b[0m\u001b[0;34m(\u001b[0m\u001b[0mestimator\u001b[0m\u001b[0;34m,\u001b[0m \u001b[0mparameters\u001b[0m\u001b[0;34m,\u001b[0m\u001b[0mscoring\u001b[0m \u001b[0;34m=\u001b[0m \u001b[0;34m'roc_auc'\u001b[0m\u001b[0;34m,\u001b[0m\u001b[0mcv\u001b[0m \u001b[0;34m=\u001b[0m \u001b[0;36m3\u001b[0m\u001b[0;34m)\u001b[0m\u001b[0;34m\u001b[0m\u001b[0;34m\u001b[0m\u001b[0m\n\u001b[1;32m      9\u001b[0m \u001b[0mclf\u001b[0m\u001b[0;34m.\u001b[0m\u001b[0mfit\u001b[0m\u001b[0;34m(\u001b[0m\u001b[0mx_train\u001b[0m\u001b[0;34m,\u001b[0m \u001b[0my_train\u001b[0m\u001b[0;34m)\u001b[0m\u001b[0;34m\u001b[0m\u001b[0;34m\u001b[0m\u001b[0m\n\u001b[0;32m---> 10\u001b[0;31m \u001b[0mclf\u001b[0m\u001b[0;34m.\u001b[0m\u001b[0mbest_score_\u001b[0m\u001b[0;34m,\u001b[0m\u001b[0mclf_best_params_\u001b[0m\u001b[0;34m\u001b[0m\u001b[0;34m\u001b[0m\u001b[0m\n\u001b[0m",
      "\u001b[0;31mNameError\u001b[0m: name 'clf_best_params_' is not defined"
     ]
    }
   ],
   "source": [
    "'''# подбор параметров\n",
    "from sklearn.model_selection import GridSearchCV\n",
    "\n",
    "parameters = {'learning_rate':[0.01,0.05], 'num_iterations' : [100,300,500,1000,1500,2000],\n",
    "              'num_leaves' : [30,60,100,150,250,350], 'max_depth' : [5,8,10,15,20]\n",
    "             }\n",
    "\n",
    "clf = GridSearchCV(estimator, parameters,scoring = 'roc_auc',cv = 3)\n",
    "clf.fit(x_train, y_train)\n",
    "clf.best_score_,clf.best_params_'''"
   ]
  },
  {
   "cell_type": "code",
   "execution_count": 241,
   "metadata": {},
   "outputs": [
    {
     "data": {
      "text/plain": [
       "(0.9664010324259756,\n",
       " {'learning_rate': 0.01,\n",
       "  'max_depth': 15,\n",
       "  'num_iterations': 1500,\n",
       "  'num_leaves': 30})"
      ]
     },
     "execution_count": 241,
     "metadata": {},
     "output_type": "execute_result"
    }
   ],
   "source": [
    "clf.best_score_,clf.best_params_ # результат GridSearch"
   ]
  },
  {
   "cell_type": "code",
   "execution_count": 489,
   "metadata": {},
   "outputs": [
    {
     "data": {
      "text/plain": [
       "LGBMClassifier(learning_rate=0.01, max_depth=15, n_jobs=12, num_iterations=1500,\n",
       "               num_leaves=30, random_state=2)"
      ]
     },
     "execution_count": 489,
     "metadata": {},
     "output_type": "execute_result"
    }
   ],
   "source": [
    "# обучение с оптимальными параметрами\n",
    "params = ({'learning_rate': 0.01,\n",
    "  'max_depth': 15,\n",
    "  'num_iterations': 1500,\n",
    "  'num_leaves': 30})\n",
    "\n",
    "estimator = lgb.LGBMClassifier(random_state = 2,n_jobs = 12).set_params(**params)\n",
    "\n",
    "estimator.fit(x_train1,y_train1)"
   ]
  },
  {
   "cell_type": "code",
   "execution_count": 490,
   "metadata": {},
   "outputs": [],
   "source": [
    "pr = 0.5\n",
    "y_train_prob = estimator.predict_proba(x_train1)[:,1] \n",
    "y_test_prob = estimator.predict_proba(x_test1)[:,1] \n",
    "y_val_prob = estimator.predict_proba(x_valid)[:,1]\n",
    "\n",
    "y_train_pred = np.where(y_train_prob >= pr,1,0) \n",
    "y_test_pred = np.where(y_test_prob >= pr,1,0)\n",
    "y_val_pred = np.where(y_val_prob >= pr,1,0)"
   ]
  },
  {
   "cell_type": "code",
   "execution_count": 494,
   "metadata": {},
   "outputs": [
    {
     "data": {
      "image/png": "[encoded data removed]",
      "text/plain": [
       "<Figure size 432x288 with 1 Axes>"
      ]
     },
     "metadata": {
      "needs_background": "light"
     },
     "output_type": "display_data"
    }
   ],
   "source": [
    "# подбор количества итераций\n",
    "num_iters = []\n",
    "gini_train = []\n",
    "gini_test = []\n",
    "gini_val = []\n",
    "\n",
    "for i in [300,400,500,600,700,800,900,1000,1100,1200,1300,1500,1600,1700]:\n",
    "    num_iters.append(i)\n",
    "    params['num_iterations'] = i\n",
    "    estimator.set_params(**params).fit(x_train1,y_train1)\n",
    "    train_pred = estimator.predict_proba(x_train1)[:,1]\n",
    "    test_pred = estimator.predict_proba(x_test1)[:,1]\n",
    "    test_valid = estimator.predict_proba(x_valid)[:,1]\n",
    "    gini_train.append(np.round(2*roc_auc_score(y_train1, train_pred)-1,5))\n",
    "    gini_test.append(np.round(2*roc_auc_score(y_test1, test_pred)-1,5))\n",
    "    gini_val.append(np.round(2*roc_auc_score(y_valid, test_valid)-1,5))\n",
    "\n",
    "\n",
    "plt.figure()\n",
    "plt.xlabel(\"Number of iteration\")\n",
    "plt.ylabel(\"Gini\")\n",
    "plt.plot(num_iters, gini_train)\n",
    "plt.plot(num_iters, gini_test)\n",
    "plt.plot(num_iters, gini_val)\n",
    "plt.legend(['gini_train','gini_test','gini_val'])\n",
    "plt.show()"
   ]
  },
  {
   "cell_type": "code",
   "execution_count": 499,
   "metadata": {},
   "outputs": [
    {
     "data": {
      "image/png": "[encoded data removed]",
      "text/plain": [
       "<Figure size 432x288 with 1 Axes>"
      ]
     },
     "metadata": {
      "needs_background": "light"
     },
     "output_type": "display_data"
    }
   ],
   "source": [
    "plt.figure()\n",
    "plt.xlabel(\"Number of iteration\")\n",
    "plt.ylabel(\"Gini\")\n",
    "#plt.plot(num_iters, gini_test)\n",
    "plt.plot(num_iters, gini_val)\n",
    "plt.legend(['gini_val'])\n",
    "plt.show()"
   ]
  },
  {
   "cell_type": "code",
   "execution_count": 500,
   "metadata": {},
   "outputs": [
    {
     "data": {
      "text/plain": [
       "LGBMClassifier(learning_rate=0.01, max_depth=15, n_jobs=12, num_iterarions=1200,\n",
       "               num_iterations=1700, num_leaves=30, random_state=2)"
      ]
     },
     "execution_count": 500,
     "metadata": {},
     "output_type": "execute_result"
    }
   ],
   "source": [
    "# изменим количество итераций\n",
    "params['num_iterarions'] = 1200\n",
    "\n",
    "estimator = lgb.LGBMClassifier(random_state = 2,n_jobs = 12).set_params(**params)\n",
    "\n",
    "estimator.fit(x_train1,y_train1)"
   ]
  },
  {
   "cell_type": "code",
   "execution_count": 501,
   "metadata": {},
   "outputs": [],
   "source": [
    "pr = 0.5\n",
    "y_train_prob = estimator.predict_proba(x_train1)[:,1] \n",
    "y_test_prob = estimator.predict_proba(x_test1)[:,1] \n",
    "y_val_prob = estimator.predict_proba(x_valid)[:,1]\n",
    "\n",
    "y_train_pred = np.where(y_train_prob >= pr,1,0) \n",
    "y_test_pred = np.where(y_test_prob >= pr,1,0)\n",
    "y_val_pred = np.where(y_val_prob >= pr,1,0)\n",
    "\n",
    "train_metrics = [np.round(precision_score(y_train1, y_train_pred),3)\n",
    ",np.round(recall_score(y_train1, y_train_pred),3)\n",
    ", np.round(accuracy_score(y_train1, y_train_pred),3)\n",
    ",np.round(roc_auc_score(y_train1, y_train_prob),3)\n",
    ",np.round(2*roc_auc_score(y_train1, y_train_prob)-1,3)]\n",
    "\n",
    "test_metrics = [np.round(precision_score(y_test1, y_test_pred),3)\n",
    ",np.round(recall_score(y_test1, y_test_pred),3)\n",
    ", np.round(accuracy_score(y_test1, y_test_pred),3)\n",
    ",np.round(roc_auc_score(y_test1, y_test_prob),3)\n",
    ",np.round(2*roc_auc_score(y_test1, y_test_prob)-1,3)]\n",
    "\n",
    "val_metrics = [np.round(precision_score(y_valid, y_val_pred),3)\n",
    ",np.round(recall_score(y_valid, y_val_pred),3)\n",
    ", np.round(accuracy_score(y_valid, y_val_pred),3)\n",
    ",np.round(roc_auc_score(y_valid, y_val_prob),3)\n",
    ",np.round(2*roc_auc_score(y_valid, y_val_prob)-1,3)]"
   ]
  },
  {
   "cell_type": "code",
   "execution_count": 504,
   "metadata": {
    "scrolled": true
   },
   "outputs": [
    {
     "data": {
      "text/html": [
       "<div>\n",
       "<style scoped>\n",
       "    .dataframe tbody tr th:only-of-type {\n",
       "        vertical-align: middle;\n",
       "    }\n",
       "\n",
       "    .dataframe tbody tr th {\n",
       "        vertical-align: top;\n",
       "    }\n",
       "\n",
       "    .dataframe thead th {\n",
       "        text-align: right;\n",
       "    }\n",
       "</style>\n",
       "<table border=\"1\" class=\"dataframe\">\n",
       "  <thead>\n",
       "    <tr style=\"text-align: right;\">\n",
       "      <th></th>\n",
       "      <th>test_precision</th>\n",
       "      <th>test_recall</th>\n",
       "      <th>test_roc_auc</th>\n",
       "    </tr>\n",
       "  </thead>\n",
       "  <tbody>\n",
       "    <tr>\n",
       "      <th>0</th>\n",
       "      <td>0.738202</td>\n",
       "      <td>0.530480</td>\n",
       "      <td>0.967386</td>\n",
       "    </tr>\n",
       "    <tr>\n",
       "      <th>1</th>\n",
       "      <td>0.729563</td>\n",
       "      <td>0.526040</td>\n",
       "      <td>0.965637</td>\n",
       "    </tr>\n",
       "    <tr>\n",
       "      <th>2</th>\n",
       "      <td>0.726867</td>\n",
       "      <td>0.526443</td>\n",
       "      <td>0.964438</td>\n",
       "    </tr>\n",
       "  </tbody>\n",
       "</table>\n",
       "</div>"
      ],
      "text/plain": [
       "   test_precision  test_recall  test_roc_auc\n",
       "0        0.738202     0.530480      0.967386\n",
       "1        0.729563     0.526040      0.965637\n",
       "2        0.726867     0.526443      0.964438"
      ]
     },
     "execution_count": 504,
     "metadata": {},
     "output_type": "execute_result"
    }
   ],
   "source": [
    "# кросс-валидация\n",
    "\n",
    "#skf = StratifiedKFold(n_splits=3, shuffle=True, random_state=0)\n",
    "#scores = cross_validate(estimator,x_train,y_train, cv=skf,scoring=['precision','recall','roc_auc','accuracy'])\n",
    "\n",
    "pd.DataFrame({'test_precision' : scores['test_precision'],'test_recall' : scores['test_recall'],\\\n",
    "                    'test_roc_auc' : scores['test_roc_auc']})"
   ]
  },
  {
   "cell_type": "code",
   "execution_count": 503,
   "metadata": {},
   "outputs": [
    {
     "data": {
      "text/html": [
       "<div>\n",
       "<style scoped>\n",
       "    .dataframe tbody tr th:only-of-type {\n",
       "        vertical-align: middle;\n",
       "    }\n",
       "\n",
       "    .dataframe tbody tr th {\n",
       "        vertical-align: top;\n",
       "    }\n",
       "\n",
       "    .dataframe thead th {\n",
       "        text-align: right;\n",
       "    }\n",
       "</style>\n",
       "<table border=\"1\" class=\"dataframe\">\n",
       "  <thead>\n",
       "    <tr style=\"text-align: right;\">\n",
       "      <th></th>\n",
       "      <th>metrics</th>\n",
       "      <th>train</th>\n",
       "      <th>test</th>\n",
       "      <th>val</th>\n",
       "      <th>cross_val_score</th>\n",
       "    </tr>\n",
       "  </thead>\n",
       "  <tbody>\n",
       "    <tr>\n",
       "      <th>0</th>\n",
       "      <td>precision</td>\n",
       "      <td>0.857</td>\n",
       "      <td>0.724</td>\n",
       "      <td>0.483</td>\n",
       "      <td>0.7315</td>\n",
       "    </tr>\n",
       "    <tr>\n",
       "      <th>1</th>\n",
       "      <td>recall</td>\n",
       "      <td>0.660</td>\n",
       "      <td>0.526</td>\n",
       "      <td>0.480</td>\n",
       "      <td>0.5277</td>\n",
       "    </tr>\n",
       "    <tr>\n",
       "      <th>2</th>\n",
       "      <td>accuracy</td>\n",
       "      <td>0.981</td>\n",
       "      <td>0.971</td>\n",
       "      <td>0.964</td>\n",
       "      <td>0.9718</td>\n",
       "    </tr>\n",
       "    <tr>\n",
       "      <th>3</th>\n",
       "      <td>roc_auc</td>\n",
       "      <td>0.993</td>\n",
       "      <td>0.965</td>\n",
       "      <td>0.948</td>\n",
       "      <td>0.9658</td>\n",
       "    </tr>\n",
       "    <tr>\n",
       "      <th>4</th>\n",
       "      <td>gini</td>\n",
       "      <td>0.985</td>\n",
       "      <td>0.930</td>\n",
       "      <td>0.896</td>\n",
       "      <td>0.9316</td>\n",
       "    </tr>\n",
       "  </tbody>\n",
       "</table>\n",
       "</div>"
      ],
      "text/plain": [
       "     metrics  train   test    val  cross_val_score\n",
       "0  precision  0.857  0.724  0.483           0.7315\n",
       "1     recall  0.660  0.526  0.480           0.5277\n",
       "2   accuracy  0.981  0.971  0.964           0.9718\n",
       "3    roc_auc  0.993  0.965  0.948           0.9658\n",
       "4       gini  0.985  0.930  0.896           0.9316"
      ]
     },
     "execution_count": 503,
     "metadata": {},
     "output_type": "execute_result"
    }
   ],
   "source": [
    "cross = [np.round(scores['test_precision'].mean(),4),np.round(scores['test_recall'].mean(),4),np.round(scores['test_accuracy'].mean(),4),\n",
    "np.round(scores['test_roc_auc'].mean(),4),np.round(2*scores['test_roc_auc'].mean()-1,4)]\n",
    "pd.DataFrame({'metrics' : ['precision','recall','accuracy','roc_auc','gini'],'train': train_metrics,\n",
    "             'test' : test_metrics, 'val' : val_metrics,'cross_val_score' : cross})"
   ]
  },
  {
   "cell_type": "code",
   "execution_count": 505,
   "metadata": {},
   "outputs": [
    {
     "data": {
      "text/plain": [
       "array([[1092118,   20861],\n",
       "       [  21136,   19484]])"
      ]
     },
     "execution_count": 505,
     "metadata": {},
     "output_type": "execute_result"
    }
   ],
   "source": [
    "from sklearn.metrics import confusion_matrix\n",
    "\n",
    "confusion_matrix(y_valid, y_val_pred)"
   ]
  },
  {
   "cell_type": "code",
   "execution_count": null,
   "metadata": {},
   "outputs": [],
   "source": []
  },
  {
   "cell_type": "markdown",
   "metadata": {},
   "source": [
    "#### обучение модели без экспертной разметки клиентов"
   ]
  },
  {
   "cell_type": "code",
   "execution_count": 506,
   "metadata": {},
   "outputs": [
    {
     "data": {
      "text/plain": [
       "0    170346\n",
       "1      4919\n",
       "Name: TARGET, dtype: int64"
      ]
     },
     "execution_count": 506,
     "metadata": {},
     "output_type": "execute_result"
    }
   ],
   "source": [
    "# изменяем целевой признак\n",
    "\n",
    "y_train = train['TARGET']\n",
    "y_valid = test['TARGET']\n",
    "\n",
    "train['TARGET'].value_counts()"
   ]
  },
  {
   "cell_type": "code",
   "execution_count": 507,
   "metadata": {},
   "outputs": [
    {
     "data": {
      "text/plain": [
       "((175265, 85), (1153599, 97))"
      ]
     },
     "execution_count": 507,
     "metadata": {},
     "output_type": "execute_result"
    }
   ],
   "source": [
    "x_train_def.shape,x_valid_def.shape"
   ]
  },
  {
   "cell_type": "code",
   "execution_count": 508,
   "metadata": {},
   "outputs": [
    {
     "data": {
      "text/plain": [
       "(0    119242\n",
       " 1      3443\n",
       " Name: TARGET, dtype: int64,\n",
       " 0    51104\n",
       " 1     1476\n",
       " Name: TARGET, dtype: int64)"
      ]
     },
     "execution_count": 508,
     "metadata": {},
     "output_type": "execute_result"
    }
   ],
   "source": [
    "x_train1, x_test1, y_train1, y_test1 = train_test_split(x_train_def, y_train,test_size=0.3,stratify=y_train,random_state=70)\n",
    "y_train1.value_counts(),y_test1.value_counts()"
   ]
  },
  {
   "cell_type": "code",
   "execution_count": 509,
   "metadata": {},
   "outputs": [],
   "source": [
    "# отбор признаков\n",
    "estimator = lgb.LGBMClassifier(random_state = 2,n_jobs = 12)\n",
    "\n",
    "estimator.fit(x_train1,y_train1)\n",
    "\n",
    "etc_pred = estimator.predict_proba(x_test1)\n",
    "etc_pred_test11 = etc_pred[:,1]"
   ]
  },
  {
   "cell_type": "code",
   "execution_count": 510,
   "metadata": {},
   "outputs": [
    {
     "data": {
      "text/html": [
       "<div>\n",
       "<style scoped>\n",
       "    .dataframe tbody tr th:only-of-type {\n",
       "        vertical-align: middle;\n",
       "    }\n",
       "\n",
       "    .dataframe tbody tr th {\n",
       "        vertical-align: top;\n",
       "    }\n",
       "\n",
       "    .dataframe thead th {\n",
       "        text-align: right;\n",
       "    }\n",
       "</style>\n",
       "<table border=\"1\" class=\"dataframe\">\n",
       "  <thead>\n",
       "    <tr style=\"text-align: right;\">\n",
       "      <th></th>\n",
       "      <th>feature</th>\n",
       "      <th>importance</th>\n",
       "    </tr>\n",
       "  </thead>\n",
       "  <tbody>\n",
       "    <tr>\n",
       "      <th>3</th>\n",
       "      <td>AGE_COMP</td>\n",
       "      <td>173</td>\n",
       "    </tr>\n",
       "    <tr>\n",
       "      <th>4</th>\n",
       "      <td>SUM_CONTR_ZACH</td>\n",
       "      <td>122</td>\n",
       "    </tr>\n",
       "    <tr>\n",
       "      <th>0</th>\n",
       "      <td>NALOG_12</td>\n",
       "      <td>120</td>\n",
       "    </tr>\n",
       "    <tr>\n",
       "      <th>6</th>\n",
       "      <td>DVS_AVG_M</td>\n",
       "      <td>96</td>\n",
       "    </tr>\n",
       "    <tr>\n",
       "      <th>73</th>\n",
       "      <td>DVS01</td>\n",
       "      <td>94</td>\n",
       "    </tr>\n",
       "    <tr>\n",
       "      <th>8</th>\n",
       "      <td>CREDIT_MONTH</td>\n",
       "      <td>74</td>\n",
       "    </tr>\n",
       "    <tr>\n",
       "      <th>64</th>\n",
       "      <td>DEP_M</td>\n",
       "      <td>71</td>\n",
       "    </tr>\n",
       "    <tr>\n",
       "      <th>11</th>\n",
       "      <td>DEBET_MAX_M</td>\n",
       "      <td>70</td>\n",
       "    </tr>\n",
       "    <tr>\n",
       "      <th>10</th>\n",
       "      <td>CREDIT_MAX_M</td>\n",
       "      <td>68</td>\n",
       "    </tr>\n",
       "    <tr>\n",
       "      <th>57</th>\n",
       "      <td>ADDRESS_WITHOUTROOM_COUNT</td>\n",
       "      <td>65</td>\n",
       "    </tr>\n",
       "    <tr>\n",
       "      <th>12</th>\n",
       "      <td>SUM_FIZ3</td>\n",
       "      <td>59</td>\n",
       "    </tr>\n",
       "    <tr>\n",
       "      <th>76</th>\n",
       "      <td>SUM_LITTLE_PLAT3/</td>\n",
       "      <td>58</td>\n",
       "    </tr>\n",
       "    <tr>\n",
       "      <th>83</th>\n",
       "      <td>CONTR/</td>\n",
       "      <td>54</td>\n",
       "    </tr>\n",
       "    <tr>\n",
       "      <th>24</th>\n",
       "      <td>CASH_CORP</td>\n",
       "      <td>52</td>\n",
       "    </tr>\n",
       "    <tr>\n",
       "      <th>17</th>\n",
       "      <td>DEBET_MONTH</td>\n",
       "      <td>49</td>\n",
       "    </tr>\n",
       "    <tr>\n",
       "      <th>19</th>\n",
       "      <td>DOLYA_BAD_SPIS</td>\n",
       "      <td>48</td>\n",
       "    </tr>\n",
       "    <tr>\n",
       "      <th>9</th>\n",
       "      <td>SUM_CONTR_SPIS</td>\n",
       "      <td>46</td>\n",
       "    </tr>\n",
       "    <tr>\n",
       "      <th>63</th>\n",
       "      <td>TAXES_SUM</td>\n",
       "      <td>46</td>\n",
       "    </tr>\n",
       "    <tr>\n",
       "      <th>23</th>\n",
       "      <td>DOLYA_SUM_BAD_ZACH</td>\n",
       "      <td>46</td>\n",
       "    </tr>\n",
       "    <tr>\n",
       "      <th>14</th>\n",
       "      <td>SUM_DEBET3</td>\n",
       "      <td>45</td>\n",
       "    </tr>\n",
       "    <tr>\n",
       "      <th>16</th>\n",
       "      <td>GROUP_CNT</td>\n",
       "      <td>45</td>\n",
       "    </tr>\n",
       "    <tr>\n",
       "      <th>72</th>\n",
       "      <td>CR/DB</td>\n",
       "      <td>45</td>\n",
       "    </tr>\n",
       "    <tr>\n",
       "      <th>15</th>\n",
       "      <td>COUNT_CONTR_ZACH</td>\n",
       "      <td>44</td>\n",
       "    </tr>\n",
       "    <tr>\n",
       "      <th>45</th>\n",
       "      <td>BEZ_NDS</td>\n",
       "      <td>44</td>\n",
       "    </tr>\n",
       "    <tr>\n",
       "      <th>21</th>\n",
       "      <td>DOLYA_BAD_ZACH</td>\n",
       "      <td>43</td>\n",
       "    </tr>\n",
       "    <tr>\n",
       "      <th>13</th>\n",
       "      <td>DEBET_TRANS_M</td>\n",
       "      <td>43</td>\n",
       "    </tr>\n",
       "    <tr>\n",
       "      <th>69</th>\n",
       "      <td>CREDm01_max</td>\n",
       "      <td>42</td>\n",
       "    </tr>\n",
       "    <tr>\n",
       "      <th>1</th>\n",
       "      <td>NALOG_6</td>\n",
       "      <td>42</td>\n",
       "    </tr>\n",
       "    <tr>\n",
       "      <th>53</th>\n",
       "      <td>CASH_WEEK</td>\n",
       "      <td>41</td>\n",
       "    </tr>\n",
       "    <tr>\n",
       "      <th>46</th>\n",
       "      <td>S_NDS</td>\n",
       "      <td>41</td>\n",
       "    </tr>\n",
       "    <tr>\n",
       "      <th>84</th>\n",
       "      <td>1</td>\n",
       "      <td>41</td>\n",
       "    </tr>\n",
       "    <tr>\n",
       "      <th>27</th>\n",
       "      <td>CREDIT_TRANS_M</td>\n",
       "      <td>41</td>\n",
       "    </tr>\n",
       "    <tr>\n",
       "      <th>81</th>\n",
       "      <td>CR/DB_MONTH</td>\n",
       "      <td>40</td>\n",
       "    </tr>\n",
       "    <tr>\n",
       "      <th>68</th>\n",
       "      <td>CREDm01</td>\n",
       "      <td>39</td>\n",
       "    </tr>\n",
       "    <tr>\n",
       "      <th>18</th>\n",
       "      <td>DOLYA_SUM_BAD_SPIS</td>\n",
       "      <td>38</td>\n",
       "    </tr>\n",
       "    <tr>\n",
       "      <th>77</th>\n",
       "      <td>SUM_IP3/</td>\n",
       "      <td>38</td>\n",
       "    </tr>\n",
       "    <tr>\n",
       "      <th>26</th>\n",
       "      <td>SUM_IP3</td>\n",
       "      <td>37</td>\n",
       "    </tr>\n",
       "    <tr>\n",
       "      <th>59</th>\n",
       "      <td>CHARTER_CAPITAL</td>\n",
       "      <td>37</td>\n",
       "    </tr>\n",
       "    <tr>\n",
       "      <th>30</th>\n",
       "      <td>PROFIT1</td>\n",
       "      <td>37</td>\n",
       "    </tr>\n",
       "    <tr>\n",
       "      <th>78</th>\n",
       "      <td>SUM_FIZ3/</td>\n",
       "      <td>37</td>\n",
       "    </tr>\n",
       "    <tr>\n",
       "      <th>75</th>\n",
       "      <td>SUM_DROB_PLAT3/</td>\n",
       "      <td>37</td>\n",
       "    </tr>\n",
       "    <tr>\n",
       "      <th>40</th>\n",
       "      <td>EQUAR</td>\n",
       "      <td>36</td>\n",
       "    </tr>\n",
       "    <tr>\n",
       "      <th>70</th>\n",
       "      <td>DEBm01</td>\n",
       "      <td>36</td>\n",
       "    </tr>\n",
       "    <tr>\n",
       "      <th>66</th>\n",
       "      <td>OPEN_DELTA</td>\n",
       "      <td>35</td>\n",
       "    </tr>\n",
       "    <tr>\n",
       "      <th>29</th>\n",
       "      <td>COUNT_CONTR_SPIS</td>\n",
       "      <td>32</td>\n",
       "    </tr>\n",
       "    <tr>\n",
       "      <th>50</th>\n",
       "      <td>HOZ_PLAT</td>\n",
       "      <td>31</td>\n",
       "    </tr>\n",
       "    <tr>\n",
       "      <th>36</th>\n",
       "      <td>DEBET_MIN_M</td>\n",
       "      <td>30</td>\n",
       "    </tr>\n",
       "    <tr>\n",
       "      <th>32</th>\n",
       "      <td>NALOG_M_PRIB12</td>\n",
       "      <td>29</td>\n",
       "    </tr>\n",
       "    <tr>\n",
       "      <th>7</th>\n",
       "      <td>NOM_CONTROL</td>\n",
       "      <td>29</td>\n",
       "    </tr>\n",
       "    <tr>\n",
       "      <th>33</th>\n",
       "      <td>BUY_CORP</td>\n",
       "      <td>26</td>\n",
       "    </tr>\n",
       "    <tr>\n",
       "      <th>22</th>\n",
       "      <td>SUM_ZP3</td>\n",
       "      <td>24</td>\n",
       "    </tr>\n",
       "    <tr>\n",
       "      <th>5</th>\n",
       "      <td>REVENUE_SPARK</td>\n",
       "      <td>24</td>\n",
       "    </tr>\n",
       "    <tr>\n",
       "      <th>31</th>\n",
       "      <td>REVENUE1</td>\n",
       "      <td>21</td>\n",
       "    </tr>\n",
       "    <tr>\n",
       "      <th>80</th>\n",
       "      <td>CASH_DEBET_MONTH</td>\n",
       "      <td>21</td>\n",
       "    </tr>\n",
       "    <tr>\n",
       "      <th>39</th>\n",
       "      <td>DENY78</td>\n",
       "      <td>21</td>\n",
       "    </tr>\n",
       "    <tr>\n",
       "      <th>37</th>\n",
       "      <td>COUNT_ACCT</td>\n",
       "      <td>21</td>\n",
       "    </tr>\n",
       "    <tr>\n",
       "      <th>2</th>\n",
       "      <td>BUY_CORP_MONTH</td>\n",
       "      <td>21</td>\n",
       "    </tr>\n",
       "    <tr>\n",
       "      <th>82</th>\n",
       "      <td>CORP_OPER_MONTH</td>\n",
       "      <td>19</td>\n",
       "    </tr>\n",
       "    <tr>\n",
       "      <th>60</th>\n",
       "      <td>MANAGER_COUNT_IN_COUNTRY</td>\n",
       "      <td>18</td>\n",
       "    </tr>\n",
       "    <tr>\n",
       "      <th>62</th>\n",
       "      <td>PRIME_CATEGORY</td>\n",
       "      <td>18</td>\n",
       "    </tr>\n",
       "    <tr>\n",
       "      <th>34</th>\n",
       "      <td>CASH_CORP_MONTH</td>\n",
       "      <td>16</td>\n",
       "    </tr>\n",
       "    <tr>\n",
       "      <th>79</th>\n",
       "      <td>CASH_DEBET_WEEK</td>\n",
       "      <td>15</td>\n",
       "    </tr>\n",
       "    <tr>\n",
       "      <th>71</th>\n",
       "      <td>DEBm01_max</td>\n",
       "      <td>15</td>\n",
       "    </tr>\n",
       "    <tr>\n",
       "      <th>42</th>\n",
       "      <td>FLAG_BAD_IP_CONTR</td>\n",
       "      <td>15</td>\n",
       "    </tr>\n",
       "    <tr>\n",
       "      <th>61</th>\n",
       "      <td>MANAGER_COUNT_IN_REGION</td>\n",
       "      <td>13</td>\n",
       "    </tr>\n",
       "    <tr>\n",
       "      <th>58</th>\n",
       "      <td>TELEPHONE_COUNT</td>\n",
       "      <td>12</td>\n",
       "    </tr>\n",
       "    <tr>\n",
       "      <th>28</th>\n",
       "      <td>CASH_MONTH</td>\n",
       "      <td>11</td>\n",
       "    </tr>\n",
       "    <tr>\n",
       "      <th>20</th>\n",
       "      <td>WORKERS_RANGE</td>\n",
       "      <td>10</td>\n",
       "    </tr>\n",
       "    <tr>\n",
       "      <th>44</th>\n",
       "      <td>MANAGER_INN_COUNT</td>\n",
       "      <td>10</td>\n",
       "    </tr>\n",
       "    <tr>\n",
       "      <th>56</th>\n",
       "      <td>ADDRESS_NOTAFFILIATED_COUNT</td>\n",
       "      <td>8</td>\n",
       "    </tr>\n",
       "    <tr>\n",
       "      <th>48</th>\n",
       "      <td>FLAG_BAD1_CONTR</td>\n",
       "      <td>7</td>\n",
       "    </tr>\n",
       "    <tr>\n",
       "      <th>38</th>\n",
       "      <td>FLAG_BAD3_CONTR</td>\n",
       "      <td>7</td>\n",
       "    </tr>\n",
       "    <tr>\n",
       "      <th>41</th>\n",
       "      <td>NALOG_M_PRIB</td>\n",
       "      <td>7</td>\n",
       "    </tr>\n",
       "    <tr>\n",
       "      <th>74</th>\n",
       "      <td>BEZ+S_NDS</td>\n",
       "      <td>7</td>\n",
       "    </tr>\n",
       "    <tr>\n",
       "      <th>65</th>\n",
       "      <td>ACT_FL</td>\n",
       "      <td>6</td>\n",
       "    </tr>\n",
       "    <tr>\n",
       "      <th>52</th>\n",
       "      <td>IP_VEER_WEEK</td>\n",
       "      <td>6</td>\n",
       "    </tr>\n",
       "    <tr>\n",
       "      <th>43</th>\n",
       "      <td>FLAG_BAD2_CONTR</td>\n",
       "      <td>6</td>\n",
       "    </tr>\n",
       "    <tr>\n",
       "      <th>25</th>\n",
       "      <td>PROFIT_REVENUE1</td>\n",
       "      <td>6</td>\n",
       "    </tr>\n",
       "    <tr>\n",
       "      <th>54</th>\n",
       "      <td>ADDRESS_COUNT</td>\n",
       "      <td>5</td>\n",
       "    </tr>\n",
       "    <tr>\n",
       "      <th>55</th>\n",
       "      <td>ADDRESS_FTS_COUNT</td>\n",
       "      <td>5</td>\n",
       "    </tr>\n",
       "    <tr>\n",
       "      <th>67</th>\n",
       "      <td>DROB1</td>\n",
       "      <td>5</td>\n",
       "    </tr>\n",
       "    <tr>\n",
       "      <th>35</th>\n",
       "      <td>REGION_DIF</td>\n",
       "      <td>4</td>\n",
       "    </tr>\n",
       "    <tr>\n",
       "      <th>51</th>\n",
       "      <td>NEDOSTOVER</td>\n",
       "      <td>2</td>\n",
       "    </tr>\n",
       "    <tr>\n",
       "      <th>49</th>\n",
       "      <td>COUNT_V</td>\n",
       "      <td>1</td>\n",
       "    </tr>\n",
       "    <tr>\n",
       "      <th>47</th>\n",
       "      <td>TRANSACT_FLG</td>\n",
       "      <td>1</td>\n",
       "    </tr>\n",
       "  </tbody>\n",
       "</table>\n",
       "</div>"
      ],
      "text/plain": [
       "                        feature  importance\n",
       "3                      AGE_COMP         173\n",
       "4                SUM_CONTR_ZACH         122\n",
       "0                      NALOG_12         120\n",
       "6                     DVS_AVG_M          96\n",
       "73                        DVS01          94\n",
       "8                  CREDIT_MONTH          74\n",
       "64                        DEP_M          71\n",
       "11                  DEBET_MAX_M          70\n",
       "10                 CREDIT_MAX_M          68\n",
       "57    ADDRESS_WITHOUTROOM_COUNT          65\n",
       "12                     SUM_FIZ3          59\n",
       "76            SUM_LITTLE_PLAT3/          58\n",
       "83                       CONTR/          54\n",
       "24                    CASH_CORP          52\n",
       "17                  DEBET_MONTH          49\n",
       "19               DOLYA_BAD_SPIS          48\n",
       "9                SUM_CONTR_SPIS          46\n",
       "63                    TAXES_SUM          46\n",
       "23           DOLYA_SUM_BAD_ZACH          46\n",
       "14                   SUM_DEBET3          45\n",
       "16                    GROUP_CNT          45\n",
       "72                        CR/DB          45\n",
       "15             COUNT_CONTR_ZACH          44\n",
       "45                      BEZ_NDS          44\n",
       "21               DOLYA_BAD_ZACH          43\n",
       "13                DEBET_TRANS_M          43\n",
       "69                  CREDm01_max          42\n",
       "1                       NALOG_6          42\n",
       "53                    CASH_WEEK          41\n",
       "46                        S_NDS          41\n",
       "84                            1          41\n",
       "27               CREDIT_TRANS_M          41\n",
       "81                  CR/DB_MONTH          40\n",
       "68                      CREDm01          39\n",
       "18           DOLYA_SUM_BAD_SPIS          38\n",
       "77                     SUM_IP3/          38\n",
       "26                      SUM_IP3          37\n",
       "59              CHARTER_CAPITAL          37\n",
       "30                      PROFIT1          37\n",
       "78                    SUM_FIZ3/          37\n",
       "75              SUM_DROB_PLAT3/          37\n",
       "40                        EQUAR          36\n",
       "70                       DEBm01          36\n",
       "66                   OPEN_DELTA          35\n",
       "29             COUNT_CONTR_SPIS          32\n",
       "50                     HOZ_PLAT          31\n",
       "36                  DEBET_MIN_M          30\n",
       "32               NALOG_M_PRIB12          29\n",
       "7                   NOM_CONTROL          29\n",
       "33                     BUY_CORP          26\n",
       "22                      SUM_ZP3          24\n",
       "5                 REVENUE_SPARK          24\n",
       "31                     REVENUE1          21\n",
       "80             CASH_DEBET_MONTH          21\n",
       "39                       DENY78          21\n",
       "37                   COUNT_ACCT          21\n",
       "2                BUY_CORP_MONTH          21\n",
       "82              CORP_OPER_MONTH          19\n",
       "60     MANAGER_COUNT_IN_COUNTRY          18\n",
       "62               PRIME_CATEGORY          18\n",
       "34              CASH_CORP_MONTH          16\n",
       "79              CASH_DEBET_WEEK          15\n",
       "71                   DEBm01_max          15\n",
       "42            FLAG_BAD_IP_CONTR          15\n",
       "61      MANAGER_COUNT_IN_REGION          13\n",
       "58              TELEPHONE_COUNT          12\n",
       "28                   CASH_MONTH          11\n",
       "20                WORKERS_RANGE          10\n",
       "44            MANAGER_INN_COUNT          10\n",
       "56  ADDRESS_NOTAFFILIATED_COUNT           8\n",
       "48              FLAG_BAD1_CONTR           7\n",
       "38              FLAG_BAD3_CONTR           7\n",
       "41                 NALOG_M_PRIB           7\n",
       "74                    BEZ+S_NDS           7\n",
       "65                       ACT_FL           6\n",
       "52                 IP_VEER_WEEK           6\n",
       "43              FLAG_BAD2_CONTR           6\n",
       "25              PROFIT_REVENUE1           6\n",
       "54                ADDRESS_COUNT           5\n",
       "55            ADDRESS_FTS_COUNT           5\n",
       "67                        DROB1           5\n",
       "35                   REGION_DIF           4\n",
       "51                   NEDOSTOVER           2\n",
       "49                      COUNT_V           1\n",
       "47                 TRANSACT_FLG           1"
      ]
     },
     "execution_count": 510,
     "metadata": {},
     "output_type": "execute_result"
    }
   ],
   "source": [
    "importances = pd.DataFrame({'feature':x_test1.columns,'importance':np.round(estimator.feature_importances_,0)})\n",
    "importances = importances.sort_values('importance',ascending=False)\n",
    "\n",
    "\n",
    "features = list(importances['feature'])\n",
    "importances"
   ]
  },
  {
   "cell_type": "code",
   "execution_count": 511,
   "metadata": {
    "scrolled": true
   },
   "outputs": [],
   "source": [
    "x = []\n",
    "gini_train = []\n",
    "gini_test = []\n",
    "gini_val = []\n",
    "\n",
    "for i in features:\n",
    "    x.append(i)\n",
    "    estimator.fit(x_train1[x],y_train1)\n",
    "    train_pred = estimator.predict_proba(x_train1[x])[:,1]\n",
    "    test_pred = estimator.predict_proba(x_test1[x])[:,1]\n",
    "    test_valid = estimator.predict_proba(x_valid_def[x])[:,1]\n",
    "    gini_train.append(np.round(2*roc_auc_score(y_train1, train_pred)-1,5))\n",
    "    gini_test.append(np.round(2*roc_auc_score(y_test1, test_pred)-1,5))\n",
    "    gini_val.append(np.round(2*roc_auc_score(y_valid, test_valid)-1,5))\n",
    "    "
   ]
  },
  {
   "cell_type": "code",
   "execution_count": 516,
   "metadata": {},
   "outputs": [
    {
     "data": {
      "image/png": "[encoded data removed]",
      "text/plain": [
       "<Figure size 432x288 with 1 Axes>"
      ]
     },
     "metadata": {
      "needs_background": "light"
     },
     "output_type": "display_data"
    }
   ],
   "source": [
    "import matplotlib.pyplot as plt\n",
    "plt.figure()\n",
    "plt.xlabel(\"Number of features selected\")\n",
    "plt.ylabel(\"Gini\")\n",
    "plt.plot(np.arange(1,len(x)+1), gini_train)\n",
    "plt.plot(np.arange(1,len(x)+1), gini_test)\n",
    "plt.plot(np.arange(1,len(x)+1), gini_val)\n",
    "plt.legend(['gini_train','gini_test','gini_val'])\n",
    "plt.show()"
   ]
  },
  {
   "cell_type": "code",
   "execution_count": 517,
   "metadata": {
    "scrolled": true
   },
   "outputs": [
    {
     "data": {
      "image/png": "[encoded data removed]",
      "text/plain": [
       "<Figure size 432x288 with 1 Axes>"
      ]
     },
     "metadata": {
      "needs_background": "light"
     },
     "output_type": "display_data"
    }
   ],
   "source": [
    "plt.figure()\n",
    "plt.xlabel(\"Number of features selected\")\n",
    "plt.ylabel(\"Gini\")\n",
    "plt.plot(np.arange(10,len(x)+1), gini_test[9:])\n",
    "plt.plot(np.arange(10,len(x)+1), gini_val[9:])\n",
    "plt.legend(['gini_test','gini_val'])\n",
    "plt.show()"
   ]
  },
  {
   "cell_type": "code",
   "execution_count": 518,
   "metadata": {},
   "outputs": [
    {
     "data": {
      "text/plain": [
       "58"
      ]
     },
     "execution_count": 518,
     "metadata": {},
     "output_type": "execute_result"
    }
   ],
   "source": [
    "[round(x,2) for x in gini_val].index(max([round(x,2) for x in gini_val]))"
   ]
  },
  {
   "cell_type": "code",
   "execution_count": 519,
   "metadata": {},
   "outputs": [
    {
     "data": {
      "text/plain": [
       "58"
      ]
     },
     "execution_count": 519,
     "metadata": {},
     "output_type": "execute_result"
    }
   ],
   "source": [
    "features_new = features[:58]\n",
    "len(features_new)"
   ]
  },
  {
   "cell_type": "code",
   "execution_count": 521,
   "metadata": {},
   "outputs": [
    {
     "data": {
      "text/plain": [
       "['AGE_COMP',\n",
       " 'SUM_CONTR_ZACH',\n",
       " 'NALOG_12',\n",
       " 'DVS_AVG_M',\n",
       " 'DVS01',\n",
       " 'CREDIT_MONTH',\n",
       " 'DEP_M',\n",
       " 'DEBET_MAX_M',\n",
       " 'CREDIT_MAX_M',\n",
       " 'ADDRESS_WITHOUTROOM_COUNT',\n",
       " 'SUM_FIZ3',\n",
       " 'SUM_LITTLE_PLAT3/',\n",
       " 'CONTR/',\n",
       " 'CASH_CORP',\n",
       " 'DEBET_MONTH',\n",
       " 'DOLYA_BAD_SPIS',\n",
       " 'SUM_CONTR_SPIS',\n",
       " 'TAXES_SUM',\n",
       " 'DOLYA_SUM_BAD_ZACH',\n",
       " 'SUM_DEBET3',\n",
       " 'GROUP_CNT',\n",
       " 'CR/DB',\n",
       " 'COUNT_CONTR_ZACH',\n",
       " 'BEZ_NDS',\n",
       " 'DOLYA_BAD_ZACH',\n",
       " 'DEBET_TRANS_M',\n",
       " 'CREDm01_max',\n",
       " 'NALOG_6',\n",
       " 'CASH_WEEK',\n",
       " 'S_NDS',\n",
       " '1',\n",
       " 'CREDIT_TRANS_M',\n",
       " 'CR/DB_MONTH',\n",
       " 'CREDm01',\n",
       " 'DOLYA_SUM_BAD_SPIS',\n",
       " 'SUM_IP3/',\n",
       " 'SUM_IP3',\n",
       " 'CHARTER_CAPITAL',\n",
       " 'PROFIT1',\n",
       " 'SUM_FIZ3/',\n",
       " 'SUM_DROB_PLAT3/',\n",
       " 'EQUAR',\n",
       " 'DEBm01',\n",
       " 'OPEN_DELTA',\n",
       " 'COUNT_CONTR_SPIS',\n",
       " 'HOZ_PLAT',\n",
       " 'DEBET_MIN_M',\n",
       " 'NALOG_M_PRIB12',\n",
       " 'NOM_CONTROL',\n",
       " 'BUY_CORP',\n",
       " 'SUM_ZP3',\n",
       " 'REVENUE_SPARK',\n",
       " 'REVENUE1',\n",
       " 'CASH_DEBET_MONTH',\n",
       " 'DENY78',\n",
       " 'COUNT_ACCT',\n",
       " 'BUY_CORP_MONTH',\n",
       " 'CORP_OPER_MONTH']"
      ]
     },
     "execution_count": 521,
     "metadata": {},
     "output_type": "execute_result"
    }
   ],
   "source": [
    "features_new"
   ]
  },
  {
   "cell_type": "code",
   "execution_count": 522,
   "metadata": {},
   "outputs": [],
   "source": [
    "# обучение с отобранными факторами\n",
    "\n",
    "x_train1 = x_train1[features_new]\n",
    "x_test1 = x_test1[features_new]\n",
    "x_valid = x_valid_def[features_new]\n",
    "\n",
    "x_train = x_train_def[features_new]"
   ]
  },
  {
   "cell_type": "code",
   "execution_count": 523,
   "metadata": {},
   "outputs": [
    {
     "data": {
      "text/plain": [
       "LGBMClassifier(n_jobs=12, random_state=2, scale_pos_weight=2)"
      ]
     },
     "execution_count": 523,
     "metadata": {},
     "output_type": "execute_result"
    }
   ],
   "source": [
    "estimator = lgb.LGBMClassifier(random_state = 2,n_jobs = 12,scale_pos_weight = 2)\n",
    "\n",
    "estimator.fit(x_train1,y_train1)"
   ]
  },
  {
   "cell_type": "code",
   "execution_count": 524,
   "metadata": {},
   "outputs": [],
   "source": [
    "pr = 0.5\n",
    "y_train_prob = estimator.predict_proba(x_train1)[:,1] \n",
    "y_test_prob = estimator.predict_proba(x_test1)[:,1] \n",
    "y_val_prob = estimator.predict_proba(x_valid)[:,1]\n",
    "\n",
    "y_train_pred = np.where(y_train_prob >= pr,1,0) \n",
    "y_test_pred = np.where(y_test_prob >= pr,1,0)\n",
    "y_val_pred = np.where(y_val_prob >= pr,1,0)\n",
    "\n",
    "train_metrics = [np.round(precision_score(y_train1, y_train_pred),3)\n",
    ",np.round(recall_score(y_train1, y_train_pred),3)\n",
    ", np.round(accuracy_score(y_train1, y_train_pred),3)\n",
    ",np.round(roc_auc_score(y_train1, y_train_prob),3)\n",
    ",np.round(2*roc_auc_score(y_train1, y_train_prob)-1,3)]\n",
    "\n",
    "test_metrics = [np.round(precision_score(y_test1, y_test_pred),3)\n",
    ",np.round(recall_score(y_test1, y_test_pred),3)\n",
    ", np.round(accuracy_score(y_test1, y_test_pred),3)\n",
    ",np.round(roc_auc_score(y_test1, y_test_prob),3)\n",
    ",np.round(2*roc_auc_score(y_test1, y_test_prob)-1,3)]\n",
    "\n",
    "val_metrics = [np.round(precision_score(y_valid, y_val_pred),3)\n",
    ",np.round(recall_score(y_valid, y_val_pred),3)\n",
    ", np.round(accuracy_score(y_valid, y_val_pred),3)\n",
    ",np.round(roc_auc_score(y_valid, y_val_prob),3)\n",
    ",np.round(2*roc_auc_score(y_valid, y_val_prob)-1,3)]"
   ]
  },
  {
   "cell_type": "code",
   "execution_count": 525,
   "metadata": {},
   "outputs": [
    {
     "name": "stdout",
     "output_type": "stream",
     "text": [
      "                       0         1         2\n",
      "test_precision  0.510094  0.536005  0.520315\n",
      "test_recall     0.462195  0.481098  0.484442\n",
      "test_roc_auc    0.954538  0.960566  0.956938\n"
     ]
    }
   ],
   "source": [
    "skf = StratifiedKFold(n_splits=3, shuffle=True, random_state=0)\n",
    "scores = cross_validate(estimator,x_train,y_train, cv=skf,scoring=['precision','recall','roc_auc','accuracy'])\n",
    "\n",
    "print(pd.DataFrame({'test_precision' : scores['test_precision'],'test_recall' : scores['test_recall'],\\\n",
    "                    'test_roc_auc' : scores['test_roc_auc']}).T)"
   ]
  },
  {
   "cell_type": "code",
   "execution_count": 526,
   "metadata": {},
   "outputs": [
    {
     "data": {
      "text/html": [
       "<div>\n",
       "<style scoped>\n",
       "    .dataframe tbody tr th:only-of-type {\n",
       "        vertical-align: middle;\n",
       "    }\n",
       "\n",
       "    .dataframe tbody tr th {\n",
       "        vertical-align: top;\n",
       "    }\n",
       "\n",
       "    .dataframe thead th {\n",
       "        text-align: right;\n",
       "    }\n",
       "</style>\n",
       "<table border=\"1\" class=\"dataframe\">\n",
       "  <thead>\n",
       "    <tr style=\"text-align: right;\">\n",
       "      <th></th>\n",
       "      <th>metrics</th>\n",
       "      <th>train</th>\n",
       "      <th>test</th>\n",
       "      <th>val</th>\n",
       "      <th>cross_val_score</th>\n",
       "    </tr>\n",
       "  </thead>\n",
       "  <tbody>\n",
       "    <tr>\n",
       "      <th>0</th>\n",
       "      <td>precision</td>\n",
       "      <td>0.667</td>\n",
       "      <td>0.500</td>\n",
       "      <td>0.565</td>\n",
       "      <td>0.5221</td>\n",
       "    </tr>\n",
       "    <tr>\n",
       "      <th>1</th>\n",
       "      <td>recall</td>\n",
       "      <td>0.635</td>\n",
       "      <td>0.453</td>\n",
       "      <td>0.389</td>\n",
       "      <td>0.4759</td>\n",
       "    </tr>\n",
       "    <tr>\n",
       "      <th>2</th>\n",
       "      <td>accuracy</td>\n",
       "      <td>0.981</td>\n",
       "      <td>0.972</td>\n",
       "      <td>0.968</td>\n",
       "      <td>0.9731</td>\n",
       "    </tr>\n",
       "    <tr>\n",
       "      <th>3</th>\n",
       "      <td>roc_auc</td>\n",
       "      <td>0.989</td>\n",
       "      <td>0.955</td>\n",
       "      <td>0.948</td>\n",
       "      <td>0.9573</td>\n",
       "    </tr>\n",
       "    <tr>\n",
       "      <th>4</th>\n",
       "      <td>gini</td>\n",
       "      <td>0.978</td>\n",
       "      <td>0.910</td>\n",
       "      <td>0.896</td>\n",
       "      <td>0.9147</td>\n",
       "    </tr>\n",
       "  </tbody>\n",
       "</table>\n",
       "</div>"
      ],
      "text/plain": [
       "     metrics  train   test    val  cross_val_score\n",
       "0  precision  0.667  0.500  0.565           0.5221\n",
       "1     recall  0.635  0.453  0.389           0.4759\n",
       "2   accuracy  0.981  0.972  0.968           0.9731\n",
       "3    roc_auc  0.989  0.955  0.948           0.9573\n",
       "4       gini  0.978  0.910  0.896           0.9147"
      ]
     },
     "execution_count": 526,
     "metadata": {},
     "output_type": "execute_result"
    }
   ],
   "source": [
    "cross = [np.round(scores['test_precision'].mean(),4),np.round(scores['test_recall'].mean(),4),np.round(scores['test_accuracy'].mean(),4),\n",
    "np.round(scores['test_roc_auc'].mean(),4),np.round(2*scores['test_roc_auc'].mean()-1,4)]\n",
    "pd.DataFrame({'metrics' : ['precision','recall','accuracy','roc_auc','gini'],'train': train_metrics,\n",
    "             'test' : test_metrics, 'val' : val_metrics,'cross_val_score' : cross})"
   ]
  },
  {
   "cell_type": "code",
   "execution_count": 527,
   "metadata": {
    "scrolled": true
   },
   "outputs": [
    {
     "data": {
      "text/plain": [
       "array([[1100799,   12180],\n",
       "       [  24813,   15807]])"
      ]
     },
     "execution_count": 527,
     "metadata": {},
     "output_type": "execute_result"
    }
   ],
   "source": [
    "p = 0.5\n",
    "y_val_pred = np.where(y_val_prob >= p,1,0)\n",
    "\n",
    "confusion_matrix(y_valid, y_val_pred)"
   ]
  },
  {
   "cell_type": "code",
   "execution_count": 282,
   "metadata": {
    "scrolled": true
   },
   "outputs": [
    {
     "data": {
      "text/plain": [
       "(0.9593559484894856,\n",
       " {'learning_rate': 0.01,\n",
       "  'max_depth': 10,\n",
       "  'num_iterations': 1000,\n",
       "  'num_leaves': 30})"
      ]
     },
     "execution_count": 282,
     "metadata": {},
     "output_type": "execute_result"
    }
   ],
   "source": [
    "# подбор параметров\n",
    "'''from sklearn.model_selection import GridSearchCV\n",
    "\n",
    "parameters = {'learning_rate':[0.01,0.05], 'num_iterations' : [100,300,500,1000,1500,2000],\n",
    "              'num_leaves' : [30,60,100,150,250,350], 'max_depth' : [5,8,10,15,20]\n",
    "             }\n",
    "\n",
    "clf = GridSearchCV(estimator, parameters,scoring = 'roc_auc',cv = 3)\n",
    "clf.fit(x_train, y_train)\n",
    "clf.best_score_,clf.best_params_'''"
   ]
  },
  {
   "cell_type": "code",
   "execution_count": 529,
   "metadata": {
    "scrolled": true
   },
   "outputs": [
    {
     "data": {
      "text/plain": [
       "LGBMClassifier(learning_rate=0.01, max_depth=10, n_jobs=12, num_iterations=1000,\n",
       "               num_leaves=30, random_state=2, scale_pos_weight=2.5)"
      ]
     },
     "execution_count": 529,
     "metadata": {},
     "output_type": "execute_result"
    }
   ],
   "source": [
    "params = ({'learning_rate': 0.01,\n",
    "  'max_depth': 10,\n",
    "  'num_iterations': 1000,\n",
    "  'num_leaves': 30})\n",
    "\n",
    "estimator = lgb.LGBMClassifier(random_state = 2,n_jobs = 12,scale_pos_weight = 2.5).set_params(**params)\n",
    "\n",
    "estimator.fit(x_train1,y_train1)"
   ]
  },
  {
   "cell_type": "markdown",
   "metadata": {},
   "source": [
    "#### подбор количества итераций"
   ]
  },
  {
   "cell_type": "code",
   "execution_count": 530,
   "metadata": {},
   "outputs": [],
   "source": [
    "num_iters = []\n",
    "gini_train = []\n",
    "gini_test = []\n",
    "gini_val = []\n",
    "\n",
    "for i in [100,200,300,400,500,600,700,800,900,1000,1100,1200,1300,1400]:\n",
    "    num_iters.append(i)\n",
    "    params['num_iterations'] = i\n",
    "    estimator.set_params(**params).fit(x_train1,y_train1)\n",
    "    train_pred = estimator.predict_proba(x_train1)[:,1]\n",
    "    test_pred = estimator.predict_proba(x_test1)[:,1]\n",
    "    test_valid = estimator.predict_proba(x_valid)[:,1]\n",
    "    gini_train.append(np.round(2*roc_auc_score(y_train1, train_pred)-1,5))\n",
    "    gini_test.append(np.round(2*roc_auc_score(y_test1, test_pred)-1,5))\n",
    "    gini_val.append(np.round(2*roc_auc_score(y_valid, test_valid)-1,5))"
   ]
  },
  {
   "cell_type": "code",
   "execution_count": 531,
   "metadata": {},
   "outputs": [
    {
     "data": {
      "image/png": "[encoded data removed]",
      "text/plain": [
       "<Figure size 432x288 with 1 Axes>"
      ]
     },
     "metadata": {
      "needs_background": "light"
     },
     "output_type": "display_data"
    }
   ],
   "source": [
    "plt.figure()\n",
    "plt.xlabel(\"Number of iteration\")\n",
    "plt.ylabel(\"Gini\")\n",
    "plt.plot(num_iters, gini_train)\n",
    "plt.plot(num_iters, gini_test)\n",
    "plt.plot(num_iters, gini_val)\n",
    "plt.legend(['gini_train','gini_test','gini_val'])\n",
    "plt.show()"
   ]
  },
  {
   "cell_type": "code",
   "execution_count": 532,
   "metadata": {},
   "outputs": [
    {
     "data": {
      "image/png": "[encoded data removed]",
      "text/plain": [
       "<Figure size 432x288 with 1 Axes>"
      ]
     },
     "metadata": {
      "needs_background": "light"
     },
     "output_type": "display_data"
    }
   ],
   "source": [
    "plt.figure()\n",
    "plt.xlabel(\"Number of iteration\")\n",
    "plt.ylabel(\"Gini\")\n",
    "plt.plot(num_iters, gini_test)\n",
    "plt.plot(num_iters, gini_val)\n",
    "plt.legend(['gini_test','gini_val'])\n",
    "plt.show()"
   ]
  },
  {
   "cell_type": "code",
   "execution_count": 550,
   "metadata": {},
   "outputs": [
    {
     "data": {
      "text/plain": [
       "LGBMClassifier(learning_rate=0.01, max_depth=10, n_jobs=12, num_iterations=500,\n",
       "               num_leaves=30, random_state=2, scale_pos_weight=2.5)"
      ]
     },
     "execution_count": 550,
     "metadata": {},
     "output_type": "execute_result"
    }
   ],
   "source": [
    "params['num_iterations'] = 500\n",
    "params['scale_pos_weight'] = 2.5\n",
    "estimator.set_params(**params).fit(x_train1,y_train1)"
   ]
  },
  {
   "cell_type": "code",
   "execution_count": 551,
   "metadata": {},
   "outputs": [],
   "source": [
    "pr = 0.5\n",
    "y_train_prob = estimator.predict_proba(x_train1)[:,1] \n",
    "y_test_prob = estimator.predict_proba(x_test1)[:,1] \n",
    "y_val_prob = estimator.predict_proba(x_valid)[:,1]\n",
    "\n",
    "y_train_pred = np.where(y_train_prob >= pr,1,0) \n",
    "y_test_pred = np.where(y_test_prob >= pr,1,0)\n",
    "y_val_pred = np.where(y_val_prob >= pr,1,0)\n",
    "\n",
    "train_metrics = [np.round(precision_score(y_train1, y_train_pred),3)\n",
    ",np.round(recall_score(y_train1, y_train_pred),3)\n",
    ", np.round(accuracy_score(y_train1, y_train_pred),3)\n",
    ",np.round(roc_auc_score(y_train1, y_train_prob),3)\n",
    ",np.round(2*roc_auc_score(y_train1, y_train_prob)-1,3)]\n",
    "\n",
    "test_metrics = [np.round(precision_score(y_test1, y_test_pred),3)\n",
    ",np.round(recall_score(y_test1, y_test_pred),3)\n",
    ", np.round(accuracy_score(y_test1, y_test_pred),3)\n",
    ",np.round(roc_auc_score(y_test1, y_test_prob),3)\n",
    ",np.round(2*roc_auc_score(y_test1, y_test_prob)-1,3)]\n",
    "\n",
    "val_metrics = [np.round(precision_score(y_valid, y_val_pred),3)\n",
    ",np.round(recall_score(y_valid, y_val_pred),3)\n",
    ", np.round(accuracy_score(y_valid, y_val_pred),3)\n",
    ",np.round(roc_auc_score(y_valid, y_val_prob),3)\n",
    ",np.round(2*roc_auc_score(y_valid, y_val_prob)-1,3)]"
   ]
  },
  {
   "cell_type": "code",
   "execution_count": 552,
   "metadata": {},
   "outputs": [
    {
     "data": {
      "text/html": [
       "<div>\n",
       "<style scoped>\n",
       "    .dataframe tbody tr th:only-of-type {\n",
       "        vertical-align: middle;\n",
       "    }\n",
       "\n",
       "    .dataframe tbody tr th {\n",
       "        vertical-align: top;\n",
       "    }\n",
       "\n",
       "    .dataframe thead th {\n",
       "        text-align: right;\n",
       "    }\n",
       "</style>\n",
       "<table border=\"1\" class=\"dataframe\">\n",
       "  <thead>\n",
       "    <tr style=\"text-align: right;\">\n",
       "      <th></th>\n",
       "      <th>test_precision</th>\n",
       "      <th>test_recall</th>\n",
       "      <th>test_roc_auc</th>\n",
       "    </tr>\n",
       "  </thead>\n",
       "  <tbody>\n",
       "    <tr>\n",
       "      <th>0</th>\n",
       "      <td>0.499140</td>\n",
       "      <td>0.531098</td>\n",
       "      <td>0.957070</td>\n",
       "    </tr>\n",
       "    <tr>\n",
       "      <th>1</th>\n",
       "      <td>0.504235</td>\n",
       "      <td>0.544512</td>\n",
       "      <td>0.962459</td>\n",
       "    </tr>\n",
       "    <tr>\n",
       "      <th>2</th>\n",
       "      <td>0.497717</td>\n",
       "      <td>0.532032</td>\n",
       "      <td>0.958365</td>\n",
       "    </tr>\n",
       "  </tbody>\n",
       "</table>\n",
       "</div>"
      ],
      "text/plain": [
       "   test_precision  test_recall  test_roc_auc\n",
       "0        0.499140     0.531098      0.957070\n",
       "1        0.504235     0.544512      0.962459\n",
       "2        0.497717     0.532032      0.958365"
      ]
     },
     "execution_count": 552,
     "metadata": {},
     "output_type": "execute_result"
    }
   ],
   "source": [
    "skf = StratifiedKFold(n_splits=3, shuffle=True, random_state=0)\n",
    "scores = cross_validate(estimator,x_train,y_train, cv=skf,scoring=['precision','recall','roc_auc','accuracy'])\n",
    "\n",
    "pd.DataFrame({'test_precision' : scores['test_precision'],'test_recall' : scores['test_recall'],\\\n",
    "                    'test_roc_auc' : scores['test_roc_auc']})"
   ]
  },
  {
   "cell_type": "code",
   "execution_count": 553,
   "metadata": {},
   "outputs": [
    {
     "data": {
      "text/html": [
       "<div>\n",
       "<style scoped>\n",
       "    .dataframe tbody tr th:only-of-type {\n",
       "        vertical-align: middle;\n",
       "    }\n",
       "\n",
       "    .dataframe tbody tr th {\n",
       "        vertical-align: top;\n",
       "    }\n",
       "\n",
       "    .dataframe thead th {\n",
       "        text-align: right;\n",
       "    }\n",
       "</style>\n",
       "<table border=\"1\" class=\"dataframe\">\n",
       "  <thead>\n",
       "    <tr style=\"text-align: right;\">\n",
       "      <th></th>\n",
       "      <th>metrics</th>\n",
       "      <th>train</th>\n",
       "      <th>test</th>\n",
       "      <th>val</th>\n",
       "      <th>cross_val_score</th>\n",
       "    </tr>\n",
       "  </thead>\n",
       "  <tbody>\n",
       "    <tr>\n",
       "      <th>0</th>\n",
       "      <td>precision</td>\n",
       "      <td>0.573</td>\n",
       "      <td>0.483</td>\n",
       "      <td>0.548</td>\n",
       "      <td>0.5004</td>\n",
       "    </tr>\n",
       "    <tr>\n",
       "      <th>1</th>\n",
       "      <td>recall</td>\n",
       "      <td>0.623</td>\n",
       "      <td>0.523</td>\n",
       "      <td>0.456</td>\n",
       "      <td>0.5359</td>\n",
       "    </tr>\n",
       "    <tr>\n",
       "      <th>2</th>\n",
       "      <td>accuracy</td>\n",
       "      <td>0.976</td>\n",
       "      <td>0.971</td>\n",
       "      <td>0.968</td>\n",
       "      <td>0.9720</td>\n",
       "    </tr>\n",
       "    <tr>\n",
       "      <th>3</th>\n",
       "      <td>roc_auc</td>\n",
       "      <td>0.981</td>\n",
       "      <td>0.957</td>\n",
       "      <td>0.952</td>\n",
       "      <td>0.9593</td>\n",
       "    </tr>\n",
       "    <tr>\n",
       "      <th>4</th>\n",
       "      <td>gini</td>\n",
       "      <td>0.962</td>\n",
       "      <td>0.914</td>\n",
       "      <td>0.904</td>\n",
       "      <td>0.9186</td>\n",
       "    </tr>\n",
       "  </tbody>\n",
       "</table>\n",
       "</div>"
      ],
      "text/plain": [
       "     metrics  train   test    val  cross_val_score\n",
       "0  precision  0.573  0.483  0.548           0.5004\n",
       "1     recall  0.623  0.523  0.456           0.5359\n",
       "2   accuracy  0.976  0.971  0.968           0.9720\n",
       "3    roc_auc  0.981  0.957  0.952           0.9593\n",
       "4       gini  0.962  0.914  0.904           0.9186"
      ]
     },
     "execution_count": 553,
     "metadata": {},
     "output_type": "execute_result"
    }
   ],
   "source": [
    "cross = [np.round(scores['test_precision'].mean(),4),np.round(scores['test_recall'].mean(),4),np.round(scores['test_accuracy'].mean(),4),\n",
    "np.round(scores['test_roc_auc'].mean(),4),np.round(2*scores['test_roc_auc'].mean()-1,4)]\n",
    "pd.DataFrame({'metrics' : ['precision','recall','accuracy','roc_auc','gini'],'train': train_metrics,\n",
    "             'test' : test_metrics, 'val' : val_metrics,'cross_val_score' : cross})"
   ]
  },
  {
   "cell_type": "code",
   "execution_count": 538,
   "metadata": {},
   "outputs": [
    {
     "data": {
      "text/plain": [
       "array([[1097699,   15280],\n",
       "       [  22078,   18542]])"
      ]
     },
     "execution_count": 538,
     "metadata": {},
     "output_type": "execute_result"
    }
   ],
   "source": [
    "p = 0.5\n",
    "y_val_pred = np.where(y_val_prob >= p,1,0)\n",
    "\n",
    "confusion_matrix(y_valid, y_val_pred)"
   ]
  },
  {
   "cell_type": "code",
   "execution_count": 416,
   "metadata": {},
   "outputs": [],
   "source": [
    "#r = estimator.fit(x_train1,y_train1)"
   ]
  },
  {
   "cell_type": "code",
   "execution_count": 417,
   "metadata": {},
   "outputs": [],
   "source": [
    "#запись в pickle\n",
    "'''with open('estimator_block2608_2.pickle', 'wb') as f:\n",
    "    pickle.dump(r,f)\n",
    "\n",
    "with open('columns_block2608_2.pickle', 'wb') as f:\n",
    "    pickle.dump(x_train1.columns,f)'''"
   ]
  },
  {
   "cell_type": "code",
   "execution_count": null,
   "metadata": {},
   "outputs": [],
   "source": []
  }
 ],
 "metadata": {
  "kernelspec": {
   "display_name": "Python 3 (ipykernel)",
   "language": "python",
   "name": "python3"
  },
  "language_info": {
   "codemirror_mode": {
    "name": "ipython",
    "version": 3
   },
   "file_extension": ".py",
   "mimetype": "text/x-python",
   "name": "python",
   "nbconvert_exporter": "python",
   "pygments_lexer": "ipython3",
   "version": "3.7.11"
  }
 },
 "nbformat": 4,
 "nbformat_minor": 2
}
