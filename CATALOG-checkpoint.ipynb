{
 "cells": [
  {
   "cell_type": "code",
   "execution_count": 6,
   "metadata": {},
   "outputs": [],
   "source": [
    "from impala.dbapi import connect\n",
    "import impala.dbapi\n",
    "\n",
    "connection = impala.dbapi.connect(\n",
    "    host='db-crmmlmod-tst01.open.ru',  # host on which the database is running\n",
    "    database='database_name'  # name of the database to connect to\n",
    ")\n",
    "\n",
    "cursor = connection.cursor()\n",
    "cursor.execute('SELECT * FROM customers')\n",
    "customers = list(cursor.fetchall())\n",
    "print('We have {} customers'.format(len(customers)))  # This is data science!\n",
    "\n",
    "connection.close()"
   ]
  },
  {
   "cell_type": "code",
   "execution_count": 39,
   "metadata": {},
   "outputs": [],
   "source": [
    "impala.dbapi.connect?"
   ]
  },
  {
   "cell_type": "code",
   "execution_count": 26,
   "metadata": {},
   "outputs": [],
   "source": [
    "del connection\n",
    "#cursor.close()"
   ]
  },
  {
   "cell_type": "code",
   "execution_count": 19,
   "metadata": {},
   "outputs": [],
   "source": [
    "import logging\n",
    "logging.basicConfig(level=logging.DEBUG)"
   ]
  },
  {
   "cell_type": "code",
   "execution_count": 22,
   "metadata": {},
   "outputs": [],
   "source": [
    "impala.dbapi.connect?"
   ]
  },
  {
   "cell_type": "code",
   "execution_count": 43,
   "metadata": {},
   "outputs": [],
   "source": [
    "del connection"
   ]
  },
  {
   "cell_type": "code",
   "execution_count": 44,
   "metadata": {
    "scrolled": true
   },
   "outputs": [
    {
     "name": "stderr",
     "output_type": "stream",
     "text": [
      "DEBUG:impala.hiveserver2:Connecting to HiveServer2 db-crmmlmod-tst01.open.ru:9999 with NOSASL authentication mechanism\n",
      "DEBUG:impala._thrift_api:get_socket: host=db-crmmlmod-tst01.open.ru port=9999 use_ssl=False ca_cert=None\n",
      "DEBUG:impala.hiveserver2:sock=<thrift.transport.TSocket.TSocket object at 0x7f348f595e10>\n",
      "DEBUG:impala._thrift_api:get_transport: socket=<thrift.transport.TSocket.TSocket object at 0x7f348f595e10> host=db-crmmlmod-tst01.open.ru kerberos_service_name=impala auth_mechanism=NOSASL user=mikhaylova_ekvl password=fuggetaboutit\n",
      "DEBUG:impala.hiveserver2:transport=<thrift.transport.TTransport.TBufferedTransport object at 0x7f348f573e50> protocol=<thrift.protocol.TBinaryProtocol.TBinaryProtocolAccelerated object at 0x7f348f4c7550> service=<impala._thrift_gen.ImpalaService.ImpalaHiveServer2Service.Client object at 0x7f348f43b0d0>\n",
      "DEBUG:impala.hiveserver2:HiveServer2Connection(service=<impala.hiveserver2.HS2Service object at 0x7f348f573910>, default_db=data_models)\n",
      "DEBUG:impala.hiveserver2:Getting a cursor (Impala session)\n",
      "DEBUG:impala.hiveserver2:.cursor(): getting new session_handle\n",
      "DEBUG:impala.hiveserver2:OpenSession: req=TOpenSessionReq(client_protocol=5, username='zaspa_ay', password=None, configuration=None)\n",
      "DEBUG:impala.hiveserver2:Attempting to open transport (tries_left=3)\n",
      "DEBUG:impala.hiveserver2:Transport opened\n",
      "ERROR:impala.hiveserver2:Failed to open transport (tries_left=3)\n",
      "Traceback (most recent call last):\n",
      "  File \"/home/zaspa_ay/anaconda3/lib/python3.7/site-packages/impala/hiveserver2.py\", line 1098, in _execute\n",
      "    return func(request)\n",
      "  File \"/home/zaspa_ay/anaconda3/lib/python3.7/site-packages/impala/_thrift_gen/TCLIService/TCLIService.py\", line 175, in OpenSession\n",
      "    return self.recv_OpenSession()\n",
      "  File \"/home/zaspa_ay/anaconda3/lib/python3.7/site-packages/impala/_thrift_gen/TCLIService/TCLIService.py\", line 187, in recv_OpenSession\n",
      "    (fname, mtype, rseqid) = iprot.readMessageBegin()\n",
      "  File \"/home/zaspa_ay/anaconda3/lib/python3.7/site-packages/thrift/protocol/TBinaryProtocol.py\", line 134, in readMessageBegin\n",
      "    sz = self.readI32()\n",
      "  File \"/home/zaspa_ay/anaconda3/lib/python3.7/site-packages/thrift/protocol/TBinaryProtocol.py\", line 217, in readI32\n",
      "    buff = self.trans.readAll(4)\n",
      "  File \"/home/zaspa_ay/anaconda3/lib/python3.7/site-packages/thrift/transport/TTransport.py\", line 60, in readAll\n",
      "    chunk = self.read(sz - have)\n",
      "  File \"/home/zaspa_ay/anaconda3/lib/python3.7/site-packages/thrift/transport/TTransport.py\", line 162, in read\n",
      "    self.__rbuf = BufferIO(self.__trans.read(max(sz, self.__rbuf_size)))\n",
      "  File \"/home/zaspa_ay/anaconda3/lib/python3.7/site-packages/thrift/transport/TSocket.py\", line 132, in read\n",
      "    message='TSocket read 0 bytes')\n",
      "thrift.transport.TTransport.TTransportException: TSocket read 0 bytes\n",
      "DEBUG:impala.hiveserver2:Closing transport (tries_left=3)\n",
      "DEBUG:impala.hiveserver2:Attempting to open transport (tries_left=2)\n",
      "DEBUG:impala.hiveserver2:Transport opened\n",
      "ERROR:impala.hiveserver2:Failed to open transport (tries_left=2)\n",
      "Traceback (most recent call last):\n",
      "  File \"/home/zaspa_ay/anaconda3/lib/python3.7/site-packages/impala/hiveserver2.py\", line 1098, in _execute\n",
      "    return func(request)\n",
      "  File \"/home/zaspa_ay/anaconda3/lib/python3.7/site-packages/impala/_thrift_gen/TCLIService/TCLIService.py\", line 175, in OpenSession\n",
      "    return self.recv_OpenSession()\n",
      "  File \"/home/zaspa_ay/anaconda3/lib/python3.7/site-packages/impala/_thrift_gen/TCLIService/TCLIService.py\", line 187, in recv_OpenSession\n",
      "    (fname, mtype, rseqid) = iprot.readMessageBegin()\n",
      "  File \"/home/zaspa_ay/anaconda3/lib/python3.7/site-packages/thrift/protocol/TBinaryProtocol.py\", line 134, in readMessageBegin\n",
      "    sz = self.readI32()\n",
      "  File \"/home/zaspa_ay/anaconda3/lib/python3.7/site-packages/thrift/protocol/TBinaryProtocol.py\", line 217, in readI32\n",
      "    buff = self.trans.readAll(4)\n",
      "  File \"/home/zaspa_ay/anaconda3/lib/python3.7/site-packages/thrift/transport/TTransport.py\", line 60, in readAll\n",
      "    chunk = self.read(sz - have)\n",
      "  File \"/home/zaspa_ay/anaconda3/lib/python3.7/site-packages/thrift/transport/TTransport.py\", line 162, in read\n",
      "    self.__rbuf = BufferIO(self.__trans.read(max(sz, self.__rbuf_size)))\n",
      "  File \"/home/zaspa_ay/anaconda3/lib/python3.7/site-packages/thrift/transport/TSocket.py\", line 132, in read\n",
      "    message='TSocket read 0 bytes')\n",
      "thrift.transport.TTransport.TTransportException: TSocket read 0 bytes\n",
      "DEBUG:impala.hiveserver2:Closing transport (tries_left=2)\n",
      "DEBUG:impala.hiveserver2:Attempting to open transport (tries_left=1)\n",
      "DEBUG:impala.hiveserver2:Transport opened\n",
      "ERROR:impala.hiveserver2:Failed to open transport (tries_left=1)\n",
      "Traceback (most recent call last):\n",
      "  File \"/home/zaspa_ay/anaconda3/lib/python3.7/site-packages/impala/hiveserver2.py\", line 1098, in _execute\n",
      "    return func(request)\n",
      "  File \"/home/zaspa_ay/anaconda3/lib/python3.7/site-packages/impala/_thrift_gen/TCLIService/TCLIService.py\", line 175, in OpenSession\n",
      "    return self.recv_OpenSession()\n",
      "  File \"/home/zaspa_ay/anaconda3/lib/python3.7/site-packages/impala/_thrift_gen/TCLIService/TCLIService.py\", line 187, in recv_OpenSession\n",
      "    (fname, mtype, rseqid) = iprot.readMessageBegin()\n",
      "  File \"/home/zaspa_ay/anaconda3/lib/python3.7/site-packages/thrift/protocol/TBinaryProtocol.py\", line 134, in readMessageBegin\n",
      "    sz = self.readI32()\n",
      "  File \"/home/zaspa_ay/anaconda3/lib/python3.7/site-packages/thrift/protocol/TBinaryProtocol.py\", line 217, in readI32\n",
      "    buff = self.trans.readAll(4)\n",
      "  File \"/home/zaspa_ay/anaconda3/lib/python3.7/site-packages/thrift/transport/TTransport.py\", line 60, in readAll\n",
      "    chunk = self.read(sz - have)\n",
      "  File \"/home/zaspa_ay/anaconda3/lib/python3.7/site-packages/thrift/transport/TTransport.py\", line 162, in read\n",
      "    self.__rbuf = BufferIO(self.__trans.read(max(sz, self.__rbuf_size)))\n",
      "  File \"/home/zaspa_ay/anaconda3/lib/python3.7/site-packages/thrift/transport/TSocket.py\", line 132, in read\n",
      "    message='TSocket read 0 bytes')\n",
      "thrift.transport.TTransport.TTransportException: TSocket read 0 bytes\n",
      "DEBUG:impala.hiveserver2:Closing transport (tries_left=1)\n"
     ]
    },
    {
     "ename": "HiveServer2Error",
     "evalue": "Failed after retrying 3 times",
     "output_type": "error",
     "traceback": [
      "\u001b[0;31m---------------------------------------------------------------------------\u001b[0m",
      "\u001b[0;31mHiveServer2Error\u001b[0m                          Traceback (most recent call last)",
      "\u001b[0;32m<ipython-input-44-9dcc1a745007>\u001b[0m in \u001b[0;36m<module>\u001b[0;34m\u001b[0m\n\u001b[1;32m     10\u001b[0m )\n\u001b[1;32m     11\u001b[0m \u001b[0;34m\u001b[0m\u001b[0m\n\u001b[0;32m---> 12\u001b[0;31m \u001b[0mcursor\u001b[0m \u001b[0;34m=\u001b[0m \u001b[0mconnection\u001b[0m\u001b[0;34m.\u001b[0m\u001b[0mcursor\u001b[0m\u001b[0;34m(\u001b[0m\u001b[0;34m)\u001b[0m\u001b[0;34m\u001b[0m\u001b[0;34m\u001b[0m\u001b[0m\n\u001b[0m\u001b[1;32m     13\u001b[0m \u001b[0mcursor\u001b[0m\u001b[0;34m.\u001b[0m\u001b[0mexecute\u001b[0m\u001b[0;34m(\u001b[0m\u001b[0;34m'select * from data_models.REVENUE_FORECAST_LE'\u001b[0m\u001b[0;34m)\u001b[0m\u001b[0;34m\u001b[0m\u001b[0;34m\u001b[0m\u001b[0m\n\u001b[1;32m     14\u001b[0m \u001b[0;31m#customers = list(cursor.fetchall())\u001b[0m\u001b[0;34m\u001b[0m\u001b[0;34m\u001b[0m\u001b[0;34m\u001b[0m\u001b[0m\n",
      "\u001b[0;32m~/anaconda3/lib/python3.7/site-packages/impala/hiveserver2.py\u001b[0m in \u001b[0;36mcursor\u001b[0;34m(self, user, configuration, convert_types, dictify, fetch_error)\u001b[0m\n\u001b[1;32m    127\u001b[0m         \u001b[0mlog\u001b[0m\u001b[0;34m.\u001b[0m\u001b[0mdebug\u001b[0m\u001b[0;34m(\u001b[0m\u001b[0;34m'.cursor(): getting new session_handle'\u001b[0m\u001b[0;34m)\u001b[0m\u001b[0;34m\u001b[0m\u001b[0;34m\u001b[0m\u001b[0m\n\u001b[1;32m    128\u001b[0m \u001b[0;34m\u001b[0m\u001b[0m\n\u001b[0;32m--> 129\u001b[0;31m         \u001b[0msession\u001b[0m \u001b[0;34m=\u001b[0m \u001b[0mself\u001b[0m\u001b[0;34m.\u001b[0m\u001b[0mservice\u001b[0m\u001b[0;34m.\u001b[0m\u001b[0mopen_session\u001b[0m\u001b[0;34m(\u001b[0m\u001b[0muser\u001b[0m\u001b[0;34m,\u001b[0m \u001b[0mconfiguration\u001b[0m\u001b[0;34m)\u001b[0m\u001b[0;34m\u001b[0m\u001b[0;34m\u001b[0m\u001b[0m\n\u001b[0m\u001b[1;32m    130\u001b[0m \u001b[0;34m\u001b[0m\u001b[0m\n\u001b[1;32m    131\u001b[0m         log.debug('HiveServer2Cursor(service=%s, session_handle=%s, '\n",
      "\u001b[0;32m~/anaconda3/lib/python3.7/site-packages/impala/hiveserver2.py\u001b[0m in \u001b[0;36mopen_session\u001b[0;34m(self, user, configuration)\u001b[0m\n\u001b[1;32m   1185\u001b[0m         \u001b[0;31m# disconnected and the server successfully opened a session, the client\u001b[0m\u001b[0;34m\u001b[0m\u001b[0;34m\u001b[0m\u001b[0;34m\u001b[0m\u001b[0m\n\u001b[1;32m   1186\u001b[0m         \u001b[0;31m# will retry and rely on server to clean up the session.\u001b[0m\u001b[0;34m\u001b[0m\u001b[0;34m\u001b[0m\u001b[0;34m\u001b[0m\u001b[0m\n\u001b[0;32m-> 1187\u001b[0;31m         \u001b[0mresp\u001b[0m \u001b[0;34m=\u001b[0m \u001b[0mself\u001b[0m\u001b[0;34m.\u001b[0m\u001b[0m_rpc\u001b[0m\u001b[0;34m(\u001b[0m\u001b[0;34m'OpenSession'\u001b[0m\u001b[0;34m,\u001b[0m \u001b[0mreq\u001b[0m\u001b[0;34m,\u001b[0m \u001b[0;32mTrue\u001b[0m\u001b[0;34m)\u001b[0m\u001b[0;34m\u001b[0m\u001b[0;34m\u001b[0m\u001b[0m\n\u001b[0m\u001b[1;32m   1188\u001b[0m         return HS2Session(self, resp.sessionHandle,\n\u001b[1;32m   1189\u001b[0m                           \u001b[0mresp\u001b[0m\u001b[0;34m.\u001b[0m\u001b[0mconfiguration\u001b[0m\u001b[0;34m,\u001b[0m\u001b[0;34m\u001b[0m\u001b[0;34m\u001b[0m\u001b[0m\n",
      "\u001b[0;32m~/anaconda3/lib/python3.7/site-packages/impala/hiveserver2.py\u001b[0m in \u001b[0;36m_rpc\u001b[0;34m(self, func_name, request, retry_on_http_error)\u001b[0m\n\u001b[1;32m   1078\u001b[0m     \u001b[0;32mdef\u001b[0m \u001b[0m_rpc\u001b[0m\u001b[0;34m(\u001b[0m\u001b[0mself\u001b[0m\u001b[0;34m,\u001b[0m \u001b[0mfunc_name\u001b[0m\u001b[0;34m,\u001b[0m \u001b[0mrequest\u001b[0m\u001b[0;34m,\u001b[0m \u001b[0mretry_on_http_error\u001b[0m\u001b[0;34m=\u001b[0m\u001b[0;32mFalse\u001b[0m\u001b[0;34m)\u001b[0m\u001b[0;34m:\u001b[0m\u001b[0;34m\u001b[0m\u001b[0;34m\u001b[0m\u001b[0m\n\u001b[1;32m   1079\u001b[0m         \u001b[0mself\u001b[0m\u001b[0;34m.\u001b[0m\u001b[0m_log_request\u001b[0m\u001b[0;34m(\u001b[0m\u001b[0mfunc_name\u001b[0m\u001b[0;34m,\u001b[0m \u001b[0mrequest\u001b[0m\u001b[0;34m)\u001b[0m\u001b[0;34m\u001b[0m\u001b[0;34m\u001b[0m\u001b[0m\n\u001b[0;32m-> 1080\u001b[0;31m         \u001b[0mresponse\u001b[0m \u001b[0;34m=\u001b[0m \u001b[0mself\u001b[0m\u001b[0;34m.\u001b[0m\u001b[0m_execute\u001b[0m\u001b[0;34m(\u001b[0m\u001b[0mfunc_name\u001b[0m\u001b[0;34m,\u001b[0m \u001b[0mrequest\u001b[0m\u001b[0;34m,\u001b[0m \u001b[0mretry_on_http_error\u001b[0m\u001b[0;34m)\u001b[0m\u001b[0;34m\u001b[0m\u001b[0;34m\u001b[0m\u001b[0m\n\u001b[0m\u001b[1;32m   1081\u001b[0m         \u001b[0mself\u001b[0m\u001b[0;34m.\u001b[0m\u001b[0m_log_response\u001b[0m\u001b[0;34m(\u001b[0m\u001b[0mfunc_name\u001b[0m\u001b[0;34m,\u001b[0m \u001b[0mresponse\u001b[0m\u001b[0;34m)\u001b[0m\u001b[0;34m\u001b[0m\u001b[0;34m\u001b[0m\u001b[0m\n\u001b[1;32m   1082\u001b[0m         \u001b[0merr_if_rpc_not_ok\u001b[0m\u001b[0;34m(\u001b[0m\u001b[0mresponse\u001b[0m\u001b[0;34m)\u001b[0m\u001b[0;34m\u001b[0m\u001b[0;34m\u001b[0m\u001b[0m\n",
      "\u001b[0;32m~/anaconda3/lib/python3.7/site-packages/impala/hiveserver2.py\u001b[0m in \u001b[0;36m_execute\u001b[0;34m(self, func_name, request, retry_on_http_error)\u001b[0m\n\u001b[1;32m   1140\u001b[0m             \u001b[0;32mraise\u001b[0m \u001b[0mlast_http_exception\u001b[0m\u001b[0;34m\u001b[0m\u001b[0;34m\u001b[0m\u001b[0m\n\u001b[1;32m   1141\u001b[0m         raise HiveServer2Error('Failed after retrying {0} times'\n\u001b[0;32m-> 1142\u001b[0;31m                                .format(self.retries))\n\u001b[0m\u001b[1;32m   1143\u001b[0m \u001b[0;34m\u001b[0m\u001b[0m\n\u001b[1;32m   1144\u001b[0m     \u001b[0;32mdef\u001b[0m \u001b[0m_operation\u001b[0m\u001b[0;34m(\u001b[0m\u001b[0mself\u001b[0m\u001b[0;34m,\u001b[0m \u001b[0mkind\u001b[0m\u001b[0;34m,\u001b[0m \u001b[0mrequest\u001b[0m\u001b[0;34m,\u001b[0m \u001b[0mretry_on_http_error\u001b[0m\u001b[0;34m=\u001b[0m\u001b[0;32mFalse\u001b[0m\u001b[0;34m)\u001b[0m\u001b[0;34m:\u001b[0m\u001b[0;34m\u001b[0m\u001b[0;34m\u001b[0m\u001b[0m\n",
      "\u001b[0;31mHiveServer2Error\u001b[0m: Failed after retrying 3 times"
     ]
    }
   ],
   "source": [
    "from impala.dbapi import connect\n",
    "import impala \n",
    "\n",
    "connection = impala.dbapi.connect(\n",
    "    host = 'db-crmmlmod-tst01.open.ru', port = 9999 ,\n",
    "    user = 'mikhaylova_ekvl',\n",
    "    password = 'Lala1313',#auth_mechanism='PLAIN',\n",
    "    #protocol = 'compact',\n",
    "   database='data_models'  # name of the database to connect to\n",
    ")\n",
    "\n",
    "cursor = connection.cursor()\n",
    "cursor.execute('select * from data_models.REVENUE_FORECAST_LE')\n",
    "#customers = list(cursor.fetchall())\n",
    "#print('We have {} customers'.format(len(customers)))  # This is data science!\n",
    "\n",
    "connection.close()\n",
    "cursor.close()"
   ]
  },
  {
   "cell_type": "code",
   "execution_count": 37,
   "metadata": {},
   "outputs": [],
   "source": [
    "connection.close()"
   ]
  },
  {
   "cell_type": "code",
   "execution_count": 2,
   "metadata": {},
   "outputs": [
    {
     "ename": "AttributeError",
     "evalue": "module 'impala' has no attribute '__version__'",
     "output_type": "error",
     "traceback": [
      "\u001b[0;31m---------------------------------------------------------------------------\u001b[0m",
      "\u001b[0;31mAttributeError\u001b[0m                            Traceback (most recent call last)",
      "\u001b[0;32m<ipython-input-2-0cc3e33addaf>\u001b[0m in \u001b[0;36m<module>\u001b[0;34m\u001b[0m\n\u001b[1;32m      1\u001b[0m \u001b[0;32mimport\u001b[0m \u001b[0mimpala\u001b[0m\u001b[0;34m\u001b[0m\u001b[0;34m\u001b[0m\u001b[0m\n\u001b[0;32m----> 2\u001b[0;31m \u001b[0mimpala\u001b[0m\u001b[0;34m.\u001b[0m\u001b[0m__version__\u001b[0m\u001b[0;34m\u001b[0m\u001b[0;34m\u001b[0m\u001b[0m\n\u001b[0m",
      "\u001b[0;31mAttributeError\u001b[0m: module 'impala' has no attribute '__version__'"
     ]
    }
   ],
   "source": [
    "import impala\n",
    "impala.__version__"
   ]
  },
  {
   "cell_type": "code",
   "execution_count": null,
   "metadata": {},
   "outputs": [],
   "source": [
    "# библиотеки\n",
    "\n",
    "from pandas import read_excel, DataFrame, read_csv, Series\n",
    "import matplotlib.pyplot as plt\n",
    "import numpy as np\n",
    "import sklearn\n",
    "import lightgbm as lgb\n",
    "from sklearn.preprocessing import LabelEncoder,OneHotEncoder\n",
    "from sklearn.metrics import roc_curve, auc, confusion_matrix\n",
    "from sklearn.model_selection import train_test_split,cross_val_score\n",
    "import pylab as pl\n",
    "import time # для работы со временем\n",
    "import pandas.io.sql as psql\n",
    "import pickle # для сохранения/загр\n",
    "from numpy import object,append\n",
    "import datetime\n",
    "import matplotlib.pyplot as plt\n",
    "# заставляем рисунки встраиваться в блокнот\n",
    "%matplotlib inline\n",
    "\n",
    "import pandas as pd\n",
    "import pickle\n",
    "import warnings\n",
    "warnings.filterwarnings(\"ignore\")\n",
    "\n",
    "import os\n",
    "import cx_Oracle\n",
    "import pandas.io.sql as psql\n",
    "\n",
    "log = 'MIKHAYLOVA_EKVL[PxU_DCBUL_UMA_MOD]'\n",
    "pas = 'Kate0806...'\n",
    "or_tns = 'DATALAB'\n",
    "\n",
    "print(log)\n",
    "print(pas)\n",
    "print(or_tns)\n",
    "\n",
    "\n",
    "from sklearn.linear_model import LinearRegression\n",
    "from sklearn.metrics import r2_score,mean_squared_error\n",
    "from sklearn.ensemble import RandomForestRegressor\n",
    "from sklearn.metrics import f1_score, precision_score, recall_score, accuracy_score,roc_auc_score"
   ]
  },
  {
   "cell_type": "code",
   "execution_count": 40,
   "metadata": {
    "scrolled": true
   },
   "outputs": [
    {
     "data": {
      "image/png": "[encoded data removed]",
      "text/plain": [
       "<Figure size 432x288 with 1 Axes>"
      ]
     },
     "metadata": {
      "needs_background": "light"
     },
     "output_type": "display_data"
    }
   ],
   "source": [
    "import numpy as np\n",
    "import matplotlib.pyplot as plt\n",
    "x = np.arange(-10, 10.01, 0.01)\n",
    "\n",
    "plt.plot(0.5*np.sin(x) + 0.25*np.sin(2*x) + 1/8*np.sin(4*x) + 1/16*np.sin(8*x))\n",
    "plt.show()"
   ]
  },
  {
   "cell_type": "code",
   "execution_count": 58,
   "metadata": {},
   "outputs": [
    {
     "name": "stdout",
     "output_type": "stream",
     "text": [
      " * Serving Flask app \"__main__\" (lazy loading)\n",
      " * Environment: production\n",
      "\u001b[31m   WARNING: This is a development server. Do not use it in a production deployment.\u001b[0m\n",
      "\u001b[2m   Use a production WSGI server instead.\u001b[0m\n",
      " * Debug mode: off\n"
     ]
    },
    {
     "name": "stderr",
     "output_type": "stream",
     "text": [
      " * Running on http://127.0.0.1:5000/ (Press CTRL+C to quit)\n"
     ]
    }
   ],
   "source": [
    "from flask import Flask,render_template\n",
    "\n",
    "app = Flask(__name__)\n",
    "\n",
    "@app.route('/')\n",
    "def index():\n",
    "    return render_template('first_app.html')\n",
    "\n",
    "if __name__ == '__main__':\n",
    "    app.run()\n"
   ]
  },
  {
   "cell_type": "code",
   "execution_count": 91,
   "metadata": {},
   "outputs": [],
   "source": [
    "f.rename(columns={'ID_AZ5C': 'FIO', 'FIO': 'FAMILIJA','FAMILIJA':'IMJA','IMJA':'OTCHESTVO',\n",
    "                    'OTCHESTVO':'DATA_ROZHDENIJA','DATA_ROZHDENIJA':'DOKUMENT_SERIJA','DOKUMENT_SERIJA':'DOKUMENT_NOMER',\n",
    "                    'DOKUMENT_NOMER':'DOKUMENT_DATA','DOKUMENT_DATA':'DOKUMENT_MESTO_VYDACHI',\n",
    "                    'DOKUMENT_MESTO_VYDACHI':'1'}, inplace=True)"
   ]
  },
  {
   "cell_type": "code",
   "execution_count": 92,
   "metadata": {
    "scrolled": true
   },
   "outputs": [],
   "source": [
    "f.drop('1',axis=1,inplace=True)"
   ]
  },
  {
   "cell_type": "code",
   "execution_count": 51,
   "metadata": {},
   "outputs": [
    {
     "data": {
      "text/html": [
       "<div>\n",
       "<style scoped>\n",
       "    .dataframe tbody tr th:only-of-type {\n",
       "        vertical-align: middle;\n",
       "    }\n",
       "\n",
       "    .dataframe tbody tr th {\n",
       "        vertical-align: top;\n",
       "    }\n",
       "\n",
       "    .dataframe thead th {\n",
       "        text-align: right;\n",
       "    }\n",
       "</style>\n",
       "<table border=\"1\" class=\"dataframe\">\n",
       "  <thead>\n",
       "    <tr style=\"text-align: right;\">\n",
       "      <th></th>\n",
       "      <th>INN</th>\n",
       "    </tr>\n",
       "  </thead>\n",
       "  <tbody>\n",
       "    <tr>\n",
       "      <th>90</th>\n",
       "      <td>470379133654</td>\n",
       "    </tr>\n",
       "    <tr>\n",
       "      <th>91</th>\n",
       "      <td>470311211169</td>\n",
       "    </tr>\n",
       "    <tr>\n",
       "      <th>92</th>\n",
       "      <td>732504005874</td>\n",
       "    </tr>\n",
       "    <tr>\n",
       "      <th>93</th>\n",
       "      <td>723002995662</td>\n",
       "    </tr>\n",
       "    <tr>\n",
       "      <th>94</th>\n",
       "      <td>771319629159</td>\n",
       "    </tr>\n",
       "    <tr>\n",
       "      <th>...</th>\n",
       "      <td>...</td>\n",
       "    </tr>\n",
       "    <tr>\n",
       "      <th>1293318</th>\n",
       "      <td>022401266501</td>\n",
       "    </tr>\n",
       "    <tr>\n",
       "      <th>2082565</th>\n",
       "      <td>220808828347</td>\n",
       "    </tr>\n",
       "    <tr>\n",
       "      <th>1292671</th>\n",
       "      <td>693101074858</td>\n",
       "    </tr>\n",
       "    <tr>\n",
       "      <th>1057038</th>\n",
       "      <td>781019779706</td>\n",
       "    </tr>\n",
       "    <tr>\n",
       "      <th>1272917</th>\n",
       "      <td>540417931185</td>\n",
       "    </tr>\n",
       "  </tbody>\n",
       "</table>\n",
       "<p>2153702 rows × 1 columns</p>\n",
       "</div>"
      ],
      "text/plain": [
       "                  INN\n",
       "90       470379133654\n",
       "91       470311211169\n",
       "92       732504005874\n",
       "93       723002995662\n",
       "94       771319629159\n",
       "...               ...\n",
       "1293318  022401266501\n",
       "2082565  220808828347\n",
       "1292671  693101074858\n",
       "1057038  781019779706\n",
       "1272917  540417931185\n",
       "\n",
       "[2153702 rows x 1 columns]"
      ]
     },
     "execution_count": 51,
     "metadata": {},
     "output_type": "execute_result"
    }
   ],
   "source": [
    "# чтение текстового файла\n",
    "f = pd.read_table(\"inn_stat_01_09.txt\",sep=',',error_bad_lines=False,usecols=['INN'])\n",
    "f.iloc[100:,:]"
   ]
  },
  {
   "cell_type": "code",
   "execution_count": 54,
   "metadata": {},
   "outputs": [
    {
     "data": {
      "text/html": [
       "<div>\n",
       "<style scoped>\n",
       "    .dataframe tbody tr th:only-of-type {\n",
       "        vertical-align: middle;\n",
       "    }\n",
       "\n",
       "    .dataframe tbody tr th {\n",
       "        vertical-align: top;\n",
       "    }\n",
       "\n",
       "    .dataframe thead th {\n",
       "        text-align: right;\n",
       "    }\n",
       "</style>\n",
       "<table border=\"1\" class=\"dataframe\">\n",
       "  <thead>\n",
       "    <tr style=\"text-align: right;\">\n",
       "      <th></th>\n",
       "      <th>INN</th>\n",
       "    </tr>\n",
       "  </thead>\n",
       "  <tbody>\n",
       "    <tr>\n",
       "      <th>22</th>\n",
       "      <td>NaN</td>\n",
       "    </tr>\n",
       "    <tr>\n",
       "      <th>29</th>\n",
       "      <td>NaN</td>\n",
       "    </tr>\n",
       "    <tr>\n",
       "      <th>31</th>\n",
       "      <td>NaN</td>\n",
       "    </tr>\n",
       "    <tr>\n",
       "      <th>36</th>\n",
       "      <td>NaN</td>\n",
       "    </tr>\n",
       "    <tr>\n",
       "      <th>49</th>\n",
       "      <td>NaN</td>\n",
       "    </tr>\n",
       "    <tr>\n",
       "      <th>...</th>\n",
       "      <td>...</td>\n",
       "    </tr>\n",
       "    <tr>\n",
       "      <th>1061893</th>\n",
       "      <td>NaN</td>\n",
       "    </tr>\n",
       "    <tr>\n",
       "      <th>1005530</th>\n",
       "      <td>NaN</td>\n",
       "    </tr>\n",
       "    <tr>\n",
       "      <th>1001168</th>\n",
       "      <td>NaN</td>\n",
       "    </tr>\n",
       "    <tr>\n",
       "      <th>1061194</th>\n",
       "      <td>NaN</td>\n",
       "    </tr>\n",
       "    <tr>\n",
       "      <th>1272264</th>\n",
       "      <td>NaN</td>\n",
       "    </tr>\n",
       "  </tbody>\n",
       "</table>\n",
       "<p>822631 rows × 1 columns</p>\n",
       "</div>"
      ],
      "text/plain": [
       "         INN\n",
       "22       NaN\n",
       "29       NaN\n",
       "31       NaN\n",
       "36       NaN\n",
       "49       NaN\n",
       "...      ...\n",
       "1061893  NaN\n",
       "1005530  NaN\n",
       "1001168  NaN\n",
       "1061194  NaN\n",
       "1272264  NaN\n",
       "\n",
       "[822631 rows x 1 columns]"
      ]
     },
     "execution_count": 54,
     "metadata": {},
     "output_type": "execute_result"
    }
   ],
   "source": [
    "f[f['INN'].isna()]"
   ]
  },
  {
   "cell_type": "code",
   "execution_count": 45,
   "metadata": {
    "scrolled": true
   },
   "outputs": [
    {
     "data": {
      "text/plain": [
       "'Волохова Светлана Константиновна'"
      ]
     },
     "execution_count": 45,
     "metadata": {},
     "output_type": "execute_result"
    }
   ],
   "source": [
    "def replace(x):\n",
    "    if x == -float('inf'):\n",
    "        return 0\n",
    "    else:\n",
    "        return x\n",
    "    \n",
    "for i in qwer:\n",
    "    test[i] = test[i].map(replace)"
   ]
  },
  {
   "cell_type": "code",
   "execution_count": null,
   "metadata": {},
   "outputs": [],
   "source": [
    "def replace(x):\n",
    "    if f.iloc[i,1] == 0 :\n",
    "        return f.iloc[i,2]\n",
    "    else:\n",
    "        return f.iloc[i,1]"
   ]
  },
  {
   "cell_type": "code",
   "execution_count": 49,
   "metadata": {},
   "outputs": [
    {
     "ename": "SyntaxError",
     "evalue": "'return' outside function (<ipython-input-49-8985ecb6c55e>, line 3)",
     "output_type": "error",
     "traceback": [
      "\u001b[0;36m  File \u001b[0;32m\"<ipython-input-49-8985ecb6c55e>\"\u001b[0;36m, line \u001b[0;32m3\u001b[0m\n\u001b[0;31m    return f.iloc[i,2]\u001b[0m\n\u001b[0m    ^\u001b[0m\n\u001b[0;31mSyntaxError\u001b[0m\u001b[0;31m:\u001b[0m 'return' outside function\n"
     ]
    }
   ],
   "source": [
    "for i in range(1,2147258):\n",
    "    if f.iloc[i,1] == 0 :\n",
    "        return f.iloc[i,2]\n",
    "    else: \n",
    "        return f.iloc[i,1]"
   ]
  },
  {
   "cell_type": "code",
   "execution_count": 90,
   "metadata": {
    "scrolled": true
   },
   "outputs": [
    {
     "data": {
      "text/html": [
       "<div>\n",
       "<style scoped>\n",
       "    .dataframe tbody tr th:only-of-type {\n",
       "        vertical-align: middle;\n",
       "    }\n",
       "\n",
       "    .dataframe tbody tr th {\n",
       "        vertical-align: top;\n",
       "    }\n",
       "\n",
       "    .dataframe thead th {\n",
       "        text-align: right;\n",
       "    }\n",
       "</style>\n",
       "<table border=\"1\" class=\"dataframe\">\n",
       "  <thead>\n",
       "    <tr style=\"text-align: right;\">\n",
       "      <th></th>\n",
       "      <th>ID_AZ5C</th>\n",
       "      <th>FIO</th>\n",
       "      <th>FAMILIJA</th>\n",
       "      <th>IMJA</th>\n",
       "      <th>OTCHESTVO</th>\n",
       "      <th>DATA_ROZHDENIJA</th>\n",
       "      <th>DOKUMENT_SERIJA</th>\n",
       "      <th>DOKUMENT_NOMER</th>\n",
       "      <th>DOKUMENT_DATA</th>\n",
       "      <th>DOKUMENT_MESTO_VYDACHI</th>\n",
       "      <th>INN</th>\n",
       "      <th>STATUS</th>\n",
       "    </tr>\n",
       "  </thead>\n",
       "  <tbody>\n",
       "    <tr>\n",
       "      <th>22</th>\n",
       "      <td>Волохова Светлана Константиновна</td>\n",
       "      <td>Волохова</td>\n",
       "      <td>Светлана</td>\n",
       "      <td>Константиновна</td>\n",
       "      <td>13.12.1981</td>\n",
       "      <td>4504</td>\n",
       "      <td>592531</td>\n",
       "      <td>10.12.2002</td>\n",
       "      <td>ОВД № 1 УВД ЗЕЛЕНОГРАДСКОГО ОКРУГА Г. МОСКВЫ</td>\n",
       "      <td>10005</td>\n",
       "      <td>NaN</td>\n",
       "      <td>ok</td>\n",
       "    </tr>\n",
       "    <tr>\n",
       "      <th>23</th>\n",
       "      <td>Николаев Павел Николаевич</td>\n",
       "      <td>Николаев</td>\n",
       "      <td>Павел</td>\n",
       "      <td>Николаевич</td>\n",
       "      <td>26.05.1982</td>\n",
       "      <td>5704</td>\n",
       "      <td>463547</td>\n",
       "      <td>16.06.2004</td>\n",
       "      <td>БЕРЕЗНИКОВСКИМ УПРАВЛЕНИЕМ ВНУТРЕННИХ ДЕЛ ПЕРМ...</td>\n",
       "      <td>108837</td>\n",
       "      <td>591151500576</td>\n",
       "      <td>NaN</td>\n",
       "    </tr>\n",
       "    <tr>\n",
       "      <th>24</th>\n",
       "      <td>Протасова Анастасия Владимировна</td>\n",
       "      <td>Протасова</td>\n",
       "      <td>Анастасия</td>\n",
       "      <td>Владимировна</td>\n",
       "      <td>10.01.1985</td>\n",
       "      <td>4104</td>\n",
       "      <td>783991</td>\n",
       "      <td>03.02.2006</td>\n",
       "      <td>УПРАВЛЕНИЕМ ВНУТРЕННИХ ДЕЛ ВЫБОРГСКОГО РАЙОНА ...</td>\n",
       "      <td>189850</td>\n",
       "      <td>470415146130</td>\n",
       "      <td>ok</td>\n",
       "    </tr>\n",
       "    <tr>\n",
       "      <th>25</th>\n",
       "      <td>Путникова Ульяна Игоревна</td>\n",
       "      <td>Путникова</td>\n",
       "      <td>Ульяна</td>\n",
       "      <td>Игоревна</td>\n",
       "      <td>29.05.1984</td>\n",
       "      <td>2211</td>\n",
       "      <td>820925</td>\n",
       "      <td>08.11.2011</td>\n",
       "      <td>ОТДЕЛОМ УФМС РОССИИ ПО НИЖЕГОРОДСКОЙ ОБЛАСТИ В...</td>\n",
       "      <td>1000003</td>\n",
       "      <td>520901233060</td>\n",
       "      <td>ok</td>\n",
       "    </tr>\n",
       "    <tr>\n",
       "      <th>26</th>\n",
       "      <td>Роллер Анна Николаевна</td>\n",
       "      <td>Роллер</td>\n",
       "      <td>Анна</td>\n",
       "      <td>Николаевна</td>\n",
       "      <td>05.12.1975</td>\n",
       "      <td>0303</td>\n",
       "      <td>588971</td>\n",
       "      <td>25.10.2002</td>\n",
       "      <td>УВД ЦЕНТРАЛЬНОГО ОКРУГА Г.НОВОРОССИЙСКА КРАСНО...</td>\n",
       "      <td>1000004</td>\n",
       "      <td>231501731777</td>\n",
       "      <td>ok</td>\n",
       "    </tr>\n",
       "    <tr>\n",
       "      <th>...</th>\n",
       "      <td>...</td>\n",
       "      <td>...</td>\n",
       "      <td>...</td>\n",
       "      <td>...</td>\n",
       "      <td>...</td>\n",
       "      <td>...</td>\n",
       "      <td>...</td>\n",
       "      <td>...</td>\n",
       "      <td>...</td>\n",
       "      <td>...</td>\n",
       "      <td>...</td>\n",
       "      <td>...</td>\n",
       "    </tr>\n",
       "    <tr>\n",
       "      <th>1293318</th>\n",
       "      <td>0</td>\n",
       "      <td>Булыцын Денис Юрьевич</td>\n",
       "      <td>Булыцын</td>\n",
       "      <td>Денис</td>\n",
       "      <td>Юрьевич</td>\n",
       "      <td>18.12.1982</td>\n",
       "      <td>8003</td>\n",
       "      <td>926243</td>\n",
       "      <td>28.01.2003</td>\n",
       "      <td>ИГЛИНСКИМ РОВД РЕСПУБЛИКА БАШКОРТОСТАН</td>\n",
       "      <td>022401266501</td>\n",
       "      <td>ok</td>\n",
       "    </tr>\n",
       "    <tr>\n",
       "      <th>2082565</th>\n",
       "      <td>0</td>\n",
       "      <td>Шестакова Екатерина Витальевна</td>\n",
       "      <td>Шестакова</td>\n",
       "      <td>Екатерина</td>\n",
       "      <td>Витальевна</td>\n",
       "      <td>29.03.1998</td>\n",
       "      <td>5018</td>\n",
       "      <td>813614</td>\n",
       "      <td>18.05.2018</td>\n",
       "      <td>ГУ МВД РОССИИ ПО НОВОСИБИРСКОЙ ОБЛАСТИ</td>\n",
       "      <td>220808828347</td>\n",
       "      <td>ok</td>\n",
       "    </tr>\n",
       "    <tr>\n",
       "      <th>1292671</th>\n",
       "      <td>0</td>\n",
       "      <td>Парамонова Юлия Владимировна</td>\n",
       "      <td>Парамонова</td>\n",
       "      <td>Юлия</td>\n",
       "      <td>Владимировна</td>\n",
       "      <td>11.08.1978</td>\n",
       "      <td>2801</td>\n",
       "      <td>468300</td>\n",
       "      <td>18.01.2002</td>\n",
       "      <td>ЛИХОСЛАВЛЬСКИМ РОВД ТВЕРСКОЙ ОБЛАСТИ</td>\n",
       "      <td>693101074858</td>\n",
       "      <td>ok</td>\n",
       "    </tr>\n",
       "    <tr>\n",
       "      <th>1057038</th>\n",
       "      <td>0</td>\n",
       "      <td>Виноградов Вадим Сергеевич</td>\n",
       "      <td>Виноградов</td>\n",
       "      <td>Вадим</td>\n",
       "      <td>Сергеевич</td>\n",
       "      <td>03.08.1983</td>\n",
       "      <td>4004</td>\n",
       "      <td>482499</td>\n",
       "      <td>31.08.2003</td>\n",
       "      <td>12 ОТДЕЛОМ МИЛИЦИИ МОСКОВСКОГО РАЙОНА САНКТ-ПЕ...</td>\n",
       "      <td>781019779706</td>\n",
       "      <td>ok</td>\n",
       "    </tr>\n",
       "    <tr>\n",
       "      <th>1272917</th>\n",
       "      <td>0</td>\n",
       "      <td>Бусалова Галина Владимировна</td>\n",
       "      <td>Бусалова</td>\n",
       "      <td>Галина</td>\n",
       "      <td>Владимировна</td>\n",
       "      <td>10.09.1967</td>\n",
       "      <td>5013</td>\n",
       "      <td>32546</td>\n",
       "      <td>10.10.2012</td>\n",
       "      <td>ОТДЕЛОМ УФМС РОССИИ ПО НОВОСИБИРСКОЙ ОБЛАСТИ В...</td>\n",
       "      <td>540417931185</td>\n",
       "      <td>ok</td>\n",
       "    </tr>\n",
       "  </tbody>\n",
       "</table>\n",
       "<p>2153802 rows × 12 columns</p>\n",
       "</div>"
      ],
      "text/plain": [
       "                                  ID_AZ5C                             FIO  \\\n",
       "22       Волохова Светлана Константиновна                        Волохова   \n",
       "23              Николаев Павел Николаевич                        Николаев   \n",
       "24       Протасова Анастасия Владимировна                       Протасова   \n",
       "25              Путникова Ульяна Игоревна                       Путникова   \n",
       "26                 Роллер Анна Николаевна                          Роллер   \n",
       "...                                   ...                             ...   \n",
       "1293318                                 0           Булыцын Денис Юрьевич   \n",
       "2082565                                 0  Шестакова Екатерина Витальевна   \n",
       "1292671                                 0    Парамонова Юлия Владимировна   \n",
       "1057038                                 0      Виноградов Вадим Сергеевич   \n",
       "1272917                                 0    Бусалова Галина Владимировна   \n",
       "\n",
       "           FAMILIJA            IMJA     OTCHESTVO DATA_ROZHDENIJA  \\\n",
       "22         Светлана  Константиновна    13.12.1981            4504   \n",
       "23            Павел      Николаевич    26.05.1982            5704   \n",
       "24        Анастасия    Владимировна    10.01.1985            4104   \n",
       "25           Ульяна        Игоревна    29.05.1984            2211   \n",
       "26             Анна      Николаевна    05.12.1975            0303   \n",
       "...             ...             ...           ...             ...   \n",
       "1293318     Булыцын           Денис       Юрьевич      18.12.1982   \n",
       "2082565   Шестакова       Екатерина    Витальевна      29.03.1998   \n",
       "1292671  Парамонова            Юлия  Владимировна      11.08.1978   \n",
       "1057038  Виноградов           Вадим     Сергеевич      03.08.1983   \n",
       "1272917    Бусалова          Галина  Владимировна      10.09.1967   \n",
       "\n",
       "        DOKUMENT_SERIJA DOKUMENT_NOMER  \\\n",
       "22               592531     10.12.2002   \n",
       "23               463547     16.06.2004   \n",
       "24               783991     03.02.2006   \n",
       "25               820925     08.11.2011   \n",
       "26               588971     25.10.2002   \n",
       "...                 ...            ...   \n",
       "1293318            8003         926243   \n",
       "2082565            5018         813614   \n",
       "1292671            2801         468300   \n",
       "1057038            4004         482499   \n",
       "1272917            5013          32546   \n",
       "\n",
       "                                             DOKUMENT_DATA  \\\n",
       "22            ОВД № 1 УВД ЗЕЛЕНОГРАДСКОГО ОКРУГА Г. МОСКВЫ   \n",
       "23       БЕРЕЗНИКОВСКИМ УПРАВЛЕНИЕМ ВНУТРЕННИХ ДЕЛ ПЕРМ...   \n",
       "24       УПРАВЛЕНИЕМ ВНУТРЕННИХ ДЕЛ ВЫБОРГСКОГО РАЙОНА ...   \n",
       "25       ОТДЕЛОМ УФМС РОССИИ ПО НИЖЕГОРОДСКОЙ ОБЛАСТИ В...   \n",
       "26       УВД ЦЕНТРАЛЬНОГО ОКРУГА Г.НОВОРОССИЙСКА КРАСНО...   \n",
       "...                                                    ...   \n",
       "1293318                                         28.01.2003   \n",
       "2082565                                         18.05.2018   \n",
       "1292671                                         18.01.2002   \n",
       "1057038                                         31.08.2003   \n",
       "1272917                                         10.10.2012   \n",
       "\n",
       "                                    DOKUMENT_MESTO_VYDACHI           INN  \\\n",
       "22                                                   10005           NaN   \n",
       "23                                                  108837  591151500576   \n",
       "24                                                  189850  470415146130   \n",
       "25                                                 1000003  520901233060   \n",
       "26                                                 1000004  231501731777   \n",
       "...                                                    ...           ...   \n",
       "1293318             ИГЛИНСКИМ РОВД РЕСПУБЛИКА БАШКОРТОСТАН  022401266501   \n",
       "2082565             ГУ МВД РОССИИ ПО НОВОСИБИРСКОЙ ОБЛАСТИ  220808828347   \n",
       "1292671               ЛИХОСЛАВЛЬСКИМ РОВД ТВЕРСКОЙ ОБЛАСТИ  693101074858   \n",
       "1057038  12 ОТДЕЛОМ МИЛИЦИИ МОСКОВСКОГО РАЙОНА САНКТ-ПЕ...  781019779706   \n",
       "1272917  ОТДЕЛОМ УФМС РОССИИ ПО НОВОСИБИРСКОЙ ОБЛАСТИ В...  540417931185   \n",
       "\n",
       "        STATUS  \n",
       "22          ok  \n",
       "23         NaN  \n",
       "24          ok  \n",
       "25          ok  \n",
       "26          ok  \n",
       "...        ...  \n",
       "1293318     ok  \n",
       "2082565     ok  \n",
       "1292671     ok  \n",
       "1057038     ok  \n",
       "1272917     ok  \n",
       "\n",
       "[2153802 rows x 12 columns]"
      ]
     },
     "execution_count": 90,
     "metadata": {},
     "output_type": "execute_result"
    }
   ],
   "source": [
    "f = pd.read_table(\"inn_stat_01_09.txt\",sep=',',error_bad_lines=False,usecols=['INN','ID_AZ5C','FIO','FAMILIJA','IMJA','OTCHESTVO','DATA_ROZHDENIJA','DOKUMENT_SERIJA','DOKUMENT_NOMER','DOKUMENT_DATA','DOKUMENT_MESTO_VYDACHI','STATUS'])\n",
    "f\n"
   ]
  },
  {
   "cell_type": "code",
   "execution_count": 93,
   "metadata": {
    "scrolled": true
   },
   "outputs": [],
   "source": [
    "f.drop(['DATA_ROZHDENIJA','STATUS'],axis=1,inplace=True)"
   ]
  },
  {
   "cell_type": "code",
   "execution_count": 61,
   "metadata": {
    "scrolled": true
   },
   "outputs": [],
   "source": [
    "f.iloc[:700000,:].to_csv('1')"
   ]
  },
  {
   "cell_type": "code",
   "execution_count": 135,
   "metadata": {
    "scrolled": true
   },
   "outputs": [],
   "source": [
    "f1 = f[(f['INN'].notna()) & (f['INN']!=0)]"
   ]
  },
  {
   "cell_type": "code",
   "execution_count": 136,
   "metadata": {
    "scrolled": true
   },
   "outputs": [
    {
     "data": {
      "text/plain": [
       "(700000, 9)"
      ]
     },
     "execution_count": 136,
     "metadata": {},
     "output_type": "execute_result"
    }
   ],
   "source": [
    "f1 = f1.iloc[:700000,:]\n",
    "f1.shape"
   ]
  },
  {
   "cell_type": "code",
   "execution_count": 138,
   "metadata": {},
   "outputs": [],
   "source": [
    "for i in f1.columns:\n",
    "    f1[i] = f1[i].fillna('0')\n",
    "    f1[i] = f1[i].astype('str')"
   ]
  },
  {
   "cell_type": "code",
   "execution_count": 117,
   "metadata": {
    "scrolled": true
   },
   "outputs": [],
   "source": [
    "f1.to_csv('1')"
   ]
  },
  {
   "cell_type": "code",
   "execution_count": 111,
   "metadata": {
    "scrolled": true
   },
   "outputs": [],
   "source": [
    "f1 = f1[['FIO','DOKUMENT_SERIJA','DOKUMENT_NOMER','INN']]"
   ]
  },
  {
   "cell_type": "code",
   "execution_count": 139,
   "metadata": {
    "scrolled": true
   },
   "outputs": [
    {
     "data": {
      "text/plain": [
       "12    626206\n",
       "14     67813\n",
       "13      3859\n",
       "2       1979\n",
       "6         98\n",
       "5         16\n",
       "32         4\n",
       "29         4\n",
       "17         4\n",
       "4          4\n",
       "67         2\n",
       "8          2\n",
       "7          2\n",
       "33         1\n",
       "26         1\n",
       "53         1\n",
       "69         1\n",
       "11         1\n",
       "3          1\n",
       "78         1\n",
       "Name: INN, dtype: int64"
      ]
     },
     "execution_count": 139,
     "metadata": {},
     "output_type": "execute_result"
    }
   ],
   "source": [
    "f1['INN'].map(lambda x:len(x)).value_counts()"
   ]
  },
  {
   "cell_type": "code",
   "execution_count": 144,
   "metadata": {},
   "outputs": [],
   "source": [
    "f2 = f2[(f2['INN'].notna()) & (f2['INN']!=0)]"
   ]
  },
  {
   "cell_type": "code",
   "execution_count": 2,
   "metadata": {
    "scrolled": true
   },
   "outputs": [
    {
     "data": {
      "text/html": [
       "<div>\n",
       "<style scoped>\n",
       "    .dataframe tbody tr th:only-of-type {\n",
       "        vertical-align: middle;\n",
       "    }\n",
       "\n",
       "    .dataframe tbody tr th {\n",
       "        vertical-align: top;\n",
       "    }\n",
       "\n",
       "    .dataframe thead th {\n",
       "        text-align: right;\n",
       "    }\n",
       "</style>\n",
       "<table border=\"1\" class=\"dataframe\">\n",
       "  <thead>\n",
       "    <tr style=\"text-align: right;\">\n",
       "      <th></th>\n",
       "      <th>DDATE</th>\n",
       "      <th>INN</th>\n",
       "      <th>PROG_KATE</th>\n",
       "      <th>PROG_SERG</th>\n",
       "      <th>BLOCK_FLAG</th>\n",
       "      <th>LIQ_FLAG</th>\n",
       "      <th>OTTOK_FULL</th>\n",
       "    </tr>\n",
       "  </thead>\n",
       "  <tbody>\n",
       "    <tr>\n",
       "      <th>0</th>\n",
       "      <td>2020-06-30</td>\n",
       "      <td>4611014928</td>\n",
       "      <td>0</td>\n",
       "      <td>0</td>\n",
       "      <td>0</td>\n",
       "      <td>0</td>\n",
       "      <td>0</td>\n",
       "    </tr>\n",
       "    <tr>\n",
       "      <th>1</th>\n",
       "      <td>2020-06-30</td>\n",
       "      <td>5056007864</td>\n",
       "      <td>0</td>\n",
       "      <td>0</td>\n",
       "      <td>0</td>\n",
       "      <td>0</td>\n",
       "      <td>0</td>\n",
       "    </tr>\n",
       "    <tr>\n",
       "      <th>2</th>\n",
       "      <td>2020-06-30</td>\n",
       "      <td>4707024701</td>\n",
       "      <td>0</td>\n",
       "      <td>0</td>\n",
       "      <td>0</td>\n",
       "      <td>0</td>\n",
       "      <td>0</td>\n",
       "    </tr>\n",
       "    <tr>\n",
       "      <th>3</th>\n",
       "      <td>2020-06-30</td>\n",
       "      <td>672700620879</td>\n",
       "      <td>0</td>\n",
       "      <td>0</td>\n",
       "      <td>0</td>\n",
       "      <td>1</td>\n",
       "      <td>0</td>\n",
       "    </tr>\n",
       "    <tr>\n",
       "      <th>4</th>\n",
       "      <td>2020-06-30</td>\n",
       "      <td>4025049439</td>\n",
       "      <td>0</td>\n",
       "      <td>0</td>\n",
       "      <td>0</td>\n",
       "      <td>0</td>\n",
       "      <td>0</td>\n",
       "    </tr>\n",
       "    <tr>\n",
       "      <th>...</th>\n",
       "      <td>...</td>\n",
       "      <td>...</td>\n",
       "      <td>...</td>\n",
       "      <td>...</td>\n",
       "      <td>...</td>\n",
       "      <td>...</td>\n",
       "      <td>...</td>\n",
       "    </tr>\n",
       "    <tr>\n",
       "      <th>299120</th>\n",
       "      <td>2020-06-30</td>\n",
       "      <td>166022245415</td>\n",
       "      <td>0</td>\n",
       "      <td>0</td>\n",
       "      <td>1</td>\n",
       "      <td>0</td>\n",
       "      <td>0</td>\n",
       "    </tr>\n",
       "    <tr>\n",
       "      <th>299121</th>\n",
       "      <td>2020-06-30</td>\n",
       "      <td>166022245415</td>\n",
       "      <td>0</td>\n",
       "      <td>0</td>\n",
       "      <td>1</td>\n",
       "      <td>0</td>\n",
       "      <td>0</td>\n",
       "    </tr>\n",
       "    <tr>\n",
       "      <th>299122</th>\n",
       "      <td>2020-06-30</td>\n",
       "      <td>183313029800</td>\n",
       "      <td>0</td>\n",
       "      <td>1</td>\n",
       "      <td>0</td>\n",
       "      <td>0</td>\n",
       "      <td>1</td>\n",
       "    </tr>\n",
       "    <tr>\n",
       "      <th>299123</th>\n",
       "      <td>2020-06-30</td>\n",
       "      <td>780519035460</td>\n",
       "      <td>0</td>\n",
       "      <td>0</td>\n",
       "      <td>0</td>\n",
       "      <td>1</td>\n",
       "      <td>0</td>\n",
       "    </tr>\n",
       "    <tr>\n",
       "      <th>299124</th>\n",
       "      <td>2020-06-30</td>\n",
       "      <td>645506069470</td>\n",
       "      <td>0</td>\n",
       "      <td>0</td>\n",
       "      <td>1</td>\n",
       "      <td>0</td>\n",
       "      <td>0</td>\n",
       "    </tr>\n",
       "  </tbody>\n",
       "</table>\n",
       "<p>299125 rows × 7 columns</p>\n",
       "</div>"
      ],
      "text/plain": [
       "            DDATE           INN  PROG_KATE  PROG_SERG  BLOCK_FLAG  LIQ_FLAG  \\\n",
       "0      2020-06-30    4611014928          0          0           0         0   \n",
       "1      2020-06-30    5056007864          0          0           0         0   \n",
       "2      2020-06-30    4707024701          0          0           0         0   \n",
       "3      2020-06-30  672700620879          0          0           0         1   \n",
       "4      2020-06-30    4025049439          0          0           0         0   \n",
       "...           ...           ...        ...        ...         ...       ...   \n",
       "299120 2020-06-30  166022245415          0          0           1         0   \n",
       "299121 2020-06-30  166022245415          0          0           1         0   \n",
       "299122 2020-06-30  183313029800          0          1           0         0   \n",
       "299123 2020-06-30  780519035460          0          0           0         1   \n",
       "299124 2020-06-30  645506069470          0          0           1         0   \n",
       "\n",
       "        OTTOK_FULL  \n",
       "0                0  \n",
       "1                0  \n",
       "2                0  \n",
       "3                0  \n",
       "4                0  \n",
       "...            ...  \n",
       "299120           0  \n",
       "299121           0  \n",
       "299122           1  \n",
       "299123           0  \n",
       "299124           0  \n",
       "\n",
       "[299125 rows x 7 columns]"
      ]
     },
     "execution_count": 2,
     "metadata": {},
     "output_type": "execute_result"
    }
   ],
   "source": [
    "# чтение из эксель\n",
    "w = {'INN': np.object} \n",
    "f2 = pd.read_excel(open('sravn.xlsx', 'rb'),dtype = w)\n",
    "f2"
   ]
  },
  {
   "cell_type": "code",
   "execution_count": 148,
   "metadata": {},
   "outputs": [],
   "source": [
    "for i in f2.columns:\n",
    "    f2[i] = f2[i].fillna('0')\n",
    "    f2[i] = f2[i].astype('str')"
   ]
  },
  {
   "cell_type": "code",
   "execution_count": 14,
   "metadata": {},
   "outputs": [],
   "source": [
    "f2['INN'] = f2['INN'].astype('str')"
   ]
  },
  {
   "cell_type": "code",
   "execution_count": 3,
   "metadata": {},
   "outputs": [],
   "source": [
    "log = 'MIKHAYLOVA_EKVL[PxU_DCBUL_UMA_MOD]'\n",
    "pas = 'Kate0806..'\n",
    "or_tns = 'DATALAB'\n",
    "\n",
    "tns = or_tns\n",
    "conn = cx_Oracle.connect(log, pas, tns)\n",
    "c = conn.cursor()\n",
    "\n",
    "c.executemany('insert into ev_sravn_ottok (DDATE,INN,KATE,SERG,BLOCK_FLAG,LIQ_FLAG,OTTOK_FULL) values (:1,:2,:3,:4,:5,:6,:7)', list(f2.values))     \n",
    "conn.commit()"
   ]
  },
  {
   "cell_type": "code",
   "execution_count": 5,
   "metadata": {
    "scrolled": true
   },
   "outputs": [
    {
     "ename": "DatabaseError",
     "evalue": "Execution failed on sql 'select * from glowbyte_sbx.kea_1620_obj2_4': ORA-00942: table or view does not exist",
     "output_type": "error",
     "traceback": [
      "\u001b[0;31m---------------------------------------------------------------------------\u001b[0m",
      "\u001b[0;31mDatabaseError\u001b[0m                             Traceback (most recent call last)",
      "\u001b[0;32m~/anaconda3/lib/python3.7/site-packages/pandas/io/sql.py\u001b[0m in \u001b[0;36mexecute\u001b[0;34m(self, *args, **kwargs)\u001b[0m\n\u001b[1;32m   2055\u001b[0m         \u001b[0;32mtry\u001b[0m\u001b[0;34m:\u001b[0m\u001b[0;34m\u001b[0m\u001b[0;34m\u001b[0m\u001b[0m\n\u001b[0;32m-> 2056\u001b[0;31m             \u001b[0mcur\u001b[0m\u001b[0;34m.\u001b[0m\u001b[0mexecute\u001b[0m\u001b[0;34m(\u001b[0m\u001b[0;34m*\u001b[0m\u001b[0margs\u001b[0m\u001b[0;34m,\u001b[0m \u001b[0;34m**\u001b[0m\u001b[0mkwargs\u001b[0m\u001b[0;34m)\u001b[0m\u001b[0;34m\u001b[0m\u001b[0;34m\u001b[0m\u001b[0m\n\u001b[0m\u001b[1;32m   2057\u001b[0m             \u001b[0;32mreturn\u001b[0m \u001b[0mcur\u001b[0m\u001b[0;34m\u001b[0m\u001b[0;34m\u001b[0m\u001b[0m\n",
      "\u001b[0;31mDatabaseError\u001b[0m: ORA-00942: table or view does not exist",
      "\nThe above exception was the direct cause of the following exception:\n",
      "\u001b[0;31mDatabaseError\u001b[0m                             Traceback (most recent call last)",
      "\u001b[0;32m<ipython-input-5-09455e91a13b>\u001b[0m in \u001b[0;36m<module>\u001b[0;34m\u001b[0m\n\u001b[1;32m     15\u001b[0m \u001b[0;34m\u001b[0m\u001b[0m\n\u001b[1;32m     16\u001b[0m \u001b[0msqlStr6\u001b[0m \u001b[0;34m=\u001b[0m \u001b[0;34m(\u001b[0m\u001b[0;34m'''select * from glowbyte_sbx.kea_1620_obj2_4'''\u001b[0m\u001b[0;34m)\u001b[0m\u001b[0;34m\u001b[0m\u001b[0;34m\u001b[0m\u001b[0m\n\u001b[0;32m---> 17\u001b[0;31m \u001b[0mtest\u001b[0m \u001b[0;34m=\u001b[0m \u001b[0mpd\u001b[0m\u001b[0;34m.\u001b[0m\u001b[0mread_sql\u001b[0m\u001b[0;34m(\u001b[0m\u001b[0msqlStr6\u001b[0m\u001b[0;34m,\u001b[0m \u001b[0mconn\u001b[0m\u001b[0;34m)\u001b[0m\u001b[0;34m\u001b[0m\u001b[0;34m\u001b[0m\u001b[0m\n\u001b[0m",
      "\u001b[0;32m~/anaconda3/lib/python3.7/site-packages/pandas/io/sql.py\u001b[0m in \u001b[0;36mread_sql\u001b[0;34m(sql, con, index_col, coerce_float, params, parse_dates, columns, chunksize)\u001b[0m\n\u001b[1;32m    606\u001b[0m             \u001b[0mcoerce_float\u001b[0m\u001b[0;34m=\u001b[0m\u001b[0mcoerce_float\u001b[0m\u001b[0;34m,\u001b[0m\u001b[0;34m\u001b[0m\u001b[0;34m\u001b[0m\u001b[0m\n\u001b[1;32m    607\u001b[0m             \u001b[0mparse_dates\u001b[0m\u001b[0;34m=\u001b[0m\u001b[0mparse_dates\u001b[0m\u001b[0;34m,\u001b[0m\u001b[0;34m\u001b[0m\u001b[0;34m\u001b[0m\u001b[0m\n\u001b[0;32m--> 608\u001b[0;31m             \u001b[0mchunksize\u001b[0m\u001b[0;34m=\u001b[0m\u001b[0mchunksize\u001b[0m\u001b[0;34m,\u001b[0m\u001b[0;34m\u001b[0m\u001b[0;34m\u001b[0m\u001b[0m\n\u001b[0m\u001b[1;32m    609\u001b[0m         )\n\u001b[1;32m    610\u001b[0m \u001b[0;34m\u001b[0m\u001b[0m\n",
      "\u001b[0;32m~/anaconda3/lib/python3.7/site-packages/pandas/io/sql.py\u001b[0m in \u001b[0;36mread_query\u001b[0;34m(self, sql, index_col, coerce_float, params, parse_dates, chunksize, dtype)\u001b[0m\n\u001b[1;32m   2114\u001b[0m \u001b[0;34m\u001b[0m\u001b[0m\n\u001b[1;32m   2115\u001b[0m         \u001b[0margs\u001b[0m \u001b[0;34m=\u001b[0m \u001b[0m_convert_params\u001b[0m\u001b[0;34m(\u001b[0m\u001b[0msql\u001b[0m\u001b[0;34m,\u001b[0m \u001b[0mparams\u001b[0m\u001b[0;34m)\u001b[0m\u001b[0;34m\u001b[0m\u001b[0;34m\u001b[0m\u001b[0m\n\u001b[0;32m-> 2116\u001b[0;31m         \u001b[0mcursor\u001b[0m \u001b[0;34m=\u001b[0m \u001b[0mself\u001b[0m\u001b[0;34m.\u001b[0m\u001b[0mexecute\u001b[0m\u001b[0;34m(\u001b[0m\u001b[0;34m*\u001b[0m\u001b[0margs\u001b[0m\u001b[0;34m)\u001b[0m\u001b[0;34m\u001b[0m\u001b[0;34m\u001b[0m\u001b[0m\n\u001b[0m\u001b[1;32m   2117\u001b[0m         \u001b[0mcolumns\u001b[0m \u001b[0;34m=\u001b[0m \u001b[0;34m[\u001b[0m\u001b[0mcol_desc\u001b[0m\u001b[0;34m[\u001b[0m\u001b[0;36m0\u001b[0m\u001b[0;34m]\u001b[0m \u001b[0;32mfor\u001b[0m \u001b[0mcol_desc\u001b[0m \u001b[0;32min\u001b[0m \u001b[0mcursor\u001b[0m\u001b[0;34m.\u001b[0m\u001b[0mdescription\u001b[0m\u001b[0;34m]\u001b[0m\u001b[0;34m\u001b[0m\u001b[0;34m\u001b[0m\u001b[0m\n\u001b[1;32m   2118\u001b[0m \u001b[0;34m\u001b[0m\u001b[0m\n",
      "\u001b[0;32m~/anaconda3/lib/python3.7/site-packages/pandas/io/sql.py\u001b[0m in \u001b[0;36mexecute\u001b[0;34m(self, *args, **kwargs)\u001b[0m\n\u001b[1;32m   2066\u001b[0m \u001b[0;34m\u001b[0m\u001b[0m\n\u001b[1;32m   2067\u001b[0m             \u001b[0mex\u001b[0m \u001b[0;34m=\u001b[0m \u001b[0mDatabaseError\u001b[0m\u001b[0;34m(\u001b[0m\u001b[0;34mf\"Execution failed on sql '{args[0]}': {exc}\"\u001b[0m\u001b[0;34m)\u001b[0m\u001b[0;34m\u001b[0m\u001b[0;34m\u001b[0m\u001b[0m\n\u001b[0;32m-> 2068\u001b[0;31m             \u001b[0;32mraise\u001b[0m \u001b[0mex\u001b[0m \u001b[0;32mfrom\u001b[0m \u001b[0mexc\u001b[0m\u001b[0;34m\u001b[0m\u001b[0;34m\u001b[0m\u001b[0m\n\u001b[0m\u001b[1;32m   2069\u001b[0m \u001b[0;34m\u001b[0m\u001b[0m\n\u001b[1;32m   2070\u001b[0m     \u001b[0;34m@\u001b[0m\u001b[0mstaticmethod\u001b[0m\u001b[0;34m\u001b[0m\u001b[0;34m\u001b[0m\u001b[0m\n",
      "\u001b[0;31mDatabaseError\u001b[0m: Execution failed on sql 'select * from glowbyte_sbx.kea_1620_obj2_4': ORA-00942: table or view does not exist"
     ]
    }
   ],
   "source": [
    "#  связь с SQL\n",
    "\n",
    "import os\n",
    "import cx_Oracle\n",
    "import pandas.io.sql as psql\n",
    "import pandas as pd \n",
    "\n",
    "log = 'MIKHAYLOVA_EKVL[PxU_DCBUL_UMA_MOD]'\n",
    "pas = 'Kate0806/'\n",
    "or_tns = 'DATALAB'\n",
    "\n",
    "tns = or_tns\n",
    "conn = cx_Oracle.connect(log, pas, tns)\n",
    "c = conn.cursor()\n",
    "\n",
    "sqlStr6 = ('''select * from glowbyte_sbx.kea_1620_obj2_4''')\n",
    "test = pd.read_sql(sqlStr6, conn) "
   ]
  },
  {
   "cell_type": "code",
   "execution_count": 2,
   "metadata": {},
   "outputs": [],
   "source": [
    "import eli5\n",
    "from eli5.sklearn import PermutationImportance"
   ]
  },
  {
   "cell_type": "code",
   "execution_count": null,
   "metadata": {},
   "outputs": [],
   "source": [
    "%%time"
   ]
  },
  {
   "cell_type": "code",
   "execution_count": null,
   "metadata": {},
   "outputs": [],
   "source": [
    "# проверка (столбцы, где уникальные значения > 1)\n",
    "qwe = pd.DataFrame({'a':test.columns,'b':test.nunique()})\n",
    "qwe[qwe['b']==1]"
   ]
  },
  {
   "cell_type": "code",
   "execution_count": null,
   "metadata": {},
   "outputs": [],
   "source": [
    "# LOC \n",
    "test.loc[(test['SX']==1) & (test['AGE']<25) & (test['AGE']>0), 'COEF'] = 1\n",
    "\n",
    "# REPLACE\n",
    "dataset['Title'] = dataset['Title'].replace(['Lady', 'Countess','Capt', 'Col',\\\n",
    "                            'Don', 'Dr', 'Major', 'Rev', 'Sir', 'Jonkheer', 'Dona'], 'Rare')\n",
    "\n",
    "# MAP\n",
    "title_mapping = {\"Mr\": 1, \"Miss\": 2, \"Mrs\": 3, \"Master\": 4, \"Rare\": 5}\n",
    "dataset['Title'] = dataset['Title'].map(title_mapping)\n",
    "\n",
    "# лямбда-функция\n",
    "dataset[\"Fare\"] = dataset[\"Fare\"].map(lambda i: np.log(i) if i > 0 else 0)"
   ]
  },
  {
   "cell_type": "code",
   "execution_count": null,
   "metadata": {},
   "outputs": [],
   "source": [
    "# текстовые признаки\n",
    "\n",
    "text_features = [col for col in test.columns if test[col].dtype == 'object' and col!='DDATE']"
   ]
  },
  {
   "cell_type": "code",
   "execution_count": null,
   "metadata": {},
   "outputs": [],
   "source": [
    "import pickle\n",
    "# загрузка словариков\n",
    "\n",
    "input = open('block_region.pickle', 'rb')\n",
    "dict1 = pickle.load(input)\n",
    "input.close()\n",
    "\n",
    "\n",
    "# создание словариков\n",
    "\n",
    "e = test[['CITY','CITY2']]\n",
    "dict_city = e.drop_duplicates()\n",
    "\n",
    "with open('dict_industry_w.pickle', 'wb') as f:\n",
    "    pickle.dump(e,f)"
   ]
  },
  {
   "cell_type": "code",
   "execution_count": null,
   "metadata": {},
   "outputs": [],
   "source": [
    "# переименовать столбцы\n",
    "\n",
    "test.rename(columns={'ACT_ADDR_REGION_x': 'ACT_ADDR_REGION', 'ACT_ADDR_CITY_x': 'ACT_ADDR_CITY'}, inplace=True)"
   ]
  },
  {
   "cell_type": "code",
   "execution_count": null,
   "metadata": {},
   "outputs": [],
   "source": [
    "# функция для замены одного значения на другое в столбце\n",
    "\n",
    "def replace(x):\n",
    "    if x == -float('inf'):\n",
    "        return 0\n",
    "    else:\n",
    "        return x\n",
    "    \n",
    "for i in qwer:\n",
    "    test[i] = test[i].map(replace)"
   ]
  },
  {
   "cell_type": "code",
   "execution_count": null,
   "metadata": {},
   "outputs": [],
   "source": [
    "# отложенная выборка\n",
    "\n",
    "x_train1, x_test1, y_train1, y_test1 = train_test_split(x_test, y_test,test_size=0.3,stratify=y_test)\n",
    "y_test1.value_counts(),y_test1.value_counts()"
   ]
  },
  {
   "cell_type": "code",
   "execution_count": 1,
   "metadata": {},
   "outputs": [
    {
     "ename": "NameError",
     "evalue": "name 'test' is not defined",
     "output_type": "error",
     "traceback": [
      "\u001b[0;31m------------------------------------------------------------------------\u001b[0m",
      "\u001b[0;31mNameError\u001b[0m                              Traceback (most recent call last)",
      "\u001b[0;32m<ipython-input-1-c06d3b70ad5e>\u001b[0m in \u001b[0;36m<module>\u001b[0;34m\u001b[0m\n\u001b[0;32m----> 1\u001b[0;31m \u001b[0mtest\u001b[0m\u001b[0;34m.\u001b[0m\u001b[0mcorr\u001b[0m\u001b[0;34m(\u001b[0m\u001b[0;34m)\u001b[0m\u001b[0;34m\u001b[0m\u001b[0;34m\u001b[0m\u001b[0m\n\u001b[0m",
      "\u001b[0;31mNameError\u001b[0m: name 'test' is not defined"
     ]
    }
   ],
   "source": [
    "test.corr()"
   ]
  },
  {
   "cell_type": "code",
   "execution_count": null,
   "metadata": {},
   "outputs": [],
   "source": [
    "# получить индесы по названиям столбцов\n",
    "\n",
    "llist = [x_test.columns.get_loc('YOUNG'),\n",
    "         x_test.columns.get_loc('FLAG_PO_INN')]\n"
   ]
  },
  {
   "cell_type": "code",
   "execution_count": null,
   "metadata": {},
   "outputs": [],
   "source": [
    "# вывести колонки по названию\n",
    "test.columns[test.columns.map(lambda i: i.find('FINANCE'))>=0]"
   ]
  },
  {
   "cell_type": "code",
   "execution_count": null,
   "metadata": {},
   "outputs": [],
   "source": [
    "# LightGBM \n",
    "\n",
    "import lightgbm as lgb\n",
    "\n",
    "estimator = lgb.LGBMClassifier(boosting_type='gbdt',\n",
    "               categorical_feature = llist,\n",
    "               class_weight=None, colsample_bytree=1.0, importance_type='split',\n",
    "               is_unbalance=False, learning_rate=0.1, max_depth=-1,\n",
    "               min_child_samples=20, min_child_weight=0.001,\n",
    "               min_data_in_leaf=50, min_split_gain=0.0, n_estimators=100,\n",
    "               n_jobs=-1, num_iterations=1000, num_leaves=2000,\n",
    "               objective='binary', random_state=0, reg_alpha=0.0,\n",
    "               reg_lambda=0.0, scale_pos_weight=2, silent=True, subsample=1.0,\n",
    "               subsample_for_bin=200000, subsample_freq=0)"
   ]
  },
  {
   "cell_type": "code",
   "execution_count": null,
   "metadata": {},
   "outputs": [],
   "source": [
    "# прогноз с вероятностным порогом\n",
    "\n",
    "etc_pred = estimator.predict_proba(x_test1)\n",
    "etc_pred11 = etc_pred[:,1]\n",
    "\n",
    "sub2['BLOCK'] = np.where(pd.DataFrame(etc_pred11)>=0.5,1,0)\n",
    "\n",
    "\n",
    "f1 = f1_score(y_test1, sub2['BLOCK'])\n",
    "precision = precision_score(y_test1,sub2['BLOCK'])\n",
    "recall = recall_score(y_test1, sub2['BLOCK'])\n",
    "accuracy = accuracy_score(y_test1,sub2['BLOCK'])\n",
    "roc_auc = roc_auc_score(y_test1,sub2['BLOCK'])\n",
    "\n",
    "print('F1: %.3f' %  f1)\n",
    "print('Precision: %.3f' %  precision)\n",
    "print('Recall: %.3f' %  recall)\n",
    "print('Accuracy: %.3f' %  accuracy)\n",
    "print('Roc_auc: %.3f' %  roc_auc)"
   ]
  },
  {
   "cell_type": "code",
   "execution_count": null,
   "metadata": {},
   "outputs": [],
   "source": [
    "# важность признака\n",
    "\n",
    "pd.set_option('display.max_rows', 500) \n",
    "\n",
    "importances = pd.DataFrame({'feature':x_test1.columns,'importance':np.round(estimator.feature_importances_,0)})\n",
    "importances = importances.sort_values('importance',ascending=False)\n",
    "\n",
    "\n",
    "list(importances[importances['importance']>0]['feature'])\n",
    "importances#[importances['feature']=='FL3']"
   ]
  },
  {
   "cell_type": "code",
   "execution_count": null,
   "metadata": {},
   "outputs": [],
   "source": [
    "# подбор параметров\n",
    "\n",
    "d_test = lgb.Dataset(x_test1, label=y_test1)\n",
    "d_val = lgb.Dataset(x_test1, label=y_test1)\n",
    "\n",
    "parms = {'task': 'test',\n",
    "    'boosting_type': 'gbdt',\n",
    "    'objective': 'binary',\n",
    "    'metric': {'auc'},\n",
    "    'learning_rate': 0.1, \n",
    "    'num_leaves': 1000,  \n",
    "    'scale_pos_weight' : 1,\n",
    "    #'max_depth' : 35,\n",
    "     #'max_depth' : 25,\n",
    "       'min_data_in_leaf' : 20,\n",
    "     'categorical_feature' : llist,\n",
    "       # 'reg_lambda' : 2,\n",
    "    }\n",
    "\n",
    "rnds = 1500\n",
    "mod = lgb.test(parms, test_set=d_test, num_boost_round=rnds,\n",
    "               valid_sets=d_val, valid_names=['dval'], verbose_eval=100,early_stopping_rounds=200)\n",
    "\n",
    "############################\n",
    "\n",
    "pred_test_y = mod.predict(x_test1, num_iteration = mod.best_iteration)\n",
    "\n",
    "sub = pd.DataFrame({\"END\": pred_test_y})\n",
    "sub['w'] = np.where((sub['END']>=0.5),1,0)\n",
    "\n",
    "\n",
    "f1 = f1_score(y_test1, sub['w'])\n",
    "precision = precision_score(y_test1, sub['w'])\n",
    "recall = recall_score(y_test1, sub['w'])\n",
    "accuracy = accuracy_score(y_test1, sub['w'])\n",
    "roc_auc = roc_auc_score(y_test1, sub['w'])\n",
    "\n",
    "print('F1: %.3f' %  f1)\n",
    "print('Precision: %.3f' %  precision)\n",
    "print('Recall: %.3f' %  recall)\n",
    "print('Accuracy: %.3f' %  accuracy)\n",
    "print('Roc_auc: %.3f' %  roc_auc)"
   ]
  },
  {
   "cell_type": "code",
   "execution_count": 16,
   "metadata": {},
   "outputs": [],
   "source": [
    "from boruta import BorutaPy"
   ]
  },
  {
   "cell_type": "code",
   "execution_count": null,
   "metadata": {},
   "outputs": [],
   "source": [
    "# группировка и агрегатная функция\n",
    "\n",
    "train_df[['Pclass', 'Survived']].groupby(['Pclass'], as_index=False).mean().sort_values(by='Survived', ascending=False)"
   ]
  },
  {
   "cell_type": "code",
   "execution_count": null,
   "metadata": {},
   "outputs": [],
   "source": [
    "# персентиль \n",
    "\n",
    "np.percentile(df[col], 25)"
   ]
  },
  {
   "cell_type": "code",
   "execution_count": null,
   "metadata": {},
   "outputs": [],
   "source": [
    "#сравнение медиан\n",
    "t = pd.DataFrame({'a':x_train.columns,'b': np.abs((x_train.median()-x_test.median())/x_test.median())*100,\n",
    "                 'train':x_train.median(),'test':x_test.median()})\n",
    "t\n",
    "\n",
    "pd.set_option('display.max_rows', 500) \n",
    "t.sort_values(by='b',ascending=False)"
   ]
  },
  {
   "cell_type": "code",
   "execution_count": null,
   "metadata": {},
   "outputs": [],
   "source": [
    "# кол-во пустых значений\n",
    "train.isnull().sum()\n",
    "\n",
    "# заполнение пустых значений медианами\n",
    "dataset[\"Fare\"] = dataset[\"Fare\"].fillna(dataset[\"Fare\"].median())"
   ]
  },
  {
   "cell_type": "code",
   "execution_count": null,
   "metadata": {},
   "outputs": [],
   "source": [
    "# DUMMIE-переменные\n",
    "dataset = pd.get_dummies(dataset, columns = [\"Embarked\"], prefix=\"Em\")"
   ]
  },
  {
   "cell_type": "code",
   "execution_count": null,
   "metadata": {},
   "outputs": [],
   "source": [
    "# запись в эксель\n",
    "from pandas import ExcelWriter\n",
    "writer = ExcelWriter('de_coord_ready.xlsx') # в файле уже проставлены координаты у всех клиентов типа А\n",
    "test.to_excel(writer, index=False)\n",
    "writer.save()"
   ]
  },
  {
   "cell_type": "code",
   "execution_count": null,
   "metadata": {},
   "outputs": [],
   "source": [
    "# чтение из эксель\n",
    "t = pd.read_excel(open('FTS_18.xlsx', 'rb'),dtype = w)\n",
    "w = {'INN': np.object, 'SUM_USD': np.float} \n",
    "t"
   ]
  },
  {
   "cell_type": "code",
   "execution_count": null,
   "metadata": {},
   "outputs": [],
   "source": [
    "x_test1 = pd.concat([x_test.reset_index(drop=True),pd.DataFrame(etc_pred).reset_index(drop=True)],axis=1,ignore_index=False)"
   ]
  },
  {
   "cell_type": "code",
   "execution_count": null,
   "metadata": {},
   "outputs": [],
   "source": [
    "# длина элемента\n",
    "test['INN'].map(lambda i: len(i))"
   ]
  },
  {
   "cell_type": "code",
   "execution_count": null,
   "metadata": {},
   "outputs": [],
   "source": [
    "# аналог LIKE\n",
    "\n",
    "test['DIR'] = np.where(test['POSITION_IN_ORG'].map(lambda i: i.find('директ'))>0,1,0)"
   ]
  },
  {
   "cell_type": "code",
   "execution_count": null,
   "metadata": {},
   "outputs": [],
   "source": [
    "# нижний регистр\n",
    "test['BANK'] = test['BANK'].fillna(value = '-')\n",
    "test['BANK'] = test['BANK'].map(lambda i: i.lower())"
   ]
  },
  {
   "cell_type": "code",
   "execution_count": null,
   "metadata": {},
   "outputs": [],
   "source": [
    "# кросс-валидация\n",
    "\n",
    "from sklearn.model_selection import cross_val_score\n",
    "from sklearn.model_selection import StratifiedKFold, GridSearchCV, cross_val_score\n",
    "\n",
    "skf = StratifiedKFold(n_splits=3, shuffle=False, random_state=5)\n",
    "print(cross_val_score(estimator, x_train, y_train, cv=skf,scoring='precision')) \n",
    "\n",
    "################################\n",
    "\n",
    "from sklearn.model_selection import cross_validate\n",
    "from sklearn.metrics import make_scorer\n",
    "\n",
    "scores = cross_validate(lasso, X, y, cv=3,scoring=('r2', 'neg_mean_squared_error'),return_train_score=True)"
   ]
  },
  {
   "cell_type": "code",
   "execution_count": null,
   "metadata": {},
   "outputs": [],
   "source": [
    "import numpy as np\n",
    "import matplotlib.pyplot as plt\n",
    "\n",
    "month = ('май', 'июнь', 'июль', 'август', 'сентябрь')\n",
    "value = (12, 24, 18, 11, 6)\n",
    "position = np.arange(5)\n",
    "\n",
    "fig, ax = plt.subplots()\n",
    "\n",
    "ax.bar(position, value)\n",
    "\n",
    "#  Устанавливаем позиции тиков:\n",
    "ax.set_xticks(position)\n",
    "\n",
    "#  Устанавливаем подписи тиков\n",
    "ax.set_xticklabels(['май', 'июнь', 'июль', 'август', 'сентябрь'])\n",
    "\n",
    "fig.set_figwidth(10)\n",
    "fig.set_figheight(6)\n",
    "\n",
    "plt.show()"
   ]
  },
  {
   "cell_type": "code",
   "execution_count": null,
   "metadata": {},
   "outputs": [],
   "source": [
    "dt = datetime.date(2020, 2, 28)"
   ]
  },
  {
   "cell_type": "code",
   "execution_count": null,
   "metadata": {},
   "outputs": [],
   "source": [
    "from sklearn.preprocessing import MinMaxScaler\n",
    "scaler = MinMaxScaler()\n",
    "\n",
    "a  = scaler.fit_transform(df)\n",
    "df_scaled = pd.DataFrame(a, columns = ['COMPANY_AGE', 'OGRN_START_DAY', 'DV_AVG', 'DV_12',\n",
    "                                       'C_CONTR_TOTAL_AVG', 'C_CONTR_TOTAL_12', 'C_SUM_TOTAL_AVG',\n",
    "                                       'C_SUM_TOTAL_12', 'D_CONTR_TOTAL_AVG', 'D_CONTR_TOTAL_12',\n",
    "                                       'D_SUM_TOTAL_AVG', 'D_SUM_TOTAL_12', 'KD_AVG', 'KD_12', 'OTTOK_SCORE',\n",
    "                                       'POPULATION'])"
   ]
  },
  {
   "cell_type": "code",
   "execution_count": 1,
   "metadata": {},
   "outputs": [
    {
     "ename": "NameError",
     "evalue": "name 'PCA' is not defined",
     "output_type": "error",
     "traceback": [
      "\u001b[0;31m-----------------------------------------------------\u001b[0m",
      "\u001b[0;31mNameError\u001b[0m           Traceback (most recent call last)",
      "\u001b[0;32m<ipython-input-1-042ebfe97bb1>\u001b[0m in \u001b[0;36m<module>\u001b[0;34m\u001b[0m\n\u001b[1;32m      1\u001b[0m \u001b[0;31m# PCA\u001b[0m\u001b[0;34m\u001b[0m\u001b[0;34m\u001b[0m\u001b[0;34m\u001b[0m\u001b[0m\n\u001b[0;32m----> 2\u001b[0;31m \u001b[0mpca\u001b[0m \u001b[0;34m=\u001b[0m \u001b[0mPCA\u001b[0m\u001b[0;34m(\u001b[0m\u001b[0mn_components\u001b[0m \u001b[0;34m=\u001b[0m \u001b[0;36m4\u001b[0m\u001b[0;34m,\u001b[0m \u001b[0mrandom_state\u001b[0m \u001b[0;34m=\u001b[0m \u001b[0;36m40\u001b[0m\u001b[0;34m,\u001b[0m \u001b[0mwhiten\u001b[0m \u001b[0;34m=\u001b[0m \u001b[0;32mTrue\u001b[0m\u001b[0;34m)\u001b[0m\u001b[0;34m\u001b[0m\u001b[0;34m\u001b[0m\u001b[0m\n\u001b[0m\u001b[1;32m      3\u001b[0m \u001b[0mcomp\u001b[0m \u001b[0;34m=\u001b[0m \u001b[0mpca\u001b[0m\u001b[0;34m.\u001b[0m\u001b[0mfit_transform\u001b[0m\u001b[0;34m(\u001b[0m\u001b[0mdf_scaled\u001b[0m\u001b[0;34m)\u001b[0m\u001b[0;34m\u001b[0m\u001b[0;34m\u001b[0m\u001b[0m\n",
      "\u001b[0;31mNameError\u001b[0m: name 'PCA' is not defined"
     ]
    }
   ],
   "source": [
    "# PCA\n",
    "pca = PCA(n_components = 4, random_state = 40, whiten = True)\n",
    "comp = pca.fit_transform(df_scaled)"
   ]
  },
  {
   "cell_type": "code",
   "execution_count": null,
   "metadata": {},
   "outputs": [],
   "source": [
    "import pylab\n",
    "from mpl_toolkits.mplot3d import Axes3D\n",
    "\n",
    "x, y, z = comp[:,0],comp[:,1],comp[:,2]\n",
    "\n",
    "fig = pylab.figure()\n",
    "axes = Axes3D(fig)\n",
    "\n",
    "#axes.scatter(x, y, z)\n",
    "axes.scatter(comp[:, 0], comp[:, 1],comp[:,2], edgecolors = 'black', c = labels, s = 25, alpha = 0.7)\n",
    "axes.set_xlabel('X-axis')\n",
    "axes.set_ylabel('Y-axis')\n",
    "axes.set_zlabel('Z-axis')\n",
    "\n",
    "pylab.show()"
   ]
  },
  {
   "cell_type": "code",
   "execution_count": null,
   "metadata": {},
   "outputs": [],
   "source": [
    "# Мы собираемся сделать 20 графиков, для 20 разных углов\n",
    "for angle in range(0, 360, 1):\n",
    "    fig = plt.figure()\n",
    "    ax = fig.gca(projection='3d')\n",
    "    \n",
    "    x_vals = comp[:,0]\n",
    "    y_vals = comp[:,1]\n",
    "    z_vals = comp[:,2]\n",
    "\n",
    "       # Plot the values\n",
    "    #ax.scatter(x_vals, y_vals, z_vals, c = 'b', marker='o')\n",
    "    ax.scatter(comp[:, 0], comp[:, 1],comp[:, 2], c = col\n",
    "               , s = 1, alpha = 0.7)\n",
    "    #ax.scatter(km.cluster_centers_[:, 0], km.cluster_centers_[:, 1], s = 300, marker = '*', c = ['r', 'g', 'blue', 'yellow', 'black', 'gray'])\n",
    "    ax.set_xlabel('Активность')\n",
    "    ax.set_ylabel('Возраст')\n",
    "    ax.set_zlabel('Регион')\n",
    "\n",
    "    ax.view_init(20, angle)\n",
    " \n",
    "    filename = 'claster/step'+str(angle)+'.png'\n",
    "    plt.savefig(filename, dpi=96)\n",
    "    plt.gca()"
   ]
  },
  {
   "cell_type": "code",
   "execution_count": null,
   "metadata": {},
   "outputs": [],
   "source": [
    "# отбор признаков\n",
    "from sklearn.feature_selection import RFECV\n",
    "\n",
    "rfecv = RFECV(estimator=estimator, step=1, cv=3,scoring='roc_auc')   #3-fold cross-validation\n",
    "rfecv = rfecv.fit(x_train, y_train)\n",
    "\n",
    "print('Optimal number of features :', rfecv.n_features_)\n",
    "print('Best features :', x_train.columns[rfecv.support_])"
   ]
  },
  {
   "cell_type": "code",
   "execution_count": null,
   "metadata": {},
   "outputs": [],
   "source": [
    "# график для отббора признаков\n",
    "\n",
    "import matplotlib.pyplot as plt\n",
    "plt.figure()\n",
    "plt.xlabel(\"Number of features selected\")\n",
    "plt.ylabel(\"Cross validation score of number of selected features\")\n",
    "plt.plot(range(1, len(rfecv.grid_scores_) + 1), rfecv.grid_scores_)\n",
    "plt.show()"
   ]
  },
  {
   "cell_type": "code",
   "execution_count": 14,
   "metadata": {},
   "outputs": [
    {
     "data": {
      "text/html": [
       "<div>\n",
       "<style scoped>\n",
       "    .dataframe tbody tr th:only-of-type {\n",
       "        vertical-align: middle;\n",
       "    }\n",
       "\n",
       "    .dataframe tbody tr th {\n",
       "        vertical-align: top;\n",
       "    }\n",
       "\n",
       "    .dataframe thead th {\n",
       "        text-align: right;\n",
       "    }\n",
       "</style>\n",
       "<table border=\"1\" class=\"dataframe\">\n",
       "  <thead>\n",
       "    <tr style=\"text-align: right;\">\n",
       "      <th></th>\n",
       "      <th>inn</th>\n",
       "      <th>ИП/ЮЛ</th>\n",
       "      <th>mark</th>\n",
       "      <th>REGION_NAME_CONTR</th>\n",
       "    </tr>\n",
       "  </thead>\n",
       "  <tbody>\n",
       "    <tr>\n",
       "      <th>0</th>\n",
       "      <td>4221009432</td>\n",
       "      <td>ЮЛ</td>\n",
       "      <td>плохой</td>\n",
       "      <td>Алтай (Республика)</td>\n",
       "    </tr>\n",
       "    <tr>\n",
       "      <th>1</th>\n",
       "      <td>400005885</td>\n",
       "      <td>ЮЛ</td>\n",
       "      <td>плохой</td>\n",
       "      <td>Алтай (Республика)</td>\n",
       "    </tr>\n",
       "    <tr>\n",
       "      <th>2</th>\n",
       "      <td>7714713602</td>\n",
       "      <td>ЮЛ</td>\n",
       "      <td>плохой</td>\n",
       "      <td>Алтайский край</td>\n",
       "    </tr>\n",
       "    <tr>\n",
       "      <th>3</th>\n",
       "      <td>2222880977</td>\n",
       "      <td>ЮЛ</td>\n",
       "      <td>плохой</td>\n",
       "      <td>Алтайский край</td>\n",
       "    </tr>\n",
       "    <tr>\n",
       "      <th>4</th>\n",
       "      <td>2222882332</td>\n",
       "      <td>ЮЛ</td>\n",
       "      <td>плохой</td>\n",
       "      <td>Алтайский край</td>\n",
       "    </tr>\n",
       "    <tr>\n",
       "      <th>...</th>\n",
       "      <td>...</td>\n",
       "      <td>...</td>\n",
       "      <td>...</td>\n",
       "      <td>...</td>\n",
       "    </tr>\n",
       "    <tr>\n",
       "      <th>13132</th>\n",
       "      <td>7604249297</td>\n",
       "      <td>ЮЛ</td>\n",
       "      <td>хороший</td>\n",
       "      <td>Ярославская область</td>\n",
       "    </tr>\n",
       "    <tr>\n",
       "      <th>13133</th>\n",
       "      <td>7604289719</td>\n",
       "      <td>ЮЛ</td>\n",
       "      <td>хороший</td>\n",
       "      <td>Ярославская область</td>\n",
       "    </tr>\n",
       "    <tr>\n",
       "      <th>13134</th>\n",
       "      <td>7605000714</td>\n",
       "      <td>ЮЛ</td>\n",
       "      <td>хороший</td>\n",
       "      <td>Ярославская область</td>\n",
       "    </tr>\n",
       "    <tr>\n",
       "      <th>13135</th>\n",
       "      <td>7606026480</td>\n",
       "      <td>ЮЛ</td>\n",
       "      <td>хороший</td>\n",
       "      <td>Ярославская область</td>\n",
       "    </tr>\n",
       "    <tr>\n",
       "      <th>13136</th>\n",
       "      <td>7606046380</td>\n",
       "      <td>ЮЛ</td>\n",
       "      <td>хороший</td>\n",
       "      <td>Ярославская область</td>\n",
       "    </tr>\n",
       "  </tbody>\n",
       "</table>\n",
       "<p>13137 rows × 4 columns</p>\n",
       "</div>"
      ],
      "text/plain": [
       "              inn ИП/ЮЛ     mark    REGION_NAME_CONTR\n",
       "0      4221009432    ЮЛ   плохой   Алтай (Республика)\n",
       "1       400005885    ЮЛ   плохой   Алтай (Республика)\n",
       "2      7714713602    ЮЛ   плохой       Алтайский край\n",
       "3      2222880977    ЮЛ   плохой       Алтайский край\n",
       "4      2222882332    ЮЛ   плохой       Алтайский край\n",
       "...           ...   ...      ...                  ...\n",
       "13132  7604249297    ЮЛ  хороший  Ярославская область\n",
       "13133  7604289719    ЮЛ  хороший  Ярославская область\n",
       "13134  7605000714    ЮЛ  хороший  Ярославская область\n",
       "13135  7606026480    ЮЛ  хороший  Ярославская область\n",
       "13136  7606046380    ЮЛ  хороший  Ярославская область\n",
       "\n",
       "[13137 rows x 4 columns]"
      ]
     },
     "execution_count": 14,
     "metadata": {},
     "output_type": "execute_result"
    }
   ],
   "source": [
    "t"
   ]
  },
  {
   "cell_type": "code",
   "execution_count": 16,
   "metadata": {
    "scrolled": true
   },
   "outputs": [
    {
     "data": {
      "text/html": [
       "<div>\n",
       "<style scoped>\n",
       "    .dataframe tbody tr th:only-of-type {\n",
       "        vertical-align: middle;\n",
       "    }\n",
       "\n",
       "    .dataframe tbody tr th {\n",
       "        vertical-align: top;\n",
       "    }\n",
       "\n",
       "    .dataframe thead th {\n",
       "        text-align: right;\n",
       "    }\n",
       "</style>\n",
       "<table border=\"1\" class=\"dataframe\">\n",
       "  <thead>\n",
       "    <tr style=\"text-align: right;\">\n",
       "      <th></th>\n",
       "      <th>inn</th>\n",
       "      <th>mark</th>\n",
       "      <th>sample</th>\n",
       "    </tr>\n",
       "  </thead>\n",
       "  <tbody>\n",
       "    <tr>\n",
       "      <th>0</th>\n",
       "      <td>4221009432</td>\n",
       "      <td>плохой</td>\n",
       "      <td>2</td>\n",
       "    </tr>\n",
       "    <tr>\n",
       "      <th>1</th>\n",
       "      <td>0400005885</td>\n",
       "      <td>плохой</td>\n",
       "      <td>2</td>\n",
       "    </tr>\n",
       "    <tr>\n",
       "      <th>2</th>\n",
       "      <td>7714713602</td>\n",
       "      <td>плохой</td>\n",
       "      <td>2</td>\n",
       "    </tr>\n",
       "    <tr>\n",
       "      <th>3</th>\n",
       "      <td>2222880977</td>\n",
       "      <td>плохой</td>\n",
       "      <td>2</td>\n",
       "    </tr>\n",
       "    <tr>\n",
       "      <th>4</th>\n",
       "      <td>2222882332</td>\n",
       "      <td>плохой</td>\n",
       "      <td>2</td>\n",
       "    </tr>\n",
       "    <tr>\n",
       "      <th>...</th>\n",
       "      <td>...</td>\n",
       "      <td>...</td>\n",
       "      <td>...</td>\n",
       "    </tr>\n",
       "    <tr>\n",
       "      <th>13132</th>\n",
       "      <td>7604249297</td>\n",
       "      <td>хороший</td>\n",
       "      <td>2</td>\n",
       "    </tr>\n",
       "    <tr>\n",
       "      <th>13133</th>\n",
       "      <td>7604289719</td>\n",
       "      <td>хороший</td>\n",
       "      <td>2</td>\n",
       "    </tr>\n",
       "    <tr>\n",
       "      <th>13134</th>\n",
       "      <td>7605000714</td>\n",
       "      <td>хороший</td>\n",
       "      <td>2</td>\n",
       "    </tr>\n",
       "    <tr>\n",
       "      <th>13135</th>\n",
       "      <td>7606026480</td>\n",
       "      <td>хороший</td>\n",
       "      <td>2</td>\n",
       "    </tr>\n",
       "    <tr>\n",
       "      <th>13136</th>\n",
       "      <td>7606046380</td>\n",
       "      <td>хороший</td>\n",
       "      <td>2</td>\n",
       "    </tr>\n",
       "  </tbody>\n",
       "</table>\n",
       "<p>13137 rows × 3 columns</p>\n",
       "</div>"
      ],
      "text/plain": [
       "              inn     mark  sample\n",
       "0      4221009432   плохой       2\n",
       "1      0400005885   плохой       2\n",
       "2      7714713602   плохой       2\n",
       "3      2222880977   плохой       2\n",
       "4      2222882332   плохой       2\n",
       "...           ...      ...     ...\n",
       "13132  7604249297  хороший       2\n",
       "13133  7604289719  хороший       2\n",
       "13134  7605000714  хороший       2\n",
       "13135  7606026480  хороший       2\n",
       "13136  7606046380  хороший       2\n",
       "\n",
       "[13137 rows x 3 columns]"
      ]
     },
     "execution_count": 16,
     "metadata": {},
     "output_type": "execute_result"
    }
   ],
   "source": [
    "w = {'inn': np.object} \n",
    "t = pd.read_excel(open('BAD_CONTR23.11.xlsx', 'rb'),dtype = w)\n",
    "\n",
    "t['inn']\n",
    "t = t[['inn','mark']]\n",
    "t['sample'] = 2\n",
    "t"
   ]
  },
  {
   "cell_type": "code",
   "execution_count": 52,
   "metadata": {},
   "outputs": [],
   "source": [
    "t['inn'] = t['inn'].astype('str')"
   ]
  },
  {
   "cell_type": "code",
   "execution_count": null,
   "metadata": {},
   "outputs": [],
   "source": []
  },
  {
   "cell_type": "code",
   "execution_count": 29,
   "metadata": {},
   "outputs": [],
   "source": [
    "w = {'ИНН клиента': np.object} \n",
    "t = pd.read_excel(open('P.xlsx', 'rb'),dtype = w)"
   ]
  },
  {
   "cell_type": "code",
   "execution_count": 30,
   "metadata": {},
   "outputs": [
    {
     "data": {
      "text/plain": [
       "0        5302015186\n",
       "1        6658541049\n",
       "2      232602655683\n",
       "3        9728019652\n",
       "4      366226215252\n",
       "           ...     \n",
       "469      7713481109\n",
       "470      7802889718\n",
       "471      3663152420\n",
       "472      6316271110\n",
       "473    023403394437\n",
       "Name: ИНН клиента, Length: 474, dtype: object"
      ]
     },
     "execution_count": 30,
     "metadata": {},
     "output_type": "execute_result"
    }
   ],
   "source": [
    "t['ИНН клиента']"
   ]
  },
  {
   "cell_type": "code",
   "execution_count": 33,
   "metadata": {},
   "outputs": [],
   "source": [
    "log = 'MIKHAYLOVA_EKVL[PxU_DCBUL_UMA_MOD]'\n",
    "pas = 'Kate0806)'\n",
    "or_tns = 'DATALAB'\n",
    "\n",
    "tns = or_tns\n",
    "conn = cx_Oracle.connect(log, pas, tns)\n",
    "c = conn.cursor()\n",
    "\n",
    "c.executemany('insert into ev_temp (INN,INN1) values (:1,:2)', list(t[['ИНН клиента','ИНН клиента']].values) )    \n",
    "conn.commit()"
   ]
  },
  {
   "cell_type": "code",
   "execution_count": null,
   "metadata": {},
   "outputs": [],
   "source": [
    "c."
   ]
  },
  {
   "cell_type": "code",
   "execution_count": null,
   "metadata": {},
   "outputs": [],
   "source": [
    "# график feature importance\n",
    "\n",
    "import seaborn as sns\n",
    "feat_importances  = pd.DataFrame({'feature':x_train.columns,'importance':np.round(estimator.feature_importances_,0)})\n",
    "feat_importances = feat_importances.sort_values('importance',ascending=False).iloc[:30]\n",
    "\n",
    "plt.figure(figsize=(7,10))\n",
    "sns.barplot(x=\"importance\", y=\"feature\", data=feat_importances.sort_values(by=\"importance\",ascending=False))\n",
    "plt.title('LightGBM Features (averaged over folds)')\n",
    "#plt.tight_layout()\n",
    "#plt.savefig('lgbm_importances.png')"
   ]
  },
  {
   "cell_type": "code",
   "execution_count": 4,
   "metadata": {},
   "outputs": [],
   "source": [
    "import shap"
   ]
  },
  {
   "cell_type": "code",
   "execution_count": null,
   "metadata": {},
   "outputs": [],
   "source": [
    " # замена значений на максимально в каждой группе и перевод в верхний регистр\n",
    "    \n",
    "for i in [x.upper() for x in ('index_due_diligence1','failure_score_value1','workers1',\n",
    "       'index_due_diligence','failure_score_value','workers',\n",
    "       'COOWNER_FCSM','COOWNER_ROSTAT','COOWNER_EGRUL')]:\n",
    "    test[i] = test[['INN',i]].groupby('INN').transform(max)"
   ]
  },
  {
   "cell_type": "code",
   "execution_count": null,
   "metadata": {},
   "outputs": [],
   "source": [
    "# выбор строки с максимальным значением\n",
    "df[df['count'] == df.groupby(['Mt'])['count'].transform(max)]"
   ]
  },
  {
   "cell_type": "code",
   "execution_count": null,
   "metadata": {},
   "outputs": [],
   "source": [
    "# цветная сводная таблица\n",
    "import seaborn as sns\n",
    "\n",
    "date_int = ['WORKERS_RANGE', 'TARGET']\n",
    "cm = sns.light_palette(\"green\", as_cmap=True)\n",
    "pd.crosstab(test2[date_int[0]], test2[date_int[1]]).style.background_gradient(cmap = 'Spectral_r',axis=1)\n",
    "\n",
    "# чтобы выбрать цвет написать cmap = '' с любой ошибкой"
   ]
  },
  {
   "cell_type": "code",
   "execution_count": 21,
   "metadata": {},
   "outputs": [
    {
     "name": "stdout",
     "output_type": "stream",
     "text": [
      "['Пожалуйста', ',', 'отправляйте', 'свои', 'заявки', 'на', 'адрес', 'электронной', 'почты', 'inbox', '@', 'example', '.', 'com', 'или', 'по', 'телефону', '123456', '.']\n"
     ]
    }
   ],
   "source": [
    "#регулярные функции\n",
    "import re\n",
    "txt = \"Пожалуйста, отправляйте свои заявки на адрес электронной почты inbox@example.com или по телефону 123456.\"\n",
    "\n",
    "tokenize_regex = re.compile(r'(\\w+|(?:\\w+@\\w+\\.\\w+)|\\S)', re.I)\n",
    "\n",
    "tokens = tokenize_regex.findall(txt)\n",
    "\n",
    "print(tokens)"
   ]
  },
  {
   "cell_type": "code",
   "execution_count": 3,
   "metadata": {},
   "outputs": [
    {
     "data": {
      "text/plain": [
       "0.18744142455482662"
      ]
     },
     "execution_count": 3,
     "metadata": {},
     "output_type": "execute_result"
    }
   ],
   "source": [
    "1000/5335"
   ]
  },
  {
   "cell_type": "code",
   "execution_count": null,
   "metadata": {},
   "outputs": [],
   "source": [
    "# таблица корреляций\n",
    "table_cor = pd.DataFrame({#'column' : list(x_train.columns)+['TARGET'], \n",
    "                         'sign' : np.sign(test1[list(x_train.columns)+['TARGET']].corr().iloc[:,-1]),\n",
    "                         'corr' : np.abs(test1[list(x_train.columns)+['TARGET']].corr().iloc[:,-1])})\n",
    "table_cor.sort_values(by = 'corr', ascending = False)"
   ]
  },
  {
   "cell_type": "code",
   "execution_count": null,
   "metadata": {},
   "outputs": [],
   "source": [
    "#подсчет нулей\n",
    "(test[x_test.columns] == 0).sum(axis=0)"
   ]
  },
  {
   "cell_type": "code",
   "execution_count": null,
   "metadata": {},
   "outputs": [],
   "source": [
    "# отбор признаков\n",
    "from sklearn.feature_selection import SelectKBest, chi2,f_classif\n",
    "\n",
    "selector = SelectKBest(f_classif, k=40)\n",
    "x_test3 = selector.fit_transform(x_test2,y_test)\n",
    "x_test3.shape\n",
    "#set(x_test2.columns)-set(x_test3.columns)\n",
    "\n",
    "cols = selector.get_support(indices=True)\n",
    "cols\n",
    "x_test3 = x_test2.iloc[:,cols]\n",
    "x_test3"
   ]
  },
  {
   "cell_type": "code",
   "execution_count": null,
   "metadata": {},
   "outputs": [],
   "source": [
    "# оптимальный порог\n",
    "fpr, tpr, threshold = roc_curve(y_test1, etc_pred_test11)\n",
    "optimal_idx = np.argmax(tpr - fpr)\n",
    "optimal_threshold = thresholds[optimal_idx]\n",
    "optimal_threshold"
   ]
  },
  {
   "cell_type": "code",
   "execution_count": null,
   "metadata": {},
   "outputs": [],
   "source": [
    "# разделить по столбцам по знаку\n",
    "print(train['Ticket'][0].split(' ')[0])"
   ]
  },
  {
   "cell_type": "code",
   "execution_count": null,
   "metadata": {},
   "outputs": [],
   "source": [
    "# индекс Джини\n",
    "for i in ['SUM_1', 'SUM_2', 'SUM_3', 'SUM_4', 'SUM_5', 'SUM_6']:\n",
    "    test[i] = np.round(test[i],0)\n",
    "\n",
    "test['r'] = [[i for i in row if i == i] for row in test[['SUM_1', 'SUM_2', 'SUM_3', 'SUM_4', 'SUM_5', 'SUM_6']].values]\n",
    "for i in np.arange(0,len(test)):\n",
    "    test['r'].iloc[i].sort()\n",
    "    \n",
    "test['rev'] = test['r'].map(lambda x: np.insert(np.round((np.cumsum(x)/np.sum(x)),4),0,0))\n",
    "test['month'] = test['r'].map(lambda x: np.insert((np.cumsum([1]*(len(x)))/len(x)),0,0))\n",
    "test['S'] = [((0.5-np.trapz(x,y))/0.5) for x,y in zip(test['rev'],test['month'])]\n",
    "test['S']"
   ]
  },
  {
   "cell_type": "code",
   "execution_count": null,
   "metadata": {},
   "outputs": [],
   "source": [
    "#график к индексу джини\n",
    "plt.figure(figsize = (8,8))\n",
    "Gini=[]\n",
    "\n",
    "for i in range(1,4):\n",
    "    X_k = month\n",
    "    X_k_1 = pd.DataFrame(month).shift().fillna(0).values\n",
    "    Y_k = rev\n",
    "    Y_k_1 = pd.DataFrame(rev).shift().fillna(0).values\n",
    "    Gini.append(1 - np.sum((X_k - X_k_1) * (Y_k + Y_k_1)))\n",
    "    plt.plot(np.insert(X_k,0,0), np.insert(rev,0,0),\n",
    "             label='Деревня {} (Gini = {:0.2f})'.format(i, Gini[i-1]))\n",
    "        \n",
    "plt.title('Коэффициент Джини')\n",
    "plt.xlabel('Кумулятивная доля населения')\n",
    "plt.ylabel('Кумулятивная доля дохода')\n",
    "plt.legend(loc=\"upper left\")\n",
    "plt.xlim(0, 1)\n",
    "plt.ylim(0, 1)\n",
    "plt.show()"
   ]
  },
  {
   "cell_type": "code",
   "execution_count": null,
   "metadata": {},
   "outputs": [],
   "source": [
    "# причины блокировки\n",
    "\n",
    "def myfun(x):\n",
    "    if x == 'CASH':\n",
    "        return 'обнал (3 мес)'\n",
    "    if x == 'CASH_WEEK':\n",
    "        return 'снятие наличных за неделю'\n",
    "    if x == 'CASH_MONTH':\n",
    "        return 'снятие наличных за месяц'\n",
    "    if x == 'CASH_DEBET_WEEK': \n",
    "        return '% обнала (нед)'\n",
    "    if x == 'CASH_DEBET_MONTH': \n",
    "        return '% обнала (мес)'\n",
    "    if x == 'FIZ_VEER':\n",
    "        return 'веер ФЛ (мес)'\n",
    "    if x == 'FIZ_VEER_WEEK':\n",
    "        return 'веер ФЛ (нед)'\n",
    "    if x == 'IP_VEER':\n",
    "        return 'веер ИП (мес)' \n",
    "    if x == 'IP_VEER_WEEK':\n",
    "        return 'веер ИП (нед)'\n",
    "    if x == 'NEDOSTOVER':\n",
    "        return 'недостовер. инф. в спарк'\n",
    "    if x == 'MANAGER_INN_COUNT':\n",
    "        return 'массовый руководитель'\n",
    "    if x == 'OKVED_DIFFERENT':\n",
    "        return 'несовместные оквэды'\n",
    "    if x == 'DOLYA_BAD_ZACH':\n",
    "        return '% плохих контрагентов (зач.)'\n",
    "    if x == 'DOLYA_BAD_SPIS':\n",
    "        return '% плохих контрагентов (спис.)'\n",
    "    if x == 'DOLYA_SUM_BAD_SPIS':\n",
    "        return '% по сумме плохих контрагентов (спис.)'\n",
    "    if x == 'DOLYA_SUM_BAD_ZACH':\n",
    "        return '% по сумме плохих контрагентов (зач.)'\n",
    "    if x == 'BEZ+S_NDS':\n",
    "        return 'сброс НДС' \n",
    "    if x == 'SUM_IP3':\n",
    "        return 'перевод на ИП(3 мес.)'\n",
    "    if x == 'SUM_IP3/':\n",
    "        return '% переводов на ИП (3 мес)'\n",
    "    if x == 'SUM_FIZ3/':\n",
    "        return '% переводов на ФЛ(3 мес)'\n",
    "    if x == 'SUM_FIZ3':\n",
    "        return 'перевод на ФЛ(3 мес.)'\n",
    "    if x == 'NOM_CONTROL':\n",
    "        return 'ЧС ЦБ'\n",
    "    if x == 'ROZNITSA':\n",
    "        return 'схема \"розница\"'\n",
    "    if x == 'CORP_OPER_WEEK':\n",
    "        return '% опер с корп. карты(нед.)'\n",
    "    if x == 'CORP_OPER_MONTH':\n",
    "        return '% опер с корп. карты(мес.)'\n",
    "    if x == 'CORP_MONTH':\n",
    "        return 'опер с корп. карты(мес.)'\n",
    "    if x == 'NALOG12/':\n",
    "        return 'налоги (год)'\n",
    "    if x == 'NALOG6/':\n",
    "        return 'налоги (полгода)'\n",
    "    if x == 'PROFIT_REVENUE1':\n",
    "        return 'прибыль к выручке'\n",
    "    else:\n",
    "        return None\n",
    "\n",
    "for i in np.arange(0,tr.shape[0]):\n",
    "    tr_copy[i] = list(map(myfun, tr[i]))\n",
    "tr_copy"
   ]
  },
  {
   "cell_type": "code",
   "execution_count": null,
   "metadata": {},
   "outputs": [],
   "source": [
    ".apply(pd.to_datetime)"
   ]
  },
  {
   "cell_type": "code",
   "execution_count": null,
   "metadata": {},
   "outputs": [],
   "source": [
    "# если хоть один элемент в столбцах указан то ставим 1 иначе 0\n",
    "test2[['BEST_PHONE1','BEST_PHONE2','BEST_PHONE3','BEST_PHONE4','BEST_PHONE5']].any(axis=1).replace([True,False],[1,0])"
   ]
  },
  {
   "cell_type": "code",
   "execution_count": null,
   "metadata": {},
   "outputs": [],
   "source": [
    "def calculate_psi(expected, actual, buckettype='quantiles', buckets=20, axis=0):\n",
    "    '''Calculate the PSI (population stability index) across all variables\n",
    "    Args:\n",
    "       expected: numpy matrix of original values\n",
    "       actual: numpy matrix of new values, same size as expected\n",
    "       buckettype: type of strategy for creating buckets, bins splits into even splits, quantiles splits into quantile buckets\n",
    "       buckets: number of quantiles to use in bucketing variables\n",
    "       axis: axis by which variables are defined, 0 for vertical, 1 for horizontal\n",
    "    Returns:\n",
    "       psi_values: ndarray of psi values for each variable\n",
    "    Author:\n",
    "       Matthew Burke\n",
    "       github.com/mwburke\n",
    "       worksofchart.com\n",
    "    '''\n",
    "\n",
    "    def psi(expected_array, actual_array, buckets):\n",
    "        '''Calculate the PSI for a single variable\n",
    "        Args:\n",
    "           expected_array: numpy array of original values\n",
    "           actual_array: numpy array of new values, same size as expected\n",
    "           buckets: number of percentile ranges to bucket the values into\n",
    "        Returns:\n",
    "           psi_value: calculated PSI value\n",
    "        '''\n",
    "\n",
    "        def scale_range (input, min, max):\n",
    "            input += -(np.min(input))\n",
    "            input /= np.max(input) / (max - min)\n",
    "            input += min\n",
    "            return input\n",
    "\n",
    "\n",
    "        breakpoints = np.arange(0, buckets + 1) / (buckets) * 100\n",
    "\n",
    "        if buckettype == 'bins':\n",
    "            breakpoints = scale_range(breakpoints, np.min(expected_array), np.max(expected_array))\n",
    "        elif buckettype == 'quantiles':\n",
    "            breakpoints = np.stack([np.percentile(expected_array, b) for b in breakpoints])\n",
    "\n",
    "\n",
    "\n",
    "        expected_percents = np.histogram(expected_array, breakpoints)[0] / len(expected_array)\n",
    "        actual_percents = np.histogram(actual_array, breakpoints)[0] / len(actual_array)\n",
    "\n",
    "        def sub_psi(e_perc, a_perc):\n",
    "            '''Calculate the actual PSI value from comparing the values.\n",
    "               Update the actual value to a very small number if equal to zero\n",
    "            '''\n",
    "            if a_perc == 0:\n",
    "                a_perc = 0.0001\n",
    "            if e_perc == 0:\n",
    "                e_perc = 0.0001\n",
    "\n",
    "            value = (e_perc - a_perc) * np.log(e_perc / a_perc)\n",
    "            return(value)\n",
    "\n",
    "        psi_value = np.sum(sub_psi(expected_percents[i], actual_percents[i]) for i in range(0, len(expected_percents)))\n",
    "\n",
    "        return(psi_value)\n",
    "\n",
    "    if len(expected.shape) == 1:\n",
    "        psi_values = np.empty(len(expected.shape))\n",
    "    else:\n",
    "        psi_values = np.empty(expected.shape[axis])\n",
    "\n",
    "    for i in range(0, len(psi_values)):\n",
    "        if len(psi_values) == 1:\n",
    "            psi_values = psi(expected, actual, buckets)\n",
    "        elif axis == 0:\n",
    "            psi_values[i] = psi(expected[:,i], actual[:,i], buckets)\n",
    "        elif axis == 1:\n",
    "            psi_values[i] = psi(expected[i,:], actual[i,:], buckets)\n",
    "\n",
    "    return(psi_values)"
   ]
  },
  {
   "cell_type": "code",
   "execution_count": 2,
   "metadata": {},
   "outputs": [
    {
     "ename": "KeyboardInterrupt",
     "evalue": "",
     "output_type": "error",
     "traceback": [
      "\u001b[0;31m---------------------------------------------------------------------------\u001b[0m",
      "\u001b[0;31mKeyboardInterrupt\u001b[0m                         Traceback (most recent call last)",
      "\u001b[0;32m<ipython-input-2-6227d643293a>\u001b[0m in \u001b[0;36m<module>\u001b[0;34m\u001b[0m\n\u001b[1;32m     12\u001b[0m \u001b[0;34m\u001b[0m\u001b[0m\n\u001b[1;32m     13\u001b[0m \u001b[0msqlStr6\u001b[0m \u001b[0;34m=\u001b[0m \u001b[0;34m(\u001b[0m\u001b[0;34m'''select * from PxU_DCBUL_UMA_MOD.ev_block_finish_dop'''\u001b[0m\u001b[0;34m)\u001b[0m\u001b[0;34m\u001b[0m\u001b[0;34m\u001b[0m\u001b[0m\n\u001b[0;32m---> 14\u001b[0;31m \u001b[0mtest\u001b[0m \u001b[0;34m=\u001b[0m \u001b[0mpd\u001b[0m\u001b[0;34m.\u001b[0m\u001b[0mread_sql\u001b[0m\u001b[0;34m(\u001b[0m\u001b[0msqlStr6\u001b[0m\u001b[0;34m,\u001b[0m \u001b[0mconn\u001b[0m\u001b[0;34m)\u001b[0m\u001b[0;34m\u001b[0m\u001b[0;34m\u001b[0m\u001b[0m\n\u001b[0m",
      "\u001b[0;32m~/anaconda3/lib/python3.7/site-packages/pandas/io/sql.py\u001b[0m in \u001b[0;36mread_sql\u001b[0;34m(sql, con, index_col, coerce_float, params, parse_dates, columns, chunksize)\u001b[0m\n\u001b[1;32m    606\u001b[0m             \u001b[0mcoerce_float\u001b[0m\u001b[0;34m=\u001b[0m\u001b[0mcoerce_float\u001b[0m\u001b[0;34m,\u001b[0m\u001b[0;34m\u001b[0m\u001b[0;34m\u001b[0m\u001b[0m\n\u001b[1;32m    607\u001b[0m             \u001b[0mparse_dates\u001b[0m\u001b[0;34m=\u001b[0m\u001b[0mparse_dates\u001b[0m\u001b[0;34m,\u001b[0m\u001b[0;34m\u001b[0m\u001b[0;34m\u001b[0m\u001b[0m\n\u001b[0;32m--> 608\u001b[0;31m             \u001b[0mchunksize\u001b[0m\u001b[0;34m=\u001b[0m\u001b[0mchunksize\u001b[0m\u001b[0;34m,\u001b[0m\u001b[0;34m\u001b[0m\u001b[0;34m\u001b[0m\u001b[0m\n\u001b[0m\u001b[1;32m    609\u001b[0m         )\n\u001b[1;32m    610\u001b[0m \u001b[0;34m\u001b[0m\u001b[0m\n",
      "\u001b[0;32m~/anaconda3/lib/python3.7/site-packages/pandas/io/sql.py\u001b[0m in \u001b[0;36mread_query\u001b[0;34m(self, sql, index_col, coerce_float, params, parse_dates, chunksize, dtype)\u001b[0m\n\u001b[1;32m   2128\u001b[0m             )\n\u001b[1;32m   2129\u001b[0m         \u001b[0;32melse\u001b[0m\u001b[0;34m:\u001b[0m\u001b[0;34m\u001b[0m\u001b[0;34m\u001b[0m\u001b[0m\n\u001b[0;32m-> 2130\u001b[0;31m             \u001b[0mdata\u001b[0m \u001b[0;34m=\u001b[0m \u001b[0mself\u001b[0m\u001b[0;34m.\u001b[0m\u001b[0m_fetchall_as_list\u001b[0m\u001b[0;34m(\u001b[0m\u001b[0mcursor\u001b[0m\u001b[0;34m)\u001b[0m\u001b[0;34m\u001b[0m\u001b[0;34m\u001b[0m\u001b[0m\n\u001b[0m\u001b[1;32m   2131\u001b[0m             \u001b[0mcursor\u001b[0m\u001b[0;34m.\u001b[0m\u001b[0mclose\u001b[0m\u001b[0;34m(\u001b[0m\u001b[0;34m)\u001b[0m\u001b[0;34m\u001b[0m\u001b[0;34m\u001b[0m\u001b[0m\n\u001b[1;32m   2132\u001b[0m \u001b[0;34m\u001b[0m\u001b[0m\n",
      "\u001b[0;32m~/anaconda3/lib/python3.7/site-packages/pandas/io/sql.py\u001b[0m in \u001b[0;36m_fetchall_as_list\u001b[0;34m(self, cur)\u001b[0m\n\u001b[1;32m   2142\u001b[0m \u001b[0;34m\u001b[0m\u001b[0m\n\u001b[1;32m   2143\u001b[0m     \u001b[0;32mdef\u001b[0m \u001b[0m_fetchall_as_list\u001b[0m\u001b[0;34m(\u001b[0m\u001b[0mself\u001b[0m\u001b[0;34m,\u001b[0m \u001b[0mcur\u001b[0m\u001b[0;34m)\u001b[0m\u001b[0;34m:\u001b[0m\u001b[0;34m\u001b[0m\u001b[0;34m\u001b[0m\u001b[0m\n\u001b[0;32m-> 2144\u001b[0;31m         \u001b[0mresult\u001b[0m \u001b[0;34m=\u001b[0m \u001b[0mcur\u001b[0m\u001b[0;34m.\u001b[0m\u001b[0mfetchall\u001b[0m\u001b[0;34m(\u001b[0m\u001b[0;34m)\u001b[0m\u001b[0;34m\u001b[0m\u001b[0;34m\u001b[0m\u001b[0m\n\u001b[0m\u001b[1;32m   2145\u001b[0m         \u001b[0;32mif\u001b[0m \u001b[0;32mnot\u001b[0m \u001b[0misinstance\u001b[0m\u001b[0;34m(\u001b[0m\u001b[0mresult\u001b[0m\u001b[0;34m,\u001b[0m \u001b[0mlist\u001b[0m\u001b[0;34m)\u001b[0m\u001b[0;34m:\u001b[0m\u001b[0;34m\u001b[0m\u001b[0;34m\u001b[0m\u001b[0m\n\u001b[1;32m   2146\u001b[0m             \u001b[0mresult\u001b[0m \u001b[0;34m=\u001b[0m \u001b[0mlist\u001b[0m\u001b[0;34m(\u001b[0m\u001b[0mresult\u001b[0m\u001b[0;34m)\u001b[0m\u001b[0;34m\u001b[0m\u001b[0;34m\u001b[0m\u001b[0m\n",
      "\u001b[0;31mKeyboardInterrupt\u001b[0m: "
     ]
    }
   ],
   "source": [
    "import cx_Oracle\n",
    "import pandas.io.sql as psql\n",
    "import pandas as pd\n",
    "\n",
    "log = 'MIKHAYLOVA_EKVL[PxU_DCBUL_UMA_MOD]'\n",
    "pas = ''\n",
    "or_tns = 'DATALAB'\n",
    "\n",
    "tns = or_tns\n",
    "conn = cx_Oracle.connect(log, pas, tns)\n",
    "c = conn.cursor()\n",
    "\n",
    "sqlStr6 = ('''select * from PxU_DCBUL_UMA_MOD.ev_block_finish_dop''')\n",
    "test = pd.read_sql(sqlStr6, conn) "
   ]
  },
  {
   "cell_type": "code",
   "execution_count": null,
   "metadata": {},
   "outputs": [],
   "source": [
    "# индексы Джини\n",
    "\n",
    "'''for i in ['DEBET_1', 'DEBET_2', 'DEBET_3', 'DEBET_4', 'DEBET_5', 'DEBET_6']:\n",
    "    test[i] = np.round(test[i],0)\n",
    "\n",
    "test['r'] = [[i for i in row if i == i] for row in test[['DEBET_1', 'DEBET_2', 'DEBET_3', 'DEBET_4', 'DEBET_5', 'DEBET_6']].values]\n",
    "for i in np.arange(0,len(test)):\n",
    "    test['r'].iloc[i].sort()\n",
    "    \n",
    "test['rev'] = test['r'].map(lambda x: np.insert(np.round((np.cumsum(x)/np.sum(x)),4),0,0))\n",
    "test['month'] = test['r'].map(lambda x: np.insert((np.cumsum([1]*(len(x)))/len(x)),0,0))\n",
    "test['S'] = [((0.5-np.trapz(x,y))/0.5) for x,y in zip(test['rev'],test['month'])]\n",
    "test['S']'''\n",
    "\n",
    "'''for i in ['DEBET_W_1', 'DEBET_W_2', 'DEBET_W_3', 'DEBET_W_4', 'DEBET_W_5']:\n",
    "    test[i] = np.round(test[i],0)\n",
    "\n",
    "test['r'] = [[i for i in row if i == i] for row in test[['DEBET_W_1', 'DEBET_W_2', 'DEBET_W_3', 'DEBET_W_4', 'DEBET_W_5']].values]\n",
    "for i in np.arange(0,len(test)):\n",
    "    test['r'].iloc[i].sort()\n",
    "    \n",
    "test['rev'] = test['r'].map(lambda x: np.insert(np.round((np.cumsum(x)/np.sum(x)),4),0,0))\n",
    "test['month'] = test['r'].map(lambda x: np.insert((np.cumsum([1]*(len(x)))/len(x)),0,0))\n",
    "test['S1'] = [((0.5-np.trapz(x,y))/0.5) for x,y in zip(test['rev'],test['month'])]\n",
    "test['S1']'''\n",
    "\n",
    "'''for i in ['DEBET_D_1', 'DEBET_D_2', 'DEBET_D_3', 'DEBET_D_4', 'DEBET_D_5']:\n",
    "    test[i] = np.round(test[i],0)\n",
    "\n",
    "test['r'] = [[i for i in row if i == i] for row in test[['DEBET_D_1', 'DEBET_D_2', 'DEBET_D_3', 'DEBET_D_4', 'DEBET_D_5']].values]\n",
    "for i in np.arange(0,len(test)):\n",
    "    test['r'].iloc[i].sort()\n",
    "    \n",
    "test['rev'] = test['r'].map(lambda x: np.insert(np.round((np.cumsum(x)/np.sum(x)),4),0,0))\n",
    "test['month'] = test['r'].map(lambda x: np.insert((np.cumsum([1]*(len(x)))/len(x)),0,0))\n",
    "test['S2'] = [((0.5-np.trapz(x,y))/0.5) for x,y in zip(test['rev'],test['month'])]\n",
    "test['S2']'''"
   ]
  }
 ],
 "metadata": {
  "kernelspec": {
   "display_name": "Python 3 (ipykernel)",
   "language": "python",
   "name": "python3"
  },
  "language_info": {
   "codemirror_mode": {
    "name": "ipython",
    "version": 3
   },
   "file_extension": ".py",
   "mimetype": "text/x-python",
   "name": "python",
   "nbconvert_exporter": "python",
   "pygments_lexer": "ipython3",
   "version": "3.7.11"
  }
 },
 "nbformat": 4,
 "nbformat_minor": 2
}
