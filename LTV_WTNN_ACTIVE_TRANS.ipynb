{
 "cells": [
  {
   "cell_type": "code",
   "execution_count": 1,
   "metadata": {},
   "outputs": [
    {
     "name": "stderr",
     "output_type": "stream",
     "text": [
      "Using TensorFlow backend.\n"
     ]
    }
   ],
   "source": [
    "import numpy as np\n",
    "import scipy.sparse\n",
    "import scipy\n",
    "import pandas as pd\n",
    "import re\n",
    "import math\n",
    "from datetime import datetime, date, timedelta\n",
    "\n",
    "import sqlalchemy as sa\n",
    "from sqlalchemy.types import Integer, Float, Date, VARCHAR\n",
    "\n",
    "import keras\n",
    "from keras.models import Sequential,model_from_json\n",
    "from keras.layers import Dense, LSTM, GRU, Activation, Masking, BatchNormalization, Lambda, GaussianDropout\n",
    "from keras.layers.wrappers import TimeDistributed\n",
    "from keras import backend as k\n",
    "from keras import callbacks\n",
    "from keras.optimizers import RMSprop, Adam\n",
    "from keras.callbacks import History\n",
    "from keras import regularizers\n",
    "\n",
    "import sklearn\n",
    "from sklearn.preprocessing import normalize\n",
    "from sklearn.pipeline import Pipeline\n",
    "from sklearn.preprocessing import StandardScaler, OneHotEncoder, FunctionTransformer\n",
    "from sklearn.impute import SimpleImputer\n",
    "from sklearn.compose import make_column_transformer\n",
    "from sklearn.decomposition import PCA\n",
    "from sklearn.utils import resample\n",
    "from sklearn.model_selection import train_test_split\n",
    "\n",
    "from category_encoders import CatBoostEncoder\n",
    "\n",
    "from six.moves import xrange\n",
    "import seaborn as sns\n",
    "import matplotlib.pyplot as plt\n",
    "%matplotlib inline\n",
    "\n",
    "import wtte.weibull as weibull\n",
    "import wtte.wtte as wtte\n",
    "from wtte.wtte import WeightWatcher\n",
    "import wtte.transforms as tr\n",
    "import lifelines\n",
    "import warnings\n",
    "warnings.filterwarnings(\"ignore\")\n",
    "\n",
    "pd.options.display.min_rows = 1000\n",
    "pd.options.display.max_rows = 800\n",
    "pd.options.display.max_columns = 50"
   ]
  },
  {
   "cell_type": "code",
   "execution_count": 2,
   "metadata": {},
   "outputs": [],
   "source": [
    "datalab_auth = ('SHINKAREV_DA[PxU_DCBUL_UMA_MOD]', 'dSH_19848+++', 'DATALAB')"
   ]
  },
  {
   "cell_type": "code",
   "execution_count": 4,
   "metadata": {},
   "outputs": [],
   "source": [
    "# дата прогноза\n",
    "#ddate = datetime.date(2022,6,30)\n",
    "ddate = date(2023,1,31)"
   ]
  },
  {
   "cell_type": "code",
   "execution_count": 5,
   "metadata": {},
   "outputs": [],
   "source": [
    "def read_sql_table(auth_data, table_name):\n",
    "    login, password, tns = auth_data[0], auth_data[1], auth_data[2]\n",
    "    conn_str = 'oracle+cx_oracle://' + login + ':' + password + '@' + tns\n",
    "    oracle_db = sa.create_engine(conn_str, encoding= 'utf-8', max_identifier_length=128)\n",
    "    \n",
    "    connection = oracle_db.connect()\n",
    "    table = pd.read_sql_table(table_name, connection)\n",
    "    connection.close()\n",
    "    \n",
    "    return table"
   ]
  },
  {
   "cell_type": "code",
   "execution_count": 6,
   "metadata": {},
   "outputs": [],
   "source": [
    "def clean_inn(inn):\n",
    "    inn = str(inn).strip()\n",
    "    if re.search(r'\\D', inn):\n",
    "        return np.nan\n",
    "    \n",
    "    if len(inn) == 12 and inn[:2] == '00':\n",
    "        inn = inn[2:]\n",
    "\n",
    "    digits = [int(x) for x in inn]\n",
    "    if len(digits) == 12: # проверка для ИП и ФЛ\n",
    "        coeff1 = [7, 2, 4, 10, 3, 5, 9, 4, 6, 8]\n",
    "        checksum1 = sum([x * digits[i] for i, x in enumerate(coeff1)]) % 11 % 10\n",
    "        coeff2 = [3, 7, 2, 4, 10, 3, 5, 9, 4, 6, 8]\n",
    "        checksum2 = sum([x * digits[i] for i, x in enumerate(coeff2)]) % 11 % 10\n",
    "\n",
    "        if checksum1 == digits[-2] and checksum2 == digits[-1]:\n",
    "            return inn\n",
    "        else:\n",
    "            return np.nan\n",
    "    elif len(digits) == 10: # проверка для ЮЛ\n",
    "        coeff = [2, 4, 10, 3, 5, 9, 4, 6, 8, 0]\n",
    "        checksum = sum([x * digits[i] for i, x in enumerate(coeff)]) % 11 % 10\n",
    "        if checksum == digits[-1]:\n",
    "            return inn\n",
    "        else:\n",
    "            return np.nan\n",
    "    else:\n",
    "        return np.nan"
   ]
  },
  {
   "cell_type": "code",
   "execution_count": 7,
   "metadata": {},
   "outputs": [],
   "source": [
    "dataset_orig = read_sql_table(datalab_auth, 'ev_wei_final')"
   ]
  },
  {
   "cell_type": "code",
   "execution_count": 8,
   "metadata": {},
   "outputs": [],
   "source": [
    "dataset_orig.inn = dataset_orig.inn.apply(clean_inn)\n",
    "dataset_orig = dataset_orig.dropna(subset=['inn'])\n",
    "dataset_orig = dataset_orig.loc[dataset_orig.inn !='0000000000', :]"
   ]
  },
  {
   "cell_type": "code",
   "execution_count": 9,
   "metadata": {},
   "outputs": [],
   "source": [
    "dataset_orig['time'] = dataset_orig.ddate.rank(method='dense').astype(int) # номер периода (месяца)"
   ]
  },
  {
   "cell_type": "code",
   "execution_count": 10,
   "metadata": {
    "scrolled": true
   },
   "outputs": [],
   "source": [
    "del dataset_orig['is_ufm']\n",
    "del dataset_orig['is_liq']"
   ]
  },
  {
   "cell_type": "code",
   "execution_count": 11,
   "metadata": {},
   "outputs": [
    {
     "data": {
      "text/plain": [
       "\"wrong_clients = dataset_orig.groupby('inn').time.agg(['count', lambda x : x.max() - x.min() + 1])                                            .rename(columns={'count' : 'cnt', '<lambda_0>' : 'max_min'})\\nwrong_clients = wrong_clients.loc[wrong_clients.cnt != wrong_clients.max_min, :]\\nwrong_clients = wrong_clients.reset_index()\\ndataset_orig = dataset_orig.loc[~dataset_orig.inn.isin(wrong_clients.inn), :]\""
      ]
     },
     "execution_count": 11,
     "metadata": {},
     "output_type": "execute_result"
    }
   ],
   "source": [
    "# Выбираем клиентов, у которых были разрывы в обслуживании\n",
    "'''wrong_clients = dataset_orig.groupby('inn').time.agg(['count', lambda x : x.max() - x.min() + 1])\\\n",
    "                                            .rename(columns={'count' : 'cnt', '<lambda_0>' : 'max_min'})\n",
    "wrong_clients = wrong_clients.loc[wrong_clients.cnt != wrong_clients.max_min, :]\n",
    "wrong_clients = wrong_clients.reset_index()\n",
    "dataset_orig = dataset_orig.loc[~dataset_orig.inn.isin(wrong_clients.inn), :]'''"
   ]
  },
  {
   "cell_type": "code",
   "execution_count": 12,
   "metadata": {},
   "outputs": [],
   "source": [
    "dataset_orig = dataset_orig.reset_index(drop=True)"
   ]
  },
  {
   "cell_type": "code",
   "execution_count": 13,
   "metadata": {
    "scrolled": true
   },
   "outputs": [],
   "source": [
    "dataset_orig['t_elapsed'] = dataset_orig.groupby('inn', group_keys=False).apply(lambda g : g.time - g.time.min()) # номер месяца жизни, начиная с 0"
   ]
  },
  {
   "cell_type": "code",
   "execution_count": 14,
   "metadata": {},
   "outputs": [
    {
     "data": {
      "text/plain": [
       "Timestamp('2023-01-31 00:00:00')"
      ]
     },
     "execution_count": 14,
     "metadata": {},
     "output_type": "execute_result"
    }
   ],
   "source": [
    "dataset_orig['ddate'].max()"
   ]
  },
  {
   "cell_type": "code",
   "execution_count": 15,
   "metadata": {
    "scrolled": true
   },
   "outputs": [],
   "source": [
    "#from datetime import fromtimestamp\n",
    "dataset_orig['ddate'] = dataset_orig['ddate'].apply(pd.to_datetime) "
   ]
  },
  {
   "cell_type": "code",
   "execution_count": 16,
   "metadata": {},
   "outputs": [],
   "source": [
    "dataset_orig['ddate'] = dataset_orig['ddate'].map(lambda x: x.date())"
   ]
  },
  {
   "cell_type": "code",
   "execution_count": 17,
   "metadata": {},
   "outputs": [],
   "source": [
    "#удаление заблокированных и ликвидированных\n",
    "#dataset_orig = dataset_orig[(dataset_orig['is_ufm']!=1) & (dataset_orig['date_liq'].isnull()) ]"
   ]
  },
  {
   "cell_type": "code",
   "execution_count": 18,
   "metadata": {},
   "outputs": [],
   "source": [
    "predict_period = dataset_orig.ddate.max()"
   ]
  },
  {
   "cell_type": "markdown",
   "metadata": {},
   "source": [
    "### Заполнение пропусков возраста клиента и компании"
   ]
  },
  {
   "cell_type": "code",
   "execution_count": 19,
   "metadata": {},
   "outputs": [],
   "source": [
    "def company_age(row):\n",
    "    d1, d2 = row[0], row[1]\n",
    "    if pd.notnull(d1) and pd.notnull(d2):\n",
    "        return max((d1.year - d2.year) * 12 + d1.month - d2.month, 0)\n",
    "    else:\n",
    "        return np.nan"
   ]
  },
  {
   "cell_type": "code",
   "execution_count": 20,
   "metadata": {
    "scrolled": true
   },
   "outputs": [],
   "source": [
    "ages_df = dataset_orig.groupby('inn').agg({'date_reg' : 'min', 'coming_date' : 'min', 'ddate' : 'min'})\n",
    "ages_df['start_comp_age'] = ages_df.loc[:, ['ddate', 'date_reg']].apply(company_age, axis=1)\n",
    "ages_df['start_cust_age'] = ages_df.loc[:, ['ddate', 'coming_date']].apply(company_age, axis=1)\n",
    "\n",
    "most_freq_start_comp_age = ages_df.start_comp_age.dropna().mode()[0]\n",
    "ages_df.start_comp_age  = ages_df.start_comp_age.fillna(value=most_freq_start_comp_age)\n",
    "\n",
    "most_freq_start_cust_age = ages_df.start_cust_age.dropna().mode()[0]\n",
    "ages_df.start_cust_age = ages_df.start_cust_age.fillna(value=most_freq_start_cust_age)\n",
    "ages_df = ages_df.drop(columns=['date_reg', 'coming_date', 'ddate'])\n",
    "\n",
    "dataset_orig = dataset_orig.merge(ages_df, left_on=['inn'], right_index=True)\n",
    "dataset_orig['comp_age'] = dataset_orig.start_comp_age + dataset_orig.t_elapsed\n",
    "dataset_orig['cust_age'] = dataset_orig.start_cust_age + dataset_orig.t_elapsed\n",
    "del ages_df"
   ]
  },
  {
   "cell_type": "code",
   "execution_count": 21,
   "metadata": {},
   "outputs": [
    {
     "data": {
      "text/plain": [
       "'dataset_orig = dataset_orig[dataset_orig.is_arest != 1]\\ndataset_orig.shape'"
      ]
     },
     "execution_count": 21,
     "metadata": {},
     "output_type": "execute_result"
    }
   ],
   "source": [
    "'''dataset_orig = dataset_orig[dataset_orig.is_arest != 1]\n",
    "dataset_orig.shape'''"
   ]
  },
  {
   "cell_type": "code",
   "execution_count": 22,
   "metadata": {},
   "outputs": [],
   "source": [
    "dataset_orig['ul'] = dataset_orig['inn'].map(lambda x : 1 if len(x)==10 else 0 )"
   ]
  },
  {
   "cell_type": "code",
   "execution_count": 23,
   "metadata": {},
   "outputs": [],
   "source": [
    "for i in ['deposit', 'credit',\n",
    "       'cl_status_pay', 'debet', 'nalog', 'count_bank', 'sum_other_bank',\n",
    "       'count_contr', 'fiz_debet', 'count_trans', 'credit_sum', 'count_bank_c',\n",
    "       'sum_other_bank_c', 'count_contr_c', 'count_trans_c', 'equar', 'cash',\n",
    "       'kom_doxod', 'cur_dvs', 'avg_dvs', 'sum_product','ufm','liq']:\n",
    "    dataset_orig[i] = dataset_orig[i].fillna(0)"
   ]
  },
  {
   "cell_type": "code",
   "execution_count": 24,
   "metadata": {
    "scrolled": true
   },
   "outputs": [],
   "source": [
    "dataset_orig['prime_category'] = np.where(dataset_orig['prime_category']=='Малый',1,0)"
   ]
  },
  {
   "cell_type": "code",
   "execution_count": 25,
   "metadata": {},
   "outputs": [],
   "source": [
    "dataset_orig['id'] = dataset_orig.inn.rank(method='dense').astype(int)\n",
    "#dataset_mod.id.nunique()"
   ]
  },
  {
   "cell_type": "markdown",
   "metadata": {},
   "source": [
    "### Выбор переменных, исправление типов переменных и приведение пропусков к одному виду"
   ]
  },
  {
   "cell_type": "code",
   "execution_count": 26,
   "metadata": {
    "scrolled": true
   },
   "outputs": [
    {
     "data": {
      "text/plain": [
       "datetime.date(2023, 1, 31)"
      ]
     },
     "execution_count": 26,
     "metadata": {},
     "output_type": "execute_result"
    }
   ],
   "source": [
    "import datetime\n",
    "dataset_mod = dataset_orig#[dataset_orig['ddate']< datetime.date(2021,3,31)]\n",
    "dataset_mod['ddate'].max()"
   ]
  },
  {
   "cell_type": "code",
   "execution_count": 27,
   "metadata": {},
   "outputs": [
    {
     "data": {
      "image/png": "[encoded data removed]",
      "text/plain": [
       "<Figure size 432x288 with 1 Axes>"
      ]
     },
     "metadata": {
      "needs_background": "light"
     },
     "output_type": "display_data"
    }
   ],
   "source": [
    "rand_ids = dataset_mod.inn.drop_duplicates().sample(n=30, random_state=1)\n",
    "rand_d = dataset_mod[dataset_mod.inn.isin(rand_ids)]\n",
    "rand_d['id'] = rand_d.inn.rank(method='dense').astype('int')\n",
    "plt.scatter(rand_d.time, rand_d.id, 0.4, label='client',marker = 'o',linewidths = 5)\n",
    "plt.xlabel('time')\n",
    "plt.ylabel('id')\n",
    "# plt.vlines(x=censoring_point,ymin=0,ymax=len(df_subset.id.unique()),color='red',linestyles='dotted',label = 'Censoring point')\n",
    "plt.legend()\n",
    "plt.show()"
   ]
  },
  {
   "cell_type": "code",
   "execution_count": 28,
   "metadata": {},
   "outputs": [
    {
     "data": {
      "text/plain": [
       "\"dataset_mod['id'] = dataset_mod.inn.rank(method='dense').astype(int)\\ndataset_mod.id.nunique()\""
      ]
     },
     "execution_count": 28,
     "metadata": {},
     "output_type": "execute_result"
    }
   ],
   "source": [
    "'''dataset_mod['id'] = dataset_mod.inn.rank(method='dense').astype(int)\n",
    "dataset_mod.id.nunique()'''"
   ]
  },
  {
   "cell_type": "code",
   "execution_count": 29,
   "metadata": {},
   "outputs": [
    {
     "data": {
      "text/plain": [
       "datetime.date(2023, 1, 31)"
      ]
     },
     "execution_count": 29,
     "metadata": {},
     "output_type": "execute_result"
    }
   ],
   "source": [
    "dataset_mod.ddate.max()"
   ]
  },
  {
   "cell_type": "code",
   "execution_count": 30,
   "metadata": {},
   "outputs": [
    {
     "name": "stdout",
     "output_type": "stream",
     "text": [
      "36\n"
     ]
    }
   ],
   "source": [
    "# максимальный номер периода (для обучения выбрать пораньше на неск. месяцев)\n",
    "max_seq_length = dataset_mod.time.max() - 1\n",
    "print(max_seq_length)\n",
    "starttimes_max = max_seq_length\n",
    "censoring_point = starttimes_max + 1"
   ]
  },
  {
   "cell_type": "code",
   "execution_count": 31,
   "metadata": {},
   "outputs": [
    {
     "data": {
      "text/plain": [
       "37"
      ]
     },
     "execution_count": 31,
     "metadata": {},
     "output_type": "execute_result"
    }
   ],
   "source": [
    "censoring_point"
   ]
  },
  {
   "cell_type": "code",
   "execution_count": 32,
   "metadata": {},
   "outputs": [],
   "source": [
    "  #  если клиент жив на макс. дату, то 0, иначе 1\n",
    "is_cens = dataset_mod.groupby('inn').time.agg(lambda x : 0 if x.max() >= censoring_point else 1)\n",
    "is_cens.name = 'cens'\n",
    "dataset_mod = dataset_mod.merge(is_cens, left_on='inn', right_index=True)"
   ]
  },
  {
   "cell_type": "code",
   "execution_count": 33,
   "metadata": {},
   "outputs": [],
   "source": [
    "# Для Сережи\n",
    "# serg_inn = dataset_mod.loc[dataset_mod.per_m > datetime(2019, 8, 1)].inn.drop_duplicates()\n",
    "# dataset_forecast = dataset_mod.loc[dataset_mod.inn.isin(serg_inn), :]\n",
    "# dataset_mod = dataset_mod.loc[dataset_mod.time != censoring_point, :]"
   ]
  },
  {
   "cell_type": "code",
   "execution_count": 34,
   "metadata": {},
   "outputs": [],
   "source": [
    "#dataset_forecast = dataset_mod.loc[dataset_mod.cens == 0, :] # все, кто жив на период (для тестирования)\n",
    "dataset_mod = dataset_mod.loc[dataset_mod.time < censoring_point, :] # КЛИЕНТЫ для обучения"
   ]
  },
  {
   "cell_type": "code",
   "execution_count": 35,
   "metadata": {
    "scrolled": true
   },
   "outputs": [],
   "source": [
    "dataset_mod['tte'] = dataset_mod.groupby('inn', group_keys=False).apply(lambda g : g.t_elapsed.max() - g.t_elapsed)"
   ]
  },
  {
   "cell_type": "code",
   "execution_count": 36,
   "metadata": {
    "scrolled": true
   },
   "outputs": [
    {
     "data": {
      "text/plain": [
       "(4897608, 84)"
      ]
     },
     "execution_count": 36,
     "metadata": {},
     "output_type": "execute_result"
    }
   ],
   "source": [
    "max_tte = dataset_mod.groupby('inn').apply(lambda g : g.tte.max())\n",
    "dataset_mod = dataset_mod[dataset_mod.inn.isin(max_tte[max_tte>=0].index)]\n",
    "dataset_mod.shape"
   ]
  },
  {
   "cell_type": "code",
   "execution_count": 37,
   "metadata": {},
   "outputs": [],
   "source": [
    "max_cust_age = dataset_mod.groupby('inn').apply(lambda g : g.cust_age.max())"
   ]
  },
  {
   "cell_type": "code",
   "execution_count": 38,
   "metadata": {},
   "outputs": [],
   "source": [
    "#dataset_mod['liq'] = np.where(dataset_mod['liq'].notna(),1,0)\n",
    "#dataset_mod['revenue_calc'] = dataset_mod['revenue_calc']/(10**3)"
   ]
  },
  {
   "cell_type": "code",
   "execution_count": 39,
   "metadata": {},
   "outputs": [
    {
     "data": {
      "text/plain": [
       "((4897608, 84), (4897608, 84))"
      ]
     },
     "execution_count": 39,
     "metadata": {},
     "output_type": "execute_result"
    }
   ],
   "source": [
    "dataset_mod1 = dataset_mod#[(dataset_mod['is_ufm']!=1)&(dataset_mod['date_liq'].isna())]\n",
    "dataset_mod1.shape,dataset_mod.shape"
   ]
  },
  {
   "cell_type": "code",
   "execution_count": 40,
   "metadata": {},
   "outputs": [],
   "source": [
    "#del dataset_mod"
   ]
  },
  {
   "cell_type": "code",
   "execution_count": 41,
   "metadata": {},
   "outputs": [],
   "source": [
    "#dataset_mod1 = dataset_mod1[dataset_mod1.inn.isin(max_tte[max_tte>=2].index)]"
   ]
  },
  {
   "cell_type": "code",
   "execution_count": 42,
   "metadata": {
    "scrolled": true
   },
   "outputs": [],
   "source": [
    "# распределние живых и мертвых в выборке\n",
    "is_cens_mod = dataset_mod1.groupby('inn').cens.max()\n",
    "is_cens_mod.value_counts()\n",
    "\n",
    "cens_inn = is_cens_mod[(is_cens_mod == 0) ]#& (is_cens_mod.index.isin(part_new.index))]\n",
    "uncens_inn = is_cens_mod[(is_cens_mod == 1)]# & (is_cens_mod.index.isin(part_new.index))]"
   ]
  },
  {
   "cell_type": "code",
   "execution_count": 43,
   "metadata": {},
   "outputs": [],
   "source": [
    "# искусственное уменьшение выборки с живыми\n",
    "#cens_rate = 0.5\n",
    "#cens_inn = resample(cens_inn, replace=False, n_samples = int(uncens_inn.shape[0] * (1 - cens_rate) / cens_rate))\n",
    "new_samples = pd.concat([cens_inn, uncens_inn])"
   ]
  },
  {
   "cell_type": "code",
   "execution_count": 44,
   "metadata": {},
   "outputs": [
    {
     "data": {
      "text/plain": [
       "1    385199\n",
       "0    143660\n",
       "Name: cens, dtype: int64"
      ]
     },
     "execution_count": 44,
     "metadata": {},
     "output_type": "execute_result"
    }
   ],
   "source": [
    "#new_samples = pd.concat([new_samples,new_samples[new_samples==1]],axis=0)\n",
    "new_samples.value_counts()"
   ]
  },
  {
   "cell_type": "code",
   "execution_count": 45,
   "metadata": {},
   "outputs": [],
   "source": [
    "dataset_mod1['sup_manager1'] = np.where(dataset_mod1['sup_manager'].isna(),0,1)"
   ]
  },
  {
   "cell_type": "code",
   "execution_count": 46,
   "metadata": {
    "scrolled": true
   },
   "outputs": [],
   "source": [
    "# split data to train and test\n",
    "train_inns, test_inns = train_test_split(new_samples, train_size=0.8,stratify=new_samples,random_state = 4)\n",
    "\n",
    "train_dataset_mod = dataset_mod1[dataset_mod1.inn.isin(train_inns.index)]\n",
    "test_dataset_mod = dataset_mod1[dataset_mod1.inn.isin(test_inns.index)]"
   ]
  },
  {
   "cell_type": "code",
   "execution_count": 47,
   "metadata": {},
   "outputs": [
    {
     "data": {
      "text/plain": [
       "1    308159\n",
       "0    114928\n",
       "Name: cens, dtype: int64"
      ]
     },
     "execution_count": 47,
     "metadata": {},
     "output_type": "execute_result"
    }
   ],
   "source": [
    "# распределние живых и мертвых в выборке\n",
    "is_cens_mod = train_dataset_mod.groupby('inn').cens.max()\n",
    "is_cens_mod.value_counts()"
   ]
  },
  {
   "cell_type": "code",
   "execution_count": 48,
   "metadata": {},
   "outputs": [],
   "source": [
    "cens_inn1 = is_cens_mod[(is_cens_mod == 0) ]#& (is_cens_mod.index.isin(part_new.index))]\n",
    "uncens_inn1 = is_cens_mod[(is_cens_mod == 1)]"
   ]
  },
  {
   "cell_type": "code",
   "execution_count": 49,
   "metadata": {
    "scrolled": true
   },
   "outputs": [],
   "source": [
    "# искусственное уменьшение выборки с живыми \n",
    "#(если не применять, то почти для всех клиентов будут выдаваться очень большие значения, в итоге медианная ошибка будет большой)\n",
    "\n",
    "cens_rate = 0.75\n",
    "cens_inn1 = resample(cens_inn1, replace=False, n_samples = int(uncens_inn1.shape[0] * (1 - cens_rate) / cens_rate))\n",
    "new = pd.concat([cens_inn1, uncens_inn1])\n",
    "train_dataset_mod = train_dataset_mod[train_dataset_mod.inn.isin(new.index)]"
   ]
  },
  {
   "cell_type": "markdown",
   "metadata": {},
   "source": [
    "#### Подготовка выборок"
   ]
  },
  {
   "cell_type": "code",
   "execution_count": 50,
   "metadata": {},
   "outputs": [],
   "source": [
    "dataset_orig['ddate'] = dataset_orig['ddate'].apply(pd.to_datetime)\n",
    "\n",
    "dataset_orig['ddate'] = dataset_orig['ddate'].map(lambda x: x.date())"
   ]
  },
  {
   "cell_type": "code",
   "execution_count": 51,
   "metadata": {},
   "outputs": [],
   "source": [
    "#dataset_orig['liq'] = np.where(dataset_orig['liq'].notna(),1,0)"
   ]
  },
  {
   "cell_type": "code",
   "execution_count": 52,
   "metadata": {
    "scrolled": true
   },
   "outputs": [],
   "source": [
    "# выборка для ежемесячного ПРОГНОЗА\n",
    "test = dataset_orig[(dataset_orig['ddate']<=ddate)]\n",
    "\n",
    "inn = dataset_orig[(dataset_orig['ddate']==ddate)\\\n",
    "                  #(dataset_orig['cust_age']>=0)&(dataset_orig['ufm']!=1) & (dataset_orig['liq']!=1)\n",
    "                  ]['inn']\n",
    "                    \n",
    "\n",
    "dataset_forecast = test[test['inn'].isin(inn)] # выборка для прогноза"
   ]
  },
  {
   "cell_type": "code",
   "execution_count": 53,
   "metadata": {},
   "outputs": [],
   "source": [
    "for data in (train_dataset_mod,test_dataset_mod,dataset_forecast):    \n",
    "    data['cr/db'] = data['credit_sum']/data['debet']\n",
    "    data['cr/db_contr'] = data['count_contr_c']/data['count_contr']\n",
    "    data['other_debet'] = data['sum_other_bank']/data['debet']\n",
    "    data['other_credit'] = data['sum_other_bank_c']/data['credit_sum']\n",
    "    data['kom/debet'] = data['kom_doxod']/data['debet']\n",
    "    data['cash_debet'] = data['cash']/data['debet']\n",
    "    data['debet/dvs'] = data['debet']/data['avg_dvs']\n",
    "    data['credit+debet'] = data['credit_sum']+data['debet']"
   ]
  },
  {
   "cell_type": "code",
   "execution_count": 54,
   "metadata": {
    "scrolled": true
   },
   "outputs": [],
   "source": [
    "#dataset_mod['sup_manager1'] = np.where(dataset_mod['sup_manager'].isna(),0,1)\n",
    "dataset_forecast['sup_manager1'] = np.where(dataset_forecast['sup_manager'].isna(),0,1)"
   ]
  },
  {
   "cell_type": "code",
   "execution_count": 55,
   "metadata": {
    "scrolled": true
   },
   "outputs": [],
   "source": [
    "for data in (train_dataset_mod,test_dataset_mod,dataset_forecast):    \n",
    "    for j in ['corp_card', 'factoring', 'nkl', 'nso', 'business_prepaid',\n",
    "       'overdraft', 'depp', 'vkl', 'letter_credit', 'bss', 'inkass', 'pledge',\n",
    "       'sms', 'ins', 'acc_cur', 'depp_5', 'depp_3', 'convers']:\n",
    "        data[j] = data[j].fillna(0)"
   ]
  },
  {
   "cell_type": "code",
   "execution_count": 56,
   "metadata": {
    "scrolled": true
   },
   "outputs": [],
   "source": [
    "#s = StandardScaler()\n",
    "\n",
    "id_cols = ['id', 'inn']\n",
    "time_cols = ['ddate', 'tte', 'cens','t_elapsed']\n",
    "sum_cols = ['debet', 'nalog','sum_other_bank', 'fiz_debet',\n",
    "       'credit_sum', 'equar', 'kom_doxod', 'cur_dvs', 'avg_dvs','revenue_calc','cash',#'regular_week',#'regular_month',\n",
    "           'credit+debet','sum_zp'\n",
    "           ]\n",
    "categ_features_cols = ['cl_status_pay']#,'kind_ib,'rko_package']\n",
    "bin_categ_cols = ['deposit', 'credit','ul','prime_category','other_bank_sber', 'other_bank_vtb',\n",
    "       'other_bank_alpha', 'other_bank_tinkoff','tax_restrictions','flag_of_strategic_client',\n",
    "                 'flag_phone_number','flag_phone_mobile','sup_manager1','corp_card','liq','ufm'\n",
    "                 ,'factoring', 'nkl', 'nso', 'business_prepaid',\n",
    "       'overdraft', 'depp', 'vkl', 'letter_credit', 'bss', 'inkass', 'pledge',\n",
    "       'sms', 'ins', 'acc_cur', 'depp_5', 'depp_3', 'convers'\n",
    "                 ]\n",
    "order_features_cols = ['comp_age', 'cust_age','count_bank','count_contr','count_trans','count_bank_c', 'sum_other_bank_c',\n",
    "       'count_contr_c', 'count_trans_c','sum_product','count_company_clients_bank','d_before_defrost_communication']\n",
    "med = ['distance_of','prob_block','wallet_share','prob_act']\n",
    "dinam = [ 'cr/db',\n",
    "       'cr/db_contr', 'other_debet', 'other_credit', 'kom/debet', 'cash_debet',\n",
    "       'debet/dvs']\n",
    "#in_tran_cols = ['okved_dop','hub_dop']\n",
    "\n",
    "#s.fit(train_dataset_mod[num_cols])"
   ]
  },
  {
   "cell_type": "code",
   "execution_count": 57,
   "metadata": {
    "scrolled": true
   },
   "outputs": [],
   "source": [
    "dataset_forecast['cens'] = 0\n",
    "dataset_forecast['tte'] = 0\n",
    "\n",
    "cols_names = id_cols + time_cols + sum_cols + order_features_cols + bin_categ_cols + categ_features_cols+med +dinam#+ in_tran_cols\n",
    "# поменять местами\n",
    "train_dataset_mod = train_dataset_mod.loc[:, cols_names]\n",
    "test_dataset_mod = test_dataset_mod.loc[:, cols_names]\n",
    "dataset_forecast = dataset_forecast.loc[:, cols_names]"
   ]
  },
  {
   "cell_type": "code",
   "execution_count": 58,
   "metadata": {},
   "outputs": [
    {
     "data": {
      "text/plain": [
       "array(['Постоянный', 'Периодический', 'Неплатящий', 'Мерцающий'],\n",
       "      dtype=object)"
      ]
     },
     "execution_count": 58,
     "metadata": {},
     "output_type": "execute_result"
    }
   ],
   "source": [
    "train_dataset_mod['cl_status_pay'].unique()"
   ]
  },
  {
   "cell_type": "code",
   "execution_count": 59,
   "metadata": {},
   "outputs": [],
   "source": [
    "dic = {'Постоянный' : 0, 'Периодический' : 1, 'Мерцающий' : 2, 'Неплатящий' : 3}\n",
    "train_dataset_mod['cl_status_pay'] = train_dataset_mod['cl_status_pay'].map(dic)\n",
    "test_dataset_mod['cl_status_pay'] = test_dataset_mod['cl_status_pay'].map(dic)\n",
    "dataset_forecast['cl_status_pay'] = dataset_forecast['cl_status_pay'].map(dic)"
   ]
  },
  {
   "cell_type": "code",
   "execution_count": 60,
   "metadata": {},
   "outputs": [],
   "source": [
    "import warnings\n",
    "warnings.filterwarnings(\"ignore\")"
   ]
  },
  {
   "cell_type": "code",
   "execution_count": 61,
   "metadata": {},
   "outputs": [],
   "source": [
    "#__________________"
   ]
  },
  {
   "cell_type": "code",
   "execution_count": 62,
   "metadata": {
    "scrolled": true
   },
   "outputs": [],
   "source": [
    "id_cols = ['id', 'inn']\n",
    "time_cols = ['ddate', 'tte', 'cens','t_elapsed']\n",
    "cols_names = id_cols + time_cols + sum_cols + order_features_cols + bin_categ_cols + categ_features_cols+med +dinam \n",
    "train_dataset_mod = train_dataset_mod.loc[:, cols_names]\n",
    "test_dataset_mod = test_dataset_mod.loc[:, cols_names]\n",
    "dataset_forecast = dataset_forecast.loc[:, cols_names]"
   ]
  },
  {
   "cell_type": "code",
   "execution_count": 63,
   "metadata": {},
   "outputs": [
    {
     "data": {
      "text/plain": [
       "(3639886, 76)"
      ]
     },
     "execution_count": 63,
     "metadata": {},
     "output_type": "execute_result"
    }
   ],
   "source": [
    "train_dataset_mod.shape"
   ]
  },
  {
   "cell_type": "code",
   "execution_count": 64,
   "metadata": {},
   "outputs": [],
   "source": [
    "train_dataset_mod = train_dataset_mod[(train_dataset_mod['cust_age']/12) <= 30]\n",
    "test_dataset_mod = test_dataset_mod[(test_dataset_mod['cust_age']/12) <= 30]\n",
    "dataset_forecast = dataset_forecast[(dataset_forecast['cust_age']/12) <= 30]"
   ]
  },
  {
   "cell_type": "code",
   "execution_count": 65,
   "metadata": {},
   "outputs": [
    {
     "data": {
      "text/plain": [
       "29.083333333333332"
      ]
     },
     "execution_count": 65,
     "metadata": {},
     "output_type": "execute_result"
    }
   ],
   "source": [
    "np.quantile(train_dataset_mod['cust_age']/12,0.9999)"
   ]
  },
  {
   "cell_type": "code",
   "execution_count": 66,
   "metadata": {},
   "outputs": [],
   "source": [
    "train_dataset_mod1 = train_dataset_mod\n",
    "test_dataset_mod1 = test_dataset_mod\n",
    "dataset_forecast1 = dataset_forecast"
   ]
  },
  {
   "cell_type": "code",
   "execution_count": 67,
   "metadata": {},
   "outputs": [
    {
     "data": {
      "text/plain": [
       "\"train_dataset_mod1 = pd.get_dummies(train_dataset_mod1,columns = ['rko_package','cl_status_pay'],drop_first = True)\\n\\ntest_dataset_mod1 = pd.get_dummies(test_dataset_mod1,columns = ['rko_package','cl_status_pay'],drop_first = True)\\ndataset_forecast1 = pd.get_dummies(dataset_forecast1,columns = ['rko_package','cl_status_pay'],drop_first = True)\""
      ]
     },
     "execution_count": 67,
     "metadata": {},
     "output_type": "execute_result"
    }
   ],
   "source": [
    "#for data in (train_dataset_mod1,test_dataset_mod1,dataset_forecast1):\n",
    "'''train_dataset_mod1 = pd.get_dummies(train_dataset_mod1,columns = ['rko_package','cl_status_pay'],drop_first = True)\n",
    "\n",
    "test_dataset_mod1 = pd.get_dummies(test_dataset_mod1,columns = ['rko_package','cl_status_pay'],drop_first = True)\n",
    "dataset_forecast1 = pd.get_dummies(dataset_forecast1,columns = ['rko_package','cl_status_pay'],drop_first = True)'''"
   ]
  },
  {
   "cell_type": "code",
   "execution_count": 68,
   "metadata": {},
   "outputs": [],
   "source": [
    "for i in (train_dataset_mod1,test_dataset_mod1,dataset_forecast1):\n",
    "    i['liq'] = np.where(i['liq']==0,0,1)"
   ]
  },
  {
   "cell_type": "code",
   "execution_count": 69,
   "metadata": {
    "scrolled": true
   },
   "outputs": [],
   "source": [
    "'''bin_categ_cols1 = bin_categ_cols + ['rko_package_МСБ. Весь мир', 'rko_package_МСБ. Начни с нуля',\n",
    "       'rko_package_МСБ. Открытые возможности', 'rko_package_МСБ. Первый шаг',\n",
    "       'rko_package_МСБ. Свой бизнес', 'rko_package_МСБ.Большие планы',\n",
    "       'rko_package_МСБ.Общее дело', 'rko_package_РКО', 'rko_package_ЦТС',\n",
    "       'cl_status_pay_Неплатящий', 'cl_status_pay_Периодический',\n",
    "       'cl_status_pay_Постоянный']'''\n",
    "\n",
    "for i in [sum_cols + order_features_cols + bin_categ_cols +med +dinam + categ_features_cols]:\n",
    "    train_dataset_mod1[i] = train_dataset_mod1[i].astype('float')\n",
    "    test_dataset_mod1[i] = test_dataset_mod1[i].astype('float')\n",
    "    dataset_forecast1[i] = dataset_forecast1[i].astype('float')"
   ]
  },
  {
   "cell_type": "code",
   "execution_count": 70,
   "metadata": {},
   "outputs": [],
   "source": [
    "for i in dinam:\n",
    "    for j in [train_dataset_mod1,test_dataset_mod1,dataset_forecast1]:\n",
    "        j[i] = np.where(j[i]==float('inf'),777777777,j[i])\n",
    "        j[i] = np.where(j[i]==-float('inf'),-777777777,j[i])"
   ]
  },
  {
   "cell_type": "code",
   "execution_count": 71,
   "metadata": {},
   "outputs": [],
   "source": [
    "column_imput = make_column_transformer(\n",
    "       (SimpleImputer(strategy='constant'), sum_cols+dinam),\n",
    "       (SimpleImputer(strategy='median'), med),\n",
    "      (SimpleImputer(strategy='constant', ), order_features_cols),\n",
    "      (SimpleImputer(strategy='constant'), categ_features_cols),\n",
    "     (SimpleImputer(strategy='constant' ), bin_categ_cols),\n",
    "        remainder='passthrough',\n",
    "        sparse_threshold=0.3,\n",
    "        )"
   ]
  },
  {
   "cell_type": "code",
   "execution_count": 72,
   "metadata": {
    "scrolled": true
   },
   "outputs": [],
   "source": [
    "id_cols = ['id', 'inn']\n",
    "time_cols = ['ddate', 'tte', 'cens','t_elapsed']\n",
    "cols_names =  sum_cols +dinam +med + order_features_cols+ categ_features_cols + bin_categ_cols  + id_cols + time_cols\n",
    "train_dataset_mod1 = train_dataset_mod1.loc[:, cols_names]\n",
    "test_dataset_mod1 = test_dataset_mod1.loc[:, cols_names]\n",
    "dataset_forecast1 = dataset_forecast1.loc[:, cols_names]"
   ]
  },
  {
   "cell_type": "code",
   "execution_count": 73,
   "metadata": {
    "scrolled": true
   },
   "outputs": [],
   "source": [
    "train_dataset_mod1 = pd.DataFrame(column_imput.fit_transform(train_dataset_mod1), columns=train_dataset_mod1.columns)"
   ]
  },
  {
   "cell_type": "code",
   "execution_count": 74,
   "metadata": {
    "scrolled": true
   },
   "outputs": [],
   "source": [
    "test_dataset_mod1 = pd.DataFrame(column_imput.transform(test_dataset_mod1), columns=test_dataset_mod1.columns)"
   ]
  },
  {
   "cell_type": "code",
   "execution_count": 75,
   "metadata": {},
   "outputs": [],
   "source": [
    "dataset_forecast1 = pd.DataFrame(column_imput.transform(dataset_forecast1), columns=dataset_forecast1.columns)"
   ]
  },
  {
   "cell_type": "code",
   "execution_count": 76,
   "metadata": {},
   "outputs": [],
   "source": [
    "main_cont_transformer = Pipeline(steps=[\n",
    "            ('log', FunctionTransformer(lambda x : np.log(np.abs(x.astype(float)+1)), validate=False)),\n",
    "            ('scaler', StandardScaler()),\n",
    "        ])\n",
    "\n",
    "column_tranform = make_column_transformer(\n",
    "        (main_cont_transformer, sum_cols),\n",
    "        (StandardScaler(), order_features_cols+dinam),\n",
    "        (CatBoostEncoder(), categ_features_cols),\n",
    "        (OneHotEncoder(drop='if_binary'), bin_categ_cols),\n",
    "        remainder='passthrough',\n",
    "        sparse_threshold=0.3,\n",
    "        )"
   ]
  },
  {
   "cell_type": "code",
   "execution_count": 77,
   "metadata": {},
   "outputs": [],
   "source": [
    "id_cols = ['id', 'inn']\n",
    "time_cols = ['ddate', 'tte', 'cens','t_elapsed']\n",
    "cols_names =  sum_cols+ order_features_cols +dinam  + categ_features_cols + bin_categ_cols  + id_cols + time_cols +med\n",
    "train_dataset_mod1 = train_dataset_mod1.loc[:, cols_names]\n",
    "test_dataset_mod1 = test_dataset_mod1.loc[:, cols_names]\n",
    "dataset_forecast1 = dataset_forecast1.loc[:, cols_names]"
   ]
  },
  {
   "cell_type": "code",
   "execution_count": 78,
   "metadata": {},
   "outputs": [],
   "source": [
    "def feat_trans_fit_transform(df):\n",
    "    tte = df.tte\n",
    "    tmp_matr = column_tranform.fit_transform(df, tte)\n",
    "    col_names = sum_cols+ order_features_cols +dinam  + categ_features_cols + bin_categ_cols  + id_cols + time_cols +med\n",
    "    if isinstance(tmp_matr, scipy.sparse.spmatrix):\n",
    "        tmp_df = pd.DataFrame.sparse.from_spmatrix(tmp_matr, columns=col_names)\n",
    "    else:\n",
    "        tmp_df = pd.DataFrame(tmp_matr, columns=col_names)\n",
    "    return tmp_df"
   ]
  },
  {
   "cell_type": "code",
   "execution_count": 79,
   "metadata": {
    "scrolled": true
   },
   "outputs": [],
   "source": [
    "train_dataset_mod1 = feat_trans_fit_transform(train_dataset_mod1)"
   ]
  },
  {
   "cell_type": "code",
   "execution_count": 80,
   "metadata": {},
   "outputs": [],
   "source": [
    "#del train_dataset_mod2"
   ]
  },
  {
   "cell_type": "code",
   "execution_count": 81,
   "metadata": {},
   "outputs": [],
   "source": [
    "def feat_trans_transform(df):\n",
    "    tmp_matr = column_tranform.transform(df)\n",
    "    col_names = sum_cols+ order_features_cols +dinam  + categ_features_cols + bin_categ_cols  + id_cols + time_cols +med\n",
    "    if isinstance(tmp_matr, scipy.sparse.spmatrix):\n",
    "        tmp_df = pd.DataFrame.sparse.from_spmatrix(tmp_matr, columns=col_names)\n",
    "    else:\n",
    "        tmp_df = pd.DataFrame(tmp_matr, columns=col_names)\n",
    "    return tmp_df"
   ]
  },
  {
   "cell_type": "code",
   "execution_count": 82,
   "metadata": {},
   "outputs": [],
   "source": [
    "test_dataset_mod1 = feat_trans_transform(test_dataset_mod1)"
   ]
  },
  {
   "cell_type": "code",
   "execution_count": 83,
   "metadata": {},
   "outputs": [],
   "source": [
    "dataset_forecast1 = feat_trans_transform(dataset_forecast1)"
   ]
  },
  {
   "cell_type": "markdown",
   "metadata": {},
   "source": [
    "### Подготовка модели"
   ]
  },
  {
   "cell_type": "code",
   "execution_count": 84,
   "metadata": {},
   "outputs": [
    {
     "name": "stdout",
     "output_type": "stream",
     "text": [
      "tte_mean_train 11.945961734705099 init_alpha:  16.583813802559394 mean uncensored train:  0.7500845937188859\n"
     ]
    }
   ],
   "source": [
    "tte_mean_train = train_dataset_mod1.tte.mean()\n",
    "mean_u = train_dataset_mod1.groupby('id').cens.max().mean()\n",
    "\n",
    "# Initialization value for alpha-bias\n",
    "init_alpha = -1.0 / np.log(1.0 - 1.0 / (tte_mean_train + 1.0))\n",
    "init_alpha = init_alpha/mean_u\n",
    "print('tte_mean_train', tte_mean_train, 'init_alpha: ', init_alpha, 'mean uncensored train: ', mean_u)"
   ]
  },
  {
   "cell_type": "code",
   "execution_count": 85,
   "metadata": {},
   "outputs": [],
   "source": [
    "#med.remove('prob_act')\n",
    "#sum_cols.remove('mail_count')\n",
    "#sum_cols.remove('sum_zp')\n",
    "#bin_categ_cols.remove('corp_card')\n",
    "#order_features_cols.remove('t_elapsed')"
   ]
  },
  {
   "cell_type": "code",
   "execution_count": 86,
   "metadata": {},
   "outputs": [],
   "source": [
    "#from phased_lstm_keras.PhasedLSTM import PhasedLSTM\n",
    "reduce_lr = callbacks.ReduceLROnPlateau(monitor='loss',\n",
    "                                        factor=0.5, \n",
    "                                        patience=10,\n",
    "                                        verbose=1,\n",
    "                                        mode='auto', \n",
    "                                        min_delta=0.0001,\n",
    "                                        cooldown=5,\n",
    "                                        min_lr=1e-6,random_state=1)\n",
    "\n",
    "k.set_epsilon(1e-10)\n",
    "\n",
    "nanterminator = callbacks.TerminateOnNaN()\n",
    "history = callbacks.History()\n",
    "weightwatcher = WeightWatcher(per_batch=False, per_epoch=True)\n",
    "\n",
    "features_cols = dinam + sum_cols + med + order_features_cols +categ_features_cols + bin_categ_cols\n",
    "\n",
    "n_features = len(features_cols)\n",
    "mask_value = -100.0\n",
    "reg_l1 = regularizers.l1(0.01)    \n",
    "reg_l2 = regularizers.l2(0.01)\n",
    "    \n",
    "def base_model():\n",
    "    model = Sequential()\n",
    "    model.add(Masking(mask_value=mask_value, input_shape=(None, n_features)))\n",
    "    model.add(GRU(22, activation='tanh', return_sequences=True, recurrent_dropout=0, kernel_regularizer=reg_l2,\n",
    "                 bias_regularizer=reg_l2, recurrent_regularizer=None))\n",
    "    \n",
    "    model.add(BatchNormalization(axis=-1, momentum=0.95, epsilon=0.01))\n",
    "    #model.add(LSTM(16, activation='tanh', return_sequences=True, recurrent_dropout=0, kernel_regularizer=reg_l2,\n",
    "                 # bias_regularizer=reg_l2, recurrent_regularizer=None))\n",
    "    model.add(GRU(16,activation='tanh', return_sequences=True, recurrent_dropout=0, kernel_regularizer=reg_l2,\n",
    "                  bias_regularizer=reg_l2, recurrent_regularizer=None))\n",
    "    \n",
    "    model.add(BatchNormalization(axis=-1, momentum=0.95, epsilon=0.01))\n",
    "    model.add(GaussianDropout(0.05)) # Recurrent dropout + Batchnorm doesn't jive well. This is alternative.\n",
    "    \n",
    "    model.add(TimeDistributed(Dense(12, activation='relu', kernel_regularizer=reg_l2, bias_regularizer=reg_l2\n",
    "                                 )))\n",
    "    \n",
    "    return model\n",
    "\n",
    "def wtte_rnn():\n",
    "    model = base_model()\n",
    "    model.add(TimeDistributed(Dense(2, kernel_regularizer=reg_l2, bias_regularizer=reg_l2)))\n",
    "    model.add(Lambda(wtte.output_lambda, \n",
    "                     arguments={\"init_alpha\" : init_alpha,\n",
    "                                \"max_beta_value\" : 5.0,\n",
    "                                \"scalefactor\":1/np.log(12)\n",
    "                                }))\n",
    "    \n",
    "\n",
    "    loss = wtte.loss(kind='discrete', reduce_loss=False, clip_prob=1e-10).loss_function\n",
    "    model.compile(loss=loss, optimizer=Adam(lr=0.01, clipvalue=0.5), sample_weight_mode='temporal')\n",
    "    return model"
   ]
  },
  {
   "cell_type": "code",
   "execution_count": 87,
   "metadata": {
    "scrolled": true
   },
   "outputs": [
    {
     "name": "stderr",
     "output_type": "stream",
     "text": [
      "2023-02-07 13:23:35.075558: I tensorflow/core/platform/cpu_feature_guard.cc:143] Your CPU supports instructions that this TensorFlow binary was not compiled to use: SSE4.1 SSE4.2 AVX AVX2 AVX512F FMA\n",
      "2023-02-07 13:23:35.087537: I tensorflow/core/platform/profile_utils/cpu_utils.cc:102] CPU Frequency: 2095074999 Hz\n",
      "2023-02-07 13:23:35.089105: I tensorflow/compiler/xla/service/service.cc:168] XLA service 0x55c4fc513f00 initialized for platform Host (this does not guarantee that XLA will be used). Devices:\n",
      "2023-02-07 13:23:35.089137: I tensorflow/compiler/xla/service/service.cc:176]   StreamExecutor device (0): Host, Default Version\n",
      "2023-02-07 13:23:35.089556: I tensorflow/core/common_runtime/process_util.cc:147] Creating new thread pool with default inter op setting: 2. Tune using inter_op_parallelism_threads for best performance.\n"
     ]
    },
    {
     "name": "stdout",
     "output_type": "stream",
     "text": [
      "Model: \"sequential_1\"\n",
      "_________________________________________________________________\n",
      "Layer (type)                 Output Shape              Param #   \n",
      "=================================================================\n",
      "masking_1 (Masking)          (None, None, 70)          0         \n",
      "_________________________________________________________________\n",
      "gru_1 (GRU)                  (None, None, 22)          6138      \n",
      "_________________________________________________________________\n",
      "batch_normalization_1 (Batch (None, None, 22)          88        \n",
      "_________________________________________________________________\n",
      "gru_2 (GRU)                  (None, None, 16)          1872      \n",
      "_________________________________________________________________\n",
      "batch_normalization_2 (Batch (None, None, 16)          64        \n",
      "_________________________________________________________________\n",
      "gaussian_dropout_1 (Gaussian (None, None, 16)          0         \n",
      "_________________________________________________________________\n",
      "time_distributed_1 (TimeDist (None, None, 12)          204       \n",
      "_________________________________________________________________\n",
      "time_distributed_2 (TimeDist (None, None, 2)           26        \n",
      "_________________________________________________________________\n",
      "lambda_1 (Lambda)            (None, None, 2)           0         \n",
      "=================================================================\n",
      "Total params: 8,392\n",
      "Trainable params: 8,316\n",
      "Non-trainable params: 76\n",
      "_________________________________________________________________\n"
     ]
    }
   ],
   "source": [
    "model = wtte_rnn()\n",
    "model.summary()"
   ]
  },
  {
   "cell_type": "markdown",
   "metadata": {},
   "source": [
    "### Обучение на целом наборе данных (плотные матрицы)"
   ]
  },
  {
   "cell_type": "code",
   "execution_count": 92,
   "metadata": {},
   "outputs": [
    {
     "data": {
      "text/plain": [
       "(70, (2672229, 76))"
      ]
     },
     "execution_count": 92,
     "metadata": {},
     "output_type": "execute_result"
    }
   ],
   "source": [
    "len(features_cols),train_dataset_mod1.shape\n",
    "#features_cols"
   ]
  },
  {
   "cell_type": "code",
   "execution_count": 93,
   "metadata": {},
   "outputs": [
    {
     "data": {
      "text/plain": [
       "count    2.672229e+06\n",
       "mean     9.968322e+01\n",
       "std      8.666848e+01\n",
       "min      0.000000e+00\n",
       "25%      2.400000e+01\n",
       "50%      8.000000e+01\n",
       "75%      1.630000e+02\n",
       "max      1.198000e+03\n",
       "Name: comp_age, dtype: float64"
      ]
     },
     "execution_count": 93,
     "metadata": {},
     "output_type": "execute_result"
    }
   ],
   "source": [
    "train_dataset_mod['comp_age'].astype('int').describe()"
   ]
  },
  {
   "cell_type": "code",
   "execution_count": null,
   "metadata": {
    "scrolled": true
   },
   "outputs": [
    {
     "data": {
      "text/plain": [
       "\"features_cols = list(train_dataset_mod1[sum_cols + id_cols + time_cols].columns)\\nfeatures_cols.remove('ddate')\\nfeatures_cols.remove('cash')\""
      ]
     },
     "execution_count": 96,
     "metadata": {},
     "output_type": "execute_result"
    }
   ],
   "source": [
    "#features_cols1 = features_cols\n",
    "#features_cols = list(train_dataset_mod1.columns)\n",
    "'''features_cols = list(train_dataset_mod1[sum_cols + id_cols + time_cols].columns)\n",
    "features_cols.remove('ddate')\n",
    "features_cols.remove('cash')'''"
   ]
  },
  {
   "cell_type": "code",
   "execution_count": null,
   "metadata": {
    "scrolled": true
   },
   "outputs": [
    {
     "data": {
      "text/plain": [
       "'train_dataset_mod2 = train_dataset_mod1\\ntest_dataset_mod2 = test_dataset_mod1\\n\\ntrain_dataset_mod1 = train_dataset_mod2[features_cols]\\ntest_dataset_mod1 = test_dataset_mod2[features_cols]'"
      ]
     },
     "execution_count": 97,
     "metadata": {},
     "output_type": "execute_result"
    }
   ],
   "source": [
    "'''train_dataset_mod2 = train_dataset_mod1\n",
    "test_dataset_mod2 = test_dataset_mod1\n",
    "\n",
    "train_dataset_mod1 = train_dataset_mod2[features_cols]\n",
    "test_dataset_mod1 = test_dataset_mod2[features_cols]'''"
   ]
  },
  {
   "cell_type": "code",
   "execution_count": 94,
   "metadata": {
    "scrolled": true
   },
   "outputs": [],
   "source": [
    "# make padded train\n",
    "train_dataset_mod1.t_elapsed = train_dataset_mod1.t_elapsed.astype(int)\n",
    "if any(isinstance(t, pd.SparseDtype) for t in train_dataset_mod1.dtypes):\n",
    "    x_train = tr.df_to_padded(df=train_dataset_mod1.sparse.to_dense(), column_names=features_cols, id_col='id',\n",
    "                              t_col='t_elapsed')\n",
    "    y_train = tr.df_to_padded(df=train_dataset_mod1.sparse.to_dense(), column_names=['tte', 'cens'], id_col='id',\n",
    "                              t_col='t_elapsed')\n",
    "else:\n",
    "    x_train = tr.df_to_padded(df=train_dataset_mod1, column_names=features_cols, id_col='id', t_col='t_elapsed')\n",
    "    y_train = tr.df_to_padded(df=train_dataset_mod1, column_names=['tte', 'cens'], id_col='id', t_col='t_elapsed')\n",
    "\n",
    "x_train[:,:,:][np.isnan(x_train)] = mask_value\n",
    "y_train[:,:,0][x_train[:,:,0] == mask_value] = tte_mean_train\n",
    "y_train[:,:,1][x_train[:,:,0] == mask_value] = 0.95\n",
    "train_sample_weights = (x_train[:,:,0] != mask_value) * 1 # индексы для непропущенных значений в ряде"
   ]
  },
  {
   "cell_type": "code",
   "execution_count": 95,
   "metadata": {},
   "outputs": [
    {
     "data": {
      "text/plain": [
       "((347554, 33, 70), (347554, 76))"
      ]
     },
     "execution_count": 95,
     "metadata": {},
     "output_type": "execute_result"
    }
   ],
   "source": [
    "x_train.shape,train_dataset_mod1.drop_duplicates('id').shape"
   ]
  },
  {
   "cell_type": "code",
   "execution_count": 96,
   "metadata": {
    "scrolled": true
   },
   "outputs": [],
   "source": [
    "# make padded test\n",
    "test_dataset_mod1.t_elapsed = test_dataset_mod1.t_elapsed.astype(int)\n",
    "if any(isinstance(t, pd.SparseDtype) for t in test_dataset_mod1.dtypes):\n",
    "    x_test = tr.df_to_padded(df=test_dataset_mod1.sparse.to_dense(), column_names=features_cols, id_col='id',\n",
    "                             t_col='t_elapsed')\n",
    "    y_test = tr.df_to_padded(df=test_dataset_mod1.sparse.to_dense(), column_names=['tte', 'cens'], id_col='id',\n",
    "                             t_col='t_elapsed')\n",
    "else:\n",
    "    x_test = tr.df_to_padded(df=test_dataset_mod1, column_names=features_cols, id_col='id', t_col='t_elapsed')\n",
    "    y_test = tr.df_to_padded(df=test_dataset_mod1, column_names=['tte', 'cens'], id_col='id', t_col='t_elapsed')\n",
    "\n",
    "x_test[:,:,:][np.isnan(x_test)] = mask_value\n",
    "y_test[:,:,0][x_test[:,:,0] == mask_value] = tte_mean_train\n",
    "y_test[:,:,1][x_test[:,:,0] == mask_value] = 0.95\n",
    "test_sample_weights = (x_test[:,:,0] != mask_value) * 1"
   ]
  },
  {
   "cell_type": "code",
   "execution_count": 97,
   "metadata": {},
   "outputs": [
    {
     "name": "stdout",
     "output_type": "stream",
     "text": [
      "train_x (347554, 33, 70) train_y (347554, 33, 2) test_x (97783, 33, 70) test_y (97783, 33, 2)\n"
     ]
    }
   ],
   "source": [
    "print('train_x', x_train.shape, 'train_y', y_train.shape, 'test_x', x_test.shape, 'test_y', y_test.shape)"
   ]
  },
  {
   "cell_type": "code",
   "execution_count": 98,
   "metadata": {},
   "outputs": [],
   "source": [
    "del reduce_lr\n",
    "del nanterminator\n",
    "del history\n",
    "del weightwatcher\n",
    "del model "
   ]
  },
  {
   "cell_type": "code",
   "execution_count": 99,
   "metadata": {},
   "outputs": [
    {
     "name": "stdout",
     "output_type": "stream",
     "text": [
      "Model: \"sequential_2\"\n",
      "_________________________________________________________________\n",
      "Layer (type)                 Output Shape              Param #   \n",
      "=================================================================\n",
      "masking_2 (Masking)          (None, None, 70)          0         \n",
      "_________________________________________________________________\n",
      "gru_3 (GRU)                  (None, None, 22)          6138      \n",
      "_________________________________________________________________\n",
      "batch_normalization_3 (Batch (None, None, 22)          88        \n",
      "_________________________________________________________________\n",
      "gru_4 (GRU)                  (None, None, 16)          1872      \n",
      "_________________________________________________________________\n",
      "batch_normalization_4 (Batch (None, None, 16)          64        \n",
      "_________________________________________________________________\n",
      "gaussian_dropout_2 (Gaussian (None, None, 16)          0         \n",
      "_________________________________________________________________\n",
      "time_distributed_3 (TimeDist (None, None, 12)          204       \n",
      "_________________________________________________________________\n",
      "time_distributed_4 (TimeDist (None, None, 2)           26        \n",
      "_________________________________________________________________\n",
      "lambda_2 (Lambda)            (None, None, 2)           0         \n",
      "=================================================================\n",
      "Total params: 8,392\n",
      "Trainable params: 8,316\n",
      "Non-trainable params: 76\n",
      "_________________________________________________________________\n"
     ]
    }
   ],
   "source": [
    "\n",
    "reduce_lr = callbacks.ReduceLROnPlateau(monitor='loss',\n",
    "                                        factor=0.5, \n",
    "                                        patience=1,\n",
    "                                        verbose=1,\n",
    "                                        mode='auto', \n",
    "                                        min_delta=0.0001,\n",
    "                                        cooldown=5,\n",
    "                                        min_lr=1e-6,random_state=1)\n",
    "\n",
    "k.set_epsilon(1e-10)\n",
    "\n",
    "nanterminator = callbacks.TerminateOnNaN()\n",
    "history = callbacks.History()\n",
    "weightwatcher = WeightWatcher(per_batch=False, per_epoch=True)\n",
    "\n",
    "model = wtte_rnn()\n",
    "model.summary()\n",
    "#model.load_weights('./ltv_0106.wghts')"
   ]
  },
  {
   "cell_type": "code",
   "execution_count": 100,
   "metadata": {},
   "outputs": [],
   "source": [
    "#model.save_weights('ltv_begin.wghts')"
   ]
  },
  {
   "cell_type": "code",
   "execution_count": null,
   "metadata": {},
   "outputs": [
    {
     "ename": "TypeError",
     "evalue": "can't pickle _thread.RLock objects",
     "output_type": "error",
     "traceback": [
      "\u001b[0;31m------------------------------------------------------------\u001b[0m",
      "\u001b[0;31mTypeError\u001b[0m                  Traceback (most recent call last)",
      "\u001b[0;32m<ipython-input-3672-a5d63983a5d2>\u001b[0m in \u001b[0;36m<module>\u001b[0;34m\u001b[0m\n\u001b[1;32m      1\u001b[0m \u001b[0;32mwith\u001b[0m \u001b[0mopen\u001b[0m\u001b[0;34m(\u001b[0m\u001b[0;34m'model.pickle'\u001b[0m\u001b[0;34m,\u001b[0m \u001b[0;34m'wb'\u001b[0m\u001b[0;34m)\u001b[0m \u001b[0;32mas\u001b[0m \u001b[0mf\u001b[0m\u001b[0;34m:\u001b[0m\u001b[0;34m\u001b[0m\u001b[0;34m\u001b[0m\u001b[0m\n\u001b[0;32m----> 2\u001b[0;31m     \u001b[0mpickle\u001b[0m\u001b[0;34m.\u001b[0m\u001b[0mdump\u001b[0m\u001b[0;34m(\u001b[0m\u001b[0mmodel\u001b[0m\u001b[0;34m,\u001b[0m\u001b[0mf\u001b[0m\u001b[0;34m)\u001b[0m\u001b[0;34m\u001b[0m\u001b[0;34m\u001b[0m\u001b[0m\n\u001b[0m",
      "\u001b[0;31mTypeError\u001b[0m: can't pickle _thread.RLock objects"
     ]
    }
   ],
   "source": [
    "'''with open('model.pickle', 'wb') as f:\n",
    "    pickle.dump(model,f)'''"
   ]
  },
  {
   "cell_type": "code",
   "execution_count": null,
   "metadata": {
    "collapsed": true,
    "jupyter": {
     "outputs_hidden": true
    }
   },
   "outputs": [
    {
     "ename": "ValueError",
     "evalue": "Shapes (53, 66) and (27, 66) are incompatible",
     "output_type": "error",
     "traceback": [
      "\u001b[0;31m------------------------------------------------------------\u001b[0m",
      "\u001b[0;31mValueError\u001b[0m                 Traceback (most recent call last)",
      "\u001b[0;32m<ipython-input-767-d6dc646cffed>\u001b[0m in \u001b[0;36m<module>\u001b[0;34m\u001b[0m\n\u001b[0;32m----> 1\u001b[0;31m \u001b[0mmodel\u001b[0m\u001b[0;34m.\u001b[0m\u001b[0mload_weights\u001b[0m\u001b[0;34m(\u001b[0m\u001b[0;34m'./ltv_begin.wghts'\u001b[0m\u001b[0;34m)\u001b[0m\u001b[0;34m\u001b[0m\u001b[0;34m\u001b[0m\u001b[0m\n\u001b[0m",
      "\u001b[0;32m~/anaconda3/lib/python3.7/site-packages/tensorflow/python/keras/engine/training.py\u001b[0m in \u001b[0;36mload_weights\u001b[0;34m(self, filepath, by_name, skip_mismatch, options)\u001b[0m\n\u001b[1;32m   2180\u001b[0m         \u001b[0msave_format\u001b[0m \u001b[0;34m=\u001b[0m \u001b[0;34m'h5'\u001b[0m\u001b[0;34m\u001b[0m\u001b[0;34m\u001b[0m\u001b[0m\n\u001b[1;32m   2181\u001b[0m     \u001b[0;32mif\u001b[0m \u001b[0msave_format\u001b[0m \u001b[0;34m==\u001b[0m \u001b[0;34m'tf'\u001b[0m\u001b[0;34m:\u001b[0m\u001b[0;34m\u001b[0m\u001b[0;34m\u001b[0m\u001b[0m\n\u001b[0;32m-> 2182\u001b[0;31m       \u001b[0mstatus\u001b[0m \u001b[0;34m=\u001b[0m \u001b[0mself\u001b[0m\u001b[0;34m.\u001b[0m\u001b[0m_trackable_saver\u001b[0m\u001b[0;34m.\u001b[0m\u001b[0mrestore\u001b[0m\u001b[0;34m(\u001b[0m\u001b[0mfilepath\u001b[0m\u001b[0;34m,\u001b[0m \u001b[0moptions\u001b[0m\u001b[0;34m)\u001b[0m\u001b[0;34m\u001b[0m\u001b[0;34m\u001b[0m\u001b[0m\n\u001b[0m\u001b[1;32m   2183\u001b[0m       \u001b[0;32mif\u001b[0m \u001b[0mby_name\u001b[0m\u001b[0;34m:\u001b[0m\u001b[0;34m\u001b[0m\u001b[0;34m\u001b[0m\u001b[0m\n\u001b[1;32m   2184\u001b[0m         raise NotImplementedError(\n",
      "\u001b[0;32m~/anaconda3/lib/python3.7/site-packages/tensorflow/python/training/tracking/util.py\u001b[0m in \u001b[0;36mrestore\u001b[0;34m(self, save_path, options)\u001b[0m\n\u001b[1;32m   1318\u001b[0m         options=options)\n\u001b[1;32m   1319\u001b[0m     base.CheckpointPosition(\n\u001b[0;32m-> 1320\u001b[0;31m         checkpoint=checkpoint, proto_id=0).restore(self._graph_view.root)\n\u001b[0m\u001b[1;32m   1321\u001b[0m     load_status = CheckpointLoadStatus(\n\u001b[1;32m   1322\u001b[0m         \u001b[0mcheckpoint\u001b[0m\u001b[0;34m,\u001b[0m\u001b[0;34m\u001b[0m\u001b[0;34m\u001b[0m\u001b[0m\n",
      "\u001b[0;32m~/anaconda3/lib/python3.7/site-packages/tensorflow/python/training/tracking/base.py\u001b[0m in \u001b[0;36mrestore\u001b[0;34m(self, trackable)\u001b[0m\n\u001b[1;32m    207\u001b[0m         \u001b[0;31m# This object's correspondence with a checkpointed object is new, so\u001b[0m\u001b[0;34m\u001b[0m\u001b[0;34m\u001b[0m\u001b[0;34m\u001b[0m\u001b[0m\n\u001b[1;32m    208\u001b[0m         \u001b[0;31m# process deferred restorations for it and its dependencies.\u001b[0m\u001b[0;34m\u001b[0m\u001b[0;34m\u001b[0m\u001b[0;34m\u001b[0m\u001b[0m\n\u001b[0;32m--> 209\u001b[0;31m         \u001b[0mrestore_ops\u001b[0m \u001b[0;34m=\u001b[0m \u001b[0mtrackable\u001b[0m\u001b[0;34m.\u001b[0m\u001b[0m_restore_from_checkpoint_position\u001b[0m\u001b[0;34m(\u001b[0m\u001b[0mself\u001b[0m\u001b[0;34m)\u001b[0m  \u001b[0;31m# pylint: disable=protected-access\u001b[0m\u001b[0;34m\u001b[0m\u001b[0;34m\u001b[0m\u001b[0m\n\u001b[0m\u001b[1;32m    210\u001b[0m         \u001b[0;32mif\u001b[0m \u001b[0mrestore_ops\u001b[0m\u001b[0;34m:\u001b[0m\u001b[0;34m\u001b[0m\u001b[0;34m\u001b[0m\u001b[0m\n\u001b[1;32m    211\u001b[0m           \u001b[0mself\u001b[0m\u001b[0;34m.\u001b[0m\u001b[0m_checkpoint\u001b[0m\u001b[0;34m.\u001b[0m\u001b[0mnew_restore_ops\u001b[0m\u001b[0;34m(\u001b[0m\u001b[0mrestore_ops\u001b[0m\u001b[0;34m)\u001b[0m\u001b[0;34m\u001b[0m\u001b[0;34m\u001b[0m\u001b[0m\n",
      "\u001b[0;32m~/anaconda3/lib/python3.7/site-packages/tensorflow/python/training/tracking/base.py\u001b[0m in \u001b[0;36m_restore_from_checkpoint_position\u001b[0;34m(self, checkpoint_position)\u001b[0m\n\u001b[1;32m    912\u001b[0m     restore_ops.extend(\n\u001b[1;32m    913\u001b[0m         current_position.checkpoint.restore_saveables(\n\u001b[0;32m--> 914\u001b[0;31m             tensor_saveables, python_saveables))\n\u001b[0m\u001b[1;32m    915\u001b[0m     \u001b[0;32mreturn\u001b[0m \u001b[0mrestore_ops\u001b[0m\u001b[0;34m\u001b[0m\u001b[0;34m\u001b[0m\u001b[0m\n\u001b[1;32m    916\u001b[0m \u001b[0;34m\u001b[0m\u001b[0m\n",
      "\u001b[0;32m~/anaconda3/lib/python3.7/site-packages/tensorflow/python/training/tracking/util.py\u001b[0m in \u001b[0;36mrestore_saveables\u001b[0;34m(self, tensor_saveables, python_saveables)\u001b[0m\n\u001b[1;32m    295\u001b[0m              \"expecting %s\") % (tensor_saveables.keys(), validated_names))\n\u001b[1;32m    296\u001b[0m       new_restore_ops = functional_saver.MultiDeviceSaver(\n\u001b[0;32m--> 297\u001b[0;31m           validated_saveables).restore(self.save_path_tensor, self.options)\n\u001b[0m\u001b[1;32m    298\u001b[0m       \u001b[0;32mif\u001b[0m \u001b[0;32mnot\u001b[0m \u001b[0mcontext\u001b[0m\u001b[0;34m.\u001b[0m\u001b[0mexecuting_eagerly\u001b[0m\u001b[0;34m(\u001b[0m\u001b[0;34m)\u001b[0m\u001b[0;34m:\u001b[0m\u001b[0;34m\u001b[0m\u001b[0;34m\u001b[0m\u001b[0m\n\u001b[1;32m    299\u001b[0m         \u001b[0;32mfor\u001b[0m \u001b[0mname\u001b[0m\u001b[0;34m,\u001b[0m \u001b[0mrestore_op\u001b[0m \u001b[0;32min\u001b[0m \u001b[0msorted\u001b[0m\u001b[0;34m(\u001b[0m\u001b[0mnew_restore_ops\u001b[0m\u001b[0;34m.\u001b[0m\u001b[0mitems\u001b[0m\u001b[0;34m(\u001b[0m\u001b[0;34m)\u001b[0m\u001b[0;34m)\u001b[0m\u001b[0;34m:\u001b[0m\u001b[0;34m\u001b[0m\u001b[0;34m\u001b[0m\u001b[0m\n",
      "\u001b[0;32m~/anaconda3/lib/python3.7/site-packages/tensorflow/python/training/saving/functional_saver.py\u001b[0m in \u001b[0;36mrestore\u001b[0;34m(self, file_prefix, options)\u001b[0m\n\u001b[1;32m    338\u001b[0m       \u001b[0mrestore_ops\u001b[0m \u001b[0;34m=\u001b[0m \u001b[0mtf_function_restore\u001b[0m\u001b[0;34m(\u001b[0m\u001b[0;34m)\u001b[0m\u001b[0;34m\u001b[0m\u001b[0;34m\u001b[0m\u001b[0m\n\u001b[1;32m    339\u001b[0m     \u001b[0;32melse\u001b[0m\u001b[0;34m:\u001b[0m\u001b[0;34m\u001b[0m\u001b[0;34m\u001b[0m\u001b[0m\n\u001b[0;32m--> 340\u001b[0;31m       \u001b[0mrestore_ops\u001b[0m \u001b[0;34m=\u001b[0m \u001b[0mrestore_fn\u001b[0m\u001b[0;34m(\u001b[0m\u001b[0;34m)\u001b[0m\u001b[0;34m\u001b[0m\u001b[0;34m\u001b[0m\u001b[0m\n\u001b[0m\u001b[1;32m    341\u001b[0m \u001b[0;34m\u001b[0m\u001b[0m\n\u001b[1;32m    342\u001b[0m     \u001b[0;32mfor\u001b[0m \u001b[0mcallback\u001b[0m \u001b[0;32min\u001b[0m \u001b[0mself\u001b[0m\u001b[0;34m.\u001b[0m\u001b[0m_after_restore_callbacks\u001b[0m\u001b[0;34m:\u001b[0m\u001b[0;34m\u001b[0m\u001b[0;34m\u001b[0m\u001b[0m\n",
      "\u001b[0;32m~/anaconda3/lib/python3.7/site-packages/tensorflow/python/training/saving/functional_saver.py\u001b[0m in \u001b[0;36mrestore_fn\u001b[0;34m()\u001b[0m\n\u001b[1;32m    314\u001b[0m       \u001b[0;32mfor\u001b[0m \u001b[0mdevice\u001b[0m\u001b[0;34m,\u001b[0m \u001b[0msaver\u001b[0m \u001b[0;32min\u001b[0m \u001b[0msorted\u001b[0m\u001b[0;34m(\u001b[0m\u001b[0mself\u001b[0m\u001b[0;34m.\u001b[0m\u001b[0m_single_device_savers\u001b[0m\u001b[0;34m.\u001b[0m\u001b[0mitems\u001b[0m\u001b[0;34m(\u001b[0m\u001b[0;34m)\u001b[0m\u001b[0;34m)\u001b[0m\u001b[0;34m:\u001b[0m\u001b[0;34m\u001b[0m\u001b[0;34m\u001b[0m\u001b[0m\n\u001b[1;32m    315\u001b[0m         \u001b[0;32mwith\u001b[0m \u001b[0mops\u001b[0m\u001b[0;34m.\u001b[0m\u001b[0mdevice\u001b[0m\u001b[0;34m(\u001b[0m\u001b[0mdevice\u001b[0m\u001b[0;34m)\u001b[0m\u001b[0;34m:\u001b[0m\u001b[0;34m\u001b[0m\u001b[0;34m\u001b[0m\u001b[0m\n\u001b[0;32m--> 316\u001b[0;31m           \u001b[0mrestore_ops\u001b[0m\u001b[0;34m.\u001b[0m\u001b[0mupdate\u001b[0m\u001b[0;34m(\u001b[0m\u001b[0msaver\u001b[0m\u001b[0;34m.\u001b[0m\u001b[0mrestore\u001b[0m\u001b[0;34m(\u001b[0m\u001b[0mfile_prefix\u001b[0m\u001b[0;34m,\u001b[0m \u001b[0moptions\u001b[0m\u001b[0;34m)\u001b[0m\u001b[0;34m)\u001b[0m\u001b[0;34m\u001b[0m\u001b[0;34m\u001b[0m\u001b[0m\n\u001b[0m\u001b[1;32m    317\u001b[0m \u001b[0;34m\u001b[0m\u001b[0m\n\u001b[1;32m    318\u001b[0m       \u001b[0;32mreturn\u001b[0m \u001b[0mrestore_ops\u001b[0m\u001b[0;34m\u001b[0m\u001b[0;34m\u001b[0m\u001b[0m\n",
      "\u001b[0;32m~/anaconda3/lib/python3.7/site-packages/tensorflow/python/training/saving/functional_saver.py\u001b[0m in \u001b[0;36mrestore\u001b[0;34m(self, file_prefix, options)\u001b[0m\n\u001b[1;32m    109\u001b[0m                                           structured_restored_tensors):\n\u001b[1;32m    110\u001b[0m       restore_ops[saveable.name] = saveable.restore(\n\u001b[0;32m--> 111\u001b[0;31m           restored_tensors, restored_shapes=None)\n\u001b[0m\u001b[1;32m    112\u001b[0m     \u001b[0;32mreturn\u001b[0m \u001b[0mrestore_ops\u001b[0m\u001b[0;34m\u001b[0m\u001b[0;34m\u001b[0m\u001b[0m\n\u001b[1;32m    113\u001b[0m \u001b[0;34m\u001b[0m\u001b[0m\n",
      "\u001b[0;32m~/anaconda3/lib/python3.7/site-packages/tensorflow/python/training/saving/saveable_object_util.py\u001b[0m in \u001b[0;36mrestore\u001b[0;34m(self, restored_tensors, restored_shapes)\u001b[0m\n\u001b[1;32m    125\u001b[0m       \u001b[0mrestored_tensor\u001b[0m \u001b[0;34m=\u001b[0m \u001b[0marray_ops\u001b[0m\u001b[0;34m.\u001b[0m\u001b[0midentity\u001b[0m\u001b[0;34m(\u001b[0m\u001b[0mrestored_tensor\u001b[0m\u001b[0;34m)\u001b[0m\u001b[0;34m\u001b[0m\u001b[0;34m\u001b[0m\u001b[0m\n\u001b[1;32m    126\u001b[0m       return resource_variable_ops.shape_safe_assign_variable_handle(\n\u001b[0;32m--> 127\u001b[0;31m           self.handle_op, self._var_shape, restored_tensor)\n\u001b[0m\u001b[1;32m    128\u001b[0m \u001b[0;34m\u001b[0m\u001b[0m\n\u001b[1;32m    129\u001b[0m \u001b[0;34m\u001b[0m\u001b[0m\n",
      "\u001b[0;32m~/anaconda3/lib/python3.7/site-packages/tensorflow/python/ops/resource_variable_ops.py\u001b[0m in \u001b[0;36mshape_safe_assign_variable_handle\u001b[0;34m(handle, shape, value, name)\u001b[0m\n\u001b[1;32m    309\u001b[0m   \u001b[0;32mwith\u001b[0m \u001b[0m_handle_graph\u001b[0m\u001b[0;34m(\u001b[0m\u001b[0mhandle\u001b[0m\u001b[0;34m)\u001b[0m\u001b[0;34m:\u001b[0m\u001b[0;34m\u001b[0m\u001b[0;34m\u001b[0m\u001b[0m\n\u001b[1;32m    310\u001b[0m     \u001b[0mvalue_tensor\u001b[0m \u001b[0;34m=\u001b[0m \u001b[0mops\u001b[0m\u001b[0;34m.\u001b[0m\u001b[0mconvert_to_tensor\u001b[0m\u001b[0;34m(\u001b[0m\u001b[0mvalue\u001b[0m\u001b[0;34m)\u001b[0m\u001b[0;34m\u001b[0m\u001b[0;34m\u001b[0m\u001b[0m\n\u001b[0;32m--> 311\u001b[0;31m   \u001b[0mshape\u001b[0m\u001b[0;34m.\u001b[0m\u001b[0massert_is_compatible_with\u001b[0m\u001b[0;34m(\u001b[0m\u001b[0mvalue_tensor\u001b[0m\u001b[0;34m.\u001b[0m\u001b[0mshape\u001b[0m\u001b[0;34m)\u001b[0m\u001b[0;34m\u001b[0m\u001b[0;34m\u001b[0m\u001b[0m\n\u001b[0m\u001b[1;32m    312\u001b[0m   return gen_resource_variable_ops.assign_variable_op(handle,\n\u001b[1;32m    313\u001b[0m                                                       \u001b[0mvalue_tensor\u001b[0m\u001b[0;34m,\u001b[0m\u001b[0;34m\u001b[0m\u001b[0;34m\u001b[0m\u001b[0m\n",
      "\u001b[0;32m~/anaconda3/lib/python3.7/site-packages/tensorflow/python/framework/tensor_shape.py\u001b[0m in \u001b[0;36massert_is_compatible_with\u001b[0;34m(self, other)\u001b[0m\n\u001b[1;32m   1132\u001b[0m     \"\"\"\n\u001b[1;32m   1133\u001b[0m     \u001b[0;32mif\u001b[0m \u001b[0;32mnot\u001b[0m \u001b[0mself\u001b[0m\u001b[0;34m.\u001b[0m\u001b[0mis_compatible_with\u001b[0m\u001b[0;34m(\u001b[0m\u001b[0mother\u001b[0m\u001b[0;34m)\u001b[0m\u001b[0;34m:\u001b[0m\u001b[0;34m\u001b[0m\u001b[0;34m\u001b[0m\u001b[0m\n\u001b[0;32m-> 1134\u001b[0;31m       \u001b[0;32mraise\u001b[0m \u001b[0mValueError\u001b[0m\u001b[0;34m(\u001b[0m\u001b[0;34m\"Shapes %s and %s are incompatible\"\u001b[0m \u001b[0;34m%\u001b[0m \u001b[0;34m(\u001b[0m\u001b[0mself\u001b[0m\u001b[0;34m,\u001b[0m \u001b[0mother\u001b[0m\u001b[0;34m)\u001b[0m\u001b[0;34m)\u001b[0m\u001b[0;34m\u001b[0m\u001b[0;34m\u001b[0m\u001b[0m\n\u001b[0m\u001b[1;32m   1135\u001b[0m \u001b[0;34m\u001b[0m\u001b[0m\n\u001b[1;32m   1136\u001b[0m   \u001b[0;32mdef\u001b[0m \u001b[0mmost_specific_compatible_shape\u001b[0m\u001b[0;34m(\u001b[0m\u001b[0mself\u001b[0m\u001b[0;34m,\u001b[0m \u001b[0mother\u001b[0m\u001b[0;34m)\u001b[0m\u001b[0;34m:\u001b[0m\u001b[0;34m\u001b[0m\u001b[0;34m\u001b[0m\u001b[0m\n",
      "\u001b[0;31mValueError\u001b[0m: Shapes (53, 66) and (27, 66) are incompatible"
     ]
    }
   ],
   "source": [
    "#model.load_weights('./ltv_begin.wghts')"
   ]
  },
  {
   "cell_type": "code",
   "execution_count": 101,
   "metadata": {
    "scrolled": true
   },
   "outputs": [
    {
     "name": "stdout",
     "output_type": "stream",
     "text": [
      "Train on 347554 samples, validate on 97783 samples\n",
      "Epoch 1/100\n",
      "347554/347554 [==============================] - 34s 98us/step - loss: 0.5764 - val_loss: 0.3181\n",
      "Epoch 2/100\n",
      "347554/347554 [==============================] - 27s 77us/step - loss: 0.2292 - val_loss: 0.2371\n",
      "Epoch 3/100\n",
      "347554/347554 [==============================] - 27s 76us/step - loss: 0.1933 - val_loss: 0.2123\n",
      "Epoch 4/100\n",
      "347554/347554 [==============================] - 27s 77us/step - loss: 0.1854 - val_loss: 0.1965\n",
      "Epoch 5/100\n",
      "347554/347554 [==============================] - 27s 78us/step - loss: 0.1817 - val_loss: 0.1904\n",
      "Epoch 6/100\n",
      "347554/347554 [==============================] - 27s 77us/step - loss: 0.1798 - val_loss: 0.1857\n",
      "Epoch 7/100\n",
      "347554/347554 [==============================] - 27s 77us/step - loss: 0.1774 - val_loss: 0.1879\n",
      "Epoch 8/100\n",
      "347554/347554 [==============================] - 26s 76us/step - loss: 0.1766 - val_loss: 0.1795\n",
      "Epoch 9/100\n",
      "347554/347554 [==============================] - 27s 79us/step - loss: 0.1752 - val_loss: 0.1808\n",
      "Epoch 10/100\n",
      "347554/347554 [==============================] - 27s 76us/step - loss: 0.1741 - val_loss: 0.1811\n",
      "Epoch 11/100\n",
      "347554/347554 [==============================] - 26s 76us/step - loss: 0.1734 - val_loss: 0.1784\n",
      "Epoch 12/100\n",
      "347554/347554 [==============================] - 27s 78us/step - loss: 0.1726 - val_loss: 0.1885\n",
      "Epoch 13/100\n",
      "347554/347554 [==============================] - 27s 76us/step - loss: 0.1719 - val_loss: 0.1791\n",
      "Epoch 14/100\n",
      "347554/347554 [==============================] - 27s 77us/step - loss: 0.1710 - val_loss: 0.1793\n",
      "Epoch 15/100\n",
      "347554/347554 [==============================] - 26s 76us/step - loss: 0.1707 - val_loss: 0.1770\n",
      "Epoch 16/100\n",
      "347554/347554 [==============================] - 27s 77us/step - loss: 0.1703 - val_loss: 0.1785\n",
      "Epoch 17/100\n",
      "347554/347554 [==============================] - 26s 76us/step - loss: 0.1703 - val_loss: 0.1797\n",
      "\n",
      "Epoch 00017: ReduceLROnPlateau reducing learning rate to 0.004999999888241291.\n",
      "Epoch 18/100\n",
      "347554/347554 [==============================] - 27s 78us/step - loss: 0.1697 - val_loss: 0.1749\n",
      "Epoch 19/100\n",
      "347554/347554 [==============================] - 27s 78us/step - loss: 0.1691 - val_loss: 0.1729\n",
      "Epoch 20/100\n",
      "347554/347554 [==============================] - 27s 77us/step - loss: 0.1684 - val_loss: 0.1738\n",
      "Epoch 21/100\n",
      "347554/347554 [==============================] - 27s 76us/step - loss: 0.1681 - val_loss: 0.1791\n",
      "Epoch 22/100\n",
      "347554/347554 [==============================] - 26s 76us/step - loss: 0.1680 - val_loss: 0.1729\n",
      "\n",
      "Epoch 00022: ReduceLROnPlateau reducing learning rate to 0.0024999999441206455.\n",
      "Epoch 23/100\n",
      "347554/347554 [==============================] - 27s 78us/step - loss: 0.1676 - val_loss: 0.1736\n",
      "Epoch 24/100\n",
      "347554/347554 [==============================] - 27s 77us/step - loss: 0.1671 - val_loss: 0.1715\n",
      "Epoch 25/100\n",
      "347554/347554 [==============================] - 28s 79us/step - loss: 0.1670 - val_loss: 0.1737\n",
      "Epoch 26/100\n",
      "347554/347554 [==============================] - 27s 77us/step - loss: 0.1667 - val_loss: 0.1720\n",
      "Epoch 27/100\n",
      "347554/347554 [==============================] - 27s 79us/step - loss: 0.1662 - val_loss: 0.1738\n",
      "Epoch 28/100\n",
      "347554/347554 [==============================] - 27s 79us/step - loss: 0.1660 - val_loss: 0.1715\n",
      "Epoch 29/100\n",
      "347554/347554 [==============================] - 28s 79us/step - loss: 0.1660 - val_loss: 0.1729\n",
      "\n",
      "Epoch 00029: ReduceLROnPlateau reducing learning rate to 0.0012499999720603228.\n",
      "Epoch 30/100\n",
      "347554/347554 [==============================] - 27s 77us/step - loss: 0.1654 - val_loss: 0.1717\n",
      "Epoch 31/100\n",
      "347554/347554 [==============================] - 26s 76us/step - loss: 0.1653 - val_loss: 0.1739\n",
      "Epoch 32/100\n",
      "347554/347554 [==============================] - 26s 76us/step - loss: 0.1657 - val_loss: 0.1731\n",
      "Epoch 33/100\n",
      "347554/347554 [==============================] - 27s 77us/step - loss: 0.1650 - val_loss: 0.1746\n",
      "Epoch 34/100\n",
      "347554/347554 [==============================] - 26s 76us/step - loss: 0.1650 - val_loss: 0.1713\n",
      "\n",
      "Epoch 00034: ReduceLROnPlateau reducing learning rate to 0.0006249999860301614.\n",
      "Epoch 35/100\n",
      "347554/347554 [==============================] - 27s 79us/step - loss: 0.1649 - val_loss: 0.1767\n",
      "Epoch 36/100\n",
      "347554/347554 [==============================] - 27s 78us/step - loss: 0.1646 - val_loss: 0.1754\n",
      "Epoch 37/100\n",
      "347554/347554 [==============================] - 27s 78us/step - loss: 0.1643 - val_loss: 0.1749\n",
      "Epoch 38/100\n",
      "347554/347554 [==============================] - 27s 78us/step - loss: 0.1643 - val_loss: 0.1750\n",
      "Epoch 39/100\n",
      "347554/347554 [==============================] - 28s 79us/step - loss: 0.1641 - val_loss: 0.1703\n",
      "Epoch 40/100\n",
      "347554/347554 [==============================] - 27s 78us/step - loss: 0.1643 - val_loss: 0.1689\n",
      "\n",
      "Epoch 00040: ReduceLROnPlateau reducing learning rate to 0.0003124999930150807.\n",
      "Epoch 41/100\n",
      "347554/347554 [==============================] - 27s 77us/step - loss: 0.1638 - val_loss: 0.1688\n",
      "Epoch 42/100\n",
      "347554/347554 [==============================] - 27s 77us/step - loss: 0.1637 - val_loss: 0.1736\n",
      "Epoch 43/100\n",
      "347554/347554 [==============================] - 27s 77us/step - loss: 0.1633 - val_loss: 0.1693\n",
      "Epoch 44/100\n",
      "347554/347554 [==============================] - 27s 77us/step - loss: 0.1641 - val_loss: 0.1708\n",
      "Epoch 45/100\n",
      "347554/347554 [==============================] - 27s 77us/step - loss: 0.1635 - val_loss: 0.1732\n",
      "\n",
      "Epoch 00045: ReduceLROnPlateau reducing learning rate to 0.00015624999650754035.\n",
      "Epoch 46/100\n",
      "347554/347554 [==============================] - 27s 77us/step - loss: 0.1632 - val_loss: 0.1723\n",
      "Epoch 47/100\n",
      "347554/347554 [==============================] - 27s 77us/step - loss: 0.1631 - val_loss: 0.1702\n",
      "Epoch 48/100\n",
      "347554/347554 [==============================] - 27s 78us/step - loss: 0.1630 - val_loss: 0.1679\n",
      "Epoch 49/100\n",
      "347554/347554 [==============================] - 28s 79us/step - loss: 0.1629 - val_loss: 0.1695\n",
      "Epoch 50/100\n",
      "347554/347554 [==============================] - 27s 79us/step - loss: 0.1625 - val_loss: 0.1713\n",
      "Epoch 51/100\n",
      "347554/347554 [==============================] - 27s 78us/step - loss: 0.1625 - val_loss: 0.1744\n",
      "\n",
      "Epoch 00051: ReduceLROnPlateau reducing learning rate to 7.812499825377017e-05.\n",
      "Epoch 52/100\n",
      "347554/347554 [==============================] - 27s 77us/step - loss: 0.1628 - val_loss: 0.1693\n",
      "Epoch 53/100\n",
      "347554/347554 [==============================] - 27s 79us/step - loss: 0.1623 - val_loss: 0.1718\n",
      "Epoch 54/100\n",
      "347554/347554 [==============================] - 27s 79us/step - loss: 0.1624 - val_loss: 0.1671\n",
      "Epoch 55/100\n",
      "347554/347554 [==============================] - 27s 78us/step - loss: 0.1621 - val_loss: 0.1684\n",
      "Epoch 56/100\n",
      "347554/347554 [==============================] - 27s 78us/step - loss: 0.1621 - val_loss: 0.1695\n",
      "\n",
      "Epoch 00056: ReduceLROnPlateau reducing learning rate to 3.9062499126885086e-05.\n",
      "Epoch 57/100\n",
      "347554/347554 [==============================] - 27s 78us/step - loss: 0.1618 - val_loss: 0.1711\n",
      "Epoch 58/100\n",
      "347554/347554 [==============================] - 27s 78us/step - loss: 0.1617 - val_loss: 0.1687\n",
      "Epoch 59/100\n",
      "347554/347554 [==============================] - 27s 77us/step - loss: 0.1617 - val_loss: 0.1694\n",
      "Epoch 60/100\n",
      "347554/347554 [==============================] - 27s 78us/step - loss: 0.1628 - val_loss: 0.1734\n",
      "Epoch 61/100\n",
      "347554/347554 [==============================] - 27s 77us/step - loss: 0.1619 - val_loss: 0.1698\n",
      "\n",
      "Epoch 00061: ReduceLROnPlateau reducing learning rate to 1.9531249563442543e-05.\n",
      "Epoch 62/100\n",
      "347554/347554 [==============================] - 27s 77us/step - loss: 0.1613 - val_loss: 0.1676\n",
      "Epoch 63/100\n",
      "347554/347554 [==============================] - 27s 76us/step - loss: 0.1612 - val_loss: 0.1710\n",
      "Epoch 64/100\n",
      "347554/347554 [==============================] - 27s 77us/step - loss: 0.1612 - val_loss: 0.1679\n",
      "Epoch 65/100\n",
      "347554/347554 [==============================] - 27s 77us/step - loss: 0.1611 - val_loss: 0.1706\n",
      "Epoch 66/100\n",
      "347554/347554 [==============================] - 27s 78us/step - loss: 0.1614 - val_loss: 0.1748\n",
      "\n",
      "Epoch 00066: ReduceLROnPlateau reducing learning rate to 9.765624781721272e-06.\n",
      "Epoch 67/100\n",
      "347554/347554 [==============================] - 27s 76us/step - loss: 0.1624 - val_loss: 0.1674\n",
      "Epoch 68/100\n",
      "347554/347554 [==============================] - 27s 77us/step - loss: 0.1610 - val_loss: 0.1671\n",
      "Epoch 69/100\n",
      "347554/347554 [==============================] - 27s 77us/step - loss: 0.1606 - val_loss: 0.1656\n",
      "Epoch 70/100\n",
      "347554/347554 [==============================] - 27s 78us/step - loss: 0.1605 - val_loss: 0.1709\n",
      "Epoch 71/100\n",
      "347554/347554 [==============================] - 27s 77us/step - loss: 0.1606 - val_loss: 0.1688\n",
      "\n",
      "Epoch 00071: ReduceLROnPlateau reducing learning rate to 4.882812390860636e-06.\n",
      "Epoch 72/100\n",
      "347554/347554 [==============================] - 27s 78us/step - loss: 0.1606 - val_loss: 0.1656\n",
      "Epoch 73/100\n",
      "347554/347554 [==============================] - 28s 80us/step - loss: 0.1605 - val_loss: 0.1658\n",
      "Epoch 74/100\n",
      "347554/347554 [==============================] - 26s 76us/step - loss: 0.1605 - val_loss: 0.1663\n",
      "Epoch 75/100\n",
      "347554/347554 [==============================] - 27s 78us/step - loss: 0.1605 - val_loss: 0.1670\n",
      "Epoch 76/100\n",
      "347554/347554 [==============================] - 27s 78us/step - loss: 0.1601 - val_loss: 0.1668\n",
      "Epoch 77/100\n",
      "347554/347554 [==============================] - 27s 77us/step - loss: 0.1600 - val_loss: 0.1672\n",
      "Epoch 78/100\n",
      "347554/347554 [==============================] - 27s 77us/step - loss: 0.1601 - val_loss: 0.1710\n",
      "\n",
      "Epoch 00078: ReduceLROnPlateau reducing learning rate to 2.441406195430318e-06.\n",
      "Epoch 79/100\n",
      "347554/347554 [==============================] - 26s 76us/step - loss: 0.1601 - val_loss: 0.1673\n",
      "Epoch 80/100\n",
      "347554/347554 [==============================] - 27s 78us/step - loss: 0.1599 - val_loss: 0.1657\n",
      "Epoch 81/100\n",
      "347554/347554 [==============================] - 27s 78us/step - loss: 0.1599 - val_loss: 0.1647\n",
      "Epoch 82/100\n",
      "347554/347554 [==============================] - 27s 77us/step - loss: 0.1600 - val_loss: 0.1689\n",
      "Epoch 83/100\n",
      "347554/347554 [==============================] - 27s 78us/step - loss: 0.1596 - val_loss: 0.1649\n",
      "Epoch 84/100\n",
      "347554/347554 [==============================] - 27s 78us/step - loss: 0.1600 - val_loss: 0.1673\n",
      "\n",
      "Epoch 00084: ReduceLROnPlateau reducing learning rate to 1.220703097715159e-06.\n",
      "Epoch 85/100\n",
      "347554/347554 [==============================] - 27s 77us/step - loss: 0.1596 - val_loss: 0.1659\n",
      "Epoch 86/100\n",
      "347554/347554 [==============================] - 27s 77us/step - loss: 0.1597 - val_loss: 0.1694\n",
      "Epoch 87/100\n",
      "347554/347554 [==============================] - 27s 77us/step - loss: 0.1595 - val_loss: 0.1685\n",
      "Epoch 88/100\n",
      "347554/347554 [==============================] - 27s 77us/step - loss: 0.1595 - val_loss: 0.1694\n",
      "Epoch 89/100\n",
      "347554/347554 [==============================] - 27s 77us/step - loss: 0.1606 - val_loss: 0.1696\n",
      "\n",
      "Epoch 00089: ReduceLROnPlateau reducing learning rate to 1e-06.\n",
      "Epoch 90/100\n",
      "347554/347554 [==============================] - 27s 77us/step - loss: 0.1601 - val_loss: 0.1668\n",
      "Epoch 91/100\n",
      "347554/347554 [==============================] - 27s 77us/step - loss: 0.1592 - val_loss: 0.1730\n",
      "Epoch 92/100\n",
      "347554/347554 [==============================] - 27s 78us/step - loss: 0.1592 - val_loss: 0.1695\n",
      "Epoch 93/100\n",
      "347554/347554 [==============================] - 27s 78us/step - loss: 0.1589 - val_loss: 0.1665\n",
      "Epoch 94/100\n",
      "347554/347554 [==============================] - 27s 79us/step - loss: 0.1589 - val_loss: 0.1664\n",
      "Epoch 95/100\n",
      "347554/347554 [==============================] - 27s 77us/step - loss: 0.1589 - val_loss: 0.1652\n",
      "Epoch 96/100\n",
      "347554/347554 [==============================] - 28s 79us/step - loss: 0.1590 - val_loss: 0.1674\n",
      "Epoch 97/100\n",
      "347554/347554 [==============================] - 27s 77us/step - loss: 0.1589 - val_loss: 0.1677\n",
      "Epoch 98/100\n",
      "347554/347554 [==============================] - 27s 77us/step - loss: 0.1587 - val_loss: 0.1657\n",
      "Epoch 99/100\n",
      "347554/347554 [==============================] - 27s 78us/step - loss: 0.1588 - val_loss: 0.1694\n",
      "Epoch 100/100\n",
      "347554/347554 [==============================] - 27s 77us/step - loss: 0.1588 - val_loss: 0.1689\n"
     ]
    },
    {
     "data": {
      "text/plain": [
       "<keras.callbacks.callbacks.History at 0x7f6aec40cdd0>"
      ]
     },
     "execution_count": 101,
     "metadata": {},
     "output_type": "execute_result"
    }
   ],
   "source": [
    "batch_size = 2**14\n",
    "\n",
    "callback = keras.callbacks.EarlyStopping(monitor='loss', patience=3)\n",
    "\n",
    "model.fit(x=x_train, y=y_train,\n",
    "          sample_weight=train_sample_weights,\n",
    "          batch_size=batch_size,\n",
    "          epochs=100,\n",
    "          initial_epoch=0,\n",
    "          verbose=1, \n",
    "          validation_data=(x_test, y_test, test_sample_weights),\n",
    "          callbacks=[nanterminator, history, weightwatcher, reduce_lr],#,callback],\n",
    "          shuffle=True \n",
    "         ) "
   ]
  },
  {
   "cell_type": "markdown",
   "metadata": {},
   "source": [
    "### Сохранение модели"
   ]
  },
  {
   "cell_type": "code",
   "execution_count": 102,
   "metadata": {},
   "outputs": [],
   "source": [
    "#model.save_weights('ltv_finish.wghts')"
   ]
  },
  {
   "cell_type": "code",
   "execution_count": 103,
   "metadata": {},
   "outputs": [],
   "source": [
    "#model.save_weights('active_finish.wghts')"
   ]
  },
  {
   "cell_type": "code",
   "execution_count": 104,
   "metadata": {
    "scrolled": true
   },
   "outputs": [
    {
     "data": {
      "image/png": "[encoded data removed]",
      "text/plain": [
       "<Figure size 432x288 with 1 Axes>"
      ]
     },
     "metadata": {
      "needs_background": "light"
     },
     "output_type": "display_data"
    },
    {
     "data": {
      "image/png": "[encoded data removed]",
      "text/plain": [
       "<Figure size 432x288 with 2 Axes>"
      ]
     },
     "metadata": {
      "needs_background": "light"
     },
     "output_type": "display_data"
    },
    {
     "data": {
      "image/png": "[encoded data removed]",
      "text/plain": [
       "<Figure size 432x288 with 2 Axes>"
      ]
     },
     "metadata": {
      "needs_background": "light"
     },
     "output_type": "display_data"
    }
   ],
   "source": [
    "plt.plot(history.history['loss'],     label='training')\n",
    "plt.plot(history.history['val_loss'], label='validation')\n",
    "plt.legend()\n",
    "plt.show()\n",
    "weightwatcher.plot()"
   ]
  },
  {
   "cell_type": "code",
   "execution_count": 4503,
   "metadata": {
    "scrolled": true
   },
   "outputs": [
    {
     "data": {
      "text/plain": [
       "<tensorflow.python.training.tracking.util.CheckpointLoadStatus at 0x7f12b277e090>"
      ]
     },
     "execution_count": 4503,
     "metadata": {},
     "output_type": "execute_result"
    }
   ],
   "source": [
    "#model.load_weights('./ltv_finish.wghts')"
   ]
  },
  {
   "cell_type": "code",
   "execution_count": 3995,
   "metadata": {},
   "outputs": [
    {
     "data": {
      "text/plain": [
       "'model.save_weights(\"model.h5\")\\nprint(\"Saved model to disk\")'"
      ]
     },
     "execution_count": 3995,
     "metadata": {},
     "output_type": "execute_result"
    }
   ],
   "source": [
    "# serialize model to JSON\n",
    "'''model_json = model.to_json()\n",
    "with open(\"model.json\", \"w\") as json_file:\n",
    "    json_file.write(model_json)\n",
    "# serialize weights to HDF5'''\n",
    "'''model.save_weights(\"model.h5\")\n",
    "print(\"Saved model to disk\")'''"
   ]
  },
  {
   "cell_type": "code",
   "execution_count": 4526,
   "metadata": {},
   "outputs": [
    {
     "name": "stdout",
     "output_type": "stream",
     "text": [
      "Loaded model from disk\n"
     ]
    }
   ],
   "source": [
    "# load json and create model\n",
    "'''json_file = open('model.json', 'r')\n",
    "loaded_model_json = json_file.read()\n",
    "json_file.close()\n",
    "loaded_model = model_from_json(loaded_model_json)\n",
    "# load weights into new model\n",
    "loaded_model.load_weights(\"./ltv_finish.wghts\")\n",
    "print(\"Loaded model from disk\")'''"
   ]
  },
  {
   "cell_type": "markdown",
   "metadata": {},
   "source": [
    "### Предсказание с плотными матрицами"
   ]
  },
  {
   "cell_type": "markdown",
   "metadata": {},
   "source": [
    "##### Предсказания для тренировочного набора"
   ]
  },
  {
   "cell_type": "code",
   "execution_count": 1710,
   "metadata": {},
   "outputs": [
    {
     "data": {
      "text/plain": [
       "array([[ 5.        ,  4.        ,  3.        , ...,  4.77219034,\n",
       "         4.77219034,  4.77219034],\n",
       "       [13.        , 12.        , 11.        , ...,  2.        ,\n",
       "         1.        ,  0.        ],\n",
       "       [ 6.        ,  5.        ,  4.        , ...,  4.77219034,\n",
       "         4.77219034,  4.77219034],\n",
       "       ...,\n",
       "       [ 1.        ,  0.        ,  0.        , ...,  0.        ,\n",
       "         0.        ,  4.77219034],\n",
       "       [ 1.        ,  0.        ,  0.        , ...,  4.77219034,\n",
       "         4.77219034,  4.77219034],\n",
       "       [ 1.        ,  0.        ,  0.        , ...,  4.77219034,\n",
       "         4.77219034,  4.77219034]])"
      ]
     },
     "execution_count": 1710,
     "metadata": {},
     "output_type": "execute_result"
    }
   ],
   "source": [
    "y_train[:,:,0]"
   ]
  },
  {
   "cell_type": "code",
   "execution_count": 196,
   "metadata": {},
   "outputs": [],
   "source": [
    "# Make some predictions and put them alongside the real TTE and event indicator values\n",
    "batch_size = 4096\n",
    "train_predict = model.predict(x_train, batch_size=batch_size)"
   ]
  },
  {
   "cell_type": "code",
   "execution_count": 268,
   "metadata": {},
   "outputs": [],
   "source": [
    "def weibull_pdf(alpha, beta, t):\n",
    "    return (beta / alpha) * (t / alpha) ** (beta - 1) * np.exp(-(t / alpha) ** beta)\n",
    "\n",
    "def weibull_median(alpha, beta):\n",
    "    return alpha * (np.log(2)) ** (1 / beta)\n",
    "\n",
    "def weibull_mean(alpha, beta):\n",
    "    return alpha * math.gamma(1 + 1 / beta)\n",
    "\n",
    "def weibull_mode(alpha, beta):\n",
    "    assert np.all(beta > 1)\n",
    "    return alpha * ((beta - 1) / beta) ** (1 / beta)"
   ]
  },
  {
   "cell_type": "markdown",
   "metadata": {},
   "source": [
    "##### Предсказания для тестового набора"
   ]
  },
  {
   "cell_type": "code",
   "execution_count": 775,
   "metadata": {},
   "outputs": [],
   "source": [
    "# Make some predictions and put them alongside the real TTE and event indicator values\n",
    "batch_size = 2**14\n",
    "test_predict = model.predict(x_test, batch_size=batch_size)"
   ]
  },
  {
   "cell_type": "code",
   "execution_count": 776,
   "metadata": {},
   "outputs": [
    {
     "data": {
      "text/plain": [
       "((72066, 23, 2), 72066)"
      ]
     },
     "execution_count": 776,
     "metadata": {},
     "output_type": "execute_result"
    }
   ],
   "source": [
    "test_predict.shape,test_dataset_mod1.id.drop_duplicates().values.size"
   ]
  },
  {
   "cell_type": "code",
   "execution_count": 777,
   "metadata": {
    "scrolled": true
   },
   "outputs": [],
   "source": [
    "# Преобразование предсказания для теста\n",
    "test_pred_df = tr.padded_to_df(test_predict, ['alpha', 'beta'], ['float', 'float'],\n",
    "                               ids=test_dataset_mod1.id.drop_duplicates().values, id_col='id', t_col='t_elapsed')\n",
    "test_pred_df = test_dataset_mod1.merge(test_pred_df, on=['id', 't_elapsed'])"
   ]
  },
  {
   "cell_type": "code",
   "execution_count": 778,
   "metadata": {},
   "outputs": [
    {
     "name": "stdout",
     "output_type": "stream",
     "text": [
      "alpha 17.91392536675198 beta 1.1361958613864906\n"
     ]
    },
    {
     "data": {
      "image/png": "[encoded data removed]",
      "text/plain": [
       "<Figure size 900x576 with 1 Axes>"
      ]
     },
     "metadata": {
      "needs_background": "light"
     },
     "output_type": "display_data"
    }
   ],
   "source": [
    "t = np.arange(0,40)\n",
    "alpha = test_pred_df.loc[:, 'alpha'].mean()\n",
    "beta = test_pred_df.loc[:, 'beta'].mean()\n",
    "\n",
    "#plt.plot(t, weibull_pdf(alpha, beta, t))\n",
    "mu = weibull_mean(alpha, beta)\n",
    "median = weibull_median(alpha, beta)\n",
    "mode = weibull_mode(alpha, beta)\n",
    "plt.axvline(mu, ls='--', label='mean')\n",
    "plt.axvline(median, ls='--', color='red', label='median')\n",
    "plt.axvline(mode, ls='--', color='green', label='mode')\n",
    "n, bins, patches = plt.hist(test_pred_df.loc[:, 'tte'], t,  facecolor='grey', density=True, alpha=0.75, label='T', rwidth= 0.8)\n",
    "plt.xticks(np.arange(0, 40, 1))\n",
    "plt.legend()\n",
    "\n",
    "plt.gcf().set_size_inches(12.5, 8)\n",
    "plt.title('Average Weibull distribution over test set')\n",
    "print('alpha', alpha, 'beta', beta)"
   ]
  },
  {
   "cell_type": "code",
   "execution_count": 779,
   "metadata": {
    "scrolled": true
   },
   "outputs": [],
   "source": [
    "test_pred_df.loc[:, 'predicted_median'] = test_pred_df.loc[:, ['alpha', 'beta']]\\\n",
    "                            .apply(lambda row: weibull_median(row[0], row[1]), axis=1)"
   ]
  },
  {
   "cell_type": "code",
   "execution_count": 780,
   "metadata": {},
   "outputs": [],
   "source": [
    "test_3m = test_pred_df.loc[(test_pred_df.t_elapsed >= 0) & (test_pred_df.cens == 1), :]"
   ]
  },
  {
   "cell_type": "code",
   "execution_count": 781,
   "metadata": {
    "scrolled": true
   },
   "outputs": [],
   "source": [
    "pred_col = 'predicted_median'\n",
    "test_3m.loc[:, 'abs_error'] = (test_3m.loc[:, pred_col] - test_3m.tte).abs()\n",
    "test_3m.loc[:, 'rate_error'] = test_3m.abs_error / (test_3m.cust_age + 1)"
   ]
  },
  {
   "cell_type": "code",
   "execution_count": 451,
   "metadata": {},
   "outputs": [
    {
     "name": "stdout",
     "output_type": "stream",
     "text": [
      "Median error: 1.919636742694835, Quantile 0.9: 10.440666309936498\n"
     ]
    }
   ],
   "source": [
    "# средняя медианная ошибка на тестовой выборке\n",
    "print('Median error: {}, Quantile 0.9: {}'.format(test_3m.abs_error.median(), test_3m.abs_error.quantile(q=0.90)))"
   ]
  },
  {
   "cell_type": "code",
   "execution_count": 2066,
   "metadata": {
    "scrolled": true
   },
   "outputs": [
    {
     "name": "stdout",
     "output_type": "stream",
     "text": [
      "0.531437125748503 355\n"
     ]
    }
   ],
   "source": [
    "n=1\n",
    "print(test_pred_df[(test_pred_df['ddate']==datetime.date(2020,6,30)) & (test_pred_df['predicted_median']<n) & (test_pred_df['tte']<n) \\\n",
    "              ].shape[0]/test_pred_df[(test_pred_df['ddate']==datetime.date(2020,6,30)) & (test_pred_df['predicted_median']<n)\\\n",
    "                                                               ].shape[0],\n",
    "test_pred_df[(test_pred_df['predicted_median']<=n) & (test_pred_df['tte']<n) &\\\n",
    "              (test_pred_df['ddate']==datetime.date(2020,6,30))].shape[0])"
   ]
  },
  {
   "cell_type": "code",
   "execution_count": 318,
   "metadata": {},
   "outputs": [
    {
     "data": {
      "text/plain": [
       "1    28510\n",
       "0     2651\n",
       "Name: tte, dtype: int64"
      ]
     },
     "execution_count": 318,
     "metadata": {},
     "output_type": "execute_result"
    }
   ],
   "source": [
    "test_pred_df[test_pred_df['ddate']==datetime.date(2021,10,31)]['tte'].value_counts()"
   ]
  },
  {
   "cell_type": "code",
   "execution_count": 2031,
   "metadata": {},
   "outputs": [
    {
     "data": {
      "text/plain": [
       "count    1338.000000\n",
       "mean        0.872197\n",
       "std         0.908345\n",
       "min         0.000000\n",
       "25%         0.000000\n",
       "50%         1.000000\n",
       "75%         2.000000\n",
       "max         2.000000\n",
       "Name: tte, dtype: float64"
      ]
     },
     "execution_count": 2031,
     "metadata": {},
     "output_type": "execute_result"
    }
   ],
   "source": [
    "n=1\n",
    "#test_pred_df['tte']\n",
    "test_pred_df[(test_pred_df['ddate']==datetime.date(2020,11,30)) & (test_pred_df['predicted_median']<n)]['tte'].astype('int').describe()"
   ]
  },
  {
   "cell_type": "code",
   "execution_count": 452,
   "metadata": {},
   "outputs": [
    {
     "data": {
      "text/plain": [
       "count    565376.000000\n",
       "mean         12.261867\n",
       "std          13.786597\n",
       "min           0.037823\n",
       "25%           3.569558\n",
       "50%           8.935622\n",
       "75%          17.471146\n",
       "max         464.841633\n",
       "Name: predicted_median, dtype: float64"
      ]
     },
     "execution_count": 452,
     "metadata": {},
     "output_type": "execute_result"
    }
   ],
   "source": [
    "test_pred_df[test_pred_df['predicted_median']<2].shape\n",
    "test_pred_df['predicted_median'].describe()"
   ]
  },
  {
   "cell_type": "code",
   "execution_count": 453,
   "metadata": {},
   "outputs": [
    {
     "data": {
      "image/png": "[encoded data removed]",
      "text/plain": [
       "<Figure size 900x576 with 1 Axes>"
      ]
     },
     "metadata": {
      "needs_background": "light"
     },
     "output_type": "display_data"
    }
   ],
   "source": [
    "err_lim = 40\n",
    "bars = np.arange(0, test_3m.abs_error.max(), 1)\n",
    "\n",
    "v_bars = np.arange(0, err_lim, 1)\n",
    "plt.xticks(v_bars)\n",
    "plt.xlim([0, err_lim])\n",
    "plt.yticks(np.arange(0, 1.05, 0.05))\n",
    "plt.gcf().set_size_inches(12.5, 8)\n",
    "test_err_p, _, _ = plt.hist(test_3m.abs_error, bars, cumulative=True, density=True, facecolor='orange', alpha=0.3, label='abs_error', rwidth=0.8)"
   ]
  },
  {
   "cell_type": "code",
   "execution_count": 454,
   "metadata": {},
   "outputs": [
    {
     "name": "stdout",
     "output_type": "stream",
     "text": [
      "S plot 0.9118760229911309\n"
     ]
    }
   ],
   "source": [
    "print('S plot {}'.format(sum(test_err_p[:err_lim]) / err_lim))"
   ]
  },
  {
   "cell_type": "code",
   "execution_count": 455,
   "metadata": {},
   "outputs": [],
   "source": [
    "test_3m['tte'] = test_3m['tte'].astype('int')"
   ]
  },
  {
   "cell_type": "code",
   "execution_count": 456,
   "metadata": {
    "scrolled": true
   },
   "outputs": [
    {
     "data": {
      "text/plain": [
       "<seaborn.axisgrid.JointGrid at 0x7f0a2af13510>"
      ]
     },
     "execution_count": 456,
     "metadata": {},
     "output_type": "execute_result"
    },
    {
     "data": {
      "image/png": "[encoded data removed]",
      "text/plain": [
       "<Figure size 432x432 with 3 Axes>"
      ]
     },
     "metadata": {
      "needs_background": "light"
     },
     "output_type": "display_data"
    }
   ],
   "source": [
    "sns.jointplot(data=test_3m[2400:2800], y='tte', x='predicted_median', kind=\"reg\", xlim=(0,25), ylim=(0,25))"
   ]
  },
  {
   "cell_type": "code",
   "execution_count": 457,
   "metadata": {},
   "outputs": [
    {
     "data": {
      "text/plain": [
       "0.7378935453174886"
      ]
     },
     "execution_count": 457,
     "metadata": {},
     "output_type": "execute_result"
    }
   ],
   "source": [
    "# коэффициент конкордантности\n",
    "lifelines.utils.concordance_index(test_3m.tte, test_3m.predicted_median)"
   ]
  },
  {
   "cell_type": "markdown",
   "metadata": {},
   "source": [
    "## Прогнозы"
   ]
  },
  {
   "cell_type": "code",
   "execution_count": 88,
   "metadata": {},
   "outputs": [],
   "source": [
    "def weibull_pdf(alpha, beta, t):\n",
    "    return (beta / alpha) * (t / alpha) ** (beta - 1) * np.exp(-(t / alpha) ** beta)\n",
    "\n",
    "def weibull_median(alpha, beta):\n",
    "    return alpha * (np.log(2)) ** (1 / beta)\n",
    "\n",
    "def weibull_mean(alpha, beta):\n",
    "    return alpha * math.gamma(1 + 1 / beta)\n",
    "\n",
    "def weibull_mode(alpha, beta):\n",
    "    assert np.all(beta > 1)\n",
    "    return alpha * ((beta - 1) / beta) ** (1 / beta)"
   ]
  },
  {
   "cell_type": "code",
   "execution_count": 89,
   "metadata": {},
   "outputs": [],
   "source": [
    "# загрузка весов обученной модели\n",
    "model.load_weights('active_finish.wghts')"
   ]
  },
  {
   "cell_type": "code",
   "execution_count": 90,
   "metadata": {},
   "outputs": [],
   "source": [
    "# добавляем столбцы для совместимости\n",
    "# предсказываем для тех, кто еще жив на данный момент\n",
    "dataset_forecast['tte'] = 0 # не знаем сколько еще осталось клиенту\n",
    "dataset_forecast['cens'] = 0 # пока он живф"
   ]
  },
  {
   "cell_type": "code",
   "execution_count": 91,
   "metadata": {},
   "outputs": [],
   "source": [
    "dataset_forecast1['ddate'] = dataset_forecast1['ddate'].apply(pd.to_datetime)\n",
    "dataset_forecast1['ddate'] = dataset_forecast1['ddate'].map(lambda x: x.date())"
   ]
  },
  {
   "cell_type": "code",
   "execution_count": 92,
   "metadata": {
    "scrolled": true
   },
   "outputs": [],
   "source": [
    "mask_value = -100.0\n",
    "#features_cols = cols_names\n",
    "\n",
    "dataset_forecast1['t_elapsed'] = dataset_forecast1['t_elapsed'].astype(int)\n",
    "if any(isinstance(t, pd.SparseDtype) for t in dataset_forecast1.dtypes):\n",
    "    x_forecast = tr.df_to_padded(df=dataset_forecast1.sparse.to_dense(), column_names=features_cols, id_col='id',\n",
    "                             t_col='t_elapsed')\n",
    "else:\n",
    "    x_forecast = tr.df_to_padded(df=dataset_forecast1, column_names=features_cols, id_col='id', t_col='t_elapsed')\n",
    "\n",
    "x_forecast[:,:,:][np.isnan(x_forecast)] = mask_value"
   ]
  },
  {
   "cell_type": "code",
   "execution_count": 93,
   "metadata": {
    "scrolled": true
   },
   "outputs": [],
   "source": [
    "batch_size = 2**13\n",
    "forecast_predict = model.predict(x_forecast, batch_size=batch_size)\n",
    "\n",
    "forecast_pred_df = tr.padded_to_df(forecast_predict, ['alpha', 'beta'], ['float', 'float'],\n",
    "                               ids=dataset_forecast1.id.drop_duplicates().values, id_col='id', t_col='t_elapsed')\n",
    "forecast_pred_df = dataset_forecast1.loc[:, ['id', 'inn', 'ddate', 't_elapsed']]\\\n",
    "                                                            .merge(forecast_pred_df, on=['id', 't_elapsed'])\n",
    "\n",
    "forecast_pred_df['pred_median_life'] = forecast_pred_df[['alpha', 'beta']].apply(lambda row: weibull_median(row[0], row[1]),\\\n",
    "                                                                              axis=1)"
   ]
  },
  {
   "cell_type": "code",
   "execution_count": 94,
   "metadata": {},
   "outputs": [
    {
     "data": {
      "text/plain": [
       "datetime.date(2023, 1, 31)"
      ]
     },
     "execution_count": 94,
     "metadata": {},
     "output_type": "execute_result"
    }
   ],
   "source": [
    "forecast_pred_df['ddate'].max()"
   ]
  },
  {
   "cell_type": "code",
   "execution_count": 95,
   "metadata": {
    "scrolled": true
   },
   "outputs": [],
   "source": [
    "forecast_pred_df = forecast_pred_df.loc[forecast_pred_df.ddate == ddate, :]\n",
    "forecast_pred_df = forecast_pred_df.rename(columns={'pred_month' : 'ddate'})\n",
    "#forecast_pred_df = forecast_pred_df.loc[:, ['ddate', 'inn', 'pred_median_life']]"
   ]
  },
  {
   "cell_type": "code",
   "execution_count": 96,
   "metadata": {},
   "outputs": [
    {
     "data": {
      "text/plain": [
       "count    149761.000000\n",
       "mean         24.666725\n",
       "std          17.505067\n",
       "min           0.009276\n",
       "25%          11.630863\n",
       "50%          23.597882\n",
       "75%          34.860246\n",
       "max         340.562657\n",
       "Name: pred_median_life, dtype: float64"
      ]
     },
     "execution_count": 96,
     "metadata": {},
     "output_type": "execute_result"
    }
   ],
   "source": [
    "forecast_pred_df['pred_median_life'].describe()"
   ]
  },
  {
   "cell_type": "code",
   "execution_count": 97,
   "metadata": {
    "scrolled": true
   },
   "outputs": [],
   "source": [
    "table = pd.merge(forecast_pred_df,dataset_forecast[dataset_forecast.ddate == ddate][['inn','revenue_calc','cust_age']],on='inn')"
   ]
  },
  {
   "cell_type": "code",
   "execution_count": 98,
   "metadata": {},
   "outputs": [],
   "source": [
    "# корректировка\n",
    "table['pred_median_life'] = np.where(table['pred_median_life']> np.quantile(table['pred_median_life'],0.95),np.quantile(table['pred_median_life'],0.95),\\\n",
    "                                    table['pred_median_life']) "
   ]
  },
  {
   "cell_type": "code",
   "execution_count": 99,
   "metadata": {},
   "outputs": [
    {
     "data": {
      "text/plain": [
       "count    149761.000000\n",
       "mean         23.940565\n",
       "std          15.162216\n",
       "min           0.009276\n",
       "25%          11.630863\n",
       "50%          23.597882\n",
       "75%          34.860246\n",
       "max          53.467348\n",
       "Name: pred_median_life, dtype: float64"
      ]
     },
     "execution_count": 99,
     "metadata": {},
     "output_type": "execute_result"
    }
   ],
   "source": [
    "# итоговое распределение времени жизни\n",
    "table['pred_median_life'].describe()"
   ]
  },
  {
   "cell_type": "code",
   "execution_count": 100,
   "metadata": {},
   "outputs": [
    {
     "data": {
      "text/plain": [
       "53.46734782195602"
      ]
     },
     "execution_count": 100,
     "metadata": {},
     "output_type": "execute_result"
    }
   ],
   "source": [
    "np.quantile(forecast_pred_df['pred_median_life'],0.95)"
   ]
  },
  {
   "cell_type": "code",
   "execution_count": 101,
   "metadata": {
    "scrolled": true
   },
   "outputs": [
    {
     "data": {
      "text/plain": [
       "rev\n",
       "0.0    16.0\n",
       "1.0    16.0\n",
       "2.0    17.0\n",
       "3.0    18.0\n",
       "4.0    18.0\n",
       "Name: tte, dtype: float64"
      ]
     },
     "execution_count": 101,
     "metadata": {},
     "output_type": "execute_result"
    }
   ],
   "source": [
    "# анализ выручки (для Антона)\n",
    "def labeling_seven(x):\n",
    "    if x<=5e6:\n",
    "        return(0)\n",
    "    elif x>5e6 and x<=2e7:\n",
    "        return(1)\n",
    "    elif x>2e7 and x<=9e7:\n",
    "        return(2)\n",
    "    elif x>9e7 and x<=4e8:\n",
    "        return(3)\n",
    "    elif x>4e8 and x<=3e9:\n",
    "        return(4)  \n",
    "    \n",
    "table['rev'] = table['revenue_calc'].map(labeling_seven)\n",
    "#table['pred_age'] = table['pred_median_life'] + table['cust_age']\n",
    "table.groupby(['rev'])['pred_median_life'].median()\n",
    "\n",
    "dataset_mod1['rev'] = dataset_mod1['revenue_calc'].map(labeling_seven)\n",
    "#dataset_mod1['pred_age'] = dataset_mod1['pred_median_life'] + dataset_mod1['cust_age']\n",
    "dataset_mod1.groupby(['rev'])['tte'].median()"
   ]
  },
  {
   "cell_type": "code",
   "execution_count": 102,
   "metadata": {
    "scrolled": true
   },
   "outputs": [],
   "source": [
    "table1 = table.loc[:,['ddate','inn','pred_median_life','rev','cust_age']]\n",
    "table1['pred_median_life'] = table1['pred_median_life'].map(lambda x : np.round(x,0))\n",
    "for i in ['cust_age','rev']:\n",
    "    table1[i] = table1[i].fillna(-1)"
   ]
  },
  {
   "cell_type": "code",
   "execution_count": 103,
   "metadata": {},
   "outputs": [
    {
     "data": {
      "text/html": [
       "<div>\n",
       "<style scoped>\n",
       "    .dataframe tbody tr th:only-of-type {\n",
       "        vertical-align: middle;\n",
       "    }\n",
       "\n",
       "    .dataframe tbody tr th {\n",
       "        vertical-align: top;\n",
       "    }\n",
       "\n",
       "    .dataframe thead th {\n",
       "        text-align: right;\n",
       "    }\n",
       "</style>\n",
       "<table border=\"1\" class=\"dataframe\">\n",
       "  <thead>\n",
       "    <tr style=\"text-align: right;\">\n",
       "      <th></th>\n",
       "      <th>ddate</th>\n",
       "      <th>inn</th>\n",
       "      <th>pred_median_life</th>\n",
       "    </tr>\n",
       "  </thead>\n",
       "  <tbody>\n",
       "    <tr>\n",
       "      <th>0</th>\n",
       "      <td>2023-01-31</td>\n",
       "      <td>781701053605</td>\n",
       "      <td>34.0</td>\n",
       "    </tr>\n",
       "    <tr>\n",
       "      <th>1</th>\n",
       "      <td>2023-01-31</td>\n",
       "      <td>782616914647</td>\n",
       "      <td>36.0</td>\n",
       "    </tr>\n",
       "    <tr>\n",
       "      <th>2</th>\n",
       "      <td>2023-01-31</td>\n",
       "      <td>3666183017</td>\n",
       "      <td>14.0</td>\n",
       "    </tr>\n",
       "    <tr>\n",
       "      <th>3</th>\n",
       "      <td>2023-01-31</td>\n",
       "      <td>6162069832</td>\n",
       "      <td>39.0</td>\n",
       "    </tr>\n",
       "    <tr>\n",
       "      <th>4</th>\n",
       "      <td>2023-01-31</td>\n",
       "      <td>4632281610</td>\n",
       "      <td>41.0</td>\n",
       "    </tr>\n",
       "  </tbody>\n",
       "</table>\n",
       "</div>"
      ],
      "text/plain": [
       "        ddate           inn  pred_median_life\n",
       "0  2023-01-31  781701053605              34.0\n",
       "1  2023-01-31  782616914647              36.0\n",
       "2  2023-01-31    3666183017              14.0\n",
       "3  2023-01-31    6162069832              39.0\n",
       "4  2023-01-31    4632281610              41.0"
      ]
     },
     "execution_count": 103,
     "metadata": {},
     "output_type": "execute_result"
    }
   ],
   "source": [
    "# итоговая таблица с результатами прогноза\n",
    "table1 = table1[['ddate','inn','pred_median_life']]\n",
    "table1.head()"
   ]
  },
  {
   "cell_type": "code",
   "execution_count": 104,
   "metadata": {},
   "outputs": [],
   "source": [
    "import cx_Oracle\n",
    "\n",
    "log = 'SHINKAREV_DA[PxU_DCBUL_UMA_MOD]'\n",
    "pas = 'dSH_19848+++'\n",
    "or_tns = 'DATALAB'\n",
    "\n",
    "tns = or_tns\n",
    "conn = cx_Oracle.connect(log, pas, tns)\n",
    "c = conn.cursor()\n",
    "\n",
    "c.executemany('insert into zay_ltv_results (pred_month,inn,pred_median_life) values (:1,:2,:3)',list(table1.values))     \n",
    "conn.commit()"
   ]
  },
  {
   "cell_type": "code",
   "execution_count": null,
   "metadata": {},
   "outputs": [],
   "source": []
  },
  {
   "cell_type": "code",
   "execution_count": null,
   "metadata": {},
   "outputs": [],
   "source": []
  },
  {
   "cell_type": "code",
   "execution_count": null,
   "metadata": {},
   "outputs": [],
   "source": []
  },
  {
   "cell_type": "code",
   "execution_count": null,
   "metadata": {},
   "outputs": [],
   "source": []
  }
 ],
 "metadata": {
  "interpreter": {
   "hash": "f0f81fcfec4c9ade9c5f204576a7502f0e01afc574ed696171b7b0b9a2cb6cf1"
  },
  "kernelspec": {
   "display_name": "Python 3 (ipykernel)",
   "language": "python",
   "name": "python3"
  },
  "language_info": {
   "codemirror_mode": {
    "name": "ipython",
    "version": 3
   },
   "file_extension": ".py",
   "mimetype": "text/x-python",
   "name": "python",
   "nbconvert_exporter": "python",
   "pygments_lexer": "ipython3",
   "version": "3.12.7"
  }
 },
 "nbformat": 4,
 "nbformat_minor": 4
}
